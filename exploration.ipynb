{
 "cells": [
  {
   "cell_type": "markdown",
   "metadata": {},
   "source": [
    "# Project 4 \n",
    "## Power Outages Data Analysis\n",
    "### Ethan Lam, A17799139"
   ]
  },
  {
   "cell_type": "code",
   "execution_count": 259,
   "metadata": {},
   "outputs": [],
   "source": [
    "import pandas as pd\n",
    "import numpy as np\n",
    "from pathlib import Path\n",
    "import plotly.express as px\n",
    "import time\n",
    "import folium\n",
    "from folium.plugins import HeatMap\n",
    "import matplotlib.pyplot as plt\n",
    "from sklearn.linear_model import LogisticRegression\n",
    "from sklearn.model_selection import train_test_split\n",
    "from tabulate import tabulate\n",
    "from sklearn.metrics import f1_score, precision_score, recall_score, confusion_matrix\n",
    "import seaborn as sns\n",
    "from sklearn.tree import DecisionTreeClassifier"
   ]
  },
  {
   "cell_type": "markdown",
   "metadata": {},
   "source": [
    "### Read in the dataset and clean it"
   ]
  },
  {
   "cell_type": "code",
   "execution_count": 2,
   "metadata": {},
   "outputs": [
    {
     "data": {
      "text/html": [
       "<div>\n",
       "<style scoped>\n",
       "    .dataframe tbody tr th:only-of-type {\n",
       "        vertical-align: middle;\n",
       "    }\n",
       "\n",
       "    .dataframe tbody tr th {\n",
       "        vertical-align: top;\n",
       "    }\n",
       "\n",
       "    .dataframe thead th {\n",
       "        text-align: right;\n",
       "    }\n",
       "</style>\n",
       "<table border=\"1\" class=\"dataframe\">\n",
       "  <thead>\n",
       "    <tr style=\"text-align: right;\">\n",
       "      <th></th>\n",
       "      <th>YEAR</th>\n",
       "      <th>MONTH</th>\n",
       "      <th>U.S._STATE</th>\n",
       "      <th>POSTAL.CODE</th>\n",
       "      <th>NERC.REGION</th>\n",
       "      <th>CLIMATE.REGION</th>\n",
       "      <th>ANOMALY.LEVEL</th>\n",
       "      <th>CLIMATE.CATEGORY</th>\n",
       "      <th>OUTAGE.START.DATE</th>\n",
       "      <th>OUTAGE.START.TIME</th>\n",
       "      <th>...</th>\n",
       "      <th>POPPCT_URBAN</th>\n",
       "      <th>POPPCT_UC</th>\n",
       "      <th>POPDEN_URBAN</th>\n",
       "      <th>POPDEN_UC</th>\n",
       "      <th>POPDEN_RURAL</th>\n",
       "      <th>AREAPCT_URBAN</th>\n",
       "      <th>AREAPCT_UC</th>\n",
       "      <th>PCT_LAND</th>\n",
       "      <th>PCT_WATER_TOT</th>\n",
       "      <th>PCT_WATER_INLAND</th>\n",
       "    </tr>\n",
       "    <tr>\n",
       "      <th>OBS</th>\n",
       "      <th></th>\n",
       "      <th></th>\n",
       "      <th></th>\n",
       "      <th></th>\n",
       "      <th></th>\n",
       "      <th></th>\n",
       "      <th></th>\n",
       "      <th></th>\n",
       "      <th></th>\n",
       "      <th></th>\n",
       "      <th></th>\n",
       "      <th></th>\n",
       "      <th></th>\n",
       "      <th></th>\n",
       "      <th></th>\n",
       "      <th></th>\n",
       "      <th></th>\n",
       "      <th></th>\n",
       "      <th></th>\n",
       "      <th></th>\n",
       "      <th></th>\n",
       "    </tr>\n",
       "  </thead>\n",
       "  <tbody>\n",
       "    <tr>\n",
       "      <th>1</th>\n",
       "      <td>2011</td>\n",
       "      <td>7.0</td>\n",
       "      <td>Minnesota</td>\n",
       "      <td>MN</td>\n",
       "      <td>MRO</td>\n",
       "      <td>East North Central</td>\n",
       "      <td>-0.3</td>\n",
       "      <td>normal</td>\n",
       "      <td>Friday, July 1, 2011</td>\n",
       "      <td>5:00:00 PM</td>\n",
       "      <td>...</td>\n",
       "      <td>73.27</td>\n",
       "      <td>15.28</td>\n",
       "      <td>2279.0</td>\n",
       "      <td>1700.5</td>\n",
       "      <td>18.2</td>\n",
       "      <td>2.14</td>\n",
       "      <td>0.60</td>\n",
       "      <td>91.592666</td>\n",
       "      <td>8.407334</td>\n",
       "      <td>5.478743</td>\n",
       "    </tr>\n",
       "    <tr>\n",
       "      <th>2</th>\n",
       "      <td>2014</td>\n",
       "      <td>5.0</td>\n",
       "      <td>Minnesota</td>\n",
       "      <td>MN</td>\n",
       "      <td>MRO</td>\n",
       "      <td>East North Central</td>\n",
       "      <td>-0.1</td>\n",
       "      <td>normal</td>\n",
       "      <td>Sunday, May 11, 2014</td>\n",
       "      <td>6:38:00 PM</td>\n",
       "      <td>...</td>\n",
       "      <td>73.27</td>\n",
       "      <td>15.28</td>\n",
       "      <td>2279.0</td>\n",
       "      <td>1700.5</td>\n",
       "      <td>18.2</td>\n",
       "      <td>2.14</td>\n",
       "      <td>0.60</td>\n",
       "      <td>91.592666</td>\n",
       "      <td>8.407334</td>\n",
       "      <td>5.478743</td>\n",
       "    </tr>\n",
       "    <tr>\n",
       "      <th>3</th>\n",
       "      <td>2010</td>\n",
       "      <td>10.0</td>\n",
       "      <td>Minnesota</td>\n",
       "      <td>MN</td>\n",
       "      <td>MRO</td>\n",
       "      <td>East North Central</td>\n",
       "      <td>-1.5</td>\n",
       "      <td>cold</td>\n",
       "      <td>Tuesday, October 26, 2010</td>\n",
       "      <td>8:00:00 PM</td>\n",
       "      <td>...</td>\n",
       "      <td>73.27</td>\n",
       "      <td>15.28</td>\n",
       "      <td>2279.0</td>\n",
       "      <td>1700.5</td>\n",
       "      <td>18.2</td>\n",
       "      <td>2.14</td>\n",
       "      <td>0.60</td>\n",
       "      <td>91.592666</td>\n",
       "      <td>8.407334</td>\n",
       "      <td>5.478743</td>\n",
       "    </tr>\n",
       "    <tr>\n",
       "      <th>4</th>\n",
       "      <td>2012</td>\n",
       "      <td>6.0</td>\n",
       "      <td>Minnesota</td>\n",
       "      <td>MN</td>\n",
       "      <td>MRO</td>\n",
       "      <td>East North Central</td>\n",
       "      <td>-0.1</td>\n",
       "      <td>normal</td>\n",
       "      <td>Tuesday, June 19, 2012</td>\n",
       "      <td>4:30:00 AM</td>\n",
       "      <td>...</td>\n",
       "      <td>73.27</td>\n",
       "      <td>15.28</td>\n",
       "      <td>2279.0</td>\n",
       "      <td>1700.5</td>\n",
       "      <td>18.2</td>\n",
       "      <td>2.14</td>\n",
       "      <td>0.60</td>\n",
       "      <td>91.592666</td>\n",
       "      <td>8.407334</td>\n",
       "      <td>5.478743</td>\n",
       "    </tr>\n",
       "    <tr>\n",
       "      <th>5</th>\n",
       "      <td>2015</td>\n",
       "      <td>7.0</td>\n",
       "      <td>Minnesota</td>\n",
       "      <td>MN</td>\n",
       "      <td>MRO</td>\n",
       "      <td>East North Central</td>\n",
       "      <td>1.2</td>\n",
       "      <td>warm</td>\n",
       "      <td>Saturday, July 18, 2015</td>\n",
       "      <td>2:00:00 AM</td>\n",
       "      <td>...</td>\n",
       "      <td>73.27</td>\n",
       "      <td>15.28</td>\n",
       "      <td>2279.0</td>\n",
       "      <td>1700.5</td>\n",
       "      <td>18.2</td>\n",
       "      <td>2.14</td>\n",
       "      <td>0.60</td>\n",
       "      <td>91.592666</td>\n",
       "      <td>8.407334</td>\n",
       "      <td>5.478743</td>\n",
       "    </tr>\n",
       "    <tr>\n",
       "      <th>...</th>\n",
       "      <td>...</td>\n",
       "      <td>...</td>\n",
       "      <td>...</td>\n",
       "      <td>...</td>\n",
       "      <td>...</td>\n",
       "      <td>...</td>\n",
       "      <td>...</td>\n",
       "      <td>...</td>\n",
       "      <td>...</td>\n",
       "      <td>...</td>\n",
       "      <td>...</td>\n",
       "      <td>...</td>\n",
       "      <td>...</td>\n",
       "      <td>...</td>\n",
       "      <td>...</td>\n",
       "      <td>...</td>\n",
       "      <td>...</td>\n",
       "      <td>...</td>\n",
       "      <td>...</td>\n",
       "      <td>...</td>\n",
       "      <td>...</td>\n",
       "    </tr>\n",
       "    <tr>\n",
       "      <th>1530</th>\n",
       "      <td>2011</td>\n",
       "      <td>12.0</td>\n",
       "      <td>North Dakota</td>\n",
       "      <td>ND</td>\n",
       "      <td>MRO</td>\n",
       "      <td>West North Central</td>\n",
       "      <td>-0.9</td>\n",
       "      <td>cold</td>\n",
       "      <td>Tuesday, December 6, 2011</td>\n",
       "      <td>8:00:00 AM</td>\n",
       "      <td>...</td>\n",
       "      <td>59.90</td>\n",
       "      <td>19.90</td>\n",
       "      <td>2192.2</td>\n",
       "      <td>1868.2</td>\n",
       "      <td>3.9</td>\n",
       "      <td>0.27</td>\n",
       "      <td>0.10</td>\n",
       "      <td>97.599649</td>\n",
       "      <td>2.401765</td>\n",
       "      <td>2.401765</td>\n",
       "    </tr>\n",
       "    <tr>\n",
       "      <th>1531</th>\n",
       "      <td>2006</td>\n",
       "      <td>NaN</td>\n",
       "      <td>North Dakota</td>\n",
       "      <td>ND</td>\n",
       "      <td>MRO</td>\n",
       "      <td>West North Central</td>\n",
       "      <td>NaN</td>\n",
       "      <td>NaN</td>\n",
       "      <td>NaN</td>\n",
       "      <td>NaN</td>\n",
       "      <td>...</td>\n",
       "      <td>59.90</td>\n",
       "      <td>19.90</td>\n",
       "      <td>2192.2</td>\n",
       "      <td>1868.2</td>\n",
       "      <td>3.9</td>\n",
       "      <td>0.27</td>\n",
       "      <td>0.10</td>\n",
       "      <td>97.599649</td>\n",
       "      <td>2.401765</td>\n",
       "      <td>2.401765</td>\n",
       "    </tr>\n",
       "    <tr>\n",
       "      <th>1532</th>\n",
       "      <td>2009</td>\n",
       "      <td>8.0</td>\n",
       "      <td>South Dakota</td>\n",
       "      <td>SD</td>\n",
       "      <td>RFC</td>\n",
       "      <td>West North Central</td>\n",
       "      <td>0.5</td>\n",
       "      <td>warm</td>\n",
       "      <td>Saturday, August 29, 2009</td>\n",
       "      <td>10:54:00 PM</td>\n",
       "      <td>...</td>\n",
       "      <td>56.65</td>\n",
       "      <td>26.73</td>\n",
       "      <td>2038.3</td>\n",
       "      <td>1905.4</td>\n",
       "      <td>4.7</td>\n",
       "      <td>0.30</td>\n",
       "      <td>0.15</td>\n",
       "      <td>98.307744</td>\n",
       "      <td>1.692256</td>\n",
       "      <td>1.692256</td>\n",
       "    </tr>\n",
       "    <tr>\n",
       "      <th>1533</th>\n",
       "      <td>2009</td>\n",
       "      <td>8.0</td>\n",
       "      <td>South Dakota</td>\n",
       "      <td>SD</td>\n",
       "      <td>MRO</td>\n",
       "      <td>West North Central</td>\n",
       "      <td>0.5</td>\n",
       "      <td>warm</td>\n",
       "      <td>Saturday, August 29, 2009</td>\n",
       "      <td>11:00:00 AM</td>\n",
       "      <td>...</td>\n",
       "      <td>56.65</td>\n",
       "      <td>26.73</td>\n",
       "      <td>2038.3</td>\n",
       "      <td>1905.4</td>\n",
       "      <td>4.7</td>\n",
       "      <td>0.30</td>\n",
       "      <td>0.15</td>\n",
       "      <td>98.307744</td>\n",
       "      <td>1.692256</td>\n",
       "      <td>1.692256</td>\n",
       "    </tr>\n",
       "    <tr>\n",
       "      <th>1534</th>\n",
       "      <td>2000</td>\n",
       "      <td>NaN</td>\n",
       "      <td>Alaska</td>\n",
       "      <td>AK</td>\n",
       "      <td>ASCC</td>\n",
       "      <td>NaN</td>\n",
       "      <td>NaN</td>\n",
       "      <td>NaN</td>\n",
       "      <td>NaN</td>\n",
       "      <td>NaN</td>\n",
       "      <td>...</td>\n",
       "      <td>66.02</td>\n",
       "      <td>21.56</td>\n",
       "      <td>1802.6</td>\n",
       "      <td>1276.0</td>\n",
       "      <td>0.4</td>\n",
       "      <td>0.05</td>\n",
       "      <td>0.02</td>\n",
       "      <td>85.761154</td>\n",
       "      <td>14.238846</td>\n",
       "      <td>2.901182</td>\n",
       "    </tr>\n",
       "  </tbody>\n",
       "</table>\n",
       "<p>1534 rows × 55 columns</p>\n",
       "</div>"
      ],
      "text/plain": [
       "      YEAR  MONTH    U.S._STATE POSTAL.CODE NERC.REGION      CLIMATE.REGION  \\\n",
       "OBS                                                                           \n",
       "1     2011    7.0     Minnesota          MN         MRO  East North Central   \n",
       "2     2014    5.0     Minnesota          MN         MRO  East North Central   \n",
       "3     2010   10.0     Minnesota          MN         MRO  East North Central   \n",
       "4     2012    6.0     Minnesota          MN         MRO  East North Central   \n",
       "5     2015    7.0     Minnesota          MN         MRO  East North Central   \n",
       "...    ...    ...           ...         ...         ...                 ...   \n",
       "1530  2011   12.0  North Dakota          ND         MRO  West North Central   \n",
       "1531  2006    NaN  North Dakota          ND         MRO  West North Central   \n",
       "1532  2009    8.0  South Dakota          SD         RFC  West North Central   \n",
       "1533  2009    8.0  South Dakota          SD         MRO  West North Central   \n",
       "1534  2000    NaN        Alaska          AK        ASCC                 NaN   \n",
       "\n",
       "      ANOMALY.LEVEL CLIMATE.CATEGORY          OUTAGE.START.DATE  \\\n",
       "OBS                                                               \n",
       "1              -0.3           normal       Friday, July 1, 2011   \n",
       "2              -0.1           normal       Sunday, May 11, 2014   \n",
       "3              -1.5             cold  Tuesday, October 26, 2010   \n",
       "4              -0.1           normal     Tuesday, June 19, 2012   \n",
       "5               1.2             warm    Saturday, July 18, 2015   \n",
       "...             ...              ...                        ...   \n",
       "1530           -0.9             cold  Tuesday, December 6, 2011   \n",
       "1531            NaN              NaN                        NaN   \n",
       "1532            0.5             warm  Saturday, August 29, 2009   \n",
       "1533            0.5             warm  Saturday, August 29, 2009   \n",
       "1534            NaN              NaN                        NaN   \n",
       "\n",
       "     OUTAGE.START.TIME  ... POPPCT_URBAN POPPCT_UC POPDEN_URBAN POPDEN_UC  \\\n",
       "OBS                     ...                                                 \n",
       "1           5:00:00 PM  ...        73.27     15.28       2279.0    1700.5   \n",
       "2           6:38:00 PM  ...        73.27     15.28       2279.0    1700.5   \n",
       "3           8:00:00 PM  ...        73.27     15.28       2279.0    1700.5   \n",
       "4           4:30:00 AM  ...        73.27     15.28       2279.0    1700.5   \n",
       "5           2:00:00 AM  ...        73.27     15.28       2279.0    1700.5   \n",
       "...                ...  ...          ...       ...          ...       ...   \n",
       "1530        8:00:00 AM  ...        59.90     19.90       2192.2    1868.2   \n",
       "1531               NaN  ...        59.90     19.90       2192.2    1868.2   \n",
       "1532       10:54:00 PM  ...        56.65     26.73       2038.3    1905.4   \n",
       "1533       11:00:00 AM  ...        56.65     26.73       2038.3    1905.4   \n",
       "1534               NaN  ...        66.02     21.56       1802.6    1276.0   \n",
       "\n",
       "     POPDEN_RURAL  AREAPCT_URBAN  AREAPCT_UC   PCT_LAND  PCT_WATER_TOT  \\\n",
       "OBS                                                                      \n",
       "1            18.2           2.14        0.60  91.592666       8.407334   \n",
       "2            18.2           2.14        0.60  91.592666       8.407334   \n",
       "3            18.2           2.14        0.60  91.592666       8.407334   \n",
       "4            18.2           2.14        0.60  91.592666       8.407334   \n",
       "5            18.2           2.14        0.60  91.592666       8.407334   \n",
       "...           ...            ...         ...        ...            ...   \n",
       "1530          3.9           0.27        0.10  97.599649       2.401765   \n",
       "1531          3.9           0.27        0.10  97.599649       2.401765   \n",
       "1532          4.7           0.30        0.15  98.307744       1.692256   \n",
       "1533          4.7           0.30        0.15  98.307744       1.692256   \n",
       "1534          0.4           0.05        0.02  85.761154      14.238846   \n",
       "\n",
       "      PCT_WATER_INLAND  \n",
       "OBS                     \n",
       "1             5.478743  \n",
       "2             5.478743  \n",
       "3             5.478743  \n",
       "4             5.478743  \n",
       "5             5.478743  \n",
       "...                ...  \n",
       "1530          2.401765  \n",
       "1531          2.401765  \n",
       "1532          1.692256  \n",
       "1533          1.692256  \n",
       "1534          2.901182  \n",
       "\n",
       "[1534 rows x 55 columns]"
      ]
     },
     "execution_count": 2,
     "metadata": {},
     "output_type": "execute_result"
    }
   ],
   "source": [
    "data = pd.read_csv('data/outage.csv')\n",
    "\n",
    "# Remove first column which is all NaN values\n",
    "data = data.drop(columns='Unnamed: 0')\n",
    "data = data.set_index('OBS')\n",
    "data"
   ]
  },
  {
   "cell_type": "code",
   "execution_count": 3,
   "metadata": {},
   "outputs": [
    {
     "data": {
      "text/plain": [
       "YEAR                          0\n",
       "MONTH                         9\n",
       "U.S._STATE                    0\n",
       "POSTAL.CODE                   0\n",
       "NERC.REGION                   0\n",
       "CLIMATE.REGION                6\n",
       "ANOMALY.LEVEL                 9\n",
       "CLIMATE.CATEGORY              9\n",
       "OUTAGE.START.DATE             9\n",
       "OUTAGE.START.TIME             9\n",
       "OUTAGE.RESTORATION.DATE      58\n",
       "OUTAGE.RESTORATION.TIME      58\n",
       "CAUSE.CATEGORY                0\n",
       "CAUSE.CATEGORY.DETAIL       471\n",
       "HURRICANE.NAMES            1462\n",
       "OUTAGE.DURATION              58\n",
       "DEMAND.LOSS.MW              705\n",
       "CUSTOMERS.AFFECTED          443\n",
       "RES.PRICE                    22\n",
       "COM.PRICE                    22\n",
       "IND.PRICE                    22\n",
       "TOTAL.PRICE                  22\n",
       "RES.SALES                    22\n",
       "COM.SALES                    22\n",
       "IND.SALES                    22\n",
       "TOTAL.SALES                  22\n",
       "RES.PERCEN                   22\n",
       "COM.PERCEN                   22\n",
       "IND.PERCEN                   22\n",
       "RES.CUSTOMERS                 0\n",
       "COM.CUSTOMERS                 0\n",
       "IND.CUSTOMERS                 0\n",
       "TOTAL.CUSTOMERS               0\n",
       "RES.CUST.PCT                  0\n",
       "COM.CUST.PCT                  0\n",
       "IND.CUST.PCT                  0\n",
       "PC.REALGSP.STATE              0\n",
       "PC.REALGSP.USA                0\n",
       "PC.REALGSP.REL                0\n",
       "PC.REALGSP.CHANGE             0\n",
       "UTIL.REALGSP                  0\n",
       "TOTAL.REALGSP                 0\n",
       "UTIL.CONTRI                   0\n",
       "PI.UTIL.OFUSA                 0\n",
       "POPULATION                    0\n",
       "POPPCT_URBAN                  0\n",
       "POPPCT_UC                     0\n",
       "POPDEN_URBAN                  0\n",
       "POPDEN_UC                    10\n",
       "POPDEN_RURAL                 10\n",
       "AREAPCT_URBAN                 0\n",
       "AREAPCT_UC                    0\n",
       "PCT_LAND                      0\n",
       "PCT_WATER_TOT                 0\n",
       "PCT_WATER_INLAND              0\n",
       "dtype: int64"
      ]
     },
     "execution_count": 3,
     "metadata": {},
     "output_type": "execute_result"
    }
   ],
   "source": [
    "data.isna().sum()"
   ]
  },
  {
   "cell_type": "markdown",
   "metadata": {},
   "source": [
    "Where and when do major power outages tend to occur?"
   ]
  },
  {
   "cell_type": "code",
   "execution_count": 4,
   "metadata": {},
   "outputs": [],
   "source": [
    "most_power_outage_state = data.groupby('U.S._STATE')['YEAR'].count().sort_values().index[-1]\n",
    "most_year_power_outage = data.groupby('YEAR')['MONTH'].count().sort_values().index[-1]"
   ]
  },
  {
   "cell_type": "code",
   "execution_count": 5,
   "metadata": {},
   "outputs": [
    {
     "data": {
      "text/plain": [
       "'California'"
      ]
     },
     "execution_count": 5,
     "metadata": {},
     "output_type": "execute_result"
    }
   ],
   "source": [
    "most_power_outage_state"
   ]
  },
  {
   "cell_type": "markdown",
   "metadata": {},
   "source": [
    "Turn time in columns, OUTAGE.START.DATE and OUTAGE.START.TIME, into type pd.Timestamp and combine the two into OUTAGE.START"
   ]
  },
  {
   "cell_type": "code",
   "execution_count": 6,
   "metadata": {},
   "outputs": [
    {
     "data": {
      "text/plain": [
       "np.int64(2011)"
      ]
     },
     "execution_count": 6,
     "metadata": {},
     "output_type": "execute_result"
    }
   ],
   "source": [
    "most_year_power_outage"
   ]
  },
  {
   "cell_type": "code",
   "execution_count": 7,
   "metadata": {},
   "outputs": [],
   "source": [
    "data['OUTAGE.START.DATE'] = pd.to_datetime(data['OUTAGE.START.DATE'], format='%A, %B %d, %Y')\n",
    "data['OUTAGE.START.TIME'] = pd.to_datetime(data['OUTAGE.START.TIME'], format='%I:%M:%S %p').dt.time"
   ]
  },
  {
   "cell_type": "code",
   "execution_count": 8,
   "metadata": {},
   "outputs": [
    {
     "data": {
      "text/html": [
       "<div>\n",
       "<style scoped>\n",
       "    .dataframe tbody tr th:only-of-type {\n",
       "        vertical-align: middle;\n",
       "    }\n",
       "\n",
       "    .dataframe tbody tr th {\n",
       "        vertical-align: top;\n",
       "    }\n",
       "\n",
       "    .dataframe thead th {\n",
       "        text-align: right;\n",
       "    }\n",
       "</style>\n",
       "<table border=\"1\" class=\"dataframe\">\n",
       "  <thead>\n",
       "    <tr style=\"text-align: right;\">\n",
       "      <th></th>\n",
       "      <th>YEAR</th>\n",
       "      <th>MONTH</th>\n",
       "      <th>U.S._STATE</th>\n",
       "      <th>POSTAL.CODE</th>\n",
       "      <th>NERC.REGION</th>\n",
       "      <th>CLIMATE.REGION</th>\n",
       "      <th>ANOMALY.LEVEL</th>\n",
       "      <th>CLIMATE.CATEGORY</th>\n",
       "      <th>OUTAGE.START.DATE</th>\n",
       "      <th>OUTAGE.START.TIME</th>\n",
       "      <th>...</th>\n",
       "      <th>POPPCT_UC</th>\n",
       "      <th>POPDEN_URBAN</th>\n",
       "      <th>POPDEN_UC</th>\n",
       "      <th>POPDEN_RURAL</th>\n",
       "      <th>AREAPCT_URBAN</th>\n",
       "      <th>AREAPCT_UC</th>\n",
       "      <th>PCT_LAND</th>\n",
       "      <th>PCT_WATER_TOT</th>\n",
       "      <th>PCT_WATER_INLAND</th>\n",
       "      <th>OUTAGE.START</th>\n",
       "    </tr>\n",
       "    <tr>\n",
       "      <th>OBS</th>\n",
       "      <th></th>\n",
       "      <th></th>\n",
       "      <th></th>\n",
       "      <th></th>\n",
       "      <th></th>\n",
       "      <th></th>\n",
       "      <th></th>\n",
       "      <th></th>\n",
       "      <th></th>\n",
       "      <th></th>\n",
       "      <th></th>\n",
       "      <th></th>\n",
       "      <th></th>\n",
       "      <th></th>\n",
       "      <th></th>\n",
       "      <th></th>\n",
       "      <th></th>\n",
       "      <th></th>\n",
       "      <th></th>\n",
       "      <th></th>\n",
       "      <th></th>\n",
       "    </tr>\n",
       "  </thead>\n",
       "  <tbody>\n",
       "    <tr>\n",
       "      <th>1</th>\n",
       "      <td>2011</td>\n",
       "      <td>7.0</td>\n",
       "      <td>Minnesota</td>\n",
       "      <td>MN</td>\n",
       "      <td>MRO</td>\n",
       "      <td>East North Central</td>\n",
       "      <td>-0.3</td>\n",
       "      <td>normal</td>\n",
       "      <td>2011-07-01</td>\n",
       "      <td>17:00:00</td>\n",
       "      <td>...</td>\n",
       "      <td>15.28</td>\n",
       "      <td>2279.0</td>\n",
       "      <td>1700.5</td>\n",
       "      <td>18.2</td>\n",
       "      <td>2.14</td>\n",
       "      <td>0.60</td>\n",
       "      <td>91.592666</td>\n",
       "      <td>8.407334</td>\n",
       "      <td>5.478743</td>\n",
       "      <td>Friday, July 01, 2011 17:00:00</td>\n",
       "    </tr>\n",
       "    <tr>\n",
       "      <th>2</th>\n",
       "      <td>2014</td>\n",
       "      <td>5.0</td>\n",
       "      <td>Minnesota</td>\n",
       "      <td>MN</td>\n",
       "      <td>MRO</td>\n",
       "      <td>East North Central</td>\n",
       "      <td>-0.1</td>\n",
       "      <td>normal</td>\n",
       "      <td>2014-05-11</td>\n",
       "      <td>18:38:00</td>\n",
       "      <td>...</td>\n",
       "      <td>15.28</td>\n",
       "      <td>2279.0</td>\n",
       "      <td>1700.5</td>\n",
       "      <td>18.2</td>\n",
       "      <td>2.14</td>\n",
       "      <td>0.60</td>\n",
       "      <td>91.592666</td>\n",
       "      <td>8.407334</td>\n",
       "      <td>5.478743</td>\n",
       "      <td>Sunday, May 11, 2014 18:38:00</td>\n",
       "    </tr>\n",
       "    <tr>\n",
       "      <th>3</th>\n",
       "      <td>2010</td>\n",
       "      <td>10.0</td>\n",
       "      <td>Minnesota</td>\n",
       "      <td>MN</td>\n",
       "      <td>MRO</td>\n",
       "      <td>East North Central</td>\n",
       "      <td>-1.5</td>\n",
       "      <td>cold</td>\n",
       "      <td>2010-10-26</td>\n",
       "      <td>20:00:00</td>\n",
       "      <td>...</td>\n",
       "      <td>15.28</td>\n",
       "      <td>2279.0</td>\n",
       "      <td>1700.5</td>\n",
       "      <td>18.2</td>\n",
       "      <td>2.14</td>\n",
       "      <td>0.60</td>\n",
       "      <td>91.592666</td>\n",
       "      <td>8.407334</td>\n",
       "      <td>5.478743</td>\n",
       "      <td>Tuesday, October 26, 2010 20:00:00</td>\n",
       "    </tr>\n",
       "    <tr>\n",
       "      <th>4</th>\n",
       "      <td>2012</td>\n",
       "      <td>6.0</td>\n",
       "      <td>Minnesota</td>\n",
       "      <td>MN</td>\n",
       "      <td>MRO</td>\n",
       "      <td>East North Central</td>\n",
       "      <td>-0.1</td>\n",
       "      <td>normal</td>\n",
       "      <td>2012-06-19</td>\n",
       "      <td>04:30:00</td>\n",
       "      <td>...</td>\n",
       "      <td>15.28</td>\n",
       "      <td>2279.0</td>\n",
       "      <td>1700.5</td>\n",
       "      <td>18.2</td>\n",
       "      <td>2.14</td>\n",
       "      <td>0.60</td>\n",
       "      <td>91.592666</td>\n",
       "      <td>8.407334</td>\n",
       "      <td>5.478743</td>\n",
       "      <td>Tuesday, June 19, 2012 04:30:00</td>\n",
       "    </tr>\n",
       "    <tr>\n",
       "      <th>5</th>\n",
       "      <td>2015</td>\n",
       "      <td>7.0</td>\n",
       "      <td>Minnesota</td>\n",
       "      <td>MN</td>\n",
       "      <td>MRO</td>\n",
       "      <td>East North Central</td>\n",
       "      <td>1.2</td>\n",
       "      <td>warm</td>\n",
       "      <td>2015-07-18</td>\n",
       "      <td>02:00:00</td>\n",
       "      <td>...</td>\n",
       "      <td>15.28</td>\n",
       "      <td>2279.0</td>\n",
       "      <td>1700.5</td>\n",
       "      <td>18.2</td>\n",
       "      <td>2.14</td>\n",
       "      <td>0.60</td>\n",
       "      <td>91.592666</td>\n",
       "      <td>8.407334</td>\n",
       "      <td>5.478743</td>\n",
       "      <td>Saturday, July 18, 2015 02:00:00</td>\n",
       "    </tr>\n",
       "    <tr>\n",
       "      <th>...</th>\n",
       "      <td>...</td>\n",
       "      <td>...</td>\n",
       "      <td>...</td>\n",
       "      <td>...</td>\n",
       "      <td>...</td>\n",
       "      <td>...</td>\n",
       "      <td>...</td>\n",
       "      <td>...</td>\n",
       "      <td>...</td>\n",
       "      <td>...</td>\n",
       "      <td>...</td>\n",
       "      <td>...</td>\n",
       "      <td>...</td>\n",
       "      <td>...</td>\n",
       "      <td>...</td>\n",
       "      <td>...</td>\n",
       "      <td>...</td>\n",
       "      <td>...</td>\n",
       "      <td>...</td>\n",
       "      <td>...</td>\n",
       "      <td>...</td>\n",
       "    </tr>\n",
       "    <tr>\n",
       "      <th>1530</th>\n",
       "      <td>2011</td>\n",
       "      <td>12.0</td>\n",
       "      <td>North Dakota</td>\n",
       "      <td>ND</td>\n",
       "      <td>MRO</td>\n",
       "      <td>West North Central</td>\n",
       "      <td>-0.9</td>\n",
       "      <td>cold</td>\n",
       "      <td>2011-12-06</td>\n",
       "      <td>08:00:00</td>\n",
       "      <td>...</td>\n",
       "      <td>19.90</td>\n",
       "      <td>2192.2</td>\n",
       "      <td>1868.2</td>\n",
       "      <td>3.9</td>\n",
       "      <td>0.27</td>\n",
       "      <td>0.10</td>\n",
       "      <td>97.599649</td>\n",
       "      <td>2.401765</td>\n",
       "      <td>2.401765</td>\n",
       "      <td>Tuesday, December 06, 2011 08:00:00</td>\n",
       "    </tr>\n",
       "    <tr>\n",
       "      <th>1531</th>\n",
       "      <td>2006</td>\n",
       "      <td>NaN</td>\n",
       "      <td>North Dakota</td>\n",
       "      <td>ND</td>\n",
       "      <td>MRO</td>\n",
       "      <td>West North Central</td>\n",
       "      <td>NaN</td>\n",
       "      <td>NaN</td>\n",
       "      <td>NaT</td>\n",
       "      <td>NaT</td>\n",
       "      <td>...</td>\n",
       "      <td>19.90</td>\n",
       "      <td>2192.2</td>\n",
       "      <td>1868.2</td>\n",
       "      <td>3.9</td>\n",
       "      <td>0.27</td>\n",
       "      <td>0.10</td>\n",
       "      <td>97.599649</td>\n",
       "      <td>2.401765</td>\n",
       "      <td>2.401765</td>\n",
       "      <td>NaN</td>\n",
       "    </tr>\n",
       "    <tr>\n",
       "      <th>1532</th>\n",
       "      <td>2009</td>\n",
       "      <td>8.0</td>\n",
       "      <td>South Dakota</td>\n",
       "      <td>SD</td>\n",
       "      <td>RFC</td>\n",
       "      <td>West North Central</td>\n",
       "      <td>0.5</td>\n",
       "      <td>warm</td>\n",
       "      <td>2009-08-29</td>\n",
       "      <td>22:54:00</td>\n",
       "      <td>...</td>\n",
       "      <td>26.73</td>\n",
       "      <td>2038.3</td>\n",
       "      <td>1905.4</td>\n",
       "      <td>4.7</td>\n",
       "      <td>0.30</td>\n",
       "      <td>0.15</td>\n",
       "      <td>98.307744</td>\n",
       "      <td>1.692256</td>\n",
       "      <td>1.692256</td>\n",
       "      <td>Saturday, August 29, 2009 22:54:00</td>\n",
       "    </tr>\n",
       "    <tr>\n",
       "      <th>1533</th>\n",
       "      <td>2009</td>\n",
       "      <td>8.0</td>\n",
       "      <td>South Dakota</td>\n",
       "      <td>SD</td>\n",
       "      <td>MRO</td>\n",
       "      <td>West North Central</td>\n",
       "      <td>0.5</td>\n",
       "      <td>warm</td>\n",
       "      <td>2009-08-29</td>\n",
       "      <td>11:00:00</td>\n",
       "      <td>...</td>\n",
       "      <td>26.73</td>\n",
       "      <td>2038.3</td>\n",
       "      <td>1905.4</td>\n",
       "      <td>4.7</td>\n",
       "      <td>0.30</td>\n",
       "      <td>0.15</td>\n",
       "      <td>98.307744</td>\n",
       "      <td>1.692256</td>\n",
       "      <td>1.692256</td>\n",
       "      <td>Saturday, August 29, 2009 11:00:00</td>\n",
       "    </tr>\n",
       "    <tr>\n",
       "      <th>1534</th>\n",
       "      <td>2000</td>\n",
       "      <td>NaN</td>\n",
       "      <td>Alaska</td>\n",
       "      <td>AK</td>\n",
       "      <td>ASCC</td>\n",
       "      <td>NaN</td>\n",
       "      <td>NaN</td>\n",
       "      <td>NaN</td>\n",
       "      <td>NaT</td>\n",
       "      <td>NaT</td>\n",
       "      <td>...</td>\n",
       "      <td>21.56</td>\n",
       "      <td>1802.6</td>\n",
       "      <td>1276.0</td>\n",
       "      <td>0.4</td>\n",
       "      <td>0.05</td>\n",
       "      <td>0.02</td>\n",
       "      <td>85.761154</td>\n",
       "      <td>14.238846</td>\n",
       "      <td>2.901182</td>\n",
       "      <td>NaN</td>\n",
       "    </tr>\n",
       "  </tbody>\n",
       "</table>\n",
       "<p>1534 rows × 56 columns</p>\n",
       "</div>"
      ],
      "text/plain": [
       "      YEAR  MONTH    U.S._STATE POSTAL.CODE NERC.REGION      CLIMATE.REGION  \\\n",
       "OBS                                                                           \n",
       "1     2011    7.0     Minnesota          MN         MRO  East North Central   \n",
       "2     2014    5.0     Minnesota          MN         MRO  East North Central   \n",
       "3     2010   10.0     Minnesota          MN         MRO  East North Central   \n",
       "4     2012    6.0     Minnesota          MN         MRO  East North Central   \n",
       "5     2015    7.0     Minnesota          MN         MRO  East North Central   \n",
       "...    ...    ...           ...         ...         ...                 ...   \n",
       "1530  2011   12.0  North Dakota          ND         MRO  West North Central   \n",
       "1531  2006    NaN  North Dakota          ND         MRO  West North Central   \n",
       "1532  2009    8.0  South Dakota          SD         RFC  West North Central   \n",
       "1533  2009    8.0  South Dakota          SD         MRO  West North Central   \n",
       "1534  2000    NaN        Alaska          AK        ASCC                 NaN   \n",
       "\n",
       "      ANOMALY.LEVEL CLIMATE.CATEGORY OUTAGE.START.DATE OUTAGE.START.TIME  ...  \\\n",
       "OBS                                                                       ...   \n",
       "1              -0.3           normal        2011-07-01          17:00:00  ...   \n",
       "2              -0.1           normal        2014-05-11          18:38:00  ...   \n",
       "3              -1.5             cold        2010-10-26          20:00:00  ...   \n",
       "4              -0.1           normal        2012-06-19          04:30:00  ...   \n",
       "5               1.2             warm        2015-07-18          02:00:00  ...   \n",
       "...             ...              ...               ...               ...  ...   \n",
       "1530           -0.9             cold        2011-12-06          08:00:00  ...   \n",
       "1531            NaN              NaN               NaT               NaT  ...   \n",
       "1532            0.5             warm        2009-08-29          22:54:00  ...   \n",
       "1533            0.5             warm        2009-08-29          11:00:00  ...   \n",
       "1534            NaN              NaN               NaT               NaT  ...   \n",
       "\n",
       "     POPPCT_UC POPDEN_URBAN POPDEN_UC POPDEN_RURAL AREAPCT_URBAN  AREAPCT_UC  \\\n",
       "OBS                                                                            \n",
       "1        15.28       2279.0    1700.5         18.2          2.14        0.60   \n",
       "2        15.28       2279.0    1700.5         18.2          2.14        0.60   \n",
       "3        15.28       2279.0    1700.5         18.2          2.14        0.60   \n",
       "4        15.28       2279.0    1700.5         18.2          2.14        0.60   \n",
       "5        15.28       2279.0    1700.5         18.2          2.14        0.60   \n",
       "...        ...          ...       ...          ...           ...         ...   \n",
       "1530     19.90       2192.2    1868.2          3.9          0.27        0.10   \n",
       "1531     19.90       2192.2    1868.2          3.9          0.27        0.10   \n",
       "1532     26.73       2038.3    1905.4          4.7          0.30        0.15   \n",
       "1533     26.73       2038.3    1905.4          4.7          0.30        0.15   \n",
       "1534     21.56       1802.6    1276.0          0.4          0.05        0.02   \n",
       "\n",
       "       PCT_LAND  PCT_WATER_TOT  PCT_WATER_INLAND  \\\n",
       "OBS                                                \n",
       "1     91.592666       8.407334          5.478743   \n",
       "2     91.592666       8.407334          5.478743   \n",
       "3     91.592666       8.407334          5.478743   \n",
       "4     91.592666       8.407334          5.478743   \n",
       "5     91.592666       8.407334          5.478743   \n",
       "...         ...            ...               ...   \n",
       "1530  97.599649       2.401765          2.401765   \n",
       "1531  97.599649       2.401765          2.401765   \n",
       "1532  98.307744       1.692256          1.692256   \n",
       "1533  98.307744       1.692256          1.692256   \n",
       "1534  85.761154      14.238846          2.901182   \n",
       "\n",
       "                             OUTAGE.START  \n",
       "OBS                                        \n",
       "1          Friday, July 01, 2011 17:00:00  \n",
       "2           Sunday, May 11, 2014 18:38:00  \n",
       "3      Tuesday, October 26, 2010 20:00:00  \n",
       "4         Tuesday, June 19, 2012 04:30:00  \n",
       "5        Saturday, July 18, 2015 02:00:00  \n",
       "...                                   ...  \n",
       "1530  Tuesday, December 06, 2011 08:00:00  \n",
       "1531                                  NaN  \n",
       "1532   Saturday, August 29, 2009 22:54:00  \n",
       "1533   Saturday, August 29, 2009 11:00:00  \n",
       "1534                                  NaN  \n",
       "\n",
       "[1534 rows x 56 columns]"
      ]
     },
     "execution_count": 8,
     "metadata": {},
     "output_type": "execute_result"
    }
   ],
   "source": [
    "data['OUTAGE.START'] = data['OUTAGE.START.DATE'].dt.strftime('%A, %B %d, %Y') + ' ' + data['OUTAGE.START.TIME'].astype(str)\n",
    "data"
   ]
  },
  {
   "cell_type": "markdown",
   "metadata": {},
   "source": [
    "Combine OUTAGE.RESTORATION.DATE and OUTAGE.RESTORATION.TIME into a new column, OUTAGE.RESTORATION"
   ]
  },
  {
   "cell_type": "code",
   "execution_count": 9,
   "metadata": {},
   "outputs": [
    {
     "data": {
      "text/html": [
       "<div>\n",
       "<style scoped>\n",
       "    .dataframe tbody tr th:only-of-type {\n",
       "        vertical-align: middle;\n",
       "    }\n",
       "\n",
       "    .dataframe tbody tr th {\n",
       "        vertical-align: top;\n",
       "    }\n",
       "\n",
       "    .dataframe thead th {\n",
       "        text-align: right;\n",
       "    }\n",
       "</style>\n",
       "<table border=\"1\" class=\"dataframe\">\n",
       "  <thead>\n",
       "    <tr style=\"text-align: right;\">\n",
       "      <th></th>\n",
       "      <th>YEAR</th>\n",
       "      <th>MONTH</th>\n",
       "      <th>U.S._STATE</th>\n",
       "      <th>POSTAL.CODE</th>\n",
       "      <th>NERC.REGION</th>\n",
       "      <th>CLIMATE.REGION</th>\n",
       "      <th>ANOMALY.LEVEL</th>\n",
       "      <th>CLIMATE.CATEGORY</th>\n",
       "      <th>OUTAGE.START.DATE</th>\n",
       "      <th>OUTAGE.START.TIME</th>\n",
       "      <th>...</th>\n",
       "      <th>POPDEN_URBAN</th>\n",
       "      <th>POPDEN_UC</th>\n",
       "      <th>POPDEN_RURAL</th>\n",
       "      <th>AREAPCT_URBAN</th>\n",
       "      <th>AREAPCT_UC</th>\n",
       "      <th>PCT_LAND</th>\n",
       "      <th>PCT_WATER_TOT</th>\n",
       "      <th>PCT_WATER_INLAND</th>\n",
       "      <th>OUTAGE.START</th>\n",
       "      <th>OUTAGE.RESTORATION</th>\n",
       "    </tr>\n",
       "    <tr>\n",
       "      <th>OBS</th>\n",
       "      <th></th>\n",
       "      <th></th>\n",
       "      <th></th>\n",
       "      <th></th>\n",
       "      <th></th>\n",
       "      <th></th>\n",
       "      <th></th>\n",
       "      <th></th>\n",
       "      <th></th>\n",
       "      <th></th>\n",
       "      <th></th>\n",
       "      <th></th>\n",
       "      <th></th>\n",
       "      <th></th>\n",
       "      <th></th>\n",
       "      <th></th>\n",
       "      <th></th>\n",
       "      <th></th>\n",
       "      <th></th>\n",
       "      <th></th>\n",
       "      <th></th>\n",
       "    </tr>\n",
       "  </thead>\n",
       "  <tbody>\n",
       "    <tr>\n",
       "      <th>1</th>\n",
       "      <td>2011</td>\n",
       "      <td>7.0</td>\n",
       "      <td>Minnesota</td>\n",
       "      <td>MN</td>\n",
       "      <td>MRO</td>\n",
       "      <td>East North Central</td>\n",
       "      <td>-0.3</td>\n",
       "      <td>normal</td>\n",
       "      <td>2011-07-01</td>\n",
       "      <td>17:00:00</td>\n",
       "      <td>...</td>\n",
       "      <td>2279.0</td>\n",
       "      <td>1700.5</td>\n",
       "      <td>18.2</td>\n",
       "      <td>2.14</td>\n",
       "      <td>0.60</td>\n",
       "      <td>91.592666</td>\n",
       "      <td>8.407334</td>\n",
       "      <td>5.478743</td>\n",
       "      <td>Friday, July 01, 2011 17:00:00</td>\n",
       "      <td>Sunday, July 03, 2011 20:00:00</td>\n",
       "    </tr>\n",
       "    <tr>\n",
       "      <th>2</th>\n",
       "      <td>2014</td>\n",
       "      <td>5.0</td>\n",
       "      <td>Minnesota</td>\n",
       "      <td>MN</td>\n",
       "      <td>MRO</td>\n",
       "      <td>East North Central</td>\n",
       "      <td>-0.1</td>\n",
       "      <td>normal</td>\n",
       "      <td>2014-05-11</td>\n",
       "      <td>18:38:00</td>\n",
       "      <td>...</td>\n",
       "      <td>2279.0</td>\n",
       "      <td>1700.5</td>\n",
       "      <td>18.2</td>\n",
       "      <td>2.14</td>\n",
       "      <td>0.60</td>\n",
       "      <td>91.592666</td>\n",
       "      <td>8.407334</td>\n",
       "      <td>5.478743</td>\n",
       "      <td>Sunday, May 11, 2014 18:38:00</td>\n",
       "      <td>Sunday, May 11, 2014 18:39:00</td>\n",
       "    </tr>\n",
       "    <tr>\n",
       "      <th>3</th>\n",
       "      <td>2010</td>\n",
       "      <td>10.0</td>\n",
       "      <td>Minnesota</td>\n",
       "      <td>MN</td>\n",
       "      <td>MRO</td>\n",
       "      <td>East North Central</td>\n",
       "      <td>-1.5</td>\n",
       "      <td>cold</td>\n",
       "      <td>2010-10-26</td>\n",
       "      <td>20:00:00</td>\n",
       "      <td>...</td>\n",
       "      <td>2279.0</td>\n",
       "      <td>1700.5</td>\n",
       "      <td>18.2</td>\n",
       "      <td>2.14</td>\n",
       "      <td>0.60</td>\n",
       "      <td>91.592666</td>\n",
       "      <td>8.407334</td>\n",
       "      <td>5.478743</td>\n",
       "      <td>Tuesday, October 26, 2010 20:00:00</td>\n",
       "      <td>Thursday, October 28, 2010 22:00:00</td>\n",
       "    </tr>\n",
       "    <tr>\n",
       "      <th>4</th>\n",
       "      <td>2012</td>\n",
       "      <td>6.0</td>\n",
       "      <td>Minnesota</td>\n",
       "      <td>MN</td>\n",
       "      <td>MRO</td>\n",
       "      <td>East North Central</td>\n",
       "      <td>-0.1</td>\n",
       "      <td>normal</td>\n",
       "      <td>2012-06-19</td>\n",
       "      <td>04:30:00</td>\n",
       "      <td>...</td>\n",
       "      <td>2279.0</td>\n",
       "      <td>1700.5</td>\n",
       "      <td>18.2</td>\n",
       "      <td>2.14</td>\n",
       "      <td>0.60</td>\n",
       "      <td>91.592666</td>\n",
       "      <td>8.407334</td>\n",
       "      <td>5.478743</td>\n",
       "      <td>Tuesday, June 19, 2012 04:30:00</td>\n",
       "      <td>Wednesday, June 20, 2012 23:00:00</td>\n",
       "    </tr>\n",
       "    <tr>\n",
       "      <th>5</th>\n",
       "      <td>2015</td>\n",
       "      <td>7.0</td>\n",
       "      <td>Minnesota</td>\n",
       "      <td>MN</td>\n",
       "      <td>MRO</td>\n",
       "      <td>East North Central</td>\n",
       "      <td>1.2</td>\n",
       "      <td>warm</td>\n",
       "      <td>2015-07-18</td>\n",
       "      <td>02:00:00</td>\n",
       "      <td>...</td>\n",
       "      <td>2279.0</td>\n",
       "      <td>1700.5</td>\n",
       "      <td>18.2</td>\n",
       "      <td>2.14</td>\n",
       "      <td>0.60</td>\n",
       "      <td>91.592666</td>\n",
       "      <td>8.407334</td>\n",
       "      <td>5.478743</td>\n",
       "      <td>Saturday, July 18, 2015 02:00:00</td>\n",
       "      <td>Sunday, July 19, 2015 07:00:00</td>\n",
       "    </tr>\n",
       "    <tr>\n",
       "      <th>...</th>\n",
       "      <td>...</td>\n",
       "      <td>...</td>\n",
       "      <td>...</td>\n",
       "      <td>...</td>\n",
       "      <td>...</td>\n",
       "      <td>...</td>\n",
       "      <td>...</td>\n",
       "      <td>...</td>\n",
       "      <td>...</td>\n",
       "      <td>...</td>\n",
       "      <td>...</td>\n",
       "      <td>...</td>\n",
       "      <td>...</td>\n",
       "      <td>...</td>\n",
       "      <td>...</td>\n",
       "      <td>...</td>\n",
       "      <td>...</td>\n",
       "      <td>...</td>\n",
       "      <td>...</td>\n",
       "      <td>...</td>\n",
       "      <td>...</td>\n",
       "    </tr>\n",
       "    <tr>\n",
       "      <th>1530</th>\n",
       "      <td>2011</td>\n",
       "      <td>12.0</td>\n",
       "      <td>North Dakota</td>\n",
       "      <td>ND</td>\n",
       "      <td>MRO</td>\n",
       "      <td>West North Central</td>\n",
       "      <td>-0.9</td>\n",
       "      <td>cold</td>\n",
       "      <td>2011-12-06</td>\n",
       "      <td>08:00:00</td>\n",
       "      <td>...</td>\n",
       "      <td>2192.2</td>\n",
       "      <td>1868.2</td>\n",
       "      <td>3.9</td>\n",
       "      <td>0.27</td>\n",
       "      <td>0.10</td>\n",
       "      <td>97.599649</td>\n",
       "      <td>2.401765</td>\n",
       "      <td>2.401765</td>\n",
       "      <td>Tuesday, December 06, 2011 08:00:00</td>\n",
       "      <td>Tuesday, December 06, 2011 20:00:00</td>\n",
       "    </tr>\n",
       "    <tr>\n",
       "      <th>1531</th>\n",
       "      <td>2006</td>\n",
       "      <td>NaN</td>\n",
       "      <td>North Dakota</td>\n",
       "      <td>ND</td>\n",
       "      <td>MRO</td>\n",
       "      <td>West North Central</td>\n",
       "      <td>NaN</td>\n",
       "      <td>NaN</td>\n",
       "      <td>NaT</td>\n",
       "      <td>NaT</td>\n",
       "      <td>...</td>\n",
       "      <td>2192.2</td>\n",
       "      <td>1868.2</td>\n",
       "      <td>3.9</td>\n",
       "      <td>0.27</td>\n",
       "      <td>0.10</td>\n",
       "      <td>97.599649</td>\n",
       "      <td>2.401765</td>\n",
       "      <td>2.401765</td>\n",
       "      <td>NaN</td>\n",
       "      <td>NaN</td>\n",
       "    </tr>\n",
       "    <tr>\n",
       "      <th>1532</th>\n",
       "      <td>2009</td>\n",
       "      <td>8.0</td>\n",
       "      <td>South Dakota</td>\n",
       "      <td>SD</td>\n",
       "      <td>RFC</td>\n",
       "      <td>West North Central</td>\n",
       "      <td>0.5</td>\n",
       "      <td>warm</td>\n",
       "      <td>2009-08-29</td>\n",
       "      <td>22:54:00</td>\n",
       "      <td>...</td>\n",
       "      <td>2038.3</td>\n",
       "      <td>1905.4</td>\n",
       "      <td>4.7</td>\n",
       "      <td>0.30</td>\n",
       "      <td>0.15</td>\n",
       "      <td>98.307744</td>\n",
       "      <td>1.692256</td>\n",
       "      <td>1.692256</td>\n",
       "      <td>Saturday, August 29, 2009 22:54:00</td>\n",
       "      <td>Saturday, August 29, 2009 23:53:00</td>\n",
       "    </tr>\n",
       "    <tr>\n",
       "      <th>1533</th>\n",
       "      <td>2009</td>\n",
       "      <td>8.0</td>\n",
       "      <td>South Dakota</td>\n",
       "      <td>SD</td>\n",
       "      <td>MRO</td>\n",
       "      <td>West North Central</td>\n",
       "      <td>0.5</td>\n",
       "      <td>warm</td>\n",
       "      <td>2009-08-29</td>\n",
       "      <td>11:00:00</td>\n",
       "      <td>...</td>\n",
       "      <td>2038.3</td>\n",
       "      <td>1905.4</td>\n",
       "      <td>4.7</td>\n",
       "      <td>0.30</td>\n",
       "      <td>0.15</td>\n",
       "      <td>98.307744</td>\n",
       "      <td>1.692256</td>\n",
       "      <td>1.692256</td>\n",
       "      <td>Saturday, August 29, 2009 11:00:00</td>\n",
       "      <td>Saturday, August 29, 2009 14:01:00</td>\n",
       "    </tr>\n",
       "    <tr>\n",
       "      <th>1534</th>\n",
       "      <td>2000</td>\n",
       "      <td>NaN</td>\n",
       "      <td>Alaska</td>\n",
       "      <td>AK</td>\n",
       "      <td>ASCC</td>\n",
       "      <td>NaN</td>\n",
       "      <td>NaN</td>\n",
       "      <td>NaN</td>\n",
       "      <td>NaT</td>\n",
       "      <td>NaT</td>\n",
       "      <td>...</td>\n",
       "      <td>1802.6</td>\n",
       "      <td>1276.0</td>\n",
       "      <td>0.4</td>\n",
       "      <td>0.05</td>\n",
       "      <td>0.02</td>\n",
       "      <td>85.761154</td>\n",
       "      <td>14.238846</td>\n",
       "      <td>2.901182</td>\n",
       "      <td>NaN</td>\n",
       "      <td>NaN</td>\n",
       "    </tr>\n",
       "  </tbody>\n",
       "</table>\n",
       "<p>1534 rows × 57 columns</p>\n",
       "</div>"
      ],
      "text/plain": [
       "      YEAR  MONTH    U.S._STATE POSTAL.CODE NERC.REGION      CLIMATE.REGION  \\\n",
       "OBS                                                                           \n",
       "1     2011    7.0     Minnesota          MN         MRO  East North Central   \n",
       "2     2014    5.0     Minnesota          MN         MRO  East North Central   \n",
       "3     2010   10.0     Minnesota          MN         MRO  East North Central   \n",
       "4     2012    6.0     Minnesota          MN         MRO  East North Central   \n",
       "5     2015    7.0     Minnesota          MN         MRO  East North Central   \n",
       "...    ...    ...           ...         ...         ...                 ...   \n",
       "1530  2011   12.0  North Dakota          ND         MRO  West North Central   \n",
       "1531  2006    NaN  North Dakota          ND         MRO  West North Central   \n",
       "1532  2009    8.0  South Dakota          SD         RFC  West North Central   \n",
       "1533  2009    8.0  South Dakota          SD         MRO  West North Central   \n",
       "1534  2000    NaN        Alaska          AK        ASCC                 NaN   \n",
       "\n",
       "      ANOMALY.LEVEL CLIMATE.CATEGORY OUTAGE.START.DATE OUTAGE.START.TIME  ...  \\\n",
       "OBS                                                                       ...   \n",
       "1              -0.3           normal        2011-07-01          17:00:00  ...   \n",
       "2              -0.1           normal        2014-05-11          18:38:00  ...   \n",
       "3              -1.5             cold        2010-10-26          20:00:00  ...   \n",
       "4              -0.1           normal        2012-06-19          04:30:00  ...   \n",
       "5               1.2             warm        2015-07-18          02:00:00  ...   \n",
       "...             ...              ...               ...               ...  ...   \n",
       "1530           -0.9             cold        2011-12-06          08:00:00  ...   \n",
       "1531            NaN              NaN               NaT               NaT  ...   \n",
       "1532            0.5             warm        2009-08-29          22:54:00  ...   \n",
       "1533            0.5             warm        2009-08-29          11:00:00  ...   \n",
       "1534            NaN              NaN               NaT               NaT  ...   \n",
       "\n",
       "     POPDEN_URBAN POPDEN_UC POPDEN_RURAL AREAPCT_URBAN AREAPCT_UC   PCT_LAND  \\\n",
       "OBS                                                                            \n",
       "1          2279.0    1700.5         18.2          2.14       0.60  91.592666   \n",
       "2          2279.0    1700.5         18.2          2.14       0.60  91.592666   \n",
       "3          2279.0    1700.5         18.2          2.14       0.60  91.592666   \n",
       "4          2279.0    1700.5         18.2          2.14       0.60  91.592666   \n",
       "5          2279.0    1700.5         18.2          2.14       0.60  91.592666   \n",
       "...           ...       ...          ...           ...        ...        ...   \n",
       "1530       2192.2    1868.2          3.9          0.27       0.10  97.599649   \n",
       "1531       2192.2    1868.2          3.9          0.27       0.10  97.599649   \n",
       "1532       2038.3    1905.4          4.7          0.30       0.15  98.307744   \n",
       "1533       2038.3    1905.4          4.7          0.30       0.15  98.307744   \n",
       "1534       1802.6    1276.0          0.4          0.05       0.02  85.761154   \n",
       "\n",
       "      PCT_WATER_TOT  PCT_WATER_INLAND                         OUTAGE.START  \\\n",
       "OBS                                                                          \n",
       "1          8.407334          5.478743       Friday, July 01, 2011 17:00:00   \n",
       "2          8.407334          5.478743        Sunday, May 11, 2014 18:38:00   \n",
       "3          8.407334          5.478743   Tuesday, October 26, 2010 20:00:00   \n",
       "4          8.407334          5.478743      Tuesday, June 19, 2012 04:30:00   \n",
       "5          8.407334          5.478743     Saturday, July 18, 2015 02:00:00   \n",
       "...             ...               ...                                  ...   \n",
       "1530       2.401765          2.401765  Tuesday, December 06, 2011 08:00:00   \n",
       "1531       2.401765          2.401765                                  NaN   \n",
       "1532       1.692256          1.692256   Saturday, August 29, 2009 22:54:00   \n",
       "1533       1.692256          1.692256   Saturday, August 29, 2009 11:00:00   \n",
       "1534      14.238846          2.901182                                  NaN   \n",
       "\n",
       "                       OUTAGE.RESTORATION  \n",
       "OBS                                        \n",
       "1          Sunday, July 03, 2011 20:00:00  \n",
       "2           Sunday, May 11, 2014 18:39:00  \n",
       "3     Thursday, October 28, 2010 22:00:00  \n",
       "4       Wednesday, June 20, 2012 23:00:00  \n",
       "5          Sunday, July 19, 2015 07:00:00  \n",
       "...                                   ...  \n",
       "1530  Tuesday, December 06, 2011 20:00:00  \n",
       "1531                                  NaN  \n",
       "1532   Saturday, August 29, 2009 23:53:00  \n",
       "1533   Saturday, August 29, 2009 14:01:00  \n",
       "1534                                  NaN  \n",
       "\n",
       "[1534 rows x 57 columns]"
      ]
     },
     "execution_count": 9,
     "metadata": {},
     "output_type": "execute_result"
    }
   ],
   "source": [
    "data['OUTAGE.RESTORATION.DATE'] = pd.to_datetime(data['OUTAGE.RESTORATION.DATE'], format='%A, %B %d, %Y')\n",
    "data['OUTAGE.RESTORATION.TIME'] = pd.to_datetime(data['OUTAGE.RESTORATION.TIME'], format='%I:%M:%S %p').dt.time\n",
    "data['OUTAGE.RESTORATION'] = data['OUTAGE.RESTORATION.DATE'].dt.strftime('%A, %B %d, %Y') + ' ' + data['OUTAGE.RESTORATION.TIME'].astype(str)\n",
    "data"
   ]
  },
  {
   "cell_type": "code",
   "execution_count": 10,
   "metadata": {},
   "outputs": [],
   "source": [
    "relevant = data[['YEAR', 'MONTH', 'U.S._STATE', 'POSTAL.CODE', 'NERC.REGION', 'CLIMATE.REGION', 'ANOMALY.LEVEL', 'CAUSE.CATEGORY', 'CAUSE.CATEGORY.DETAIL', 'RES.SALES', 'OUTAGE.START', 'OUTAGE.RESTORATION', 'OUTAGE.DURATION', 'DEMAND.LOSS.MW', 'CUSTOMERS.AFFECTED', 'RES.SALES', 'IND.SALES', 'COM.SALES', 'TOTAL.PRICE', 'TOTAL.SALES', 'TOTAL.CUSTOMERS', 'POPPCT_URBAN', 'POPDEN_URBAN', 'AREAPCT_URBAN']]\n"
   ]
  },
  {
   "cell_type": "code",
   "execution_count": 11,
   "metadata": {},
   "outputs": [
    {
     "data": {
      "text/html": [
       "<div>\n",
       "<style scoped>\n",
       "    .dataframe tbody tr th:only-of-type {\n",
       "        vertical-align: middle;\n",
       "    }\n",
       "\n",
       "    .dataframe tbody tr th {\n",
       "        vertical-align: top;\n",
       "    }\n",
       "\n",
       "    .dataframe thead th {\n",
       "        text-align: right;\n",
       "    }\n",
       "</style>\n",
       "<table border=\"1\" class=\"dataframe\">\n",
       "  <thead>\n",
       "    <tr style=\"text-align: right;\">\n",
       "      <th></th>\n",
       "      <th>YEAR</th>\n",
       "      <th>MONTH</th>\n",
       "      <th>U.S._STATE</th>\n",
       "      <th>POSTAL.CODE</th>\n",
       "      <th>NERC.REGION</th>\n",
       "      <th>CLIMATE.REGION</th>\n",
       "      <th>ANOMALY.LEVEL</th>\n",
       "      <th>CAUSE.CATEGORY</th>\n",
       "      <th>CAUSE.CATEGORY.DETAIL</th>\n",
       "      <th>RES.SALES</th>\n",
       "      <th>OUTAGE.START</th>\n",
       "      <th>OUTAGE.RESTORATION</th>\n",
       "      <th>OUTAGE.DURATION</th>\n",
       "      <th>DEMAND.LOSS.MW</th>\n",
       "      <th>CUSTOMERS.AFFECTED</th>\n",
       "      <th>RES.SALES</th>\n",
       "      <th>IND.SALES</th>\n",
       "      <th>COM.SALES</th>\n",
       "      <th>TOTAL.PRICE</th>\n",
       "      <th>TOTAL.SALES</th>\n",
       "      <th>TOTAL.CUSTOMERS</th>\n",
       "      <th>POPPCT_URBAN</th>\n",
       "      <th>POPDEN_URBAN</th>\n",
       "      <th>AREAPCT_URBAN</th>\n",
       "    </tr>\n",
       "    <tr>\n",
       "      <th>OBS</th>\n",
       "      <th></th>\n",
       "      <th></th>\n",
       "      <th></th>\n",
       "      <th></th>\n",
       "      <th></th>\n",
       "      <th></th>\n",
       "      <th></th>\n",
       "      <th></th>\n",
       "      <th></th>\n",
       "      <th></th>\n",
       "      <th></th>\n",
       "      <th></th>\n",
       "      <th></th>\n",
       "      <th></th>\n",
       "      <th></th>\n",
       "      <th></th>\n",
       "      <th></th>\n",
       "      <th></th>\n",
       "      <th></th>\n",
       "      <th></th>\n",
       "      <th></th>\n",
       "      <th></th>\n",
       "      <th></th>\n",
       "      <th></th>\n",
       "    </tr>\n",
       "  </thead>\n",
       "  <tbody>\n",
       "    <tr>\n",
       "      <th>1</th>\n",
       "      <td>2011</td>\n",
       "      <td>7.0</td>\n",
       "      <td>Minnesota</td>\n",
       "      <td>MN</td>\n",
       "      <td>MRO</td>\n",
       "      <td>East North Central</td>\n",
       "      <td>-0.3</td>\n",
       "      <td>severe weather</td>\n",
       "      <td>NaN</td>\n",
       "      <td>2332915.0</td>\n",
       "      <td>Friday, July 01, 2011 17:00:00</td>\n",
       "      <td>Sunday, July 03, 2011 20:00:00</td>\n",
       "      <td>3060.0</td>\n",
       "      <td>NaN</td>\n",
       "      <td>70000.0</td>\n",
       "      <td>2332915.0</td>\n",
       "      <td>2113291.0</td>\n",
       "      <td>2114774.0</td>\n",
       "      <td>9.28</td>\n",
       "      <td>6562520.0</td>\n",
       "      <td>2595696</td>\n",
       "      <td>73.27</td>\n",
       "      <td>2279.0</td>\n",
       "      <td>2.14</td>\n",
       "    </tr>\n",
       "    <tr>\n",
       "      <th>2</th>\n",
       "      <td>2014</td>\n",
       "      <td>5.0</td>\n",
       "      <td>Minnesota</td>\n",
       "      <td>MN</td>\n",
       "      <td>MRO</td>\n",
       "      <td>East North Central</td>\n",
       "      <td>-0.1</td>\n",
       "      <td>intentional attack</td>\n",
       "      <td>vandalism</td>\n",
       "      <td>1586986.0</td>\n",
       "      <td>Sunday, May 11, 2014 18:38:00</td>\n",
       "      <td>Sunday, May 11, 2014 18:39:00</td>\n",
       "      <td>1.0</td>\n",
       "      <td>NaN</td>\n",
       "      <td>NaN</td>\n",
       "      <td>1586986.0</td>\n",
       "      <td>1887927.0</td>\n",
       "      <td>1807756.0</td>\n",
       "      <td>9.28</td>\n",
       "      <td>5284231.0</td>\n",
       "      <td>2640737</td>\n",
       "      <td>73.27</td>\n",
       "      <td>2279.0</td>\n",
       "      <td>2.14</td>\n",
       "    </tr>\n",
       "    <tr>\n",
       "      <th>3</th>\n",
       "      <td>2010</td>\n",
       "      <td>10.0</td>\n",
       "      <td>Minnesota</td>\n",
       "      <td>MN</td>\n",
       "      <td>MRO</td>\n",
       "      <td>East North Central</td>\n",
       "      <td>-1.5</td>\n",
       "      <td>severe weather</td>\n",
       "      <td>heavy wind</td>\n",
       "      <td>1467293.0</td>\n",
       "      <td>Tuesday, October 26, 2010 20:00:00</td>\n",
       "      <td>Thursday, October 28, 2010 22:00:00</td>\n",
       "      <td>3000.0</td>\n",
       "      <td>NaN</td>\n",
       "      <td>70000.0</td>\n",
       "      <td>1467293.0</td>\n",
       "      <td>1951295.0</td>\n",
       "      <td>1801683.0</td>\n",
       "      <td>8.15</td>\n",
       "      <td>5222116.0</td>\n",
       "      <td>2586905</td>\n",
       "      <td>73.27</td>\n",
       "      <td>2279.0</td>\n",
       "      <td>2.14</td>\n",
       "    </tr>\n",
       "    <tr>\n",
       "      <th>4</th>\n",
       "      <td>2012</td>\n",
       "      <td>6.0</td>\n",
       "      <td>Minnesota</td>\n",
       "      <td>MN</td>\n",
       "      <td>MRO</td>\n",
       "      <td>East North Central</td>\n",
       "      <td>-0.1</td>\n",
       "      <td>severe weather</td>\n",
       "      <td>thunderstorm</td>\n",
       "      <td>1851519.0</td>\n",
       "      <td>Tuesday, June 19, 2012 04:30:00</td>\n",
       "      <td>Wednesday, June 20, 2012 23:00:00</td>\n",
       "      <td>2550.0</td>\n",
       "      <td>NaN</td>\n",
       "      <td>68200.0</td>\n",
       "      <td>1851519.0</td>\n",
       "      <td>1993026.0</td>\n",
       "      <td>1941174.0</td>\n",
       "      <td>9.19</td>\n",
       "      <td>5787064.0</td>\n",
       "      <td>2606813</td>\n",
       "      <td>73.27</td>\n",
       "      <td>2279.0</td>\n",
       "      <td>2.14</td>\n",
       "    </tr>\n",
       "    <tr>\n",
       "      <th>5</th>\n",
       "      <td>2015</td>\n",
       "      <td>7.0</td>\n",
       "      <td>Minnesota</td>\n",
       "      <td>MN</td>\n",
       "      <td>MRO</td>\n",
       "      <td>East North Central</td>\n",
       "      <td>1.2</td>\n",
       "      <td>severe weather</td>\n",
       "      <td>NaN</td>\n",
       "      <td>2028875.0</td>\n",
       "      <td>Saturday, July 18, 2015 02:00:00</td>\n",
       "      <td>Sunday, July 19, 2015 07:00:00</td>\n",
       "      <td>1740.0</td>\n",
       "      <td>250.0</td>\n",
       "      <td>250000.0</td>\n",
       "      <td>2028875.0</td>\n",
       "      <td>1777937.0</td>\n",
       "      <td>2161612.0</td>\n",
       "      <td>10.43</td>\n",
       "      <td>5970339.0</td>\n",
       "      <td>2673531</td>\n",
       "      <td>73.27</td>\n",
       "      <td>2279.0</td>\n",
       "      <td>2.14</td>\n",
       "    </tr>\n",
       "    <tr>\n",
       "      <th>...</th>\n",
       "      <td>...</td>\n",
       "      <td>...</td>\n",
       "      <td>...</td>\n",
       "      <td>...</td>\n",
       "      <td>...</td>\n",
       "      <td>...</td>\n",
       "      <td>...</td>\n",
       "      <td>...</td>\n",
       "      <td>...</td>\n",
       "      <td>...</td>\n",
       "      <td>...</td>\n",
       "      <td>...</td>\n",
       "      <td>...</td>\n",
       "      <td>...</td>\n",
       "      <td>...</td>\n",
       "      <td>...</td>\n",
       "      <td>...</td>\n",
       "      <td>...</td>\n",
       "      <td>...</td>\n",
       "      <td>...</td>\n",
       "      <td>...</td>\n",
       "      <td>...</td>\n",
       "      <td>...</td>\n",
       "      <td>...</td>\n",
       "    </tr>\n",
       "    <tr>\n",
       "      <th>1530</th>\n",
       "      <td>2011</td>\n",
       "      <td>12.0</td>\n",
       "      <td>North Dakota</td>\n",
       "      <td>ND</td>\n",
       "      <td>MRO</td>\n",
       "      <td>West North Central</td>\n",
       "      <td>-0.9</td>\n",
       "      <td>public appeal</td>\n",
       "      <td>NaN</td>\n",
       "      <td>488853.0</td>\n",
       "      <td>Tuesday, December 06, 2011 08:00:00</td>\n",
       "      <td>Tuesday, December 06, 2011 20:00:00</td>\n",
       "      <td>720.0</td>\n",
       "      <td>155.0</td>\n",
       "      <td>34500.0</td>\n",
       "      <td>488853.0</td>\n",
       "      <td>386693.0</td>\n",
       "      <td>438133.0</td>\n",
       "      <td>7.56</td>\n",
       "      <td>1313678.0</td>\n",
       "      <td>394394</td>\n",
       "      <td>59.90</td>\n",
       "      <td>2192.2</td>\n",
       "      <td>0.27</td>\n",
       "    </tr>\n",
       "    <tr>\n",
       "      <th>1531</th>\n",
       "      <td>2006</td>\n",
       "      <td>NaN</td>\n",
       "      <td>North Dakota</td>\n",
       "      <td>ND</td>\n",
       "      <td>MRO</td>\n",
       "      <td>West North Central</td>\n",
       "      <td>NaN</td>\n",
       "      <td>fuel supply emergency</td>\n",
       "      <td>Coal</td>\n",
       "      <td>NaN</td>\n",
       "      <td>NaN</td>\n",
       "      <td>NaN</td>\n",
       "      <td>NaN</td>\n",
       "      <td>1650.0</td>\n",
       "      <td>NaN</td>\n",
       "      <td>NaN</td>\n",
       "      <td>NaN</td>\n",
       "      <td>NaN</td>\n",
       "      <td>NaN</td>\n",
       "      <td>NaN</td>\n",
       "      <td>366037</td>\n",
       "      <td>59.90</td>\n",
       "      <td>2192.2</td>\n",
       "      <td>0.27</td>\n",
       "    </tr>\n",
       "    <tr>\n",
       "      <th>1532</th>\n",
       "      <td>2009</td>\n",
       "      <td>8.0</td>\n",
       "      <td>South Dakota</td>\n",
       "      <td>SD</td>\n",
       "      <td>RFC</td>\n",
       "      <td>West North Central</td>\n",
       "      <td>0.5</td>\n",
       "      <td>islanding</td>\n",
       "      <td>NaN</td>\n",
       "      <td>337874.0</td>\n",
       "      <td>Saturday, August 29, 2009 22:54:00</td>\n",
       "      <td>Saturday, August 29, 2009 23:53:00</td>\n",
       "      <td>59.0</td>\n",
       "      <td>84.0</td>\n",
       "      <td>NaN</td>\n",
       "      <td>337874.0</td>\n",
       "      <td>215406.0</td>\n",
       "      <td>370771.0</td>\n",
       "      <td>7.67</td>\n",
       "      <td>924051.0</td>\n",
       "      <td>436229</td>\n",
       "      <td>56.65</td>\n",
       "      <td>2038.3</td>\n",
       "      <td>0.30</td>\n",
       "    </tr>\n",
       "    <tr>\n",
       "      <th>1533</th>\n",
       "      <td>2009</td>\n",
       "      <td>8.0</td>\n",
       "      <td>South Dakota</td>\n",
       "      <td>SD</td>\n",
       "      <td>MRO</td>\n",
       "      <td>West North Central</td>\n",
       "      <td>0.5</td>\n",
       "      <td>islanding</td>\n",
       "      <td>NaN</td>\n",
       "      <td>337874.0</td>\n",
       "      <td>Saturday, August 29, 2009 11:00:00</td>\n",
       "      <td>Saturday, August 29, 2009 14:01:00</td>\n",
       "      <td>181.0</td>\n",
       "      <td>373.0</td>\n",
       "      <td>NaN</td>\n",
       "      <td>337874.0</td>\n",
       "      <td>215406.0</td>\n",
       "      <td>370771.0</td>\n",
       "      <td>7.67</td>\n",
       "      <td>924051.0</td>\n",
       "      <td>436229</td>\n",
       "      <td>56.65</td>\n",
       "      <td>2038.3</td>\n",
       "      <td>0.30</td>\n",
       "    </tr>\n",
       "    <tr>\n",
       "      <th>1534</th>\n",
       "      <td>2000</td>\n",
       "      <td>NaN</td>\n",
       "      <td>Alaska</td>\n",
       "      <td>AK</td>\n",
       "      <td>ASCC</td>\n",
       "      <td>NaN</td>\n",
       "      <td>NaN</td>\n",
       "      <td>equipment failure</td>\n",
       "      <td>failure</td>\n",
       "      <td>NaN</td>\n",
       "      <td>NaN</td>\n",
       "      <td>NaN</td>\n",
       "      <td>NaN</td>\n",
       "      <td>35.0</td>\n",
       "      <td>14273.0</td>\n",
       "      <td>NaN</td>\n",
       "      <td>NaN</td>\n",
       "      <td>NaN</td>\n",
       "      <td>NaN</td>\n",
       "      <td>NaN</td>\n",
       "      <td>273530</td>\n",
       "      <td>66.02</td>\n",
       "      <td>1802.6</td>\n",
       "      <td>0.05</td>\n",
       "    </tr>\n",
       "  </tbody>\n",
       "</table>\n",
       "<p>1534 rows × 24 columns</p>\n",
       "</div>"
      ],
      "text/plain": [
       "      YEAR  MONTH    U.S._STATE POSTAL.CODE NERC.REGION      CLIMATE.REGION  \\\n",
       "OBS                                                                           \n",
       "1     2011    7.0     Minnesota          MN         MRO  East North Central   \n",
       "2     2014    5.0     Minnesota          MN         MRO  East North Central   \n",
       "3     2010   10.0     Minnesota          MN         MRO  East North Central   \n",
       "4     2012    6.0     Minnesota          MN         MRO  East North Central   \n",
       "5     2015    7.0     Minnesota          MN         MRO  East North Central   \n",
       "...    ...    ...           ...         ...         ...                 ...   \n",
       "1530  2011   12.0  North Dakota          ND         MRO  West North Central   \n",
       "1531  2006    NaN  North Dakota          ND         MRO  West North Central   \n",
       "1532  2009    8.0  South Dakota          SD         RFC  West North Central   \n",
       "1533  2009    8.0  South Dakota          SD         MRO  West North Central   \n",
       "1534  2000    NaN        Alaska          AK        ASCC                 NaN   \n",
       "\n",
       "      ANOMALY.LEVEL         CAUSE.CATEGORY CAUSE.CATEGORY.DETAIL  RES.SALES  \\\n",
       "OBS                                                                           \n",
       "1              -0.3         severe weather                   NaN  2332915.0   \n",
       "2              -0.1     intentional attack             vandalism  1586986.0   \n",
       "3              -1.5         severe weather            heavy wind  1467293.0   \n",
       "4              -0.1         severe weather          thunderstorm  1851519.0   \n",
       "5               1.2         severe weather                   NaN  2028875.0   \n",
       "...             ...                    ...                   ...        ...   \n",
       "1530           -0.9          public appeal                   NaN   488853.0   \n",
       "1531            NaN  fuel supply emergency                  Coal        NaN   \n",
       "1532            0.5              islanding                   NaN   337874.0   \n",
       "1533            0.5              islanding                   NaN   337874.0   \n",
       "1534            NaN      equipment failure               failure        NaN   \n",
       "\n",
       "                             OUTAGE.START  \\\n",
       "OBS                                         \n",
       "1          Friday, July 01, 2011 17:00:00   \n",
       "2           Sunday, May 11, 2014 18:38:00   \n",
       "3      Tuesday, October 26, 2010 20:00:00   \n",
       "4         Tuesday, June 19, 2012 04:30:00   \n",
       "5        Saturday, July 18, 2015 02:00:00   \n",
       "...                                   ...   \n",
       "1530  Tuesday, December 06, 2011 08:00:00   \n",
       "1531                                  NaN   \n",
       "1532   Saturday, August 29, 2009 22:54:00   \n",
       "1533   Saturday, August 29, 2009 11:00:00   \n",
       "1534                                  NaN   \n",
       "\n",
       "                       OUTAGE.RESTORATION  OUTAGE.DURATION  DEMAND.LOSS.MW  \\\n",
       "OBS                                                                          \n",
       "1          Sunday, July 03, 2011 20:00:00           3060.0             NaN   \n",
       "2           Sunday, May 11, 2014 18:39:00              1.0             NaN   \n",
       "3     Thursday, October 28, 2010 22:00:00           3000.0             NaN   \n",
       "4       Wednesday, June 20, 2012 23:00:00           2550.0             NaN   \n",
       "5          Sunday, July 19, 2015 07:00:00           1740.0           250.0   \n",
       "...                                   ...              ...             ...   \n",
       "1530  Tuesday, December 06, 2011 20:00:00            720.0           155.0   \n",
       "1531                                  NaN              NaN          1650.0   \n",
       "1532   Saturday, August 29, 2009 23:53:00             59.0            84.0   \n",
       "1533   Saturday, August 29, 2009 14:01:00            181.0           373.0   \n",
       "1534                                  NaN              NaN            35.0   \n",
       "\n",
       "      CUSTOMERS.AFFECTED  RES.SALES  IND.SALES  COM.SALES  TOTAL.PRICE  \\\n",
       "OBS                                                                      \n",
       "1                70000.0  2332915.0  2113291.0  2114774.0         9.28   \n",
       "2                    NaN  1586986.0  1887927.0  1807756.0         9.28   \n",
       "3                70000.0  1467293.0  1951295.0  1801683.0         8.15   \n",
       "4                68200.0  1851519.0  1993026.0  1941174.0         9.19   \n",
       "5               250000.0  2028875.0  1777937.0  2161612.0        10.43   \n",
       "...                  ...        ...        ...        ...          ...   \n",
       "1530             34500.0   488853.0   386693.0   438133.0         7.56   \n",
       "1531                 NaN        NaN        NaN        NaN          NaN   \n",
       "1532                 NaN   337874.0   215406.0   370771.0         7.67   \n",
       "1533                 NaN   337874.0   215406.0   370771.0         7.67   \n",
       "1534             14273.0        NaN        NaN        NaN          NaN   \n",
       "\n",
       "      TOTAL.SALES  TOTAL.CUSTOMERS  POPPCT_URBAN  POPDEN_URBAN  AREAPCT_URBAN  \n",
       "OBS                                                                            \n",
       "1       6562520.0          2595696         73.27        2279.0           2.14  \n",
       "2       5284231.0          2640737         73.27        2279.0           2.14  \n",
       "3       5222116.0          2586905         73.27        2279.0           2.14  \n",
       "4       5787064.0          2606813         73.27        2279.0           2.14  \n",
       "5       5970339.0          2673531         73.27        2279.0           2.14  \n",
       "...           ...              ...           ...           ...            ...  \n",
       "1530    1313678.0           394394         59.90        2192.2           0.27  \n",
       "1531          NaN           366037         59.90        2192.2           0.27  \n",
       "1532     924051.0           436229         56.65        2038.3           0.30  \n",
       "1533     924051.0           436229         56.65        2038.3           0.30  \n",
       "1534          NaN           273530         66.02        1802.6           0.05  \n",
       "\n",
       "[1534 rows x 24 columns]"
      ]
     },
     "execution_count": 11,
     "metadata": {},
     "output_type": "execute_result"
    }
   ],
   "source": [
    "pd.set_option('display.max_columns', None)\n",
    "relevant"
   ]
  },
  {
   "cell_type": "code",
   "execution_count": 12,
   "metadata": {},
   "outputs": [],
   "source": [
    "def standardize(df, col):\n",
    "    return (df[col] - df[col].mean()) / df[col].std()"
   ]
  },
  {
   "cell_type": "code",
   "execution_count": 13,
   "metadata": {},
   "outputs": [
    {
     "name": "stderr",
     "output_type": "stream",
     "text": [
      "C:\\Users\\Stikes PC\\AppData\\Local\\Temp\\ipykernel_18136\\3675664561.py:1: SettingWithCopyWarning: \n",
      "A value is trying to be set on a copy of a slice from a DataFrame.\n",
      "Try using .loc[row_indexer,col_indexer] = value instead\n",
      "\n",
      "See the caveats in the documentation: https://pandas.pydata.org/pandas-docs/stable/user_guide/indexing.html#returning-a-view-versus-a-copy\n",
      "  relevant['RES.SALES'] = standardize(data, 'RES.SALES')\n",
      "C:\\Users\\Stikes PC\\AppData\\Local\\Temp\\ipykernel_18136\\3675664561.py:2: SettingWithCopyWarning: \n",
      "A value is trying to be set on a copy of a slice from a DataFrame.\n",
      "Try using .loc[row_indexer,col_indexer] = value instead\n",
      "\n",
      "See the caveats in the documentation: https://pandas.pydata.org/pandas-docs/stable/user_guide/indexing.html#returning-a-view-versus-a-copy\n",
      "  relevant['IND.SALES'] = standardize(data, 'IND.SALES')\n",
      "C:\\Users\\Stikes PC\\AppData\\Local\\Temp\\ipykernel_18136\\3675664561.py:3: SettingWithCopyWarning: \n",
      "A value is trying to be set on a copy of a slice from a DataFrame.\n",
      "Try using .loc[row_indexer,col_indexer] = value instead\n",
      "\n",
      "See the caveats in the documentation: https://pandas.pydata.org/pandas-docs/stable/user_guide/indexing.html#returning-a-view-versus-a-copy\n",
      "  relevant['COM.SALES'] = standardize(data, 'COM.SALES')\n"
     ]
    },
    {
     "data": {
      "text/html": [
       "<div>\n",
       "<style scoped>\n",
       "    .dataframe tbody tr th:only-of-type {\n",
       "        vertical-align: middle;\n",
       "    }\n",
       "\n",
       "    .dataframe tbody tr th {\n",
       "        vertical-align: top;\n",
       "    }\n",
       "\n",
       "    .dataframe thead th {\n",
       "        text-align: right;\n",
       "    }\n",
       "</style>\n",
       "<table border=\"1\" class=\"dataframe\">\n",
       "  <thead>\n",
       "    <tr style=\"text-align: right;\">\n",
       "      <th></th>\n",
       "      <th>YEAR</th>\n",
       "      <th>MONTH</th>\n",
       "      <th>U.S._STATE</th>\n",
       "      <th>POSTAL.CODE</th>\n",
       "      <th>NERC.REGION</th>\n",
       "      <th>CLIMATE.REGION</th>\n",
       "      <th>ANOMALY.LEVEL</th>\n",
       "      <th>CAUSE.CATEGORY</th>\n",
       "      <th>CAUSE.CATEGORY.DETAIL</th>\n",
       "      <th>RES.SALES</th>\n",
       "      <th>OUTAGE.START</th>\n",
       "      <th>OUTAGE.RESTORATION</th>\n",
       "      <th>OUTAGE.DURATION</th>\n",
       "      <th>DEMAND.LOSS.MW</th>\n",
       "      <th>CUSTOMERS.AFFECTED</th>\n",
       "      <th>RES.SALES</th>\n",
       "      <th>IND.SALES</th>\n",
       "      <th>COM.SALES</th>\n",
       "      <th>TOTAL.PRICE</th>\n",
       "      <th>TOTAL.SALES</th>\n",
       "      <th>TOTAL.CUSTOMERS</th>\n",
       "      <th>POPPCT_URBAN</th>\n",
       "      <th>POPDEN_URBAN</th>\n",
       "      <th>AREAPCT_URBAN</th>\n",
       "    </tr>\n",
       "    <tr>\n",
       "      <th>OBS</th>\n",
       "      <th></th>\n",
       "      <th></th>\n",
       "      <th></th>\n",
       "      <th></th>\n",
       "      <th></th>\n",
       "      <th></th>\n",
       "      <th></th>\n",
       "      <th></th>\n",
       "      <th></th>\n",
       "      <th></th>\n",
       "      <th></th>\n",
       "      <th></th>\n",
       "      <th></th>\n",
       "      <th></th>\n",
       "      <th></th>\n",
       "      <th></th>\n",
       "      <th></th>\n",
       "      <th></th>\n",
       "      <th></th>\n",
       "      <th></th>\n",
       "      <th></th>\n",
       "      <th></th>\n",
       "      <th></th>\n",
       "      <th></th>\n",
       "    </tr>\n",
       "  </thead>\n",
       "  <tbody>\n",
       "    <tr>\n",
       "      <th>1</th>\n",
       "      <td>2011</td>\n",
       "      <td>7.0</td>\n",
       "      <td>Minnesota</td>\n",
       "      <td>MN</td>\n",
       "      <td>MRO</td>\n",
       "      <td>East North Central</td>\n",
       "      <td>-0.3</td>\n",
       "      <td>severe weather</td>\n",
       "      <td>NaN</td>\n",
       "      <td>-0.594363</td>\n",
       "      <td>Friday, July 01, 2011 17:00:00</td>\n",
       "      <td>Sunday, July 03, 2011 20:00:00</td>\n",
       "      <td>3060.0</td>\n",
       "      <td>NaN</td>\n",
       "      <td>70000.0</td>\n",
       "      <td>-0.594363</td>\n",
       "      <td>-0.308476</td>\n",
       "      <td>-0.660847</td>\n",
       "      <td>9.28</td>\n",
       "      <td>6562520.0</td>\n",
       "      <td>2595696</td>\n",
       "      <td>73.27</td>\n",
       "      <td>2279.0</td>\n",
       "      <td>2.14</td>\n",
       "    </tr>\n",
       "    <tr>\n",
       "      <th>2</th>\n",
       "      <td>2014</td>\n",
       "      <td>5.0</td>\n",
       "      <td>Minnesota</td>\n",
       "      <td>MN</td>\n",
       "      <td>MRO</td>\n",
       "      <td>East North Central</td>\n",
       "      <td>-0.1</td>\n",
       "      <td>intentional attack</td>\n",
       "      <td>vandalism</td>\n",
       "      <td>-0.815220</td>\n",
       "      <td>Sunday, May 11, 2014 18:38:00</td>\n",
       "      <td>Sunday, May 11, 2014 18:39:00</td>\n",
       "      <td>1.0</td>\n",
       "      <td>NaN</td>\n",
       "      <td>NaN</td>\n",
       "      <td>-0.815220</td>\n",
       "      <td>-0.410267</td>\n",
       "      <td>-0.748638</td>\n",
       "      <td>9.28</td>\n",
       "      <td>5284231.0</td>\n",
       "      <td>2640737</td>\n",
       "      <td>73.27</td>\n",
       "      <td>2279.0</td>\n",
       "      <td>2.14</td>\n",
       "    </tr>\n",
       "    <tr>\n",
       "      <th>3</th>\n",
       "      <td>2010</td>\n",
       "      <td>10.0</td>\n",
       "      <td>Minnesota</td>\n",
       "      <td>MN</td>\n",
       "      <td>MRO</td>\n",
       "      <td>East North Central</td>\n",
       "      <td>-1.5</td>\n",
       "      <td>severe weather</td>\n",
       "      <td>heavy wind</td>\n",
       "      <td>-0.850659</td>\n",
       "      <td>Tuesday, October 26, 2010 20:00:00</td>\n",
       "      <td>Thursday, October 28, 2010 22:00:00</td>\n",
       "      <td>3000.0</td>\n",
       "      <td>NaN</td>\n",
       "      <td>70000.0</td>\n",
       "      <td>-0.850659</td>\n",
       "      <td>-0.381646</td>\n",
       "      <td>-0.750375</td>\n",
       "      <td>8.15</td>\n",
       "      <td>5222116.0</td>\n",
       "      <td>2586905</td>\n",
       "      <td>73.27</td>\n",
       "      <td>2279.0</td>\n",
       "      <td>2.14</td>\n",
       "    </tr>\n",
       "    <tr>\n",
       "      <th>4</th>\n",
       "      <td>2012</td>\n",
       "      <td>6.0</td>\n",
       "      <td>Minnesota</td>\n",
       "      <td>MN</td>\n",
       "      <td>MRO</td>\n",
       "      <td>East North Central</td>\n",
       "      <td>-0.1</td>\n",
       "      <td>severe weather</td>\n",
       "      <td>thunderstorm</td>\n",
       "      <td>-0.736896</td>\n",
       "      <td>Tuesday, June 19, 2012 04:30:00</td>\n",
       "      <td>Wednesday, June 20, 2012 23:00:00</td>\n",
       "      <td>2550.0</td>\n",
       "      <td>NaN</td>\n",
       "      <td>68200.0</td>\n",
       "      <td>-0.736896</td>\n",
       "      <td>-0.362797</td>\n",
       "      <td>-0.710488</td>\n",
       "      <td>9.19</td>\n",
       "      <td>5787064.0</td>\n",
       "      <td>2606813</td>\n",
       "      <td>73.27</td>\n",
       "      <td>2279.0</td>\n",
       "      <td>2.14</td>\n",
       "    </tr>\n",
       "    <tr>\n",
       "      <th>5</th>\n",
       "      <td>2015</td>\n",
       "      <td>7.0</td>\n",
       "      <td>Minnesota</td>\n",
       "      <td>MN</td>\n",
       "      <td>MRO</td>\n",
       "      <td>East North Central</td>\n",
       "      <td>1.2</td>\n",
       "      <td>severe weather</td>\n",
       "      <td>NaN</td>\n",
       "      <td>-0.684384</td>\n",
       "      <td>Saturday, July 18, 2015 02:00:00</td>\n",
       "      <td>Sunday, July 19, 2015 07:00:00</td>\n",
       "      <td>1740.0</td>\n",
       "      <td>250.0</td>\n",
       "      <td>250000.0</td>\n",
       "      <td>-0.684384</td>\n",
       "      <td>-0.459947</td>\n",
       "      <td>-0.647453</td>\n",
       "      <td>10.43</td>\n",
       "      <td>5970339.0</td>\n",
       "      <td>2673531</td>\n",
       "      <td>73.27</td>\n",
       "      <td>2279.0</td>\n",
       "      <td>2.14</td>\n",
       "    </tr>\n",
       "    <tr>\n",
       "      <th>...</th>\n",
       "      <td>...</td>\n",
       "      <td>...</td>\n",
       "      <td>...</td>\n",
       "      <td>...</td>\n",
       "      <td>...</td>\n",
       "      <td>...</td>\n",
       "      <td>...</td>\n",
       "      <td>...</td>\n",
       "      <td>...</td>\n",
       "      <td>...</td>\n",
       "      <td>...</td>\n",
       "      <td>...</td>\n",
       "      <td>...</td>\n",
       "      <td>...</td>\n",
       "      <td>...</td>\n",
       "      <td>...</td>\n",
       "      <td>...</td>\n",
       "      <td>...</td>\n",
       "      <td>...</td>\n",
       "      <td>...</td>\n",
       "      <td>...</td>\n",
       "      <td>...</td>\n",
       "      <td>...</td>\n",
       "      <td>...</td>\n",
       "    </tr>\n",
       "    <tr>\n",
       "      <th>1530</th>\n",
       "      <td>2011</td>\n",
       "      <td>12.0</td>\n",
       "      <td>North Dakota</td>\n",
       "      <td>ND</td>\n",
       "      <td>MRO</td>\n",
       "      <td>West North Central</td>\n",
       "      <td>-0.9</td>\n",
       "      <td>public appeal</td>\n",
       "      <td>NaN</td>\n",
       "      <td>-1.140358</td>\n",
       "      <td>Tuesday, December 06, 2011 08:00:00</td>\n",
       "      <td>Tuesday, December 06, 2011 20:00:00</td>\n",
       "      <td>720.0</td>\n",
       "      <td>155.0</td>\n",
       "      <td>34500.0</td>\n",
       "      <td>-1.140358</td>\n",
       "      <td>-1.088336</td>\n",
       "      <td>-1.140282</td>\n",
       "      <td>7.56</td>\n",
       "      <td>1313678.0</td>\n",
       "      <td>394394</td>\n",
       "      <td>59.90</td>\n",
       "      <td>2192.2</td>\n",
       "      <td>0.27</td>\n",
       "    </tr>\n",
       "    <tr>\n",
       "      <th>1531</th>\n",
       "      <td>2006</td>\n",
       "      <td>NaN</td>\n",
       "      <td>North Dakota</td>\n",
       "      <td>ND</td>\n",
       "      <td>MRO</td>\n",
       "      <td>West North Central</td>\n",
       "      <td>NaN</td>\n",
       "      <td>fuel supply emergency</td>\n",
       "      <td>Coal</td>\n",
       "      <td>NaN</td>\n",
       "      <td>NaN</td>\n",
       "      <td>NaN</td>\n",
       "      <td>NaN</td>\n",
       "      <td>1650.0</td>\n",
       "      <td>NaN</td>\n",
       "      <td>NaN</td>\n",
       "      <td>NaN</td>\n",
       "      <td>NaN</td>\n",
       "      <td>NaN</td>\n",
       "      <td>NaN</td>\n",
       "      <td>366037</td>\n",
       "      <td>59.90</td>\n",
       "      <td>2192.2</td>\n",
       "      <td>0.27</td>\n",
       "    </tr>\n",
       "    <tr>\n",
       "      <th>1532</th>\n",
       "      <td>2009</td>\n",
       "      <td>8.0</td>\n",
       "      <td>South Dakota</td>\n",
       "      <td>SD</td>\n",
       "      <td>RFC</td>\n",
       "      <td>West North Central</td>\n",
       "      <td>0.5</td>\n",
       "      <td>islanding</td>\n",
       "      <td>NaN</td>\n",
       "      <td>-1.185060</td>\n",
       "      <td>Saturday, August 29, 2009 22:54:00</td>\n",
       "      <td>Saturday, August 29, 2009 23:53:00</td>\n",
       "      <td>59.0</td>\n",
       "      <td>84.0</td>\n",
       "      <td>NaN</td>\n",
       "      <td>-1.185060</td>\n",
       "      <td>-1.165702</td>\n",
       "      <td>-1.159544</td>\n",
       "      <td>7.67</td>\n",
       "      <td>924051.0</td>\n",
       "      <td>436229</td>\n",
       "      <td>56.65</td>\n",
       "      <td>2038.3</td>\n",
       "      <td>0.30</td>\n",
       "    </tr>\n",
       "    <tr>\n",
       "      <th>1533</th>\n",
       "      <td>2009</td>\n",
       "      <td>8.0</td>\n",
       "      <td>South Dakota</td>\n",
       "      <td>SD</td>\n",
       "      <td>MRO</td>\n",
       "      <td>West North Central</td>\n",
       "      <td>0.5</td>\n",
       "      <td>islanding</td>\n",
       "      <td>NaN</td>\n",
       "      <td>-1.185060</td>\n",
       "      <td>Saturday, August 29, 2009 11:00:00</td>\n",
       "      <td>Saturday, August 29, 2009 14:01:00</td>\n",
       "      <td>181.0</td>\n",
       "      <td>373.0</td>\n",
       "      <td>NaN</td>\n",
       "      <td>-1.185060</td>\n",
       "      <td>-1.165702</td>\n",
       "      <td>-1.159544</td>\n",
       "      <td>7.67</td>\n",
       "      <td>924051.0</td>\n",
       "      <td>436229</td>\n",
       "      <td>56.65</td>\n",
       "      <td>2038.3</td>\n",
       "      <td>0.30</td>\n",
       "    </tr>\n",
       "    <tr>\n",
       "      <th>1534</th>\n",
       "      <td>2000</td>\n",
       "      <td>NaN</td>\n",
       "      <td>Alaska</td>\n",
       "      <td>AK</td>\n",
       "      <td>ASCC</td>\n",
       "      <td>NaN</td>\n",
       "      <td>NaN</td>\n",
       "      <td>equipment failure</td>\n",
       "      <td>failure</td>\n",
       "      <td>NaN</td>\n",
       "      <td>NaN</td>\n",
       "      <td>NaN</td>\n",
       "      <td>NaN</td>\n",
       "      <td>35.0</td>\n",
       "      <td>14273.0</td>\n",
       "      <td>NaN</td>\n",
       "      <td>NaN</td>\n",
       "      <td>NaN</td>\n",
       "      <td>NaN</td>\n",
       "      <td>NaN</td>\n",
       "      <td>273530</td>\n",
       "      <td>66.02</td>\n",
       "      <td>1802.6</td>\n",
       "      <td>0.05</td>\n",
       "    </tr>\n",
       "  </tbody>\n",
       "</table>\n",
       "<p>1534 rows × 24 columns</p>\n",
       "</div>"
      ],
      "text/plain": [
       "      YEAR  MONTH    U.S._STATE POSTAL.CODE NERC.REGION      CLIMATE.REGION  \\\n",
       "OBS                                                                           \n",
       "1     2011    7.0     Minnesota          MN         MRO  East North Central   \n",
       "2     2014    5.0     Minnesota          MN         MRO  East North Central   \n",
       "3     2010   10.0     Minnesota          MN         MRO  East North Central   \n",
       "4     2012    6.0     Minnesota          MN         MRO  East North Central   \n",
       "5     2015    7.0     Minnesota          MN         MRO  East North Central   \n",
       "...    ...    ...           ...         ...         ...                 ...   \n",
       "1530  2011   12.0  North Dakota          ND         MRO  West North Central   \n",
       "1531  2006    NaN  North Dakota          ND         MRO  West North Central   \n",
       "1532  2009    8.0  South Dakota          SD         RFC  West North Central   \n",
       "1533  2009    8.0  South Dakota          SD         MRO  West North Central   \n",
       "1534  2000    NaN        Alaska          AK        ASCC                 NaN   \n",
       "\n",
       "      ANOMALY.LEVEL         CAUSE.CATEGORY CAUSE.CATEGORY.DETAIL  RES.SALES  \\\n",
       "OBS                                                                           \n",
       "1              -0.3         severe weather                   NaN  -0.594363   \n",
       "2              -0.1     intentional attack             vandalism  -0.815220   \n",
       "3              -1.5         severe weather            heavy wind  -0.850659   \n",
       "4              -0.1         severe weather          thunderstorm  -0.736896   \n",
       "5               1.2         severe weather                   NaN  -0.684384   \n",
       "...             ...                    ...                   ...        ...   \n",
       "1530           -0.9          public appeal                   NaN  -1.140358   \n",
       "1531            NaN  fuel supply emergency                  Coal        NaN   \n",
       "1532            0.5              islanding                   NaN  -1.185060   \n",
       "1533            0.5              islanding                   NaN  -1.185060   \n",
       "1534            NaN      equipment failure               failure        NaN   \n",
       "\n",
       "                             OUTAGE.START  \\\n",
       "OBS                                         \n",
       "1          Friday, July 01, 2011 17:00:00   \n",
       "2           Sunday, May 11, 2014 18:38:00   \n",
       "3      Tuesday, October 26, 2010 20:00:00   \n",
       "4         Tuesday, June 19, 2012 04:30:00   \n",
       "5        Saturday, July 18, 2015 02:00:00   \n",
       "...                                   ...   \n",
       "1530  Tuesday, December 06, 2011 08:00:00   \n",
       "1531                                  NaN   \n",
       "1532   Saturday, August 29, 2009 22:54:00   \n",
       "1533   Saturday, August 29, 2009 11:00:00   \n",
       "1534                                  NaN   \n",
       "\n",
       "                       OUTAGE.RESTORATION  OUTAGE.DURATION  DEMAND.LOSS.MW  \\\n",
       "OBS                                                                          \n",
       "1          Sunday, July 03, 2011 20:00:00           3060.0             NaN   \n",
       "2           Sunday, May 11, 2014 18:39:00              1.0             NaN   \n",
       "3     Thursday, October 28, 2010 22:00:00           3000.0             NaN   \n",
       "4       Wednesday, June 20, 2012 23:00:00           2550.0             NaN   \n",
       "5          Sunday, July 19, 2015 07:00:00           1740.0           250.0   \n",
       "...                                   ...              ...             ...   \n",
       "1530  Tuesday, December 06, 2011 20:00:00            720.0           155.0   \n",
       "1531                                  NaN              NaN          1650.0   \n",
       "1532   Saturday, August 29, 2009 23:53:00             59.0            84.0   \n",
       "1533   Saturday, August 29, 2009 14:01:00            181.0           373.0   \n",
       "1534                                  NaN              NaN            35.0   \n",
       "\n",
       "      CUSTOMERS.AFFECTED  RES.SALES  IND.SALES  COM.SALES  TOTAL.PRICE  \\\n",
       "OBS                                                                      \n",
       "1                70000.0  -0.594363  -0.308476  -0.660847         9.28   \n",
       "2                    NaN  -0.815220  -0.410267  -0.748638         9.28   \n",
       "3                70000.0  -0.850659  -0.381646  -0.750375         8.15   \n",
       "4                68200.0  -0.736896  -0.362797  -0.710488         9.19   \n",
       "5               250000.0  -0.684384  -0.459947  -0.647453        10.43   \n",
       "...                  ...        ...        ...        ...          ...   \n",
       "1530             34500.0  -1.140358  -1.088336  -1.140282         7.56   \n",
       "1531                 NaN        NaN        NaN        NaN          NaN   \n",
       "1532                 NaN  -1.185060  -1.165702  -1.159544         7.67   \n",
       "1533                 NaN  -1.185060  -1.165702  -1.159544         7.67   \n",
       "1534             14273.0        NaN        NaN        NaN          NaN   \n",
       "\n",
       "      TOTAL.SALES  TOTAL.CUSTOMERS  POPPCT_URBAN  POPDEN_URBAN  AREAPCT_URBAN  \n",
       "OBS                                                                            \n",
       "1       6562520.0          2595696         73.27        2279.0           2.14  \n",
       "2       5284231.0          2640737         73.27        2279.0           2.14  \n",
       "3       5222116.0          2586905         73.27        2279.0           2.14  \n",
       "4       5787064.0          2606813         73.27        2279.0           2.14  \n",
       "5       5970339.0          2673531         73.27        2279.0           2.14  \n",
       "...           ...              ...           ...           ...            ...  \n",
       "1530    1313678.0           394394         59.90        2192.2           0.27  \n",
       "1531          NaN           366037         59.90        2192.2           0.27  \n",
       "1532     924051.0           436229         56.65        2038.3           0.30  \n",
       "1533     924051.0           436229         56.65        2038.3           0.30  \n",
       "1534          NaN           273530         66.02        1802.6           0.05  \n",
       "\n",
       "[1534 rows x 24 columns]"
      ]
     },
     "execution_count": 13,
     "metadata": {},
     "output_type": "execute_result"
    }
   ],
   "source": [
    "relevant['RES.SALES'] = standardize(data, 'RES.SALES')\n",
    "relevant['IND.SALES'] = standardize(data, 'IND.SALES')\n",
    "relevant['COM.SALES'] = standardize(data, 'COM.SALES')\n",
    "relevant"
   ]
  },
  {
   "cell_type": "code",
   "execution_count": 14,
   "metadata": {},
   "outputs": [
    {
     "name": "stdout",
     "output_type": "stream",
     "text": [
      "| MONTH   | U.S._STATE   | CAUSE.CATEGORY     | OUTAGE.START                       |   IND.SALES |   COM.SALES |\n",
      "|:--------|:-------------|:-------------------|:-----------------------------------|------------:|------------:|\n",
      "| Jul     | Minnesota    | severe weather     | Friday, July 01, 2011 17:00:00     |   -0.308476 |   -0.660847 |\n",
      "| May     | Minnesota    | intentional attack | Sunday, May 11, 2014 18:38:00      |   -0.410267 |   -0.748638 |\n",
      "| Oct     | Minnesota    | severe weather     | Tuesday, October 26, 2010 20:00:00 |   -0.381646 |   -0.750375 |\n",
      "| Jun     | Minnesota    | severe weather     | Tuesday, June 19, 2012 04:30:00    |   -0.362797 |   -0.710488 |\n",
      "| Jul     | Minnesota    | severe weather     | Saturday, July 18, 2015 02:00:00   |   -0.459947 |   -0.647453 |\n"
     ]
    }
   ],
   "source": [
    "relevant = relevant.copy()\n",
    "relevant['MONTH'] = pd.to_datetime(data['MONTH'], format='%m').dt.month_name().str.slice(stop=3)\n",
    "print(relevant[['MONTH', 'U.S._STATE', 'CAUSE.CATEGORY', 'OUTAGE.START', 'IND.SALES', 'COM.SALES']].head().to_markdown(index=False))"
   ]
  },
  {
   "cell_type": "code",
   "execution_count": null,
   "metadata": {},
   "outputs": [],
   "source": []
  },
  {
   "cell_type": "markdown",
   "metadata": {},
   "source": [
    "Now that our data is cleaned up, let's explore variables that would have\n",
    "correlation to power outages"
   ]
  },
  {
   "cell_type": "code",
   "execution_count": 15,
   "metadata": {},
   "outputs": [
    {
     "data": {
      "text/html": [
       "<div>\n",
       "<style scoped>\n",
       "    .dataframe tbody tr th:only-of-type {\n",
       "        vertical-align: middle;\n",
       "    }\n",
       "\n",
       "    .dataframe tbody tr th {\n",
       "        vertical-align: top;\n",
       "    }\n",
       "\n",
       "    .dataframe thead th {\n",
       "        text-align: right;\n",
       "    }\n",
       "</style>\n",
       "<table border=\"1\" class=\"dataframe\">\n",
       "  <thead>\n",
       "    <tr style=\"text-align: right;\">\n",
       "      <th></th>\n",
       "      <th>U.S._STATE</th>\n",
       "      <th>YEAR</th>\n",
       "    </tr>\n",
       "  </thead>\n",
       "  <tbody>\n",
       "    <tr>\n",
       "      <th>0</th>\n",
       "      <td>Alabama</td>\n",
       "      <td>6</td>\n",
       "    </tr>\n",
       "    <tr>\n",
       "      <th>1</th>\n",
       "      <td>Alaska</td>\n",
       "      <td>1</td>\n",
       "    </tr>\n",
       "    <tr>\n",
       "      <th>2</th>\n",
       "      <td>Arizona</td>\n",
       "      <td>28</td>\n",
       "    </tr>\n",
       "    <tr>\n",
       "      <th>3</th>\n",
       "      <td>Arkansas</td>\n",
       "      <td>25</td>\n",
       "    </tr>\n",
       "    <tr>\n",
       "      <th>4</th>\n",
       "      <td>California</td>\n",
       "      <td>210</td>\n",
       "    </tr>\n",
       "    <tr>\n",
       "      <th>5</th>\n",
       "      <td>Colorado</td>\n",
       "      <td>15</td>\n",
       "    </tr>\n",
       "    <tr>\n",
       "      <th>6</th>\n",
       "      <td>Connecticut</td>\n",
       "      <td>18</td>\n",
       "    </tr>\n",
       "    <tr>\n",
       "      <th>7</th>\n",
       "      <td>Delaware</td>\n",
       "      <td>41</td>\n",
       "    </tr>\n",
       "    <tr>\n",
       "      <th>8</th>\n",
       "      <td>District of Columbia</td>\n",
       "      <td>10</td>\n",
       "    </tr>\n",
       "    <tr>\n",
       "      <th>9</th>\n",
       "      <td>Florida</td>\n",
       "      <td>45</td>\n",
       "    </tr>\n",
       "    <tr>\n",
       "      <th>10</th>\n",
       "      <td>Georgia</td>\n",
       "      <td>17</td>\n",
       "    </tr>\n",
       "    <tr>\n",
       "      <th>11</th>\n",
       "      <td>Hawaii</td>\n",
       "      <td>5</td>\n",
       "    </tr>\n",
       "    <tr>\n",
       "      <th>12</th>\n",
       "      <td>Idaho</td>\n",
       "      <td>9</td>\n",
       "    </tr>\n",
       "    <tr>\n",
       "      <th>13</th>\n",
       "      <td>Illinois</td>\n",
       "      <td>46</td>\n",
       "    </tr>\n",
       "    <tr>\n",
       "      <th>14</th>\n",
       "      <td>Indiana</td>\n",
       "      <td>43</td>\n",
       "    </tr>\n",
       "    <tr>\n",
       "      <th>15</th>\n",
       "      <td>Iowa</td>\n",
       "      <td>8</td>\n",
       "    </tr>\n",
       "    <tr>\n",
       "      <th>16</th>\n",
       "      <td>Kansas</td>\n",
       "      <td>9</td>\n",
       "    </tr>\n",
       "    <tr>\n",
       "      <th>17</th>\n",
       "      <td>Kentucky</td>\n",
       "      <td>13</td>\n",
       "    </tr>\n",
       "    <tr>\n",
       "      <th>18</th>\n",
       "      <td>Louisiana</td>\n",
       "      <td>40</td>\n",
       "    </tr>\n",
       "    <tr>\n",
       "      <th>19</th>\n",
       "      <td>Maine</td>\n",
       "      <td>19</td>\n",
       "    </tr>\n",
       "    <tr>\n",
       "      <th>20</th>\n",
       "      <td>Maryland</td>\n",
       "      <td>58</td>\n",
       "    </tr>\n",
       "    <tr>\n",
       "      <th>21</th>\n",
       "      <td>Massachusetts</td>\n",
       "      <td>18</td>\n",
       "    </tr>\n",
       "    <tr>\n",
       "      <th>22</th>\n",
       "      <td>Michigan</td>\n",
       "      <td>95</td>\n",
       "    </tr>\n",
       "    <tr>\n",
       "      <th>23</th>\n",
       "      <td>Minnesota</td>\n",
       "      <td>15</td>\n",
       "    </tr>\n",
       "    <tr>\n",
       "      <th>24</th>\n",
       "      <td>Mississippi</td>\n",
       "      <td>4</td>\n",
       "    </tr>\n",
       "    <tr>\n",
       "      <th>25</th>\n",
       "      <td>Missouri</td>\n",
       "      <td>17</td>\n",
       "    </tr>\n",
       "    <tr>\n",
       "      <th>26</th>\n",
       "      <td>Montana</td>\n",
       "      <td>3</td>\n",
       "    </tr>\n",
       "    <tr>\n",
       "      <th>27</th>\n",
       "      <td>Nebraska</td>\n",
       "      <td>4</td>\n",
       "    </tr>\n",
       "    <tr>\n",
       "      <th>28</th>\n",
       "      <td>Nevada</td>\n",
       "      <td>7</td>\n",
       "    </tr>\n",
       "    <tr>\n",
       "      <th>29</th>\n",
       "      <td>New Hampshire</td>\n",
       "      <td>14</td>\n",
       "    </tr>\n",
       "    <tr>\n",
       "      <th>30</th>\n",
       "      <td>New Jersey</td>\n",
       "      <td>35</td>\n",
       "    </tr>\n",
       "    <tr>\n",
       "      <th>31</th>\n",
       "      <td>New Mexico</td>\n",
       "      <td>8</td>\n",
       "    </tr>\n",
       "    <tr>\n",
       "      <th>32</th>\n",
       "      <td>New York</td>\n",
       "      <td>71</td>\n",
       "    </tr>\n",
       "    <tr>\n",
       "      <th>33</th>\n",
       "      <td>North Carolina</td>\n",
       "      <td>40</td>\n",
       "    </tr>\n",
       "    <tr>\n",
       "      <th>34</th>\n",
       "      <td>North Dakota</td>\n",
       "      <td>2</td>\n",
       "    </tr>\n",
       "    <tr>\n",
       "      <th>35</th>\n",
       "      <td>Ohio</td>\n",
       "      <td>43</td>\n",
       "    </tr>\n",
       "    <tr>\n",
       "      <th>36</th>\n",
       "      <td>Oklahoma</td>\n",
       "      <td>24</td>\n",
       "    </tr>\n",
       "    <tr>\n",
       "      <th>37</th>\n",
       "      <td>Oregon</td>\n",
       "      <td>26</td>\n",
       "    </tr>\n",
       "    <tr>\n",
       "      <th>38</th>\n",
       "      <td>Pennsylvania</td>\n",
       "      <td>57</td>\n",
       "    </tr>\n",
       "    <tr>\n",
       "      <th>39</th>\n",
       "      <td>South Carolina</td>\n",
       "      <td>8</td>\n",
       "    </tr>\n",
       "    <tr>\n",
       "      <th>40</th>\n",
       "      <td>South Dakota</td>\n",
       "      <td>2</td>\n",
       "    </tr>\n",
       "    <tr>\n",
       "      <th>41</th>\n",
       "      <td>Tennessee</td>\n",
       "      <td>34</td>\n",
       "    </tr>\n",
       "    <tr>\n",
       "      <th>42</th>\n",
       "      <td>Texas</td>\n",
       "      <td>127</td>\n",
       "    </tr>\n",
       "    <tr>\n",
       "      <th>43</th>\n",
       "      <td>Utah</td>\n",
       "      <td>41</td>\n",
       "    </tr>\n",
       "    <tr>\n",
       "      <th>44</th>\n",
       "      <td>Vermont</td>\n",
       "      <td>9</td>\n",
       "    </tr>\n",
       "    <tr>\n",
       "      <th>45</th>\n",
       "      <td>Virginia</td>\n",
       "      <td>37</td>\n",
       "    </tr>\n",
       "    <tr>\n",
       "      <th>46</th>\n",
       "      <td>Washington</td>\n",
       "      <td>97</td>\n",
       "    </tr>\n",
       "    <tr>\n",
       "      <th>47</th>\n",
       "      <td>West Virginia</td>\n",
       "      <td>4</td>\n",
       "    </tr>\n",
       "    <tr>\n",
       "      <th>48</th>\n",
       "      <td>Wisconsin</td>\n",
       "      <td>20</td>\n",
       "    </tr>\n",
       "    <tr>\n",
       "      <th>49</th>\n",
       "      <td>Wyoming</td>\n",
       "      <td>6</td>\n",
       "    </tr>\n",
       "  </tbody>\n",
       "</table>\n",
       "</div>"
      ],
      "text/plain": [
       "              U.S._STATE  YEAR\n",
       "0                Alabama     6\n",
       "1                 Alaska     1\n",
       "2                Arizona    28\n",
       "3               Arkansas    25\n",
       "4             California   210\n",
       "5               Colorado    15\n",
       "6            Connecticut    18\n",
       "7               Delaware    41\n",
       "8   District of Columbia    10\n",
       "9                Florida    45\n",
       "10               Georgia    17\n",
       "11                Hawaii     5\n",
       "12                 Idaho     9\n",
       "13              Illinois    46\n",
       "14               Indiana    43\n",
       "15                  Iowa     8\n",
       "16                Kansas     9\n",
       "17              Kentucky    13\n",
       "18             Louisiana    40\n",
       "19                 Maine    19\n",
       "20              Maryland    58\n",
       "21         Massachusetts    18\n",
       "22              Michigan    95\n",
       "23             Minnesota    15\n",
       "24           Mississippi     4\n",
       "25              Missouri    17\n",
       "26               Montana     3\n",
       "27              Nebraska     4\n",
       "28                Nevada     7\n",
       "29         New Hampshire    14\n",
       "30            New Jersey    35\n",
       "31            New Mexico     8\n",
       "32              New York    71\n",
       "33        North Carolina    40\n",
       "34          North Dakota     2\n",
       "35                  Ohio    43\n",
       "36              Oklahoma    24\n",
       "37                Oregon    26\n",
       "38          Pennsylvania    57\n",
       "39        South Carolina     8\n",
       "40          South Dakota     2\n",
       "41             Tennessee    34\n",
       "42                 Texas   127\n",
       "43                  Utah    41\n",
       "44               Vermont     9\n",
       "45              Virginia    37\n",
       "46            Washington    97\n",
       "47         West Virginia     4\n",
       "48             Wisconsin    20\n",
       "49               Wyoming     6"
      ]
     },
     "execution_count": 15,
     "metadata": {},
     "output_type": "execute_result"
    }
   ],
   "source": [
    "outages_per_state = relevant.groupby('U.S._STATE')['YEAR'].count().reset_index()\n",
    "outages_per_state"
   ]
  },
  {
   "cell_type": "code",
   "execution_count": 16,
   "metadata": {},
   "outputs": [
    {
     "data": {
      "text/html": [
       "<div style=\"width:100%;\"><div style=\"position:relative;width:100%;height:0;padding-bottom:60%;\"><span style=\"color:#565656\">Make this Notebook Trusted to load map: File -> Trust Notebook</span><iframe srcdoc=\"&lt;!DOCTYPE html&gt;\n",
       "&lt;html&gt;\n",
       "&lt;head&gt;\n",
       "    \n",
       "    &lt;meta http-equiv=&quot;content-type&quot; content=&quot;text/html; charset=UTF-8&quot; /&gt;\n",
       "    \n",
       "        &lt;script&gt;\n",
       "            L_NO_TOUCH = false;\n",
       "            L_DISABLE_3D = false;\n",
       "        &lt;/script&gt;\n",
       "    \n",
       "    &lt;style&gt;html, body {width: 100%;height: 100%;margin: 0;padding: 0;}&lt;/style&gt;\n",
       "    &lt;style&gt;#map {position:absolute;top:0;bottom:0;right:0;left:0;}&lt;/style&gt;\n",
       "    &lt;script src=&quot;https://cdn.jsdelivr.net/npm/leaflet@1.9.3/dist/leaflet.js&quot;&gt;&lt;/script&gt;\n",
       "    &lt;script src=&quot;https://code.jquery.com/jquery-3.7.1.min.js&quot;&gt;&lt;/script&gt;\n",
       "    &lt;script src=&quot;https://cdn.jsdelivr.net/npm/bootstrap@5.2.2/dist/js/bootstrap.bundle.min.js&quot;&gt;&lt;/script&gt;\n",
       "    &lt;script src=&quot;https://cdnjs.cloudflare.com/ajax/libs/Leaflet.awesome-markers/2.0.2/leaflet.awesome-markers.js&quot;&gt;&lt;/script&gt;\n",
       "    &lt;link rel=&quot;stylesheet&quot; href=&quot;https://cdn.jsdelivr.net/npm/leaflet@1.9.3/dist/leaflet.css&quot;/&gt;\n",
       "    &lt;link rel=&quot;stylesheet&quot; href=&quot;https://cdn.jsdelivr.net/npm/bootstrap@5.2.2/dist/css/bootstrap.min.css&quot;/&gt;\n",
       "    &lt;link rel=&quot;stylesheet&quot; href=&quot;https://netdna.bootstrapcdn.com/bootstrap/3.0.0/css/bootstrap-glyphicons.css&quot;/&gt;\n",
       "    &lt;link rel=&quot;stylesheet&quot; href=&quot;https://cdn.jsdelivr.net/npm/@fortawesome/fontawesome-free@6.2.0/css/all.min.css&quot;/&gt;\n",
       "    &lt;link rel=&quot;stylesheet&quot; href=&quot;https://cdnjs.cloudflare.com/ajax/libs/Leaflet.awesome-markers/2.0.2/leaflet.awesome-markers.css&quot;/&gt;\n",
       "    &lt;link rel=&quot;stylesheet&quot; href=&quot;https://cdn.jsdelivr.net/gh/python-visualization/folium/folium/templates/leaflet.awesome.rotate.min.css&quot;/&gt;\n",
       "    \n",
       "            &lt;meta name=&quot;viewport&quot; content=&quot;width=device-width,\n",
       "                initial-scale=1.0, maximum-scale=1.0, user-scalable=no&quot; /&gt;\n",
       "            &lt;style&gt;\n",
       "                #map_7d8378634aae1cab5cf2c5df33058111 {\n",
       "                    position: relative;\n",
       "                    width: 100.0%;\n",
       "                    height: 100.0%;\n",
       "                    left: 0.0%;\n",
       "                    top: 0.0%;\n",
       "                }\n",
       "                .leaflet-container { font-size: 1rem; }\n",
       "            &lt;/style&gt;\n",
       "        \n",
       "    &lt;script src=&quot;https://cdnjs.cloudflare.com/ajax/libs/d3/3.5.5/d3.min.js&quot;&gt;&lt;/script&gt;\n",
       "&lt;/head&gt;\n",
       "&lt;body&gt;\n",
       "    \n",
       "    \n",
       "            &lt;div class=&quot;folium-map&quot; id=&quot;map_7d8378634aae1cab5cf2c5df33058111&quot; &gt;&lt;/div&gt;\n",
       "        \n",
       "&lt;/body&gt;\n",
       "&lt;script&gt;\n",
       "    \n",
       "    \n",
       "            var map_7d8378634aae1cab5cf2c5df33058111 = L.map(\n",
       "                &quot;map_7d8378634aae1cab5cf2c5df33058111&quot;,\n",
       "                {\n",
       "                    center: [37.8, -96.0],\n",
       "                    crs: L.CRS.EPSG3857,\n",
       "                    zoom: 5,\n",
       "                    zoomControl: true,\n",
       "                    preferCanvas: false,\n",
       "                }\n",
       "            );\n",
       "\n",
       "            \n",
       "\n",
       "        \n",
       "    \n",
       "            var tile_layer_65c78e2e2714607366320c4866006f8a = L.tileLayer(\n",
       "                &quot;https://tile.openstreetmap.org/{z}/{x}/{y}.png&quot;,\n",
       "                {&quot;attribution&quot;: &quot;\\u0026copy; \\u003ca href=\\&quot;https://www.openstreetmap.org/copyright\\&quot;\\u003eOpenStreetMap\\u003c/a\\u003e contributors&quot;, &quot;detectRetina&quot;: false, &quot;maxNativeZoom&quot;: 19, &quot;maxZoom&quot;: 19, &quot;minZoom&quot;: 0, &quot;noWrap&quot;: false, &quot;opacity&quot;: 1, &quot;subdomains&quot;: &quot;abc&quot;, &quot;tms&quot;: false}\n",
       "            );\n",
       "        \n",
       "    \n",
       "            tile_layer_65c78e2e2714607366320c4866006f8a.addTo(map_7d8378634aae1cab5cf2c5df33058111);\n",
       "        \n",
       "    \n",
       "            var choropleth_f2fbf0efe916d292e02d9835a902b0da = L.featureGroup(\n",
       "                {}\n",
       "            );\n",
       "        \n",
       "    \n",
       "        function geo_json_63f91bcc6d9c4962da572d380c0c4639_styler(feature) {\n",
       "            switch(feature.id) {\n",
       "                case &quot;01&quot;: case &quot;02&quot;: case &quot;04&quot;: case &quot;05&quot;: case &quot;08&quot;: case &quot;09&quot;: case &quot;11&quot;: case &quot;13&quot;: case &quot;15&quot;: case &quot;16&quot;: case &quot;19&quot;: case &quot;20&quot;: case &quot;21&quot;: case &quot;23&quot;: case &quot;25&quot;: case &quot;27&quot;: case &quot;28&quot;: case &quot;29&quot;: case &quot;30&quot;: case &quot;31&quot;: case &quot;32&quot;: case &quot;33&quot;: case &quot;34&quot;: case &quot;35&quot;: case &quot;38&quot;: case &quot;40&quot;: case &quot;41&quot;: case &quot;45&quot;: case &quot;46&quot;: case &quot;47&quot;: case &quot;50&quot;: case &quot;54&quot;: case &quot;55&quot;: case &quot;56&quot;: \n",
       "                    return {&quot;color&quot;: &quot;black&quot;, &quot;fillColor&quot;: &quot;#ffffb2&quot;, &quot;fillOpacity&quot;: 0.7, &quot;opacity&quot;: 0.2, &quot;weight&quot;: 1};\n",
       "                case &quot;06&quot;: \n",
       "                    return {&quot;color&quot;: &quot;black&quot;, &quot;fillColor&quot;: &quot;#bd0026&quot;, &quot;fillOpacity&quot;: 0.7, &quot;opacity&quot;: 0.2, &quot;weight&quot;: 1};\n",
       "                case &quot;10&quot;: case &quot;12&quot;: case &quot;17&quot;: case &quot;18&quot;: case &quot;22&quot;: case &quot;24&quot;: case &quot;37&quot;: case &quot;39&quot;: case &quot;42&quot;: case &quot;49&quot;: case &quot;51&quot;: \n",
       "                    return {&quot;color&quot;: &quot;black&quot;, &quot;fillColor&quot;: &quot;#fed976&quot;, &quot;fillOpacity&quot;: 0.7, &quot;opacity&quot;: 0.2, &quot;weight&quot;: 1};\n",
       "                case &quot;26&quot;: case &quot;36&quot;: case &quot;53&quot;: \n",
       "                    return {&quot;color&quot;: &quot;black&quot;, &quot;fillColor&quot;: &quot;#feb24c&quot;, &quot;fillOpacity&quot;: 0.7, &quot;opacity&quot;: 0.2, &quot;weight&quot;: 1};\n",
       "                case &quot;44&quot;: case &quot;72&quot;: \n",
       "                    return {&quot;color&quot;: &quot;black&quot;, &quot;fillColor&quot;: &quot;black&quot;, &quot;fillOpacity&quot;: 0.7, &quot;opacity&quot;: 0.2, &quot;weight&quot;: 1};\n",
       "                default:\n",
       "                    return {&quot;color&quot;: &quot;black&quot;, &quot;fillColor&quot;: &quot;#fd8d3c&quot;, &quot;fillOpacity&quot;: 0.7, &quot;opacity&quot;: 0.2, &quot;weight&quot;: 1};\n",
       "            }\n",
       "        }\n",
       "\n",
       "        function geo_json_63f91bcc6d9c4962da572d380c0c4639_onEachFeature(feature, layer) {\n",
       "            layer.on({\n",
       "            });\n",
       "        };\n",
       "        var geo_json_63f91bcc6d9c4962da572d380c0c4639 = L.geoJson(null, {\n",
       "                onEachFeature: geo_json_63f91bcc6d9c4962da572d380c0c4639_onEachFeature,\n",
       "            \n",
       "                style: geo_json_63f91bcc6d9c4962da572d380c0c4639_styler,\n",
       "        });\n",
       "\n",
       "        function geo_json_63f91bcc6d9c4962da572d380c0c4639_add (data) {\n",
       "            geo_json_63f91bcc6d9c4962da572d380c0c4639\n",
       "                .addData(data);\n",
       "        }\n",
       "            geo_json_63f91bcc6d9c4962da572d380c0c4639_add({&quot;features&quot;: [{&quot;geometry&quot;: {&quot;coordinates&quot;: [[[-87.359296, 35.00118], [-85.606675, 34.984749], [-85.431413, 34.124869], [-85.184951, 32.859696], [-85.069935, 32.580372], [-84.960397, 32.421541], [-85.004212, 32.322956], [-84.889196, 32.262709], [-85.058981, 32.13674], [-85.053504, 32.01077], [-85.141136, 31.840985], [-85.042551, 31.539753], [-85.113751, 31.27686], [-85.004212, 31.003013], [-85.497137, 30.997536], [-87.600282, 30.997536], [-87.633143, 30.86609], [-87.408589, 30.674397], [-87.446927, 30.510088], [-87.37025, 30.427934], [-87.518128, 30.280057], [-87.655051, 30.247195], [-87.90699, 30.411504], [-87.934375, 30.657966], [-88.011052, 30.685351], [-88.10416, 30.499135], [-88.137022, 30.318396], [-88.394438, 30.367688], [-88.471115, 31.895754], [-88.241084, 33.796253], [-88.098683, 34.891641], [-88.202745, 34.995703], [-87.359296, 35.00118]]], &quot;type&quot;: &quot;Polygon&quot;}, &quot;id&quot;: &quot;01&quot;, &quot;properties&quot;: {&quot;density&quot;: 94.65, &quot;name&quot;: &quot;Alabama&quot;}, &quot;type&quot;: &quot;Feature&quot;}, {&quot;geometry&quot;: {&quot;coordinates&quot;: [[[[-131.602021, 55.117982], [-131.569159, 55.28229], [-131.355558, 55.183705], [-131.38842, 55.01392], [-131.645836, 55.035827], [-131.602021, 55.117982]]], [[[-131.832052, 55.42469], [-131.645836, 55.304197], [-131.749898, 55.128935], [-131.832052, 55.189182], [-131.832052, 55.42469]]], [[[-132.976733, 56.437924], [-132.735747, 56.459832], [-132.631685, 56.421493], [-132.664547, 56.273616], [-132.878148, 56.240754], [-133.069841, 56.333862], [-132.976733, 56.437924]]], [[[-133.595627, 56.350293], [-133.162949, 56.317431], [-133.05341, 56.125739], [-132.620732, 55.912138], [-132.472854, 55.780691], [-132.4619, 55.671152], [-132.357838, 55.649245], [-132.341408, 55.506844], [-132.166146, 55.364444], [-132.144238, 55.238474], [-132.029222, 55.276813], [-131.97993, 55.178228], [-131.958022, 54.789365], [-132.029222, 54.701734], [-132.308546, 54.718165], [-132.385223, 54.915335], [-132.483808, 54.898904], [-132.686455, 55.046781], [-132.746701, 54.997489], [-132.916486, 55.046781], [-132.889102, 54.898904], [-132.73027, 54.937242], [-132.626209, 54.882473], [-132.675501, 54.679826], [-132.867194, 54.701734], [-133.157472, 54.95915], [-133.239626, 55.090597], [-133.223195, 55.22752], [-133.453227, 55.216566], [-133.453227, 55.320628], [-133.277964, 55.331582], [-133.102702, 55.42469], [-133.17938, 55.588998], [-133.387503, 55.62186], [-133.420365, 55.884753], [-133.497042, 56.0162], [-133.639442, 55.923092], [-133.694212, 56.070969], [-133.546335, 56.142169], [-133.666827, 56.311955], [-133.595627, 56.350293]]], [[[-133.738027, 55.556137], [-133.546335, 55.490413], [-133.414888, 55.572568], [-133.283441, 55.534229], [-133.420365, 55.386352], [-133.633966, 55.430167], [-133.738027, 55.556137]]], [[[-133.907813, 56.930849], [-134.050213, 57.029434], [-133.885905, 57.095157], [-133.343688, 57.002049], [-133.102702, 57.007526], [-132.932917, 56.82131], [-132.620732, 56.667956], [-132.653593, 56.55294], [-132.817901, 56.492694], [-133.042456, 56.520078], [-133.201287, 56.448878], [-133.420365, 56.492694], [-133.66135, 56.448878], [-133.710643, 56.684386], [-133.688735, 56.837741], [-133.869474, 56.843218], [-133.907813, 56.930849]]], [[[-134.115936, 56.48174], [-134.25286, 56.558417], [-134.400737, 56.722725], [-134.417168, 56.848695], [-134.296675, 56.908941], [-134.170706, 56.848695], [-134.143321, 56.952757], [-133.748981, 56.772017], [-133.710643, 56.596755], [-133.847566, 56.574848], [-133.935197, 56.377678], [-133.836612, 56.322908], [-133.957105, 56.092877], [-134.110459, 56.142169], [-134.132367, 55.999769], [-134.230952, 56.070969], [-134.291198, 56.350293], [-134.115936, 56.48174]]], [[[-134.636246, 56.28457], [-134.669107, 56.169554], [-134.806031, 56.235277], [-135.178463, 56.67891], [-135.413971, 56.810356], [-135.331817, 56.914418], [-135.424925, 57.166357], [-135.687818, 57.369004], [-135.419448, 57.566174], [-135.298955, 57.48402], [-135.063447, 57.418296], [-134.849846, 57.407343], [-134.844369, 57.248511], [-134.636246, 56.728202], [-134.636246, 56.28457]]], [[[-134.712923, 58.223407], [-134.373353, 58.14673], [-134.176183, 58.157683], [-134.187137, 58.081006], [-133.902336, 57.807159], [-134.099505, 57.850975], [-134.148798, 57.757867], [-133.935197, 57.615466], [-133.869474, 57.363527], [-134.083075, 57.297804], [-134.154275, 57.210173], [-134.499322, 57.029434], [-134.603384, 57.034911], [-134.6472, 57.226604], [-134.575999, 57.341619], [-134.608861, 57.511404], [-134.729354, 57.719528], [-134.707446, 57.829067], [-134.784123, 58.097437], [-134.91557, 58.212453], [-134.953908, 58.409623], [-134.712923, 58.223407]]], [[[-135.857603, 57.330665], [-135.715203, 57.330665], [-135.567326, 57.149926], [-135.633049, 57.023957], [-135.857603, 56.996572], [-135.824742, 57.193742], [-135.857603, 57.330665]]], [[[-136.279328, 58.206976], [-135.978096, 58.201499], [-135.780926, 58.28913], [-135.496125, 58.168637], [-135.64948, 58.037191], [-135.59471, 57.987898], [-135.45231, 58.135776], [-135.107263, 58.086483], [-134.91557, 57.976944], [-135.025108, 57.779775], [-134.937477, 57.763344], [-134.822462, 57.500451], [-135.085355, 57.462112], [-135.572802, 57.675713], [-135.556372, 57.456635], [-135.709726, 57.369004], [-135.890465, 57.407343], [-136.000004, 57.544266], [-136.208128, 57.637374], [-136.366959, 57.829067], [-136.569606, 57.916698], [-136.558652, 58.075529], [-136.421728, 58.130299], [-136.377913, 58.267222], [-136.279328, 58.206976]]], [[[-147.079854, 60.200582], [-147.501579, 59.948643], [-147.53444, 59.850058], [-147.874011, 59.784335], [-147.80281, 59.937689], [-147.435855, 60.09652], [-147.205824, 60.271782], [-147.079854, 60.200582]]], [[[-147.561825, 60.578491], [-147.616594, 60.370367], [-147.758995, 60.156767], [-147.956165, 60.227967], [-147.791856, 60.474429], [-147.561825, 60.578491]]], [[[-147.786379, 70.245291], [-147.682318, 70.201475], [-147.162008, 70.15766], [-146.888161, 70.185044], [-146.510252, 70.185044], [-146.099482, 70.146706], [-145.858496, 70.168614], [-145.622988, 70.08646], [-145.195787, 69.993352], [-144.620708, 69.971444], [-144.461877, 70.026213], [-144.078491, 70.059075], [-143.914183, 70.130275], [-143.497935, 70.141229], [-143.503412, 70.091936], [-143.25695, 70.119321], [-142.747594, 70.042644], [-142.402547, 69.916674], [-142.079408, 69.856428], [-142.008207, 69.801659], [-141.712453, 69.790705], [-141.433129, 69.697597], [-141.378359, 69.63735], [-141.208574, 69.686643], [-141.00045, 69.648304], [-141.00045, 60.304644], [-140.53491, 60.22249], [-140.474664, 60.310121], [-139.987216, 60.184151], [-139.696939, 60.342983], [-139.088998, 60.359413], [-139.198537, 60.091043], [-139.045183, 59.997935], [-138.700135, 59.910304], [-138.623458, 59.767904], [-137.604747, 59.242118], [-137.445916, 58.908024], [-137.265177, 59.001132], [-136.827022, 59.159963], [-136.580559, 59.16544], [-136.465544, 59.285933], [-136.476498, 59.466672], [-136.301236, 59.466672], [-136.25742, 59.625503], [-135.945234, 59.663842], [-135.479694, 59.800766], [-135.025108, 59.565257], [-135.068924, 59.422857], [-134.959385, 59.280456], [-134.701969, 59.247595], [-134.378829, 59.033994], [-134.400737, 58.973748], [-134.25286, 58.858732], [-133.842089, 58.727285], [-133.173903, 58.152206], [-133.075318, 57.998852], [-132.867194, 57.845498], [-132.560485, 57.505928], [-132.253777, 57.21565], [-132.368792, 57.095157], [-132.05113, 57.051341], [-132.127807, 56.876079], [-131.870391, 56.804879], [-131.837529, 56.602232], [-131.580113, 56.613186], [-131.087188, 56.405062], [-130.78048, 56.366724], [-130.621648, 56.268139], [-130.468294, 56.240754], [-130.424478, 56.142169], [-130.101339, 56.114785], [-130.002754, 55.994292], [-130.150631, 55.769737], [-130.128724, 55.583521], [-129.986323, 55.276813], [-130.095862, 55.200136], [-130.336847, 54.920812], [-130.687372, 54.718165], [-130.785957, 54.822227], [-130.917403, 54.789365], [-131.010511, 54.997489], [-130.983126, 55.08512], [-131.092665, 55.189182], [-130.862634, 55.298721], [-130.928357, 55.337059], [-131.158389, 55.200136], [-131.284358, 55.287767], [-131.426759, 55.238474], [-131.843006, 55.457552], [-131.700606, 55.698537], [-131.963499, 55.616383], [-131.974453, 55.49589], [-132.182576, 55.588998], [-132.226392, 55.704014], [-132.083991, 55.829984], [-132.127807, 55.955953], [-132.324977, 55.851892], [-132.522147, 56.076446], [-132.642639, 56.032631], [-132.719317, 56.218847], [-132.527624, 56.339339], [-132.341408, 56.339339], [-132.396177, 56.487217], [-132.297592, 56.67891], [-132.450946, 56.673433], [-132.768609, 56.837741], [-132.993164, 57.034911], [-133.51895, 57.177311], [-133.507996, 57.577128], [-133.677781, 57.62642], [-133.639442, 57.790728], [-133.814705, 57.834544], [-134.072121, 58.053622], [-134.143321, 58.168637], [-134.586953, 58.206976], [-135.074401, 58.502731], [-135.282525, 59.192825], [-135.38111, 59.033994], [-135.337294, 58.891593], [-135.140124, 58.617746], [-135.189417, 58.573931], [-135.05797, 58.349376], [-135.085355, 58.201499], [-135.277048, 58.234361], [-135.430402, 58.398669], [-135.633049, 58.426053], [-135.91785, 58.382238], [-135.912373, 58.617746], [-136.087635, 58.814916], [-136.246466, 58.75467], [-136.876314, 58.962794], [-136.931084, 58.902547], [-136.586036, 58.836824], [-136.317666, 58.672516], [-136.213604, 58.667039], [-136.180743, 58.535592], [-136.043819, 58.382238], [-136.388867, 58.294607], [-136.591513, 58.349376], [-136.59699, 58.212453], [-136.859883, 58.316515], [-136.947514, 58.393192], [-137.111823, 58.393192], [-137.566409, 58.590362], [-137.900502, 58.765624], [-137.933364, 58.869686], [-138.11958, 59.02304], [-138.634412, 59.132579], [-138.919213, 59.247595], [-139.417615, 59.379041], [-139.746231, 59.505011], [-139.718846, 59.641934], [-139.625738, 59.598119], [-139.5162, 59.68575], [-139.625738, 59.88292], [-139.488815, 59.992458], [-139.554538, 60.041751], [-139.801, 59.833627], [-140.315833, 59.696704], [-140.92925, 59.745996], [-141.444083, 59.871966], [-141.46599, 59.970551], [-141.706976, 59.948643], [-141.964392, 60.019843], [-142.539471, 60.085566], [-142.873564, 60.091043], [-143.623905, 60.036274], [-143.892275, 59.997935], [-144.231845, 60.140336], [-144.65357, 60.206059], [-144.785016, 60.29369], [-144.834309, 60.441568], [-145.124586, 60.430614], [-145.223171, 60.299167], [-145.738004, 60.474429], [-145.820158, 60.551106], [-146.351421, 60.408706], [-146.608837, 60.238921], [-146.718376, 60.397752], [-146.608837, 60.485383], [-146.455483, 60.463475], [-145.951604, 60.578491], [-146.017328, 60.666122], [-146.252836, 60.622307], [-146.345944, 60.737322], [-146.565022, 60.753753], [-146.784099, 61.044031], [-146.866253, 60.972831], [-147.172962, 60.934492], [-147.271547, 60.972831], [-147.375609, 60.879723], [-147.758995, 60.912584], [-147.775426, 60.808523], [-148.032842, 60.781138], [-148.153334, 60.819476], [-148.065703, 61.005692], [-148.175242, 61.000215], [-148.350504, 60.803046], [-148.109519, 60.737322], [-148.087611, 60.594922], [-147.939734, 60.441568], [-148.027365, 60.277259], [-148.219058, 60.332029], [-148.273827, 60.249875], [-148.087611, 60.217013], [-147.983549, 59.997935], [-148.251919, 59.95412], [-148.399797, 59.997935], [-148.635305, 59.937689], [-148.755798, 59.986981], [-149.067984, 59.981505], [-149.05703, 60.063659], [-149.204907, 60.008889], [-149.287061, 59.904827], [-149.418508, 59.997935], [-149.582816, 59.866489], [-149.511616, 59.806242], [-149.741647, 59.729565], [-149.949771, 59.718611], [-150.031925, 59.61455], [-150.25648, 59.521442], [-150.409834, 59.554303], [-150.579619, 59.444764], [-150.716543, 59.450241], [-151.001343, 59.225687], [-151.308052, 59.209256], [-151.406637, 59.280456], [-151.592853, 59.159963], [-151.976239, 59.253071], [-151.888608, 59.422857], [-151.636669, 59.483103], [-151.47236, 59.472149], [-151.423068, 59.537872], [-151.127313, 59.669319], [-151.116359, 59.778858], [-151.505222, 59.63098], [-151.828361, 59.718611], [-151.8667, 59.778858], [-151.702392, 60.030797], [-151.423068, 60.211536], [-151.379252, 60.359413], [-151.297098, 60.386798], [-151.264237, 60.545629], [-151.406637, 60.720892], [-151.06159, 60.786615], [-150.404357, 61.038554], [-150.245526, 60.939969], [-150.042879, 60.912584], [-149.741647, 61.016646], [-150.075741, 61.15357], [-150.207187, 61.257632], [-150.47008, 61.246678], [-150.656296, 61.29597], [-150.711066, 61.252155], [-151.023251, 61.180954], [-151.165652, 61.044031], [-151.477837, 61.011169], [-151.800977, 60.852338], [-151.833838, 60.748276], [-152.080301, 60.693507], [-152.13507, 60.578491], [-152.310332, 60.507291], [-152.392486, 60.304644], [-152.732057, 60.173197], [-152.567748, 60.069136], [-152.704672, 59.915781], [-153.022334, 59.888397], [-153.049719, 59.691227], [-153.345474, 59.620026], [-153.438582, 59.702181], [-153.586459, 59.548826], [-153.761721, 59.543349], [-153.72886, 59.433811], [-154.117723, 59.368087], [-154.1944, 59.066856], [-153.750768, 59.050425], [-153.400243, 58.968271], [-153.301658, 58.869686], [-153.444059, 58.710854], [-153.679567, 58.612269], [-153.898645, 58.606793], [-153.920553, 58.519161], [-154.062953, 58.4863], [-153.99723, 58.376761], [-154.145107, 58.212453], [-154.46277, 58.059098], [-154.643509, 58.059098], [-154.818771, 58.004329], [-154.988556, 58.015283], [-155.120003, 57.955037], [-155.081664, 57.872883], [-155.328126, 57.829067], [-155.377419, 57.708574], [-155.547204, 57.785251], [-155.73342, 57.549743], [-156.045606, 57.566174], [-156.023698, 57.440204], [-156.209914, 57.473066], [-156.34136, 57.418296], [-156.34136, 57.248511], [-156.549484, 56.985618], [-156.883577, 56.952757], [-157.157424, 56.832264], [-157.20124, 56.766541], [-157.376502, 56.859649], [-157.672257, 56.607709], [-157.754411, 56.67891], [-157.918719, 56.657002], [-157.957058, 56.514601], [-158.126843, 56.459832], [-158.32949, 56.48174], [-158.488321, 56.339339], [-158.208997, 56.295524], [-158.510229, 55.977861], [-159.375585, 55.873799], [-159.616571, 55.594475], [-159.676817, 55.654722], [-159.643955, 55.829984], [-159.813741, 55.857368], [-160.027341, 55.791645], [-160.060203, 55.720445], [-160.394296, 55.605429], [-160.536697, 55.473983], [-160.580512, 55.567091], [-160.668143, 55.457552], [-160.865313, 55.528752], [-161.232268, 55.358967], [-161.506115, 55.364444], [-161.467776, 55.49589], [-161.588269, 55.62186], [-161.697808, 55.517798], [-161.686854, 55.408259], [-162.053809, 55.074166], [-162.179779, 55.15632], [-162.218117, 55.03035], [-162.470057, 55.052258], [-162.508395, 55.249428], [-162.661749, 55.293244], [-162.716519, 55.222043], [-162.579595, 55.134412], [-162.645319, 54.997489], [-162.847965, 54.926289], [-163.00132, 55.079643], [-163.187536, 55.090597], [-163.220397, 55.03035], [-163.034181, 54.942719], [-163.373752, 54.800319], [-163.14372, 54.76198], [-163.138243, 54.696257], [-163.329936, 54.74555], [-163.587352, 54.614103], [-164.085754, 54.61958], [-164.332216, 54.531949], [-164.354124, 54.466226], [-164.638925, 54.389548], [-164.847049, 54.416933], [-164.918249, 54.603149], [-164.710125, 54.663395], [-164.551294, 54.88795], [-164.34317, 54.893427], [-163.894061, 55.041304], [-163.532583, 55.046781], [-163.39566, 54.904381], [-163.291598, 55.008443], [-163.313505, 55.128935], [-163.105382, 55.183705], [-162.880827, 55.183705], [-162.579595, 55.446598], [-162.245502, 55.682106], [-161.807347, 55.89023], [-161.292514, 55.983338], [-161.078914, 55.939523], [-160.87079, 55.999769], [-160.816021, 55.912138], [-160.931036, 55.813553], [-160.805067, 55.736876], [-160.766728, 55.857368], [-160.509312, 55.868322], [-160.438112, 55.791645], [-160.27928, 55.76426], [-160.273803, 55.857368], [-160.536697, 55.939523], [-160.558604, 55.994292], [-160.383342, 56.251708], [-160.147834, 56.399586], [-159.830171, 56.541986], [-159.326293, 56.667956], [-158.959338, 56.848695], [-158.784076, 56.782971], [-158.641675, 56.810356], [-158.701922, 56.925372], [-158.658106, 57.034911], [-158.378782, 57.264942], [-157.995396, 57.41282], [-157.688688, 57.609989], [-157.705118, 57.719528], [-157.458656, 58.497254], [-157.07527, 58.705377], [-157.119086, 58.869686], [-158.039212, 58.634177], [-158.32949, 58.661562], [-158.40069, 58.760147], [-158.564998, 58.803962], [-158.619768, 58.913501], [-158.767645, 58.864209], [-158.860753, 58.694424], [-158.701922, 58.480823], [-158.893615, 58.387715], [-159.0634, 58.420577], [-159.392016, 58.760147], [-159.616571, 58.929932], [-159.731586, 58.929932], [-159.808264, 58.803962], [-159.906848, 58.782055], [-160.054726, 58.886116], [-160.235465, 58.902547], [-160.317619, 59.072332], [-160.854359, 58.88064], [-161.33633, 58.743716], [-161.374669, 58.667039], [-161.752577, 58.552023], [-161.938793, 58.656085], [-161.769008, 58.776578], [-161.829255, 59.061379], [-161.955224, 59.36261], [-161.703285, 59.48858], [-161.911409, 59.740519], [-162.092148, 59.88292], [-162.234548, 60.091043], [-162.448149, 60.178674], [-162.502918, 59.997935], [-162.760334, 59.959597], [-163.171105, 59.844581], [-163.66403, 59.795289], [-163.9324, 59.806242], [-164.162431, 59.866489], [-164.189816, 60.02532], [-164.386986, 60.074613], [-164.699171, 60.29369], [-164.962064, 60.337506], [-165.268773, 60.578491], [-165.060649, 60.68803], [-165.016834, 60.890677], [-165.175665, 60.846861], [-165.197573, 60.972831], [-165.120896, 61.076893], [-165.323543, 61.170001], [-165.34545, 61.071416], [-165.591913, 61.109754], [-165.624774, 61.279539], [-165.816467, 61.301447], [-165.920529, 61.416463], [-165.915052, 61.558863], [-166.106745, 61.49314], [-166.139607, 61.630064], [-165.904098, 61.662925], [-166.095791, 61.81628], [-165.756221, 61.827233], [-165.756221, 62.013449], [-165.674067, 62.139419], [-165.044219, 62.539236], [-164.912772, 62.659728], [-164.819664, 62.637821], [-164.874433, 62.807606], [-164.633448, 63.097884], [-164.425324, 63.212899], [-164.036462, 63.262192], [-163.73523, 63.212899], [-163.313505, 63.037637], [-163.039658, 63.059545], [-162.661749, 63.22933], [-162.272887, 63.486746], [-162.075717, 63.514131], [-162.026424, 63.448408], [-161.555408, 63.448408], [-161.13916, 63.503177], [-160.766728, 63.771547], [-160.766728, 63.837271], [-160.952944, 64.08921], [-160.974852, 64.237087], [-161.26513, 64.395918], [-161.374669, 64.532842], [-161.078914, 64.494503], [-160.79959, 64.609519], [-160.783159, 64.719058], [-161.144637, 64.921705], [-161.413007, 64.762873], [-161.664946, 64.790258], [-161.900455, 64.702627], [-162.168825, 64.680719], [-162.234548, 64.620473], [-162.541257, 64.532842], [-162.634365, 64.384965], [-162.787719, 64.324718], [-162.858919, 64.49998], [-163.045135, 64.538319], [-163.176582, 64.401395], [-163.253259, 64.467119], [-163.598306, 64.565704], [-164.304832, 64.560227], [-164.80871, 64.450688], [-165.000403, 64.434257], [-165.411174, 64.49998], [-166.188899, 64.576658], [-166.391546, 64.636904], [-166.484654, 64.735489], [-166.413454, 64.872412], [-166.692778, 64.987428], [-166.638008, 65.113398], [-166.462746, 65.179121], [-166.517516, 65.337952], [-166.796839, 65.337952], [-167.026871, 65.381768], [-167.47598, 65.414629], [-167.711489, 65.496784], [-168.072967, 65.578938], [-168.105828, 65.682999], [-167.541703, 65.819923], [-166.829701, 66.049954], [-166.3313, 66.186878], [-166.046499, 66.110201], [-165.756221, 66.09377], [-165.690498, 66.203309], [-165.86576, 66.21974], [-165.88219, 66.312848], [-165.186619, 66.466202], [-164.403417, 66.581218], [-163.981692, 66.592172], [-163.751661, 66.553833], [-163.872153, 66.389525], [-163.828338, 66.274509], [-163.915969, 66.192355], [-163.768091, 66.060908], [-163.494244, 66.082816], [-163.149197, 66.060908], [-162.749381, 66.088293], [-162.634365, 66.039001], [-162.371472, 66.028047], [-162.14144, 66.077339], [-161.840208, 66.02257], [-161.549931, 66.241647], [-161.341807, 66.252601], [-161.199406, 66.208786], [-161.128206, 66.334755], [-161.528023, 66.395002], [-161.911409, 66.345709], [-161.87307, 66.510017], [-162.174302, 66.68528], [-162.502918, 66.740049], [-162.601503, 66.89888], [-162.344087, 66.937219], [-162.015471, 66.778388], [-162.075717, 66.652418], [-161.916886, 66.553833], [-161.571838, 66.438817], [-161.489684, 66.55931], [-161.884024, 66.718141], [-161.714239, 67.002942], [-161.851162, 67.052235], [-162.240025, 66.991988], [-162.639842, 67.008419], [-162.700088, 67.057712], [-162.902735, 67.008419], [-163.740707, 67.128912], [-163.757138, 67.254881], [-164.009077, 67.534205], [-164.211724, 67.638267], [-164.534863, 67.725898], [-165.192096, 67.966884], [-165.493328, 68.059992], [-165.794559, 68.081899], [-166.243668, 68.246208], [-166.681824, 68.339316], [-166.703731, 68.372177], [-166.375115, 68.42147], [-166.227238, 68.574824], [-166.216284, 68.881533], [-165.329019, 68.859625], [-164.255539, 68.930825], [-163.976215, 68.985595], [-163.532583, 69.138949], [-163.110859, 69.374457], [-163.023228, 69.609966], [-162.842489, 69.812613], [-162.470057, 69.982398], [-162.311225, 70.108367], [-161.851162, 70.311014], [-161.779962, 70.256245], [-161.396576, 70.239814], [-160.837928, 70.343876], [-160.487404, 70.453415], [-159.649432, 70.792985], [-159.33177, 70.809416], [-159.298908, 70.760123], [-158.975769, 70.798462], [-158.658106, 70.787508], [-158.033735, 70.831323], [-157.420318, 70.979201], [-156.812377, 71.285909], [-156.565915, 71.351633], [-156.522099, 71.296863], [-155.585543, 71.170894], [-155.508865, 71.083263], [-155.832005, 70.968247], [-155.979882, 70.96277], [-155.974405, 70.809416], [-155.503388, 70.858708], [-155.476004, 70.940862], [-155.262403, 71.017539], [-155.191203, 70.973724], [-155.032372, 71.148986], [-154.566832, 70.990155], [-154.643509, 70.869662], [-154.353231, 70.8368], [-154.183446, 70.7656], [-153.931507, 70.880616], [-153.487874, 70.886093], [-153.235935, 70.924431], [-152.589656, 70.886093], [-152.26104, 70.842277], [-152.419871, 70.606769], [-151.817408, 70.546523], [-151.773592, 70.486276], [-151.187559, 70.382214], [-151.182082, 70.431507], [-150.760358, 70.49723], [-150.355064, 70.491753], [-150.349588, 70.436984], [-150.114079, 70.431507], [-149.867617, 70.508184], [-149.462323, 70.519138], [-149.177522, 70.486276], [-148.78866, 70.404122], [-148.607921, 70.420553], [-148.350504, 70.305537], [-148.202627, 70.349353], [-147.961642, 70.316491], [-147.786379, 70.245291]]], [[[-152.94018, 58.026237], [-152.945657, 57.982421], [-153.290705, 58.048145], [-153.044242, 58.305561], [-152.819688, 58.327469], [-152.666333, 58.562977], [-152.496548, 58.354853], [-152.354148, 58.426053], [-152.080301, 58.311038], [-152.080301, 58.152206], [-152.480117, 58.130299], [-152.655379, 58.059098], [-152.94018, 58.026237]]], [[[-153.958891, 57.538789], [-153.67409, 57.670236], [-153.931507, 57.69762], [-153.936983, 57.812636], [-153.723383, 57.889313], [-153.570028, 57.834544], [-153.548121, 57.719528], [-153.46049, 57.796205], [-153.455013, 57.96599], [-153.268797, 57.889313], [-153.235935, 57.998852], [-153.071627, 57.933129], [-152.874457, 57.933129], [-152.721103, 57.993375], [-152.469163, 57.889313], [-152.469163, 57.599035], [-152.151501, 57.620943], [-152.359625, 57.42925], [-152.74301, 57.505928], [-152.60061, 57.379958], [-152.710149, 57.275896], [-152.907319, 57.325188], [-152.912796, 57.128019], [-153.214027, 57.073249], [-153.312612, 56.991095], [-153.498828, 57.067772], [-153.695998, 56.859649], [-153.849352, 56.837741], [-154.013661, 56.744633], [-154.073907, 56.969187], [-154.303938, 56.848695], [-154.314892, 56.919895], [-154.523016, 56.991095], [-154.539447, 57.193742], [-154.742094, 57.275896], [-154.627078, 57.511404], [-154.227261, 57.659282], [-153.980799, 57.648328], [-153.958891, 57.538789]]], [[[-154.53397, 56.602232], [-154.742094, 56.399586], [-154.807817, 56.432447], [-154.53397, 56.602232]]], [[[-155.634835, 55.923092], [-155.476004, 55.912138], [-155.530773, 55.704014], [-155.793666, 55.731399], [-155.837482, 55.802599], [-155.634835, 55.923092]]], [[[-159.890418, 55.28229], [-159.950664, 55.068689], [-160.257373, 54.893427], [-160.109495, 55.161797], [-160.005433, 55.134412], [-159.890418, 55.28229]]], [[[-160.520266, 55.358967], [-160.33405, 55.358967], [-160.339527, 55.249428], [-160.525743, 55.128935], [-160.690051, 55.211089], [-160.794113, 55.134412], [-160.854359, 55.320628], [-160.79959, 55.380875], [-160.520266, 55.358967]]], [[[-162.256456, 54.981058], [-162.234548, 54.893427], [-162.349564, 54.838658], [-162.437195, 54.931766], [-162.256456, 54.981058]]], [[[-162.415287, 63.634624], [-162.563165, 63.536039], [-162.612457, 63.62367], [-162.415287, 63.634624]]], [[[-162.80415, 54.488133], [-162.590549, 54.449795], [-162.612457, 54.367641], [-162.782242, 54.373118], [-162.80415, 54.488133]]], [[[-165.548097, 54.29644], [-165.476897, 54.181425], [-165.630251, 54.132132], [-165.685021, 54.252625], [-165.548097, 54.29644]]], [[[-165.73979, 54.15404], [-166.046499, 54.044501], [-166.112222, 54.121178], [-165.980775, 54.219763], [-165.73979, 54.15404]]], [[[-166.364161, 60.359413], [-166.13413, 60.397752], [-166.084837, 60.326552], [-165.88219, 60.342983], [-165.685021, 60.277259], [-165.646682, 59.992458], [-165.750744, 59.89935], [-166.00816, 59.844581], [-166.062929, 59.745996], [-166.440838, 59.855535], [-166.6161, 59.850058], [-166.994009, 59.992458], [-167.125456, 59.992458], [-167.344534, 60.074613], [-167.421211, 60.206059], [-167.311672, 60.238921], [-166.93924, 60.206059], [-166.763978, 60.310121], [-166.577762, 60.321075], [-166.495608, 60.392275], [-166.364161, 60.359413]]], [[[-166.375115, 54.01164], [-166.210807, 53.934962], [-166.5449, 53.748746], [-166.539423, 53.715885], [-166.117699, 53.852808], [-166.112222, 53.776131], [-166.282007, 53.683023], [-166.555854, 53.622777], [-166.583239, 53.529669], [-166.878994, 53.431084], [-167.13641, 53.425607], [-167.306195, 53.332499], [-167.623857, 53.250345], [-167.793643, 53.337976], [-167.459549, 53.442038], [-167.355487, 53.425607], [-167.103548, 53.513238], [-167.163794, 53.611823], [-167.021394, 53.715885], [-166.807793, 53.666592], [-166.785886, 53.732316], [-167.015917, 53.754223], [-167.141887, 53.825424], [-167.032348, 53.945916], [-166.643485, 54.017116], [-166.561331, 53.880193], [-166.375115, 54.01164]]], [[[-168.790446, 53.157237], [-168.40706, 53.34893], [-168.385152, 53.431084], [-168.237275, 53.524192], [-168.007243, 53.568007], [-167.886751, 53.518715], [-167.842935, 53.387268], [-168.270136, 53.244868], [-168.500168, 53.036744], [-168.686384, 52.965544], [-168.790446, 53.157237]]], [[[-169.74891, 52.894344], [-169.705095, 52.795759], [-169.962511, 52.790282], [-169.989896, 52.856005], [-169.74891, 52.894344]]], [[[-170.148727, 57.221127], [-170.28565, 57.128019], [-170.313035, 57.221127], [-170.148727, 57.221127]]], [[[-170.669036, 52.697174], [-170.603313, 52.604066], [-170.789529, 52.538343], [-170.816914, 52.636928], [-170.669036, 52.697174]]], [[[-171.742517, 63.716778], [-170.94836, 63.5689], [-170.488297, 63.69487], [-170.280174, 63.683916], [-170.093958, 63.612716], [-170.044665, 63.492223], [-169.644848, 63.4265], [-169.518879, 63.366254], [-168.99857, 63.338869], [-168.686384, 63.295053], [-168.856169, 63.147176], [-169.108108, 63.180038], [-169.376478, 63.152653], [-169.513402, 63.08693], [-169.639372, 62.939052], [-169.831064, 63.075976], [-170.055619, 63.169084], [-170.263743, 63.180038], [-170.362328, 63.2841], [-170.866206, 63.415546], [-171.101715, 63.421023], [-171.463193, 63.306007], [-171.73704, 63.366254], [-171.852055, 63.486746], [-171.742517, 63.716778]]], [[[-172.432611, 52.390465], [-172.41618, 52.275449], [-172.607873, 52.253542], [-172.569535, 52.352127], [-172.432611, 52.390465]]], [[[-173.626584, 52.14948], [-173.495138, 52.105664], [-173.122706, 52.111141], [-173.106275, 52.07828], [-173.549907, 52.028987], [-173.626584, 52.14948]]], [[[-174.322156, 52.280926], [-174.327632, 52.379511], [-174.185232, 52.41785], [-173.982585, 52.319265], [-174.059262, 52.226157], [-174.179755, 52.231634], [-174.141417, 52.127572], [-174.333109, 52.116618], [-174.738403, 52.007079], [-174.968435, 52.039941], [-174.902711, 52.116618], [-174.656249, 52.105664], [-174.322156, 52.280926]]], [[[-176.469116, 51.853725], [-176.288377, 51.870156], [-176.288377, 51.744186], [-176.518409, 51.760617], [-176.80321, 51.61274], [-176.912748, 51.80991], [-176.792256, 51.815386], [-176.775825, 51.963264], [-176.627947, 51.968741], [-176.627947, 51.859202], [-176.469116, 51.853725]]], [[[-177.153734, 51.946833], [-177.044195, 51.897541], [-177.120872, 51.727755], [-177.274226, 51.678463], [-177.279703, 51.782525], [-177.153734, 51.946833]]], [[[-178.123152, 51.919448], [-177.953367, 51.913971], [-177.800013, 51.793479], [-177.964321, 51.651078], [-178.123152, 51.919448]]], [[[-187.107557, 52.992929], [-187.293773, 52.927205], [-187.304726, 52.823143], [-188.90491, 52.762897], [-188.642017, 52.927205], [-188.642017, 53.003883], [-187.107557, 52.992929]]]], &quot;type&quot;: &quot;MultiPolygon&quot;}, &quot;id&quot;: &quot;02&quot;, &quot;properties&quot;: {&quot;density&quot;: 1.264, &quot;name&quot;: &quot;Alaska&quot;}, &quot;type&quot;: &quot;Feature&quot;}, {&quot;geometry&quot;: {&quot;coordinates&quot;: [[[-109.042503, 37.000263], [-109.04798, 31.331629], [-111.074448, 31.331629], [-112.246513, 31.704061], [-114.815198, 32.492741], [-114.72209, 32.717295], [-114.524921, 32.755634], [-114.470151, 32.843265], [-114.524921, 33.029481], [-114.661844, 33.034958], [-114.727567, 33.40739], [-114.524921, 33.54979], [-114.497536, 33.697668], [-114.535874, 33.933176], [-114.415382, 34.108438], [-114.256551, 34.174162], [-114.136058, 34.305608], [-114.333228, 34.448009], [-114.470151, 34.710902], [-114.634459, 34.87521], [-114.634459, 35.00118], [-114.574213, 35.138103], [-114.596121, 35.324319], [-114.678275, 35.516012], [-114.738521, 36.102045], [-114.371566, 36.140383], [-114.251074, 36.01989], [-114.152489, 36.025367], [-114.048427, 36.195153], [-114.048427, 37.000263], [-110.499369, 37.00574], [-109.042503, 37.000263]]], &quot;type&quot;: &quot;Polygon&quot;}, &quot;id&quot;: &quot;04&quot;, &quot;properties&quot;: {&quot;density&quot;: 57.05, &quot;name&quot;: &quot;Arizona&quot;}, &quot;type&quot;: &quot;Feature&quot;}, {&quot;geometry&quot;: {&quot;coordinates&quot;: [[[-94.473842, 36.501861], [-90.152536, 36.496384], [-90.064905, 36.304691], [-90.218259, 36.184199], [-90.377091, 35.997983], [-89.730812, 35.997983], [-89.763673, 35.811767], [-89.911551, 35.756997], [-89.944412, 35.603643], [-90.130628, 35.439335], [-90.114197, 35.198349], [-90.212782, 35.023087], [-90.311367, 34.995703], [-90.251121, 34.908072], [-90.409952, 34.831394], [-90.481152, 34.661609], [-90.585214, 34.617794], [-90.568783, 34.420624], [-90.749522, 34.365854], [-90.744046, 34.300131], [-90.952169, 34.135823], [-90.891923, 34.026284], [-91.072662, 33.867453], [-91.231493, 33.560744], [-91.056231, 33.429298], [-91.143862, 33.347144], [-91.089093, 33.13902], [-91.16577, 33.002096], [-93.608485, 33.018527], [-94.041164, 33.018527], [-94.041164, 33.54979], [-94.183564, 33.593606], [-94.380734, 33.544313], [-94.484796, 33.637421], [-94.430026, 35.395519], [-94.616242, 36.501861], [-94.473842, 36.501861]]], &quot;type&quot;: &quot;Polygon&quot;}, &quot;id&quot;: &quot;05&quot;, &quot;properties&quot;: {&quot;density&quot;: 56.43, &quot;name&quot;: &quot;Arkansas&quot;}, &quot;type&quot;: &quot;Feature&quot;}, {&quot;geometry&quot;: {&quot;coordinates&quot;: [[[-123.233256, 42.006186], [-122.378853, 42.011663], [-121.037003, 41.995232], [-120.001861, 41.995232], [-119.996384, 40.264519], [-120.001861, 38.999346], [-118.71478, 38.101128], [-117.498899, 37.21934], [-116.540435, 36.501861], [-115.85034, 35.970598], [-114.634459, 35.00118], [-114.634459, 34.87521], [-114.470151, 34.710902], [-114.333228, 34.448009], [-114.136058, 34.305608], [-114.256551, 34.174162], [-114.415382, 34.108438], [-114.535874, 33.933176], [-114.497536, 33.697668], [-114.524921, 33.54979], [-114.727567, 33.40739], [-114.661844, 33.034958], [-114.524921, 33.029481], [-114.470151, 32.843265], [-114.524921, 32.755634], [-114.72209, 32.717295], [-116.04751, 32.624187], [-117.126467, 32.536556], [-117.24696, 32.668003], [-117.252437, 32.876127], [-117.329114, 33.122589], [-117.471515, 33.297851], [-117.7837, 33.538836], [-118.183517, 33.763391], [-118.260194, 33.703145], [-118.413548, 33.741483], [-118.391641, 33.840068], [-118.566903, 34.042715], [-118.802411, 33.998899], [-119.218659, 34.146777], [-119.278905, 34.26727], [-119.558229, 34.415147], [-119.875891, 34.40967], [-120.138784, 34.475393], [-120.472878, 34.448009], [-120.64814, 34.579455], [-120.609801, 34.858779], [-120.670048, 34.902595], [-120.631709, 35.099764], [-120.894602, 35.247642], [-120.905556, 35.450289], [-121.004141, 35.461243], [-121.168449, 35.636505], [-121.283465, 35.674843], [-121.332757, 35.784382], [-121.716143, 36.195153], [-121.896882, 36.315645], [-121.935221, 36.638785], [-121.858544, 36.6114], [-121.787344, 36.803093], [-121.929744, 36.978355], [-122.105006, 36.956447], [-122.335038, 37.115279], [-122.417192, 37.241248], [-122.400761, 37.361741], [-122.515777, 37.520572], [-122.515777, 37.783465], [-122.329561, 37.783465], [-122.406238, 38.15042], [-122.488392, 38.112082], [-122.504823, 37.931343], [-122.701993, 37.893004], [-122.937501, 38.029928], [-122.97584, 38.265436], [-123.129194, 38.451652], [-123.331841, 38.566668], [-123.44138, 38.698114], [-123.737134, 38.95553], [-123.687842, 39.032208], [-123.824765, 39.366301], [-123.764519, 39.552517], [-123.85215, 39.831841], [-124.109566, 40.105688], [-124.361506, 40.259042], [-124.410798, 40.439781], [-124.158859, 40.877937], [-124.109566, 41.025814], [-124.158859, 41.14083], [-124.065751, 41.442061], [-124.147905, 41.715908], [-124.257444, 41.781632], [-124.213628, 42.000709], [-123.233256, 42.006186]]], &quot;type&quot;: &quot;Polygon&quot;}, &quot;id&quot;: &quot;06&quot;, &quot;properties&quot;: {&quot;density&quot;: 241.7, &quot;name&quot;: &quot;California&quot;}, &quot;type&quot;: &quot;Feature&quot;}, {&quot;geometry&quot;: {&quot;coordinates&quot;: [[[-107.919731, 41.003906], [-105.728954, 40.998429], [-104.053011, 41.003906], [-102.053927, 41.003906], [-102.053927, 40.001626], [-102.042974, 36.994786], [-103.001438, 37.000263], [-104.337812, 36.994786], [-106.868158, 36.994786], [-107.421329, 37.000263], [-109.042503, 37.000263], [-109.042503, 38.166851], [-109.058934, 38.27639], [-109.053457, 39.125316], [-109.04798, 40.998429], [-107.919731, 41.003906]]], &quot;type&quot;: &quot;Polygon&quot;}, &quot;id&quot;: &quot;08&quot;, &quot;properties&quot;: {&quot;density&quot;: 49.33, &quot;name&quot;: &quot;Colorado&quot;}, &quot;type&quot;: &quot;Feature&quot;}, {&quot;geometry&quot;: {&quot;coordinates&quot;: [[[-73.053528, 42.039048], [-71.799309, 42.022617], [-71.799309, 42.006186], [-71.799309, 41.414677], [-71.859555, 41.321569], [-71.947186, 41.338], [-72.385341, 41.261322], [-72.905651, 41.28323], [-73.130205, 41.146307], [-73.371191, 41.102491], [-73.655992, 40.987475], [-73.727192, 41.102491], [-73.48073, 41.21203], [-73.55193, 41.294184], [-73.486206, 42.050002], [-73.053528, 42.039048]]], &quot;type&quot;: &quot;Polygon&quot;}, &quot;id&quot;: &quot;09&quot;, &quot;properties&quot;: {&quot;density&quot;: 739.1, &quot;name&quot;: &quot;Connecticut&quot;}, &quot;type&quot;: &quot;Feature&quot;}, {&quot;geometry&quot;: {&quot;coordinates&quot;: [[[-75.414089, 39.804456], [-75.507197, 39.683964], [-75.611259, 39.61824], [-75.589352, 39.459409], [-75.441474, 39.311532], [-75.403136, 39.065069], [-75.189535, 38.807653], [-75.09095, 38.796699], [-75.047134, 38.451652], [-75.693413, 38.462606], [-75.786521, 39.722302], [-75.616736, 39.831841], [-75.414089, 39.804456]]], &quot;type&quot;: &quot;Polygon&quot;}, &quot;id&quot;: &quot;10&quot;, &quot;properties&quot;: {&quot;density&quot;: 464.3, &quot;name&quot;: &quot;Delaware&quot;}, &quot;type&quot;: &quot;Feature&quot;}, {&quot;geometry&quot;: {&quot;coordinates&quot;: [[[-77.035264, 38.993869], [-76.909294, 38.895284], [-77.040741, 38.791222], [-77.117418, 38.933623], [-77.035264, 38.993869]]], &quot;type&quot;: &quot;Polygon&quot;}, &quot;id&quot;: &quot;11&quot;, &quot;properties&quot;: {&quot;density&quot;: 10065, &quot;name&quot;: &quot;District of Columbia&quot;}, &quot;type&quot;: &quot;Feature&quot;}, {&quot;geometry&quot;: {&quot;coordinates&quot;: [[[-85.497137, 30.997536], [-85.004212, 31.003013], [-84.867289, 30.712735], [-83.498053, 30.647012], [-82.216449, 30.570335], [-82.167157, 30.356734], [-82.046664, 30.362211], [-82.002849, 30.564858], [-82.041187, 30.751074], [-81.948079, 30.827751], [-81.718048, 30.745597], [-81.444201, 30.707258], [-81.383954, 30.27458], [-81.257985, 29.787132], [-80.967707, 29.14633], [-80.524075, 28.461713], [-80.589798, 28.41242], [-80.56789, 28.094758], [-80.381674, 27.738757], [-80.091397, 27.021277], [-80.03115, 26.796723], [-80.036627, 26.566691], [-80.146166, 25.739673], [-80.239274, 25.723243], [-80.337859, 25.465826], [-80.304997, 25.383672], [-80.49669, 25.197456], [-80.573367, 25.241272], [-80.759583, 25.164595], [-81.077246, 25.120779], [-81.170354, 25.224841], [-81.126538, 25.378195], [-81.351093, 25.821827], [-81.526355, 25.903982], [-81.679709, 25.843735], [-81.800202, 26.090198], [-81.833064, 26.292844], [-82.041187, 26.517399], [-82.09048, 26.665276], [-82.057618, 26.878877], [-82.172634, 26.917216], [-82.145249, 26.791246], [-82.249311, 26.758384], [-82.566974, 27.300601], [-82.692943, 27.437525], [-82.391711, 27.837342], [-82.588881, 27.815434], [-82.720328, 27.689464], [-82.851774, 27.886634], [-82.676512, 28.434328], [-82.643651, 28.888914], [-82.764143, 28.998453], [-82.802482, 29.14633], [-82.994175, 29.179192], [-83.218729, 29.420177], [-83.399469, 29.518762], [-83.410422, 29.66664], [-83.536392, 29.721409], [-83.640454, 29.885717], [-84.02384, 30.104795], [-84.357933, 30.055502], [-84.341502, 29.902148], [-84.451041, 29.929533], [-84.867289, 29.743317], [-85.310921, 29.699501], [-85.299967, 29.80904], [-85.404029, 29.940487], [-85.924338, 30.236241], [-86.29677, 30.362211], [-86.630863, 30.395073], [-86.910187, 30.373165], [-87.518128, 30.280057], [-87.37025, 30.427934], [-87.446927, 30.510088], [-87.408589, 30.674397], [-87.633143, 30.86609], [-87.600282, 30.997536], [-85.497137, 30.997536]]], &quot;type&quot;: &quot;Polygon&quot;}, &quot;id&quot;: &quot;12&quot;, &quot;properties&quot;: {&quot;density&quot;: 353.4, &quot;name&quot;: &quot;Florida&quot;}, &quot;type&quot;: &quot;Feature&quot;}, {&quot;geometry&quot;: {&quot;coordinates&quot;: [[[-83.109191, 35.00118], [-83.322791, 34.787579], [-83.339222, 34.683517], [-83.005129, 34.469916], [-82.901067, 34.486347], [-82.747713, 34.26727], [-82.714851, 34.152254], [-82.55602, 33.94413], [-82.325988, 33.81816], [-82.194542, 33.631944], [-81.926172, 33.462159], [-81.937125, 33.347144], [-81.761863, 33.160928], [-81.493493, 33.007573], [-81.42777, 32.843265], [-81.416816, 32.629664], [-81.279893, 32.558464], [-81.121061, 32.290094], [-81.115584, 32.120309], [-80.885553, 32.032678], [-81.132015, 31.693108], [-81.175831, 31.517845], [-81.279893, 31.364491], [-81.290846, 31.20566], [-81.400385, 31.13446], [-81.444201, 30.707258], [-81.718048, 30.745597], [-81.948079, 30.827751], [-82.041187, 30.751074], [-82.002849, 30.564858], [-82.046664, 30.362211], [-82.167157, 30.356734], [-82.216449, 30.570335], [-83.498053, 30.647012], [-84.867289, 30.712735], [-85.004212, 31.003013], [-85.113751, 31.27686], [-85.042551, 31.539753], [-85.141136, 31.840985], [-85.053504, 32.01077], [-85.058981, 32.13674], [-84.889196, 32.262709], [-85.004212, 32.322956], [-84.960397, 32.421541], [-85.069935, 32.580372], [-85.184951, 32.859696], [-85.431413, 34.124869], [-85.606675, 34.984749], [-84.319594, 34.990226], [-83.618546, 34.984749], [-83.109191, 35.00118]]], &quot;type&quot;: &quot;Polygon&quot;}, &quot;id&quot;: &quot;13&quot;, &quot;properties&quot;: {&quot;density&quot;: 169.5, &quot;name&quot;: &quot;Georgia&quot;}, &quot;type&quot;: &quot;Feature&quot;}, {&quot;geometry&quot;: {&quot;coordinates&quot;: [[[[-155.634835, 18.948267], [-155.881297, 19.035898], [-155.919636, 19.123529], [-155.886774, 19.348084], [-156.062036, 19.73147], [-155.925113, 19.857439], [-155.826528, 20.032702], [-155.897728, 20.147717], [-155.87582, 20.26821], [-155.596496, 20.12581], [-155.284311, 20.021748], [-155.092618, 19.868393], [-155.092618, 19.736947], [-154.807817, 19.523346], [-154.983079, 19.348084], [-155.295265, 19.26593], [-155.514342, 19.134483], [-155.634835, 18.948267]]], [[[-156.587823, 21.029505], [-156.472807, 20.892581], [-156.324929, 20.952827], [-156.00179, 20.793996], [-156.051082, 20.651596], [-156.379699, 20.580396], [-156.445422, 20.60778], [-156.461853, 20.783042], [-156.631638, 20.821381], [-156.697361, 20.919966], [-156.587823, 21.029505]]], [[[-156.982162, 21.210244], [-157.080747, 21.106182], [-157.310779, 21.106182], [-157.239579, 21.221198], [-156.982162, 21.210244]]], [[[-157.951581, 21.697691], [-157.842042, 21.462183], [-157.896811, 21.325259], [-158.110412, 21.303352], [-158.252813, 21.582676], [-158.126843, 21.588153], [-157.951581, 21.697691]]], [[[-159.468693, 22.228955], [-159.353678, 22.218001], [-159.298908, 22.113939], [-159.33177, 21.966061], [-159.446786, 21.872953], [-159.764448, 21.987969], [-159.726109, 22.152277], [-159.468693, 22.228955]]]], &quot;type&quot;: &quot;MultiPolygon&quot;}, &quot;id&quot;: &quot;15&quot;, &quot;properties&quot;: {&quot;density&quot;: 214.1, &quot;name&quot;: &quot;Hawaii&quot;}, &quot;type&quot;: &quot;Feature&quot;}, {&quot;geometry&quot;: {&quot;coordinates&quot;: [[[-116.04751, 49.000239], [-116.04751, 47.976051], [-115.724371, 47.696727], [-115.718894, 47.42288], [-115.527201, 47.302388], [-115.324554, 47.258572], [-115.302646, 47.187372], [-114.930214, 46.919002], [-114.886399, 46.809463], [-114.623506, 46.705401], [-114.612552, 46.639678], [-114.322274, 46.645155], [-114.464674, 46.272723], [-114.492059, 46.037214], [-114.387997, 45.88386], [-114.568736, 45.774321], [-114.497536, 45.670259], [-114.546828, 45.560721], [-114.333228, 45.456659], [-114.086765, 45.593582], [-113.98818, 45.703121], [-113.807441, 45.604536], [-113.834826, 45.522382], [-113.736241, 45.330689], [-113.571933, 45.128042], [-113.45144, 45.056842], [-113.456917, 44.865149], [-113.341901, 44.782995], [-113.133778, 44.772041], [-113.002331, 44.448902], [-112.887315, 44.394132], [-112.783254, 44.48724], [-112.471068, 44.481763], [-112.241036, 44.569394], [-112.104113, 44.520102], [-111.868605, 44.563917], [-111.819312, 44.509148], [-111.616665, 44.547487], [-111.386634, 44.75561], [-111.227803, 44.580348], [-111.047063, 44.476286], [-111.047063, 42.000709], [-112.164359, 41.995232], [-114.04295, 41.995232], [-117.027882, 42.000709], [-117.027882, 43.830007], [-116.896436, 44.158624], [-116.97859, 44.240778], [-117.170283, 44.257209], [-117.241483, 44.394132], [-117.038836, 44.750133], [-116.934774, 44.782995], [-116.830713, 44.930872], [-116.847143, 45.02398], [-116.732128, 45.144473], [-116.671881, 45.319735], [-116.463758, 45.61549], [-116.545912, 45.752413], [-116.78142, 45.823614], [-116.918344, 45.993399], [-116.92382, 46.168661], [-117.055267, 46.343923], [-117.038836, 46.426077], [-117.044313, 47.762451], [-117.033359, 49.000239], [-116.04751, 49.000239]]], &quot;type&quot;: &quot;Polygon&quot;}, &quot;id&quot;: &quot;16&quot;, &quot;properties&quot;: {&quot;density&quot;: 19.15, &quot;name&quot;: &quot;Idaho&quot;}, &quot;type&quot;: &quot;Feature&quot;}, {&quot;geometry&quot;: {&quot;coordinates&quot;: [[[-90.639984, 42.510065], [-88.788778, 42.493634], [-87.802929, 42.493634], [-87.83579, 42.301941], [-87.682436, 42.077386], [-87.523605, 41.710431], [-87.529082, 39.34987], [-87.63862, 39.169131], [-87.512651, 38.95553], [-87.49622, 38.780268], [-87.62219, 38.637868], [-87.655051, 38.506421], [-87.83579, 38.292821], [-87.950806, 38.27639], [-87.923421, 38.15042], [-88.000098, 38.101128], [-88.060345, 37.865619], [-88.027483, 37.799896], [-88.15893, 37.657496], [-88.065822, 37.482234], [-88.476592, 37.389126], [-88.514931, 37.285064], [-88.421823, 37.153617], [-88.547792, 37.071463], [-88.914747, 37.224817], [-89.029763, 37.213863], [-89.183118, 37.038601], [-89.133825, 36.983832], [-89.292656, 36.994786], [-89.517211, 37.279587], [-89.435057, 37.34531], [-89.517211, 37.537003], [-89.517211, 37.690357], [-89.84035, 37.903958], [-89.949889, 37.88205], [-90.059428, 38.013497], [-90.355183, 38.216144], [-90.349706, 38.374975], [-90.179921, 38.632391], [-90.207305, 38.725499], [-90.10872, 38.845992], [-90.251121, 38.917192], [-90.470199, 38.961007], [-90.585214, 38.867899], [-90.661891, 38.928146], [-90.727615, 39.256762], [-91.061708, 39.470363], [-91.368417, 39.727779], [-91.494386, 40.034488], [-91.50534, 40.237135], [-91.417709, 40.379535], [-91.401278, 40.560274], [-91.121954, 40.669813], [-91.09457, 40.823167], [-90.963123, 40.921752], [-90.946692, 41.097014], [-91.111001, 41.239415], [-91.045277, 41.414677], [-90.656414, 41.463969], [-90.344229, 41.589939], [-90.311367, 41.743293], [-90.179921, 41.809016], [-90.141582, 42.000709], [-90.168967, 42.126679], [-90.393521, 42.225264], [-90.420906, 42.329326], [-90.639984, 42.510065]]], &quot;type&quot;: &quot;Polygon&quot;}, &quot;id&quot;: &quot;17&quot;, &quot;properties&quot;: {&quot;density&quot;: 231.5, &quot;name&quot;: &quot;Illinois&quot;}, &quot;type&quot;: &quot;Feature&quot;}, {&quot;geometry&quot;: {&quot;coordinates&quot;: [[[-85.990061, 41.759724], [-84.807042, 41.759724], [-84.807042, 41.694001], [-84.801565, 40.500028], [-84.817996, 39.103408], [-84.894673, 39.059592], [-84.812519, 38.785745], [-84.987781, 38.780268], [-85.173997, 38.68716], [-85.431413, 38.730976], [-85.42046, 38.533806], [-85.590245, 38.451652], [-85.655968, 38.325682], [-85.83123, 38.27639], [-85.924338, 38.024451], [-86.039354, 37.958727], [-86.263908, 38.051835], [-86.302247, 38.166851], [-86.521325, 38.040881], [-86.504894, 37.931343], [-86.729448, 37.893004], [-86.795172, 37.991589], [-87.047111, 37.893004], [-87.129265, 37.788942], [-87.381204, 37.93682], [-87.512651, 37.903958], [-87.600282, 37.975158], [-87.682436, 37.903958], [-87.934375, 37.893004], [-88.027483, 37.799896], [-88.060345, 37.865619], [-88.000098, 38.101128], [-87.923421, 38.15042], [-87.950806, 38.27639], [-87.83579, 38.292821], [-87.655051, 38.506421], [-87.62219, 38.637868], [-87.49622, 38.780268], [-87.512651, 38.95553], [-87.63862, 39.169131], [-87.529082, 39.34987], [-87.523605, 41.710431], [-87.42502, 41.644708], [-87.118311, 41.644708], [-86.822556, 41.759724], [-85.990061, 41.759724]]], &quot;type&quot;: &quot;Polygon&quot;}, &quot;id&quot;: &quot;18&quot;, &quot;properties&quot;: {&quot;density&quot;: 181.7, &quot;name&quot;: &quot;Indiana&quot;}, &quot;type&quot;: &quot;Feature&quot;}, {&quot;geometry&quot;: {&quot;coordinates&quot;: [[[-91.368417, 43.501391], [-91.215062, 43.501391], [-91.204109, 43.353514], [-91.056231, 43.254929], [-91.176724, 43.134436], [-91.143862, 42.909881], [-91.067185, 42.75105], [-90.711184, 42.636034], [-90.639984, 42.510065], [-90.420906, 42.329326], [-90.393521, 42.225264], [-90.168967, 42.126679], [-90.141582, 42.000709], [-90.179921, 41.809016], [-90.311367, 41.743293], [-90.344229, 41.589939], [-90.656414, 41.463969], [-91.045277, 41.414677], [-91.111001, 41.239415], [-90.946692, 41.097014], [-90.963123, 40.921752], [-91.09457, 40.823167], [-91.121954, 40.669813], [-91.401278, 40.560274], [-91.417709, 40.379535], [-91.527248, 40.412397], [-91.729895, 40.615043], [-91.833957, 40.609566], [-93.257961, 40.582182], [-94.632673, 40.571228], [-95.7664, 40.587659], [-95.881416, 40.719105], [-95.826646, 40.976521], [-95.925231, 41.201076], [-95.919754, 41.453015], [-96.095016, 41.540646], [-96.122401, 41.67757], [-96.062155, 41.798063], [-96.127878, 41.973325], [-96.264801, 42.039048], [-96.44554, 42.488157], [-96.631756, 42.707235], [-96.544125, 42.855112], [-96.511264, 43.052282], [-96.434587, 43.123482], [-96.560556, 43.222067], [-96.527695, 43.397329], [-96.582464, 43.479483], [-96.451017, 43.501391], [-91.368417, 43.501391]]], &quot;type&quot;: &quot;Polygon&quot;}, &quot;id&quot;: &quot;19&quot;, &quot;properties&quot;: {&quot;density&quot;: 54.81, &quot;name&quot;: &quot;Iowa&quot;}, &quot;type&quot;: &quot;Feature&quot;}, {&quot;geometry&quot;: {&quot;coordinates&quot;: [[[-101.90605, 40.001626], [-95.306337, 40.001626], [-95.207752, 39.908518], [-94.884612, 39.831841], [-95.109167, 39.541563], [-94.983197, 39.442978], [-94.824366, 39.20747], [-94.610765, 39.158177], [-94.616242, 37.000263], [-100.087706, 37.000263], [-102.042974, 36.994786], [-102.053927, 40.001626], [-101.90605, 40.001626]]], &quot;type&quot;: &quot;Polygon&quot;}, &quot;id&quot;: &quot;20&quot;, &quot;properties&quot;: {&quot;density&quot;: 35.09, &quot;name&quot;: &quot;Kansas&quot;}, &quot;type&quot;: &quot;Feature&quot;}, {&quot;geometry&quot;: {&quot;coordinates&quot;: [[[-83.903347, 38.769315], [-83.678792, 38.632391], [-83.519961, 38.703591], [-83.142052, 38.626914], [-83.032514, 38.725499], [-82.890113, 38.758361], [-82.846298, 38.588575], [-82.731282, 38.561191], [-82.594358, 38.424267], [-82.621743, 38.123036], [-82.50125, 37.931343], [-82.342419, 37.783465], [-82.293127, 37.668449], [-82.101434, 37.553434], [-81.969987, 37.537003], [-82.353373, 37.268633], [-82.720328, 37.120755], [-82.720328, 37.044078], [-82.868205, 36.978355], [-82.879159, 36.890724], [-83.070852, 36.852385], [-83.136575, 36.742847], [-83.673316, 36.600446], [-83.689746, 36.584015], [-84.544149, 36.594969], [-85.289013, 36.627831], [-85.486183, 36.616877], [-86.592525, 36.655216], [-87.852221, 36.633308], [-88.071299, 36.677123], [-88.054868, 36.496384], [-89.298133, 36.507338], [-89.418626, 36.496384], [-89.363857, 36.622354], [-89.215979, 36.578538], [-89.133825, 36.983832], [-89.183118, 37.038601], [-89.029763, 37.213863], [-88.914747, 37.224817], [-88.547792, 37.071463], [-88.421823, 37.153617], [-88.514931, 37.285064], [-88.476592, 37.389126], [-88.065822, 37.482234], [-88.15893, 37.657496], [-88.027483, 37.799896], [-87.934375, 37.893004], [-87.682436, 37.903958], [-87.600282, 37.975158], [-87.512651, 37.903958], [-87.381204, 37.93682], [-87.129265, 37.788942], [-87.047111, 37.893004], [-86.795172, 37.991589], [-86.729448, 37.893004], [-86.504894, 37.931343], [-86.521325, 38.040881], [-86.302247, 38.166851], [-86.263908, 38.051835], [-86.039354, 37.958727], [-85.924338, 38.024451], [-85.83123, 38.27639], [-85.655968, 38.325682], [-85.590245, 38.451652], [-85.42046, 38.533806], [-85.431413, 38.730976], [-85.173997, 38.68716], [-84.987781, 38.780268], [-84.812519, 38.785745], [-84.894673, 39.059592], [-84.817996, 39.103408], [-84.43461, 39.103408], [-84.231963, 38.895284], [-84.215533, 38.807653], [-83.903347, 38.769315]]], &quot;type&quot;: &quot;Polygon&quot;}, &quot;id&quot;: &quot;21&quot;, &quot;properties&quot;: {&quot;density&quot;: 110, &quot;name&quot;: &quot;Kentucky&quot;}, &quot;type&quot;: &quot;Feature&quot;}, {&quot;geometry&quot;: {&quot;coordinates&quot;: [[[-93.608485, 33.018527], [-91.16577, 33.002096], [-91.072662, 32.887081], [-91.143862, 32.843265], [-91.154816, 32.640618], [-91.006939, 32.514649], [-90.985031, 32.218894], [-91.105524, 31.988862], [-91.341032, 31.846462], [-91.401278, 31.621907], [-91.499863, 31.643815], [-91.516294, 31.27686], [-91.636787, 31.265906], [-91.565587, 31.068736], [-91.636787, 30.997536], [-89.747242, 30.997536], [-89.845827, 30.66892], [-89.681519, 30.449842], [-89.643181, 30.285534], [-89.522688, 30.181472], [-89.818443, 30.044549], [-89.84035, 29.945964], [-89.599365, 29.88024], [-89.495303, 30.039072], [-89.287179, 29.88024], [-89.30361, 29.754271], [-89.424103, 29.699501], [-89.648657, 29.748794], [-89.621273, 29.655686], [-89.69795, 29.513285], [-89.506257, 29.387316], [-89.199548, 29.348977], [-89.09001, 29.2011], [-89.002379, 29.179192], [-89.16121, 29.009407], [-89.336472, 29.042268], [-89.484349, 29.217531], [-89.851304, 29.310638], [-89.851304, 29.480424], [-90.032043, 29.425654], [-90.021089, 29.283254], [-90.103244, 29.151807], [-90.23469, 29.129899], [-90.333275, 29.277777], [-90.563307, 29.283254], [-90.645461, 29.129899], [-90.798815, 29.086084], [-90.963123, 29.179192], [-91.09457, 29.190146], [-91.220539, 29.436608], [-91.445094, 29.546147], [-91.532725, 29.529716], [-91.620356, 29.73784], [-91.883249, 29.710455], [-91.888726, 29.836425], [-92.146142, 29.715932], [-92.113281, 29.622824], [-92.31045, 29.535193], [-92.617159, 29.579009], [-92.97316, 29.715932], [-93.2251, 29.776178], [-93.767317, 29.726886], [-93.838517, 29.688547], [-93.926148, 29.787132], [-93.690639, 30.143133], [-93.767317, 30.334826], [-93.696116, 30.438888], [-93.728978, 30.575812], [-93.630393, 30.679874], [-93.526331, 30.93729], [-93.542762, 31.15089], [-93.816609, 31.556184], [-93.822086, 31.775262], [-94.041164, 31.994339], [-94.041164, 33.018527], [-93.608485, 33.018527]]], &quot;type&quot;: &quot;Polygon&quot;}, &quot;id&quot;: &quot;22&quot;, &quot;properties&quot;: {&quot;density&quot;: 105, &quot;name&quot;: &quot;Louisiana&quot;}, &quot;type&quot;: &quot;Feature&quot;}, {&quot;geometry&quot;: {&quot;coordinates&quot;: [[[-70.703921, 43.057759], [-70.824413, 43.128959], [-70.807983, 43.227544], [-70.966814, 43.34256], [-71.032537, 44.657025], [-71.08183, 45.303304], [-70.649151, 45.440228], [-70.720352, 45.511428], [-70.556043, 45.664782], [-70.386258, 45.735983], [-70.41912, 45.796229], [-70.260289, 45.889337], [-70.309581, 46.064599], [-70.210996, 46.327492], [-70.057642, 46.415123], [-69.997395, 46.694447], [-69.225147, 47.461219], [-69.044408, 47.428357], [-69.033454, 47.242141], [-68.902007, 47.176418], [-68.578868, 47.285957], [-68.376221, 47.285957], [-68.233821, 47.357157], [-67.954497, 47.198326], [-67.790188, 47.066879], [-67.779235, 45.944106], [-67.801142, 45.675736], [-67.456095, 45.604536], [-67.505388, 45.48952], [-67.417757, 45.379982], [-67.488957, 45.281397], [-67.346556, 45.128042], [-67.16034, 45.160904], [-66.979601, 44.804903], [-67.187725, 44.646072], [-67.308218, 44.706318], [-67.406803, 44.596779], [-67.549203, 44.624164], [-67.565634, 44.531056], [-67.75185, 44.54201], [-68.047605, 44.328409], [-68.118805, 44.476286], [-68.222867, 44.48724], [-68.173574, 44.328409], [-68.403606, 44.251732], [-68.458375, 44.377701], [-68.567914, 44.311978], [-68.82533, 44.311978], [-68.830807, 44.459856], [-68.984161, 44.426994], [-68.956777, 44.322932], [-69.099177, 44.103854], [-69.071793, 44.043608], [-69.258008, 43.923115], [-69.444224, 43.966931], [-69.553763, 43.840961], [-69.707118, 43.82453], [-69.833087, 43.720469], [-69.986442, 43.742376], [-70.030257, 43.851915], [-70.254812, 43.676653], [-70.194565, 43.567114], [-70.358873, 43.528776], [-70.369827, 43.435668], [-70.556043, 43.320652], [-70.703921, 43.057759]]], &quot;type&quot;: &quot;Polygon&quot;}, &quot;id&quot;: &quot;23&quot;, &quot;properties&quot;: {&quot;density&quot;: 43.04, &quot;name&quot;: &quot;Maine&quot;}, &quot;type&quot;: &quot;Feature&quot;}, {&quot;geometry&quot;: {&quot;coordinates&quot;: [[[[-75.994645, 37.95325], [-76.016553, 37.95325], [-76.043938, 37.95325], [-75.994645, 37.95325]]], [[[-79.477979, 39.722302], [-75.786521, 39.722302], [-75.693413, 38.462606], [-75.047134, 38.451652], [-75.244304, 38.029928], [-75.397659, 38.013497], [-75.671506, 37.95325], [-75.885106, 37.909435], [-75.879629, 38.073743], [-75.961783, 38.139466], [-75.846768, 38.210667], [-76.000122, 38.374975], [-76.049415, 38.303775], [-76.257538, 38.320205], [-76.328738, 38.500944], [-76.263015, 38.500944], [-76.257538, 38.736453], [-76.191815, 38.829561], [-76.279446, 39.147223], [-76.169907, 39.333439], [-76.000122, 39.366301], [-75.972737, 39.557994], [-76.098707, 39.536086], [-76.104184, 39.437501], [-76.367077, 39.311532], [-76.443754, 39.196516], [-76.460185, 38.906238], [-76.55877, 38.769315], [-76.514954, 38.539283], [-76.383508, 38.380452], [-76.399939, 38.259959], [-76.317785, 38.139466], [-76.3616, 38.057312], [-76.591632, 38.216144], [-76.920248, 38.292821], [-77.018833, 38.446175], [-77.205049, 38.358544], [-77.276249, 38.479037], [-77.128372, 38.632391], [-77.040741, 38.791222], [-76.909294, 38.895284], [-77.035264, 38.993869], [-77.117418, 38.933623], [-77.248864, 39.026731], [-77.456988, 39.076023], [-77.456988, 39.223901], [-77.566527, 39.306055], [-77.719881, 39.322485], [-77.834897, 39.601809], [-78.004682, 39.601809], [-78.174467, 39.694917], [-78.267575, 39.61824], [-78.431884, 39.623717], [-78.470222, 39.514178], [-78.765977, 39.585379], [-78.963147, 39.437501], [-79.094593, 39.470363], [-79.291763, 39.300578], [-79.488933, 39.20747], [-79.477979, 39.722302]]]], &quot;type&quot;: &quot;MultiPolygon&quot;}, &quot;id&quot;: &quot;24&quot;, &quot;properties&quot;: {&quot;density&quot;: 596.3, &quot;name&quot;: &quot;Maryland&quot;}, &quot;type&quot;: &quot;Feature&quot;}, {&quot;geometry&quot;: {&quot;coordinates&quot;: [[[-70.917521, 42.887974], [-70.818936, 42.871543], [-70.780598, 42.696281], [-70.824413, 42.55388], [-70.983245, 42.422434], [-70.988722, 42.269079], [-70.769644, 42.247172], [-70.638197, 42.08834], [-70.660105, 41.962371], [-70.550566, 41.929509], [-70.539613, 41.814493], [-70.260289, 41.715908], [-69.937149, 41.809016], [-70.008349, 41.672093], [-70.484843, 41.5516], [-70.660105, 41.546123], [-70.764167, 41.639231], [-70.928475, 41.611847], [-70.933952, 41.540646], [-71.120168, 41.496831], [-71.196845, 41.67757], [-71.22423, 41.710431], [-71.328292, 41.781632], [-71.383061, 42.01714], [-71.530939, 42.01714], [-71.799309, 42.006186], [-71.799309, 42.022617], [-73.053528, 42.039048], [-73.486206, 42.050002], [-73.508114, 42.08834], [-73.267129, 42.745573], [-72.456542, 42.729142], [-71.29543, 42.696281], [-71.185891, 42.789389], [-70.917521, 42.887974]]], &quot;type&quot;: &quot;Polygon&quot;}, &quot;id&quot;: &quot;25&quot;, &quot;properties&quot;: {&quot;density&quot;: 840.2, &quot;name&quot;: &quot;Massachusetts&quot;}, &quot;type&quot;: &quot;Feature&quot;}, {&quot;geometry&quot;: {&quot;coordinates&quot;: [[[[-83.454238, 41.732339], [-84.807042, 41.694001], [-84.807042, 41.759724], [-85.990061, 41.759724], [-86.822556, 41.759724], [-86.619909, 41.891171], [-86.482986, 42.115725], [-86.357016, 42.252649], [-86.263908, 42.444341], [-86.209139, 42.718189], [-86.231047, 43.013943], [-86.526801, 43.594499], [-86.433693, 43.813577], [-86.499417, 44.07647], [-86.269385, 44.34484], [-86.220093, 44.569394], [-86.252954, 44.689887], [-86.088646, 44.73918], [-86.066738, 44.903488], [-85.809322, 44.947303], [-85.612152, 45.128042], [-85.628583, 44.766564], [-85.524521, 44.750133], [-85.393075, 44.930872], [-85.387598, 45.237581], [-85.305444, 45.314258], [-85.031597, 45.363551], [-85.119228, 45.577151], [-84.938489, 45.75789], [-84.713934, 45.768844], [-84.461995, 45.653829], [-84.215533, 45.637398], [-84.09504, 45.494997], [-83.908824, 45.484043], [-83.596638, 45.352597], [-83.4871, 45.358074], [-83.317314, 45.144473], [-83.454238, 45.029457], [-83.322791, 44.88158], [-83.273499, 44.711795], [-83.333745, 44.339363], [-83.536392, 44.246255], [-83.585684, 44.054562], [-83.82667, 43.988839], [-83.958116, 43.758807], [-83.908824, 43.671176], [-83.667839, 43.589022], [-83.481623, 43.714992], [-83.262545, 43.972408], [-82.917498, 44.070993], [-82.747713, 43.994316], [-82.643651, 43.851915], [-82.539589, 43.435668], [-82.523158, 43.227544], [-82.413619, 42.975605], [-82.517681, 42.614127], [-82.681989, 42.559357], [-82.687466, 42.690804], [-82.797005, 42.652465], [-82.922975, 42.351234], [-83.125621, 42.236218], [-83.185868, 42.006186], [-83.437807, 41.814493], [-83.454238, 41.732339]]], [[[-85.508091, 45.730506], [-85.49166, 45.610013], [-85.623106, 45.588105], [-85.568337, 45.75789], [-85.508091, 45.730506]]], [[[-87.589328, 45.095181], [-87.742682, 45.199243], [-87.649574, 45.341643], [-87.885083, 45.363551], [-87.791975, 45.500474], [-87.781021, 45.675736], [-87.989145, 45.796229], [-88.10416, 45.922199], [-88.531362, 46.020784], [-88.662808, 45.987922], [-89.09001, 46.135799], [-90.119674, 46.338446], [-90.229213, 46.508231], [-90.415429, 46.568478], [-90.026566, 46.672539], [-89.851304, 46.793032], [-89.413149, 46.842325], [-89.128348, 46.990202], [-88.996902, 46.995679], [-88.887363, 47.099741], [-88.575177, 47.247618], [-88.416346, 47.373588], [-88.180837, 47.455742], [-87.956283, 47.384542], [-88.350623, 47.077833], [-88.443731, 46.973771], [-88.438254, 46.787555], [-88.246561, 46.929956], [-87.901513, 46.908048], [-87.633143, 46.809463], [-87.392158, 46.535616], [-87.260711, 46.486323], [-87.008772, 46.530139], [-86.948526, 46.469893], [-86.696587, 46.437031], [-86.159846, 46.667063], [-85.880522, 46.68897], [-85.508091, 46.678016], [-85.256151, 46.754694], [-85.064458, 46.760171], [-85.02612, 46.480847], [-84.82895, 46.442508], [-84.63178, 46.486323], [-84.549626, 46.4206], [-84.418179, 46.502754], [-84.127902, 46.530139], [-84.122425, 46.179615], [-83.990978, 46.031737], [-83.793808, 45.993399], [-83.7719, 46.091984], [-83.580208, 46.091984], [-83.476146, 45.987922], [-83.563777, 45.911245], [-84.111471, 45.976968], [-84.374364, 45.933153], [-84.659165, 46.053645], [-84.741319, 45.944106], [-84.70298, 45.850998], [-84.82895, 45.872906], [-85.015166, 46.00983], [-85.338305, 46.091984], [-85.502614, 46.097461], [-85.661445, 45.966014], [-85.924338, 45.933153], [-86.209139, 45.960537], [-86.324155, 45.905768], [-86.351539, 45.796229], [-86.663725, 45.703121], [-86.647294, 45.834568], [-86.784218, 45.861952], [-86.838987, 45.725029], [-87.069019, 45.719552], [-87.17308, 45.659305], [-87.326435, 45.423797], [-87.611236, 45.122565], [-87.589328, 45.095181]]], [[[-88.805209, 47.976051], [-89.057148, 47.850082], [-89.188594, 47.833651], [-89.177641, 47.937713], [-88.547792, 48.173221], [-88.668285, 48.008913], [-88.805209, 47.976051]]]], &quot;type&quot;: &quot;MultiPolygon&quot;}, &quot;id&quot;: &quot;26&quot;, &quot;properties&quot;: {&quot;density&quot;: 173.9, &quot;name&quot;: &quot;Michigan&quot;}, &quot;type&quot;: &quot;Feature&quot;}, {&quot;geometry&quot;: {&quot;coordinates&quot;: [[[-92.014696, 46.705401], [-92.091373, 46.749217], [-92.29402, 46.667063], [-92.29402, 46.075553], [-92.354266, 46.015307], [-92.639067, 45.933153], [-92.869098, 45.719552], [-92.885529, 45.577151], [-92.770513, 45.566198], [-92.644544, 45.440228], [-92.75956, 45.286874], [-92.737652, 45.117088], [-92.808852, 44.750133], [-92.545959, 44.569394], [-92.337835, 44.552964], [-92.233773, 44.443425], [-91.927065, 44.333886], [-91.877772, 44.202439], [-91.592971, 44.032654], [-91.43414, 43.994316], [-91.242447, 43.775238], [-91.269832, 43.616407], [-91.215062, 43.501391], [-91.368417, 43.501391], [-96.451017, 43.501391], [-96.451017, 45.297827], [-96.681049, 45.412843], [-96.856311, 45.604536], [-96.582464, 45.818137], [-96.560556, 45.933153], [-96.598895, 46.332969], [-96.719387, 46.437031], [-96.801542, 46.656109], [-96.785111, 46.924479], [-96.823449, 46.968294], [-96.856311, 47.609096], [-97.053481, 47.948667], [-97.130158, 48.140359], [-97.16302, 48.545653], [-97.097296, 48.682577], [-97.228743, 49.000239], [-95.152983, 49.000239], [-95.152983, 49.383625], [-94.955813, 49.372671], [-94.824366, 49.295994], [-94.69292, 48.775685], [-94.588858, 48.715438], [-94.260241, 48.699007], [-94.221903, 48.649715], [-93.838517, 48.627807], [-93.794701, 48.518268], [-93.466085, 48.545653], [-93.466085, 48.589469], [-93.208669, 48.644238], [-92.984114, 48.62233], [-92.726698, 48.540176], [-92.655498, 48.436114], [-92.50762, 48.447068], [-92.370697, 48.222514], [-92.304974, 48.315622], [-92.053034, 48.359437], [-92.009219, 48.266329], [-91.713464, 48.200606], [-91.713464, 48.112975], [-91.565587, 48.041775], [-91.264355, 48.080113], [-91.083616, 48.178698], [-90.837154, 48.238944], [-90.749522, 48.091067], [-90.579737, 48.123929], [-90.377091, 48.091067], [-90.141582, 48.112975], [-89.873212, 47.987005], [-89.615796, 48.008913], [-89.637704, 47.954144], [-89.971797, 47.828174], [-90.437337, 47.729589], [-90.738569, 47.625527], [-91.171247, 47.368111], [-91.357463, 47.20928], [-91.642264, 47.028541], [-92.091373, 46.787555], [-92.014696, 46.705401]]], &quot;type&quot;: &quot;Polygon&quot;}, &quot;id&quot;: &quot;27&quot;, &quot;properties&quot;: {&quot;density&quot;: 67.14, &quot;name&quot;: &quot;Minnesota&quot;}, &quot;type&quot;: &quot;Feature&quot;}, {&quot;geometry&quot;: {&quot;coordinates&quot;: [[[-88.471115, 34.995703], [-88.202745, 34.995703], [-88.098683, 34.891641], [-88.241084, 33.796253], [-88.471115, 31.895754], [-88.394438, 30.367688], [-88.503977, 30.323872], [-88.744962, 30.34578], [-88.843547, 30.411504], [-89.084533, 30.367688], [-89.418626, 30.252672], [-89.522688, 30.181472], [-89.643181, 30.285534], [-89.681519, 30.449842], [-89.845827, 30.66892], [-89.747242, 30.997536], [-91.636787, 30.997536], [-91.565587, 31.068736], [-91.636787, 31.265906], [-91.516294, 31.27686], [-91.499863, 31.643815], [-91.401278, 31.621907], [-91.341032, 31.846462], [-91.105524, 31.988862], [-90.985031, 32.218894], [-91.006939, 32.514649], [-91.154816, 32.640618], [-91.143862, 32.843265], [-91.072662, 32.887081], [-91.16577, 33.002096], [-91.089093, 33.13902], [-91.143862, 33.347144], [-91.056231, 33.429298], [-91.231493, 33.560744], [-91.072662, 33.867453], [-90.891923, 34.026284], [-90.952169, 34.135823], [-90.744046, 34.300131], [-90.749522, 34.365854], [-90.568783, 34.420624], [-90.585214, 34.617794], [-90.481152, 34.661609], [-90.409952, 34.831394], [-90.251121, 34.908072], [-90.311367, 34.995703], [-88.471115, 34.995703]]], &quot;type&quot;: &quot;Polygon&quot;}, &quot;id&quot;: &quot;28&quot;, &quot;properties&quot;: {&quot;density&quot;: 63.5, &quot;name&quot;: &quot;Mississippi&quot;}, &quot;type&quot;: &quot;Feature&quot;}, {&quot;geometry&quot;: {&quot;coordinates&quot;: [[[-91.833957, 40.609566], [-91.729895, 40.615043], [-91.527248, 40.412397], [-91.417709, 40.379535], [-91.50534, 40.237135], [-91.494386, 40.034488], [-91.368417, 39.727779], [-91.061708, 39.470363], [-90.727615, 39.256762], [-90.661891, 38.928146], [-90.585214, 38.867899], [-90.470199, 38.961007], [-90.251121, 38.917192], [-90.10872, 38.845992], [-90.207305, 38.725499], [-90.179921, 38.632391], [-90.349706, 38.374975], [-90.355183, 38.216144], [-90.059428, 38.013497], [-89.949889, 37.88205], [-89.84035, 37.903958], [-89.517211, 37.690357], [-89.517211, 37.537003], [-89.435057, 37.34531], [-89.517211, 37.279587], [-89.292656, 36.994786], [-89.133825, 36.983832], [-89.215979, 36.578538], [-89.363857, 36.622354], [-89.418626, 36.496384], [-89.484349, 36.496384], [-89.539119, 36.496384], [-89.533642, 36.249922], [-89.730812, 35.997983], [-90.377091, 35.997983], [-90.218259, 36.184199], [-90.064905, 36.304691], [-90.152536, 36.496384], [-94.473842, 36.501861], [-94.616242, 36.501861], [-94.616242, 37.000263], [-94.610765, 39.158177], [-94.824366, 39.20747], [-94.983197, 39.442978], [-95.109167, 39.541563], [-94.884612, 39.831841], [-95.207752, 39.908518], [-95.306337, 40.001626], [-95.552799, 40.264519], [-95.7664, 40.587659], [-94.632673, 40.571228], [-93.257961, 40.582182], [-91.833957, 40.609566]]], &quot;type&quot;: &quot;Polygon&quot;}, &quot;id&quot;: &quot;29&quot;, &quot;properties&quot;: {&quot;density&quot;: 87.26, &quot;name&quot;: &quot;Missouri&quot;}, &quot;type&quot;: &quot;Feature&quot;}, {&quot;geometry&quot;: {&quot;coordinates&quot;: [[[-104.047534, 49.000239], [-104.042057, 47.861036], [-104.047534, 45.944106], [-104.042057, 44.996596], [-104.058488, 44.996596], [-105.91517, 45.002073], [-109.080842, 45.002073], [-111.05254, 45.002073], [-111.047063, 44.476286], [-111.227803, 44.580348], [-111.386634, 44.75561], [-111.616665, 44.547487], [-111.819312, 44.509148], [-111.868605, 44.563917], [-112.104113, 44.520102], [-112.241036, 44.569394], [-112.471068, 44.481763], [-112.783254, 44.48724], [-112.887315, 44.394132], [-113.002331, 44.448902], [-113.133778, 44.772041], [-113.341901, 44.782995], [-113.456917, 44.865149], [-113.45144, 45.056842], [-113.571933, 45.128042], [-113.736241, 45.330689], [-113.834826, 45.522382], [-113.807441, 45.604536], [-113.98818, 45.703121], [-114.086765, 45.593582], [-114.333228, 45.456659], [-114.546828, 45.560721], [-114.497536, 45.670259], [-114.568736, 45.774321], [-114.387997, 45.88386], [-114.492059, 46.037214], [-114.464674, 46.272723], [-114.322274, 46.645155], [-114.612552, 46.639678], [-114.623506, 46.705401], [-114.886399, 46.809463], [-114.930214, 46.919002], [-115.302646, 47.187372], [-115.324554, 47.258572], [-115.527201, 47.302388], [-115.718894, 47.42288], [-115.724371, 47.696727], [-116.04751, 47.976051], [-116.04751, 49.000239], [-111.50165, 48.994762], [-109.453274, 49.000239], [-104.047534, 49.000239]]], &quot;type&quot;: &quot;Polygon&quot;}, &quot;id&quot;: &quot;30&quot;, &quot;properties&quot;: {&quot;density&quot;: 6.858, &quot;name&quot;: &quot;Montana&quot;}, &quot;type&quot;: &quot;Feature&quot;}, {&quot;geometry&quot;: {&quot;coordinates&quot;: [[[-103.324578, 43.002989], [-101.626726, 42.997512], [-98.499393, 42.997512], [-98.466531, 42.94822], [-97.951699, 42.767481], [-97.831206, 42.866066], [-97.688806, 42.844158], [-97.217789, 42.844158], [-96.692003, 42.657942], [-96.626279, 42.515542], [-96.44554, 42.488157], [-96.264801, 42.039048], [-96.127878, 41.973325], [-96.062155, 41.798063], [-96.122401, 41.67757], [-96.095016, 41.540646], [-95.919754, 41.453015], [-95.925231, 41.201076], [-95.826646, 40.976521], [-95.881416, 40.719105], [-95.7664, 40.587659], [-95.552799, 40.264519], [-95.306337, 40.001626], [-101.90605, 40.001626], [-102.053927, 40.001626], [-102.053927, 41.003906], [-104.053011, 41.003906], [-104.053011, 43.002989], [-103.324578, 43.002989]]], &quot;type&quot;: &quot;Polygon&quot;}, &quot;id&quot;: &quot;31&quot;, &quot;properties&quot;: {&quot;density&quot;: 23.97, &quot;name&quot;: &quot;Nebraska&quot;}, &quot;type&quot;: &quot;Feature&quot;}, {&quot;geometry&quot;: {&quot;coordinates&quot;: [[[-117.027882, 42.000709], [-114.04295, 41.995232], [-114.048427, 37.000263], [-114.048427, 36.195153], [-114.152489, 36.025367], [-114.251074, 36.01989], [-114.371566, 36.140383], [-114.738521, 36.102045], [-114.678275, 35.516012], [-114.596121, 35.324319], [-114.574213, 35.138103], [-114.634459, 35.00118], [-115.85034, 35.970598], [-116.540435, 36.501861], [-117.498899, 37.21934], [-118.71478, 38.101128], [-120.001861, 38.999346], [-119.996384, 40.264519], [-120.001861, 41.995232], [-118.698349, 41.989755], [-117.027882, 42.000709]]], &quot;type&quot;: &quot;Polygon&quot;}, &quot;id&quot;: &quot;32&quot;, &quot;properties&quot;: {&quot;density&quot;: 24.8, &quot;name&quot;: &quot;Nevada&quot;}, &quot;type&quot;: &quot;Feature&quot;}, {&quot;geometry&quot;: {&quot;coordinates&quot;: [[[-71.08183, 45.303304], [-71.032537, 44.657025], [-70.966814, 43.34256], [-70.807983, 43.227544], [-70.824413, 43.128959], [-70.703921, 43.057759], [-70.818936, 42.871543], [-70.917521, 42.887974], [-71.185891, 42.789389], [-71.29543, 42.696281], [-72.456542, 42.729142], [-72.544173, 42.80582], [-72.533219, 42.953697], [-72.445588, 43.008466], [-72.456542, 43.150867], [-72.379864, 43.572591], [-72.204602, 43.769761], [-72.116971, 43.994316], [-72.02934, 44.07647], [-72.034817, 44.322932], [-71.700724, 44.41604], [-71.536416, 44.585825], [-71.629524, 44.750133], [-71.4926, 44.914442], [-71.503554, 45.013027], [-71.361154, 45.270443], [-71.131122, 45.243058], [-71.08183, 45.303304]]], &quot;type&quot;: &quot;Polygon&quot;}, &quot;id&quot;: &quot;33&quot;, &quot;properties&quot;: {&quot;density&quot;: 147, &quot;name&quot;: &quot;New Hampshire&quot;}, &quot;type&quot;: &quot;Feature&quot;}, {&quot;geometry&quot;: {&quot;coordinates&quot;: [[[-74.236547, 41.14083], [-73.902454, 40.998429], [-74.022947, 40.708151], [-74.187255, 40.642428], [-74.274886, 40.489074], [-74.001039, 40.412397], [-73.979131, 40.297381], [-74.099624, 39.760641], [-74.411809, 39.360824], [-74.614456, 39.245808], [-74.795195, 38.993869], [-74.888303, 39.158177], [-75.178581, 39.240331], [-75.534582, 39.459409], [-75.55649, 39.607286], [-75.561967, 39.629194], [-75.507197, 39.683964], [-75.414089, 39.804456], [-75.145719, 39.88661], [-75.129289, 39.963288], [-74.82258, 40.127596], [-74.773287, 40.215227], [-75.058088, 40.417874], [-75.069042, 40.543843], [-75.195012, 40.576705], [-75.205966, 40.691721], [-75.052611, 40.866983], [-75.134765, 40.971045], [-74.882826, 41.179168], [-74.828057, 41.288707], [-74.69661, 41.359907], [-74.236547, 41.14083]]], &quot;type&quot;: &quot;Polygon&quot;}, &quot;id&quot;: &quot;34&quot;, &quot;properties&quot;: {&quot;density&quot;: 1189, &quot;name&quot;: &quot;New Jersey&quot;}, &quot;type&quot;: &quot;Feature&quot;}, {&quot;geometry&quot;: {&quot;coordinates&quot;: [[[-107.421329, 37.000263], [-106.868158, 36.994786], [-104.337812, 36.994786], [-103.001438, 37.000263], [-103.001438, 36.501861], [-103.039777, 36.501861], [-103.045254, 34.01533], [-103.067161, 33.002096], [-103.067161, 31.999816], [-106.616219, 31.999816], [-106.643603, 31.901231], [-106.528588, 31.786216], [-108.210008, 31.786216], [-108.210008, 31.331629], [-109.04798, 31.331629], [-109.042503, 37.000263], [-107.421329, 37.000263]]], &quot;type&quot;: &quot;Polygon&quot;}, &quot;id&quot;: &quot;35&quot;, &quot;properties&quot;: {&quot;density&quot;: 17.16, &quot;name&quot;: &quot;New Mexico&quot;}, &quot;type&quot;: &quot;Feature&quot;}, {&quot;geometry&quot;: {&quot;coordinates&quot;: [[[-73.343806, 45.013027], [-73.332852, 44.804903], [-73.387622, 44.618687], [-73.294514, 44.437948], [-73.321898, 44.246255], [-73.436914, 44.043608], [-73.349283, 43.769761], [-73.404052, 43.687607], [-73.245221, 43.523299], [-73.278083, 42.833204], [-73.267129, 42.745573], [-73.508114, 42.08834], [-73.486206, 42.050002], [-73.55193, 41.294184], [-73.48073, 41.21203], [-73.727192, 41.102491], [-73.655992, 40.987475], [-73.22879, 40.905321], [-73.141159, 40.965568], [-72.774204, 40.965568], [-72.587988, 40.998429], [-72.28128, 41.157261], [-72.259372, 41.042245], [-72.100541, 40.992952], [-72.467496, 40.845075], [-73.239744, 40.625997], [-73.562884, 40.582182], [-73.776484, 40.593136], [-73.935316, 40.543843], [-74.022947, 40.708151], [-73.902454, 40.998429], [-74.236547, 41.14083], [-74.69661, 41.359907], [-74.740426, 41.431108], [-74.89378, 41.436584], [-75.074519, 41.60637], [-75.052611, 41.754247], [-75.173104, 41.869263], [-75.249781, 41.863786], [-75.35932, 42.000709], [-79.76278, 42.000709], [-79.76278, 42.252649], [-79.76278, 42.269079], [-79.149363, 42.55388], [-79.050778, 42.690804], [-78.853608, 42.783912], [-78.930285, 42.953697], [-79.012439, 42.986559], [-79.072686, 43.260406], [-78.486653, 43.375421], [-77.966344, 43.369944], [-77.75822, 43.34256], [-77.533665, 43.233021], [-77.391265, 43.276836], [-76.958587, 43.271359], [-76.695693, 43.34256], [-76.41637, 43.523299], [-76.235631, 43.528776], [-76.230154, 43.802623], [-76.137046, 43.961454], [-76.3616, 44.070993], [-76.312308, 44.196962], [-75.912491, 44.366748], [-75.764614, 44.514625], [-75.282643, 44.848718], [-74.828057, 45.018503], [-74.148916, 44.991119], [-73.343806, 45.013027]]], &quot;type&quot;: &quot;Polygon&quot;}, &quot;id&quot;: &quot;36&quot;, &quot;properties&quot;: {&quot;density&quot;: 412.3, &quot;name&quot;: &quot;New York&quot;}, &quot;type&quot;: &quot;Feature&quot;}, {&quot;geometry&quot;: {&quot;coordinates&quot;: [[[-80.978661, 36.562108], [-80.294043, 36.545677], [-79.510841, 36.5402], [-75.868676, 36.551154], [-75.75366, 36.151337], [-76.032984, 36.189676], [-76.071322, 36.140383], [-76.410893, 36.080137], [-76.460185, 36.025367], [-76.68474, 36.008937], [-76.673786, 35.937736], [-76.399939, 35.987029], [-76.3616, 35.943213], [-76.060368, 35.992506], [-75.961783, 35.899398], [-75.781044, 35.937736], [-75.715321, 35.696751], [-75.775568, 35.581735], [-75.89606, 35.570781], [-76.147999, 35.324319], [-76.482093, 35.313365], [-76.536862, 35.14358], [-76.394462, 34.973795], [-76.279446, 34.940933], [-76.493047, 34.661609], [-76.673786, 34.694471], [-76.991448, 34.667086], [-77.210526, 34.60684], [-77.555573, 34.415147], [-77.82942, 34.163208], [-77.971821, 33.845545], [-78.179944, 33.916745], [-78.541422, 33.851022], [-79.675149, 34.80401], [-80.797922, 34.820441], [-80.781491, 34.935456], [-80.934845, 35.105241], [-81.038907, 35.044995], [-81.044384, 35.149057], [-82.276696, 35.198349], [-82.550543, 35.160011], [-82.764143, 35.066903], [-83.109191, 35.00118], [-83.618546, 34.984749], [-84.319594, 34.990226], [-84.29221, 35.225734], [-84.09504, 35.247642], [-84.018363, 35.41195], [-83.7719, 35.559827], [-83.498053, 35.565304], [-83.251591, 35.718659], [-82.994175, 35.773428], [-82.775097, 35.997983], [-82.638174, 36.063706], [-82.610789, 35.965121], [-82.216449, 36.156814], [-82.03571, 36.118475], [-81.909741, 36.304691], [-81.723525, 36.353984], [-81.679709, 36.589492], [-80.978661, 36.562108]]], &quot;type&quot;: &quot;Polygon&quot;}, &quot;id&quot;: &quot;37&quot;, &quot;properties&quot;: {&quot;density&quot;: 198.2, &quot;name&quot;: &quot;North Carolina&quot;}, &quot;type&quot;: &quot;Feature&quot;}, {&quot;geometry&quot;: {&quot;coordinates&quot;: [[[-97.228743, 49.000239], [-97.097296, 48.682577], [-97.16302, 48.545653], [-97.130158, 48.140359], [-97.053481, 47.948667], [-96.856311, 47.609096], [-96.823449, 46.968294], [-96.785111, 46.924479], [-96.801542, 46.656109], [-96.719387, 46.437031], [-96.598895, 46.332969], [-96.560556, 45.933153], [-104.047534, 45.944106], [-104.042057, 47.861036], [-104.047534, 49.000239], [-97.228743, 49.000239]]], &quot;type&quot;: &quot;Polygon&quot;}, &quot;id&quot;: &quot;38&quot;, &quot;properties&quot;: {&quot;density&quot;: 9.916, &quot;name&quot;: &quot;North Dakota&quot;}, &quot;type&quot;: &quot;Feature&quot;}, {&quot;geometry&quot;: {&quot;coordinates&quot;: [[[-80.518598, 41.978802], [-80.518598, 40.636951], [-80.666475, 40.582182], [-80.595275, 40.472643], [-80.600752, 40.319289], [-80.737675, 40.078303], [-80.830783, 39.711348], [-81.219646, 39.388209], [-81.345616, 39.344393], [-81.455155, 39.410117], [-81.57017, 39.267716], [-81.685186, 39.273193], [-81.811156, 39.0815], [-81.783771, 38.966484], [-81.887833, 38.873376], [-82.03571, 39.026731], [-82.221926, 38.785745], [-82.172634, 38.632391], [-82.293127, 38.577622], [-82.331465, 38.446175], [-82.594358, 38.424267], [-82.731282, 38.561191], [-82.846298, 38.588575], [-82.890113, 38.758361], [-83.032514, 38.725499], [-83.142052, 38.626914], [-83.519961, 38.703591], [-83.678792, 38.632391], [-83.903347, 38.769315], [-84.215533, 38.807653], [-84.231963, 38.895284], [-84.43461, 39.103408], [-84.817996, 39.103408], [-84.801565, 40.500028], [-84.807042, 41.694001], [-83.454238, 41.732339], [-83.065375, 41.595416], [-82.933929, 41.513262], [-82.835344, 41.589939], [-82.616266, 41.431108], [-82.479343, 41.381815], [-82.013803, 41.513262], [-81.739956, 41.485877], [-81.444201, 41.672093], [-81.011523, 41.852832], [-80.518598, 41.978802], [-80.518598, 41.978802]]], &quot;type&quot;: &quot;Polygon&quot;}, &quot;id&quot;: &quot;39&quot;, &quot;properties&quot;: {&quot;density&quot;: 281.9, &quot;name&quot;: &quot;Ohio&quot;}, &quot;type&quot;: &quot;Feature&quot;}, {&quot;geometry&quot;: {&quot;coordinates&quot;: [[[-100.087706, 37.000263], [-94.616242, 37.000263], [-94.616242, 36.501861], [-94.430026, 35.395519], [-94.484796, 33.637421], [-94.868182, 33.74696], [-94.966767, 33.861976], [-95.224183, 33.960561], [-95.289906, 33.87293], [-95.547322, 33.878407], [-95.602092, 33.933176], [-95.8376, 33.834591], [-95.936185, 33.889361], [-96.149786, 33.840068], [-96.346956, 33.686714], [-96.423633, 33.774345], [-96.631756, 33.845545], [-96.850834, 33.845545], [-96.922034, 33.960561], [-97.173974, 33.736006], [-97.256128, 33.861976], [-97.371143, 33.823637], [-97.458774, 33.905791], [-97.694283, 33.982469], [-97.869545, 33.851022], [-97.946222, 33.987946], [-98.088623, 34.004376], [-98.170777, 34.113915], [-98.36247, 34.157731], [-98.488439, 34.064623], [-98.570593, 34.146777], [-98.767763, 34.135823], [-98.986841, 34.223454], [-99.189488, 34.2125], [-99.260688, 34.404193], [-99.57835, 34.415147], [-99.698843, 34.382285], [-99.923398, 34.573978], [-100.000075, 34.563024], [-100.000075, 36.501861], [-101.812942, 36.501861], [-103.001438, 36.501861], [-103.001438, 37.000263], [-102.042974, 36.994786], [-100.087706, 37.000263]]], &quot;type&quot;: &quot;Polygon&quot;}, &quot;id&quot;: &quot;40&quot;, &quot;properties&quot;: {&quot;density&quot;: 55.22, &quot;name&quot;: &quot;Oklahoma&quot;}, &quot;type&quot;: &quot;Feature&quot;}, {&quot;geometry&quot;: {&quot;coordinates&quot;: [[[-123.211348, 46.174138], [-123.11824, 46.185092], [-122.904639, 46.08103], [-122.811531, 45.960537], [-122.762239, 45.659305], [-122.247407, 45.549767], [-121.809251, 45.708598], [-121.535404, 45.725029], [-121.217742, 45.670259], [-121.18488, 45.604536], [-120.637186, 45.746937], [-120.505739, 45.697644], [-120.209985, 45.725029], [-119.963522, 45.823614], [-119.525367, 45.911245], [-119.125551, 45.933153], [-118.988627, 45.998876], [-116.918344, 45.993399], [-116.78142, 45.823614], [-116.545912, 45.752413], [-116.463758, 45.61549], [-116.671881, 45.319735], [-116.732128, 45.144473], [-116.847143, 45.02398], [-116.830713, 44.930872], [-116.934774, 44.782995], [-117.038836, 44.750133], [-117.241483, 44.394132], [-117.170283, 44.257209], [-116.97859, 44.240778], [-116.896436, 44.158624], [-117.027882, 43.830007], [-117.027882, 42.000709], [-118.698349, 41.989755], [-120.001861, 41.995232], [-121.037003, 41.995232], [-122.378853, 42.011663], [-123.233256, 42.006186], [-124.213628, 42.000709], [-124.356029, 42.115725], [-124.432706, 42.438865], [-124.416275, 42.663419], [-124.553198, 42.838681], [-124.454613, 43.002989], [-124.383413, 43.271359], [-124.235536, 43.55616], [-124.169813, 43.8081], [-124.060274, 44.657025], [-124.076705, 44.772041], [-123.97812, 45.144473], [-123.939781, 45.659305], [-123.994551, 45.944106], [-123.945258, 46.113892], [-123.545441, 46.261769], [-123.370179, 46.146753], [-123.211348, 46.174138]]], &quot;type&quot;: &quot;Polygon&quot;}, &quot;id&quot;: &quot;41&quot;, &quot;properties&quot;: {&quot;density&quot;: 40.33, &quot;name&quot;: &quot;Oregon&quot;}, &quot;type&quot;: &quot;Feature&quot;}, {&quot;geometry&quot;: {&quot;coordinates&quot;: [[[-79.76278, 42.252649], [-79.76278, 42.000709], [-75.35932, 42.000709], [-75.249781, 41.863786], [-75.173104, 41.869263], [-75.052611, 41.754247], [-75.074519, 41.60637], [-74.89378, 41.436584], [-74.740426, 41.431108], [-74.69661, 41.359907], [-74.828057, 41.288707], [-74.882826, 41.179168], [-75.134765, 40.971045], [-75.052611, 40.866983], [-75.205966, 40.691721], [-75.195012, 40.576705], [-75.069042, 40.543843], [-75.058088, 40.417874], [-74.773287, 40.215227], [-74.82258, 40.127596], [-75.129289, 39.963288], [-75.145719, 39.88661], [-75.414089, 39.804456], [-75.616736, 39.831841], [-75.786521, 39.722302], [-79.477979, 39.722302], [-80.518598, 39.722302], [-80.518598, 40.636951], [-80.518598, 41.978802], [-80.518598, 41.978802], [-80.332382, 42.033571], [-79.76278, 42.269079], [-79.76278, 42.252649]]], &quot;type&quot;: &quot;Polygon&quot;}, &quot;id&quot;: &quot;42&quot;, &quot;properties&quot;: {&quot;density&quot;: 284.3, &quot;name&quot;: &quot;Pennsylvania&quot;}, &quot;type&quot;: &quot;Feature&quot;}, {&quot;geometry&quot;: {&quot;coordinates&quot;: [[[[-71.196845, 41.67757], [-71.120168, 41.496831], [-71.317338, 41.474923], [-71.196845, 41.67757]]], [[[-71.530939, 42.01714], [-71.383061, 42.01714], [-71.328292, 41.781632], [-71.22423, 41.710431], [-71.344723, 41.726862], [-71.448785, 41.578985], [-71.481646, 41.370861], [-71.859555, 41.321569], [-71.799309, 41.414677], [-71.799309, 42.006186], [-71.530939, 42.01714]]]], &quot;type&quot;: &quot;MultiPolygon&quot;}, &quot;id&quot;: &quot;44&quot;, &quot;properties&quot;: {&quot;density&quot;: 1006, &quot;name&quot;: &quot;Rhode Island&quot;}, &quot;type&quot;: &quot;Feature&quot;}, {&quot;geometry&quot;: {&quot;coordinates&quot;: [[[-82.764143, 35.066903], [-82.550543, 35.160011], [-82.276696, 35.198349], [-81.044384, 35.149057], [-81.038907, 35.044995], [-80.934845, 35.105241], [-80.781491, 34.935456], [-80.797922, 34.820441], [-79.675149, 34.80401], [-78.541422, 33.851022], [-78.716684, 33.80173], [-78.935762, 33.637421], [-79.149363, 33.380005], [-79.187701, 33.171881], [-79.357487, 33.007573], [-79.582041, 33.007573], [-79.631334, 32.887081], [-79.866842, 32.755634], [-79.998289, 32.613234], [-80.206412, 32.552987], [-80.430967, 32.399633], [-80.452875, 32.328433], [-80.660998, 32.246279], [-80.885553, 32.032678], [-81.115584, 32.120309], [-81.121061, 32.290094], [-81.279893, 32.558464], [-81.416816, 32.629664], [-81.42777, 32.843265], [-81.493493, 33.007573], [-81.761863, 33.160928], [-81.937125, 33.347144], [-81.926172, 33.462159], [-82.194542, 33.631944], [-82.325988, 33.81816], [-82.55602, 33.94413], [-82.714851, 34.152254], [-82.747713, 34.26727], [-82.901067, 34.486347], [-83.005129, 34.469916], [-83.339222, 34.683517], [-83.322791, 34.787579], [-83.109191, 35.00118], [-82.764143, 35.066903]]], &quot;type&quot;: &quot;Polygon&quot;}, &quot;id&quot;: &quot;45&quot;, &quot;properties&quot;: {&quot;density&quot;: 155.4, &quot;name&quot;: &quot;South Carolina&quot;}, &quot;type&quot;: &quot;Feature&quot;}, {&quot;geometry&quot;: {&quot;coordinates&quot;: [[[-104.047534, 45.944106], [-96.560556, 45.933153], [-96.582464, 45.818137], [-96.856311, 45.604536], [-96.681049, 45.412843], [-96.451017, 45.297827], [-96.451017, 43.501391], [-96.582464, 43.479483], [-96.527695, 43.397329], [-96.560556, 43.222067], [-96.434587, 43.123482], [-96.511264, 43.052282], [-96.544125, 42.855112], [-96.631756, 42.707235], [-96.44554, 42.488157], [-96.626279, 42.515542], [-96.692003, 42.657942], [-97.217789, 42.844158], [-97.688806, 42.844158], [-97.831206, 42.866066], [-97.951699, 42.767481], [-98.466531, 42.94822], [-98.499393, 42.997512], [-101.626726, 42.997512], [-103.324578, 43.002989], [-104.053011, 43.002989], [-104.058488, 44.996596], [-104.042057, 44.996596], [-104.047534, 45.944106]]], &quot;type&quot;: &quot;Polygon&quot;}, &quot;id&quot;: &quot;46&quot;, &quot;properties&quot;: {&quot;density&quot;: 98.07, &quot;name&quot;: &quot;South Dakota&quot;}, &quot;type&quot;: &quot;Feature&quot;}, {&quot;geometry&quot;: {&quot;coordinates&quot;: [[[-88.054868, 36.496384], [-88.071299, 36.677123], [-87.852221, 36.633308], [-86.592525, 36.655216], [-85.486183, 36.616877], [-85.289013, 36.627831], [-84.544149, 36.594969], [-83.689746, 36.584015], [-83.673316, 36.600446], [-81.679709, 36.589492], [-81.723525, 36.353984], [-81.909741, 36.304691], [-82.03571, 36.118475], [-82.216449, 36.156814], [-82.610789, 35.965121], [-82.638174, 36.063706], [-82.775097, 35.997983], [-82.994175, 35.773428], [-83.251591, 35.718659], [-83.498053, 35.565304], [-83.7719, 35.559827], [-84.018363, 35.41195], [-84.09504, 35.247642], [-84.29221, 35.225734], [-84.319594, 34.990226], [-85.606675, 34.984749], [-87.359296, 35.00118], [-88.202745, 34.995703], [-88.471115, 34.995703], [-90.311367, 34.995703], [-90.212782, 35.023087], [-90.114197, 35.198349], [-90.130628, 35.439335], [-89.944412, 35.603643], [-89.911551, 35.756997], [-89.763673, 35.811767], [-89.730812, 35.997983], [-89.533642, 36.249922], [-89.539119, 36.496384], [-89.484349, 36.496384], [-89.418626, 36.496384], [-89.298133, 36.507338], [-88.054868, 36.496384]]], &quot;type&quot;: &quot;Polygon&quot;}, &quot;id&quot;: &quot;47&quot;, &quot;properties&quot;: {&quot;density&quot;: 88.08, &quot;name&quot;: &quot;Tennessee&quot;}, &quot;type&quot;: &quot;Feature&quot;}, {&quot;geometry&quot;: {&quot;coordinates&quot;: [[[-101.812942, 36.501861], [-100.000075, 36.501861], [-100.000075, 34.563024], [-99.923398, 34.573978], [-99.698843, 34.382285], [-99.57835, 34.415147], [-99.260688, 34.404193], [-99.189488, 34.2125], [-98.986841, 34.223454], [-98.767763, 34.135823], [-98.570593, 34.146777], [-98.488439, 34.064623], [-98.36247, 34.157731], [-98.170777, 34.113915], [-98.088623, 34.004376], [-97.946222, 33.987946], [-97.869545, 33.851022], [-97.694283, 33.982469], [-97.458774, 33.905791], [-97.371143, 33.823637], [-97.256128, 33.861976], [-97.173974, 33.736006], [-96.922034, 33.960561], [-96.850834, 33.845545], [-96.631756, 33.845545], [-96.423633, 33.774345], [-96.346956, 33.686714], [-96.149786, 33.840068], [-95.936185, 33.889361], [-95.8376, 33.834591], [-95.602092, 33.933176], [-95.547322, 33.878407], [-95.289906, 33.87293], [-95.224183, 33.960561], [-94.966767, 33.861976], [-94.868182, 33.74696], [-94.484796, 33.637421], [-94.380734, 33.544313], [-94.183564, 33.593606], [-94.041164, 33.54979], [-94.041164, 33.018527], [-94.041164, 31.994339], [-93.822086, 31.775262], [-93.816609, 31.556184], [-93.542762, 31.15089], [-93.526331, 30.93729], [-93.630393, 30.679874], [-93.728978, 30.575812], [-93.696116, 30.438888], [-93.767317, 30.334826], [-93.690639, 30.143133], [-93.926148, 29.787132], [-93.838517, 29.688547], [-94.002825, 29.68307], [-94.523134, 29.546147], [-94.70935, 29.622824], [-94.742212, 29.787132], [-94.873659, 29.672117], [-94.966767, 29.699501], [-95.016059, 29.557101], [-94.911997, 29.496854], [-94.895566, 29.310638], [-95.081782, 29.113469], [-95.383014, 28.867006], [-95.985477, 28.604113], [-96.045724, 28.647929], [-96.226463, 28.582205], [-96.23194, 28.642452], [-96.478402, 28.598636], [-96.593418, 28.724606], [-96.664618, 28.697221], [-96.401725, 28.439805], [-96.593418, 28.357651], [-96.774157, 28.406943], [-96.801542, 28.226204], [-97.026096, 28.039988], [-97.256128, 27.694941], [-97.404005, 27.333463], [-97.513544, 27.360848], [-97.540929, 27.229401], [-97.425913, 27.262263], [-97.480682, 26.99937], [-97.557359, 26.988416], [-97.562836, 26.840538], [-97.469728, 26.758384], [-97.442344, 26.457153], [-97.332805, 26.353091], [-97.30542, 26.161398], [-97.217789, 25.991613], [-97.524498, 25.887551], [-97.650467, 26.018997], [-97.885976, 26.06829], [-98.198161, 26.057336], [-98.466531, 26.221644], [-98.669178, 26.238075], [-98.822533, 26.369522], [-99.030656, 26.413337], [-99.173057, 26.539307], [-99.266165, 26.840538], [-99.446904, 27.021277], [-99.424996, 27.174632], [-99.50715, 27.33894], [-99.479765, 27.48134], [-99.605735, 27.640172], [-99.709797, 27.656603], [-99.879582, 27.799003], [-99.934351, 27.979742], [-100.082229, 28.14405], [-100.29583, 28.280974], [-100.399891, 28.582205], [-100.498476, 28.66436], [-100.629923, 28.905345], [-100.673738, 29.102515], [-100.799708, 29.244915], [-101.013309, 29.370885], [-101.062601, 29.458516], [-101.259771, 29.535193], [-101.413125, 29.754271], [-101.851281, 29.803563], [-102.114174, 29.792609], [-102.338728, 29.869286], [-102.388021, 29.765225], [-102.629006, 29.732363], [-102.809745, 29.524239], [-102.919284, 29.190146], [-102.97953, 29.184669], [-103.116454, 28.987499], [-103.280762, 28.982022], [-103.527224, 29.135376], [-104.146119, 29.381839], [-104.266611, 29.513285], [-104.507597, 29.639255], [-104.677382, 29.924056], [-104.688336, 30.181472], [-104.858121, 30.389596], [-104.896459, 30.570335], [-105.005998, 30.685351], [-105.394861, 30.855136], [-105.602985, 31.085167], [-105.77277, 31.167321], [-105.953509, 31.364491], [-106.205448, 31.468553], [-106.38071, 31.731446], [-106.528588, 31.786216], [-106.643603, 31.901231], [-106.616219, 31.999816], [-103.067161, 31.999816], [-103.067161, 33.002096], [-103.045254, 34.01533], [-103.039777, 36.501861], [-103.001438, 36.501861], [-101.812942, 36.501861]]], &quot;type&quot;: &quot;Polygon&quot;}, &quot;id&quot;: &quot;48&quot;, &quot;properties&quot;: {&quot;density&quot;: 98.07, &quot;name&quot;: &quot;Texas&quot;}, &quot;type&quot;: &quot;Feature&quot;}, {&quot;geometry&quot;: {&quot;coordinates&quot;: [[[-112.164359, 41.995232], [-111.047063, 42.000709], [-111.047063, 40.998429], [-109.04798, 40.998429], [-109.053457, 39.125316], [-109.058934, 38.27639], [-109.042503, 38.166851], [-109.042503, 37.000263], [-110.499369, 37.00574], [-114.048427, 37.000263], [-114.04295, 41.995232], [-112.164359, 41.995232]]], &quot;type&quot;: &quot;Polygon&quot;}, &quot;id&quot;: &quot;49&quot;, &quot;properties&quot;: {&quot;density&quot;: 34.3, &quot;name&quot;: &quot;Utah&quot;}, &quot;type&quot;: &quot;Feature&quot;}, {&quot;geometry&quot;: {&quot;coordinates&quot;: [[[-71.503554, 45.013027], [-71.4926, 44.914442], [-71.629524, 44.750133], [-71.536416, 44.585825], [-71.700724, 44.41604], [-72.034817, 44.322932], [-72.02934, 44.07647], [-72.116971, 43.994316], [-72.204602, 43.769761], [-72.379864, 43.572591], [-72.456542, 43.150867], [-72.445588, 43.008466], [-72.533219, 42.953697], [-72.544173, 42.80582], [-72.456542, 42.729142], [-73.267129, 42.745573], [-73.278083, 42.833204], [-73.245221, 43.523299], [-73.404052, 43.687607], [-73.349283, 43.769761], [-73.436914, 44.043608], [-73.321898, 44.246255], [-73.294514, 44.437948], [-73.387622, 44.618687], [-73.332852, 44.804903], [-73.343806, 45.013027], [-72.308664, 45.002073], [-71.503554, 45.013027]]], &quot;type&quot;: &quot;Polygon&quot;}, &quot;id&quot;: &quot;50&quot;, &quot;properties&quot;: {&quot;density&quot;: 67.73, &quot;name&quot;: &quot;Vermont&quot;}, &quot;type&quot;: &quot;Feature&quot;}, {&quot;geometry&quot;: {&quot;coordinates&quot;: [[[[-75.397659, 38.013497], [-75.244304, 38.029928], [-75.375751, 37.860142], [-75.512674, 37.799896], [-75.594828, 37.569865], [-75.802952, 37.197433], [-75.972737, 37.120755], [-76.027507, 37.257679], [-75.939876, 37.564388], [-75.671506, 37.95325], [-75.397659, 38.013497]]], [[[-76.016553, 37.95325], [-75.994645, 37.95325], [-76.043938, 37.95325], [-76.016553, 37.95325]]], [[[-78.349729, 39.464886], [-77.82942, 39.130793], [-77.719881, 39.322485], [-77.566527, 39.306055], [-77.456988, 39.223901], [-77.456988, 39.076023], [-77.248864, 39.026731], [-77.117418, 38.933623], [-77.040741, 38.791222], [-77.128372, 38.632391], [-77.248864, 38.588575], [-77.325542, 38.446175], [-77.281726, 38.342113], [-77.013356, 38.374975], [-76.964064, 38.216144], [-76.613539, 38.15042], [-76.514954, 38.024451], [-76.235631, 37.887527], [-76.3616, 37.608203], [-76.246584, 37.389126], [-76.383508, 37.285064], [-76.399939, 37.159094], [-76.273969, 37.082417], [-76.410893, 36.961924], [-76.619016, 37.120755], [-76.668309, 37.065986], [-76.48757, 36.95097], [-75.994645, 36.923586], [-75.868676, 36.551154], [-79.510841, 36.5402], [-80.294043, 36.545677], [-80.978661, 36.562108], [-81.679709, 36.589492], [-83.673316, 36.600446], [-83.136575, 36.742847], [-83.070852, 36.852385], [-82.879159, 36.890724], [-82.868205, 36.978355], [-82.720328, 37.044078], [-82.720328, 37.120755], [-82.353373, 37.268633], [-81.969987, 37.537003], [-81.986418, 37.454849], [-81.849494, 37.285064], [-81.679709, 37.20291], [-81.55374, 37.208387], [-81.362047, 37.339833], [-81.225123, 37.235771], [-80.967707, 37.290541], [-80.513121, 37.482234], [-80.474782, 37.421987], [-80.29952, 37.509618], [-80.294043, 37.690357], [-80.184505, 37.849189], [-79.998289, 37.997066], [-79.921611, 38.177805], [-79.724442, 38.364021], [-79.647764, 38.594052], [-79.477979, 38.457129], [-79.313671, 38.413313], [-79.209609, 38.495467], [-78.996008, 38.851469], [-78.870039, 38.763838], [-78.404499, 39.169131], [-78.349729, 39.464886]]]], &quot;type&quot;: &quot;MultiPolygon&quot;}, &quot;id&quot;: &quot;51&quot;, &quot;properties&quot;: {&quot;density&quot;: 204.5, &quot;name&quot;: &quot;Virginia&quot;}, &quot;type&quot;: &quot;Feature&quot;}, {&quot;geometry&quot;: {&quot;coordinates&quot;: [[[[-117.033359, 49.000239], [-117.044313, 47.762451], [-117.038836, 46.426077], [-117.055267, 46.343923], [-116.92382, 46.168661], [-116.918344, 45.993399], [-118.988627, 45.998876], [-119.125551, 45.933153], [-119.525367, 45.911245], [-119.963522, 45.823614], [-120.209985, 45.725029], [-120.505739, 45.697644], [-120.637186, 45.746937], [-121.18488, 45.604536], [-121.217742, 45.670259], [-121.535404, 45.725029], [-121.809251, 45.708598], [-122.247407, 45.549767], [-122.762239, 45.659305], [-122.811531, 45.960537], [-122.904639, 46.08103], [-123.11824, 46.185092], [-123.211348, 46.174138], [-123.370179, 46.146753], [-123.545441, 46.261769], [-123.72618, 46.300108], [-123.874058, 46.239861], [-124.065751, 46.327492], [-124.027412, 46.464416], [-123.895966, 46.535616], [-124.098612, 46.74374], [-124.235536, 47.285957], [-124.31769, 47.357157], [-124.427229, 47.740543], [-124.624399, 47.88842], [-124.706553, 48.184175], [-124.597014, 48.381345], [-124.394367, 48.288237], [-123.983597, 48.162267], [-123.704273, 48.167744], [-123.424949, 48.118452], [-123.162056, 48.167744], [-123.036086, 48.080113], [-122.800578, 48.08559], [-122.636269, 47.866512], [-122.515777, 47.882943], [-122.493869, 47.587189], [-122.422669, 47.318818], [-122.324084, 47.346203], [-122.422669, 47.576235], [-122.395284, 47.800789], [-122.230976, 48.030821], [-122.362422, 48.123929], [-122.373376, 48.288237], [-122.471961, 48.468976], [-122.422669, 48.600422], [-122.488392, 48.753777], [-122.647223, 48.775685], [-122.795101, 48.8907], [-122.756762, 49.000239], [-117.033359, 49.000239]]], [[[-122.718423, 48.310145], [-122.586977, 48.35396], [-122.608885, 48.151313], [-122.767716, 48.227991], [-122.718423, 48.310145]]], [[[-123.025132, 48.583992], [-122.915593, 48.715438], [-122.767716, 48.556607], [-122.811531, 48.419683], [-123.041563, 48.458022], [-123.025132, 48.583992]]]], &quot;type&quot;: &quot;MultiPolygon&quot;}, &quot;id&quot;: &quot;53&quot;, &quot;properties&quot;: {&quot;density&quot;: 102.6, &quot;name&quot;: &quot;Washington&quot;}, &quot;type&quot;: &quot;Feature&quot;}, {&quot;geometry&quot;: {&quot;coordinates&quot;: [[[-80.518598, 40.636951], [-80.518598, 39.722302], [-79.477979, 39.722302], [-79.488933, 39.20747], [-79.291763, 39.300578], [-79.094593, 39.470363], [-78.963147, 39.437501], [-78.765977, 39.585379], [-78.470222, 39.514178], [-78.431884, 39.623717], [-78.267575, 39.61824], [-78.174467, 39.694917], [-78.004682, 39.601809], [-77.834897, 39.601809], [-77.719881, 39.322485], [-77.82942, 39.130793], [-78.349729, 39.464886], [-78.404499, 39.169131], [-78.870039, 38.763838], [-78.996008, 38.851469], [-79.209609, 38.495467], [-79.313671, 38.413313], [-79.477979, 38.457129], [-79.647764, 38.594052], [-79.724442, 38.364021], [-79.921611, 38.177805], [-79.998289, 37.997066], [-80.184505, 37.849189], [-80.294043, 37.690357], [-80.29952, 37.509618], [-80.474782, 37.421987], [-80.513121, 37.482234], [-80.967707, 37.290541], [-81.225123, 37.235771], [-81.362047, 37.339833], [-81.55374, 37.208387], [-81.679709, 37.20291], [-81.849494, 37.285064], [-81.986418, 37.454849], [-81.969987, 37.537003], [-82.101434, 37.553434], [-82.293127, 37.668449], [-82.342419, 37.783465], [-82.50125, 37.931343], [-82.621743, 38.123036], [-82.594358, 38.424267], [-82.331465, 38.446175], [-82.293127, 38.577622], [-82.172634, 38.632391], [-82.221926, 38.785745], [-82.03571, 39.026731], [-81.887833, 38.873376], [-81.783771, 38.966484], [-81.811156, 39.0815], [-81.685186, 39.273193], [-81.57017, 39.267716], [-81.455155, 39.410117], [-81.345616, 39.344393], [-81.219646, 39.388209], [-80.830783, 39.711348], [-80.737675, 40.078303], [-80.600752, 40.319289], [-80.595275, 40.472643], [-80.666475, 40.582182], [-80.518598, 40.636951]]], &quot;type&quot;: &quot;Polygon&quot;}, &quot;id&quot;: &quot;54&quot;, &quot;properties&quot;: {&quot;density&quot;: 77.06, &quot;name&quot;: &quot;West Virginia&quot;}, &quot;type&quot;: &quot;Feature&quot;}, {&quot;geometry&quot;: {&quot;coordinates&quot;: [[[-90.415429, 46.568478], [-90.229213, 46.508231], [-90.119674, 46.338446], [-89.09001, 46.135799], [-88.662808, 45.987922], [-88.531362, 46.020784], [-88.10416, 45.922199], [-87.989145, 45.796229], [-87.781021, 45.675736], [-87.791975, 45.500474], [-87.885083, 45.363551], [-87.649574, 45.341643], [-87.742682, 45.199243], [-87.589328, 45.095181], [-87.627666, 44.974688], [-87.819359, 44.95278], [-87.983668, 44.722749], [-88.043914, 44.563917], [-87.928898, 44.536533], [-87.775544, 44.640595], [-87.611236, 44.837764], [-87.403112, 44.914442], [-87.238804, 45.166381], [-87.03068, 45.22115], [-87.047111, 45.089704], [-87.189511, 44.969211], [-87.468835, 44.552964], [-87.545512, 44.322932], [-87.540035, 44.158624], [-87.644097, 44.103854], [-87.737205, 43.8793], [-87.704344, 43.687607], [-87.791975, 43.561637], [-87.912467, 43.249452], [-87.885083, 43.002989], [-87.76459, 42.783912], [-87.802929, 42.493634], [-88.788778, 42.493634], [-90.639984, 42.510065], [-90.711184, 42.636034], [-91.067185, 42.75105], [-91.143862, 42.909881], [-91.176724, 43.134436], [-91.056231, 43.254929], [-91.204109, 43.353514], [-91.215062, 43.501391], [-91.269832, 43.616407], [-91.242447, 43.775238], [-91.43414, 43.994316], [-91.592971, 44.032654], [-91.877772, 44.202439], [-91.927065, 44.333886], [-92.233773, 44.443425], [-92.337835, 44.552964], [-92.545959, 44.569394], [-92.808852, 44.750133], [-92.737652, 45.117088], [-92.75956, 45.286874], [-92.644544, 45.440228], [-92.770513, 45.566198], [-92.885529, 45.577151], [-92.869098, 45.719552], [-92.639067, 45.933153], [-92.354266, 46.015307], [-92.29402, 46.075553], [-92.29402, 46.667063], [-92.091373, 46.749217], [-92.014696, 46.705401], [-91.790141, 46.694447], [-91.09457, 46.864232], [-90.837154, 46.95734], [-90.749522, 46.88614], [-90.886446, 46.754694], [-90.55783, 46.584908], [-90.415429, 46.568478]]], &quot;type&quot;: &quot;Polygon&quot;}, &quot;id&quot;: &quot;55&quot;, &quot;properties&quot;: {&quot;density&quot;: 105.2, &quot;name&quot;: &quot;Wisconsin&quot;}, &quot;type&quot;: &quot;Feature&quot;}, {&quot;geometry&quot;: {&quot;coordinates&quot;: [[[-109.080842, 45.002073], [-105.91517, 45.002073], [-104.058488, 44.996596], [-104.053011, 43.002989], [-104.053011, 41.003906], [-105.728954, 40.998429], [-107.919731, 41.003906], [-109.04798, 40.998429], [-111.047063, 40.998429], [-111.047063, 42.000709], [-111.047063, 44.476286], [-111.05254, 45.002073], [-109.080842, 45.002073]]], &quot;type&quot;: &quot;Polygon&quot;}, &quot;id&quot;: &quot;56&quot;, &quot;properties&quot;: {&quot;density&quot;: 5.851, &quot;name&quot;: &quot;Wyoming&quot;}, &quot;type&quot;: &quot;Feature&quot;}, {&quot;geometry&quot;: {&quot;coordinates&quot;: [[[-66.448338, 17.984326], [-66.771478, 18.006234], [-66.924832, 17.929556], [-66.985078, 17.973372], [-67.209633, 17.956941], [-67.154863, 18.19245], [-67.269879, 18.362235], [-67.094617, 18.515589], [-66.957694, 18.488204], [-66.409999, 18.488204], [-65.840398, 18.433435], [-65.632274, 18.367712], [-65.626797, 18.203403], [-65.730859, 18.186973], [-65.834921, 18.017187], [-66.234737, 17.929556], [-66.448338, 17.984326]]], &quot;type&quot;: &quot;Polygon&quot;}, &quot;id&quot;: &quot;72&quot;, &quot;properties&quot;: {&quot;density&quot;: 1082, &quot;name&quot;: &quot;Puerto Rico&quot;}, &quot;type&quot;: &quot;Feature&quot;}], &quot;type&quot;: &quot;FeatureCollection&quot;});\n",
       "\n",
       "        \n",
       "    \n",
       "            geo_json_63f91bcc6d9c4962da572d380c0c4639.addTo(choropleth_f2fbf0efe916d292e02d9835a902b0da);\n",
       "        \n",
       "    \n",
       "    var color_map_26710c5f36a4da2a5000d3439138e551 = {};\n",
       "\n",
       "    \n",
       "    color_map_26710c5f36a4da2a5000d3439138e551.color = d3.scale.threshold()\n",
       "              .domain([1.0, 1.4188376753507015, 1.8376753507014028, 2.2565130260521045, 2.6753507014028055, 3.094188376753507, 3.5130260521042085, 3.93186372745491, 4.350701402805611, 4.7695390781563125, 5.188376753507014, 5.6072144288577155, 6.026052104208417, 6.4448897795591185, 6.86372745490982, 7.282565130260521, 7.701402805611222, 8.120240480961924, 8.539078156312625, 8.957915831663327, 9.376753507014028, 9.79559118236473, 10.214428857715431, 10.633266533066132, 11.052104208416834, 11.470941883767535, 11.889779559118237, 12.308617234468938, 12.72745490981964, 13.146292585170341, 13.565130260521043, 13.983967935871744, 14.402805611222444, 14.821643286573146, 15.240480961923847, 15.659318637274549, 16.07815631262525, 16.49699398797595, 16.915831663326653, 17.334669338677354, 17.753507014028056, 18.172344689378757, 18.59118236472946, 19.01002004008016, 19.428857715430862, 19.847695390781563, 20.266533066132265, 20.685370741482966, 21.104208416833668, 21.52304609218437, 21.94188376753507, 22.360721442885772, 22.779559118236474, 23.198396793587175, 23.617234468937877, 24.03607214428858, 24.45490981963928, 24.87374749498998, 25.292585170340683, 25.711422845691384, 26.130260521042086, 26.549098196392787, 26.96793587174349, 27.386773547094187, 27.805611222444888, 28.22444889779559, 28.64328657314629, 29.062124248496993, 29.480961923847694, 29.899799599198396, 30.318637274549097, 30.7374749498998, 31.1563126252505, 31.5751503006012, 31.993987975951903, 32.412825651302605, 32.831663326653306, 33.25050100200401, 33.66933867735471, 34.08817635270541, 34.50701402805611, 34.92585170340681, 35.344689378757515, 35.763527054108216, 36.18236472945892, 36.60120240480962, 37.02004008016032, 37.43887775551102, 37.857715430861724, 38.276553106212425, 38.69539078156313, 39.11422845691383, 39.53306613226453, 39.95190380761523, 40.37074148296593, 40.789579158316634, 41.208416833667336, 41.62725450901804, 42.04609218436874, 42.46492985971944, 42.88376753507014, 43.30260521042084, 43.721442885771545, 44.140280561122246, 44.55911823647295, 44.97795591182365, 45.39679358717435, 45.81563126252505, 46.234468937875754, 46.653306613226455, 47.07214428857716, 47.49098196392786, 47.90981963927856, 48.32865731462926, 48.74749498997996, 49.166332665330664, 49.585170340681366, 50.00400801603207, 50.42284569138277, 50.84168336673347, 51.26052104208417, 51.67935871743487, 52.098196392785574, 52.517034068136276, 52.93587174348698, 53.35470941883767, 53.77354709418837, 54.192384769539075, 54.611222444889776, 55.03006012024048, 55.44889779559118, 55.86773547094188, 56.28657314629258, 56.705410821643284, 57.124248496993985, 57.54308617234469, 57.96192384769539, 58.38076152304609, 58.79959919839679, 59.21843687374749, 59.637274549098194, 60.056112224448896, 60.4749498997996, 60.8937875751503, 61.312625250501, 61.7314629258517, 62.1503006012024, 62.569138276553105, 62.987975951903806, 63.40681362725451, 63.82565130260521, 64.24448897795591, 64.66332665330661, 65.08216432865731, 65.50100200400801, 65.91983967935872, 66.33867735470942, 66.75751503006012, 67.17635270541082, 67.59519038076152, 68.01402805611222, 68.43286573146293, 68.85170340681363, 69.27054108216433, 69.68937875751503, 70.10821643286573, 70.52705410821643, 70.94589178356713, 71.36472945891784, 71.78356713426854, 72.20240480961924, 72.62124248496994, 73.04008016032064, 73.45891783567134, 73.87775551102204, 74.29659318637275, 74.71543086172345, 75.13426853707415, 75.55310621242485, 75.97194388777555, 76.39078156312625, 76.80961923847696, 77.22845691382766, 77.64729458917836, 78.06613226452906, 78.48496993987976, 78.90380761523046, 79.32264529058116, 79.74148296593187, 80.16032064128257, 80.57915831663327, 80.99799599198397, 81.41683366733467, 81.83567134268537, 82.25450901803607, 82.67334669338678, 83.09218436873748, 83.51102204408818, 83.92985971943888, 84.34869739478958, 84.76753507014028, 85.18637274549098, 85.60521042084169, 86.02404809619239, 86.44288577154309, 86.86172344689379, 87.28056112224449, 87.6993987975952, 88.1182364729459, 88.5370741482966, 88.9559118236473, 89.374749498998, 89.7935871743487, 90.2124248496994, 90.6312625250501, 91.0501002004008, 91.46893787575151, 91.88777555110221, 92.30661322645291, 92.72545090180361, 93.14428857715431, 93.56312625250501, 93.98196392785572, 94.40080160320642, 94.81963927855712, 95.23847695390782, 95.65731462925852, 96.07615230460922, 96.49498997995993, 96.91382765531063, 97.33266533066133, 97.75150300601203, 98.17034068136273, 98.58917835671343, 99.00801603206413, 99.42685370741484, 99.84569138276554, 100.26452905811624, 100.68336673346694, 101.10220440881764, 101.52104208416834, 101.93987975951904, 102.35871743486975, 102.77755511022045, 103.19639278557115, 103.61523046092185, 104.03406813627255, 104.45290581162325, 104.87174348697395, 105.29058116232466, 105.70941883767534, 106.12825651302605, 106.54709418837675, 106.96593186372745, 107.38476953907815, 107.80360721442885, 108.22244488977955, 108.64128256513025, 109.06012024048096, 109.47895791583166, 109.89779559118236, 110.31663326653306, 110.73547094188376, 111.15430861723446, 111.57314629258516, 111.99198396793587, 112.41082164328657, 112.82965931863727, 113.24849699398797, 113.66733466933867, 114.08617234468937, 114.50501002004007, 114.92384769539078, 115.34268537074148, 115.76152304609218, 116.18036072144288, 116.59919839679358, 117.01803607214428, 117.43687374749499, 117.85571142284569, 118.27454909819639, 118.69338677354709, 119.11222444889779, 119.53106212424849, 119.9498997995992, 120.3687374749499, 120.7875751503006, 121.2064128256513, 121.625250501002, 122.0440881763527, 122.4629258517034, 122.8817635270541, 123.3006012024048, 123.71943887775551, 124.13827655310621, 124.55711422845691, 124.97595190380761, 125.39478957915831, 125.81362725450902, 126.23246492985972, 126.65130260521042, 127.07014028056112, 127.48897795591182, 127.90781563126252, 128.32665330661322, 128.74549098196394, 129.16432865731463, 129.58316633266534, 130.00200400801603, 130.42084168336675, 130.83967935871743, 131.25851703406815, 131.67735470941884, 132.09619238476955, 132.51503006012024, 132.93386773547095, 133.35270541082164, 133.77154308617236, 134.19038076152304, 134.60921843687376, 135.02805611222445, 135.44689378757516, 135.86573146292585, 136.28456913827657, 136.70340681362725, 137.12224448897797, 137.54108216432866, 137.95991983967937, 138.37875751503006, 138.79759519038078, 139.21643286573146, 139.63527054108218, 140.05410821643287, 140.47294589178355, 140.89178356713427, 141.31062124248496, 141.72945891783567, 142.14829659318636, 142.56713426853707, 142.98597194388776, 143.40480961923848, 143.82364729458916, 144.24248496993988, 144.66132264529057, 145.08016032064128, 145.49899799599197, 145.9178356713427, 146.33667334669337, 146.7555110220441, 147.17434869739478, 147.5931863727455, 148.01202404809618, 148.4308617234469, 148.84969939879758, 149.2685370741483, 149.68737474949899, 150.1062124248497, 150.5250501002004, 150.9438877755511, 151.3627254509018, 151.7815631262525, 152.2004008016032, 152.6192384769539, 153.0380761523046, 153.4569138276553, 153.875751503006, 154.29458917835672, 154.7134268537074, 155.13226452905812, 155.5511022044088, 155.96993987975952, 156.3887775551102, 156.80761523046093, 157.2264529058116, 157.64529058116233, 158.06412825651302, 158.48296593186373, 158.90180360721442, 159.32064128256513, 159.73947895791582, 160.15831663326654, 160.57715430861722, 160.99599198396794, 161.41482965931863, 161.83366733466934, 162.25250501002003, 162.67134268537075, 163.09018036072143, 163.50901803607215, 163.92785571142284, 164.34669338677355, 164.76553106212424, 165.18436873747495, 165.60320641282564, 166.02204408817636, 166.44088176352705, 166.85971943887776, 167.27855711422845, 167.69739478957916, 168.11623246492985, 168.53507014028057, 168.95390781563125, 169.37274549098197, 169.79158316633266, 170.21042084168337, 170.62925851703406, 171.04809619238478, 171.46693386773546, 171.88577154308618, 172.30460921843687, 172.72344689378758, 173.14228456913827, 173.56112224448898, 173.97995991983967, 174.3987975951904, 174.81763527054107, 175.2364729458918, 175.65531062124248, 176.0741482965932, 176.49298597194388, 176.9118236472946, 177.33066132264528, 177.749498997996, 178.1683366733467, 178.5871743486974, 179.0060120240481, 179.4248496993988, 179.8436873747495, 180.2625250501002, 180.6813627254509, 181.1002004008016, 181.5190380761523, 181.93787575150301, 182.3567134268537, 182.77555110220442, 183.1943887775551, 183.61322645290582, 184.0320641282565, 184.45090180360722, 184.8697394789579, 185.28857715430863, 185.7074148296593, 186.12625250501003, 186.54509018036072, 186.96392785571143, 187.38276553106212, 187.80160320641284, 188.22044088176352, 188.63927855711424, 189.05811623246493, 189.47695390781564, 189.89579158316633, 190.31462925851704, 190.73346693386773, 191.15230460921845, 191.57114228456913, 191.98997995991985, 192.40881763527054, 192.82765531062125, 193.24649298597194, 193.66533066132266, 194.08416833667334, 194.50300601202406, 194.92184368737475, 195.34068136272546, 195.75951903807615, 196.17835671342687, 196.59719438877755, 197.01603206412827, 197.43486973947896, 197.85370741482967, 198.27254509018036, 198.69138276553107, 199.11022044088176, 199.52905811623248, 199.94789579158316, 200.36673346693388, 200.78557114228457, 201.20440881763528, 201.62324649298597, 202.0420841683367, 202.46092184368737, 202.8797595190381, 203.29859719438878, 203.7174348697395, 204.13627254509018, 204.5551102204409, 204.97394789579158, 205.3927855711423, 205.81162324649299, 206.2304609218437, 206.6492985971944, 207.0681362725451, 207.4869739478958, 207.9058116232465, 208.3246492985972, 208.7434869739479, 209.1623246492986, 209.5811623246493, 210.0])\n",
       "              .range([&#x27;#ffffb2ff&#x27;, &#x27;#ffffb2ff&#x27;, &#x27;#ffffb2ff&#x27;, &#x27;#ffffb2ff&#x27;, &#x27;#ffffb2ff&#x27;, &#x27;#ffffb2ff&#x27;, &#x27;#ffffb2ff&#x27;, &#x27;#ffffb2ff&#x27;, &#x27;#ffffb2ff&#x27;, &#x27;#ffffb2ff&#x27;, &#x27;#ffffb2ff&#x27;, &#x27;#ffffb2ff&#x27;, &#x27;#ffffb2ff&#x27;, &#x27;#ffffb2ff&#x27;, &#x27;#ffffb2ff&#x27;, &#x27;#ffffb2ff&#x27;, &#x27;#ffffb2ff&#x27;, &#x27;#ffffb2ff&#x27;, &#x27;#ffffb2ff&#x27;, &#x27;#ffffb2ff&#x27;, &#x27;#ffffb2ff&#x27;, &#x27;#ffffb2ff&#x27;, &#x27;#ffffb2ff&#x27;, &#x27;#ffffb2ff&#x27;, &#x27;#ffffb2ff&#x27;, &#x27;#ffffb2ff&#x27;, &#x27;#ffffb2ff&#x27;, &#x27;#ffffb2ff&#x27;, &#x27;#ffffb2ff&#x27;, &#x27;#ffffb2ff&#x27;, &#x27;#ffffb2ff&#x27;, &#x27;#ffffb2ff&#x27;, &#x27;#ffffb2ff&#x27;, &#x27;#ffffb2ff&#x27;, &#x27;#ffffb2ff&#x27;, &#x27;#ffffb2ff&#x27;, &#x27;#ffffb2ff&#x27;, &#x27;#ffffb2ff&#x27;, &#x27;#ffffb2ff&#x27;, &#x27;#ffffb2ff&#x27;, &#x27;#ffffb2ff&#x27;, &#x27;#ffffb2ff&#x27;, &#x27;#ffffb2ff&#x27;, &#x27;#ffffb2ff&#x27;, &#x27;#ffffb2ff&#x27;, &#x27;#ffffb2ff&#x27;, &#x27;#ffffb2ff&#x27;, &#x27;#ffffb2ff&#x27;, &#x27;#ffffb2ff&#x27;, &#x27;#ffffb2ff&#x27;, &#x27;#ffffb2ff&#x27;, &#x27;#ffffb2ff&#x27;, &#x27;#ffffb2ff&#x27;, &#x27;#ffffb2ff&#x27;, &#x27;#ffffb2ff&#x27;, &#x27;#ffffb2ff&#x27;, &#x27;#ffffb2ff&#x27;, &#x27;#ffffb2ff&#x27;, &#x27;#ffffb2ff&#x27;, &#x27;#ffffb2ff&#x27;, &#x27;#ffffb2ff&#x27;, &#x27;#ffffb2ff&#x27;, &#x27;#ffffb2ff&#x27;, &#x27;#ffffb2ff&#x27;, &#x27;#ffffb2ff&#x27;, &#x27;#ffffb2ff&#x27;, &#x27;#ffffb2ff&#x27;, &#x27;#ffffb2ff&#x27;, &#x27;#ffffb2ff&#x27;, &#x27;#ffffb2ff&#x27;, &#x27;#ffffb2ff&#x27;, &#x27;#ffffb2ff&#x27;, &#x27;#ffffb2ff&#x27;, &#x27;#ffffb2ff&#x27;, &#x27;#ffffb2ff&#x27;, &#x27;#ffffb2ff&#x27;, &#x27;#ffffb2ff&#x27;, &#x27;#ffffb2ff&#x27;, &#x27;#ffffb2ff&#x27;, &#x27;#ffffb2ff&#x27;, &#x27;#ffffb2ff&#x27;, &#x27;#ffffb2ff&#x27;, &#x27;#ffffb2ff&#x27;, &#x27;#ffffb2ff&#x27;, &#x27;#fed976ff&#x27;, &#x27;#fed976ff&#x27;, &#x27;#fed976ff&#x27;, &#x27;#fed976ff&#x27;, &#x27;#fed976ff&#x27;, &#x27;#fed976ff&#x27;, &#x27;#fed976ff&#x27;, &#x27;#fed976ff&#x27;, &#x27;#fed976ff&#x27;, &#x27;#fed976ff&#x27;, &#x27;#fed976ff&#x27;, &#x27;#fed976ff&#x27;, &#x27;#fed976ff&#x27;, &#x27;#fed976ff&#x27;, &#x27;#fed976ff&#x27;, &#x27;#fed976ff&#x27;, &#x27;#fed976ff&#x27;, &#x27;#fed976ff&#x27;, &#x27;#fed976ff&#x27;, &#x27;#fed976ff&#x27;, &#x27;#fed976ff&#x27;, &#x27;#fed976ff&#x27;, &#x27;#fed976ff&#x27;, &#x27;#fed976ff&#x27;, &#x27;#fed976ff&#x27;, &#x27;#fed976ff&#x27;, &#x27;#fed976ff&#x27;, &#x27;#fed976ff&#x27;, &#x27;#fed976ff&#x27;, &#x27;#fed976ff&#x27;, &#x27;#fed976ff&#x27;, &#x27;#fed976ff&#x27;, &#x27;#fed976ff&#x27;, &#x27;#fed976ff&#x27;, &#x27;#fed976ff&#x27;, &#x27;#fed976ff&#x27;, &#x27;#fed976ff&#x27;, &#x27;#fed976ff&#x27;, &#x27;#fed976ff&#x27;, &#x27;#fed976ff&#x27;, &#x27;#fed976ff&#x27;, &#x27;#fed976ff&#x27;, &#x27;#fed976ff&#x27;, &#x27;#fed976ff&#x27;, &#x27;#fed976ff&#x27;, &#x27;#fed976ff&#x27;, &#x27;#fed976ff&#x27;, &#x27;#fed976ff&#x27;, &#x27;#fed976ff&#x27;, &#x27;#fed976ff&#x27;, &#x27;#fed976ff&#x27;, &#x27;#fed976ff&#x27;, &#x27;#fed976ff&#x27;, &#x27;#fed976ff&#x27;, &#x27;#fed976ff&#x27;, &#x27;#fed976ff&#x27;, &#x27;#fed976ff&#x27;, &#x27;#fed976ff&#x27;, &#x27;#fed976ff&#x27;, &#x27;#fed976ff&#x27;, &#x27;#fed976ff&#x27;, &#x27;#fed976ff&#x27;, &#x27;#fed976ff&#x27;, &#x27;#fed976ff&#x27;, &#x27;#fed976ff&#x27;, &#x27;#fed976ff&#x27;, &#x27;#fed976ff&#x27;, &#x27;#fed976ff&#x27;, &#x27;#fed976ff&#x27;, &#x27;#fed976ff&#x27;, &#x27;#fed976ff&#x27;, &#x27;#fed976ff&#x27;, &#x27;#fed976ff&#x27;, &#x27;#fed976ff&#x27;, &#x27;#fed976ff&#x27;, &#x27;#fed976ff&#x27;, &#x27;#fed976ff&#x27;, &#x27;#fed976ff&#x27;, &#x27;#fed976ff&#x27;, &#x27;#fed976ff&#x27;, &#x27;#fed976ff&#x27;, &#x27;#fed976ff&#x27;, &#x27;#fed976ff&#x27;, &#x27;#feb24cff&#x27;, &#x27;#feb24cff&#x27;, &#x27;#feb24cff&#x27;, &#x27;#feb24cff&#x27;, &#x27;#feb24cff&#x27;, &#x27;#feb24cff&#x27;, &#x27;#feb24cff&#x27;, &#x27;#feb24cff&#x27;, &#x27;#feb24cff&#x27;, &#x27;#feb24cff&#x27;, &#x27;#feb24cff&#x27;, &#x27;#feb24cff&#x27;, &#x27;#feb24cff&#x27;, &#x27;#feb24cff&#x27;, &#x27;#feb24cff&#x27;, &#x27;#feb24cff&#x27;, &#x27;#feb24cff&#x27;, &#x27;#feb24cff&#x27;, &#x27;#feb24cff&#x27;, &#x27;#feb24cff&#x27;, &#x27;#feb24cff&#x27;, &#x27;#feb24cff&#x27;, &#x27;#feb24cff&#x27;, &#x27;#feb24cff&#x27;, &#x27;#feb24cff&#x27;, &#x27;#feb24cff&#x27;, &#x27;#feb24cff&#x27;, &#x27;#feb24cff&#x27;, &#x27;#feb24cff&#x27;, &#x27;#feb24cff&#x27;, &#x27;#feb24cff&#x27;, &#x27;#feb24cff&#x27;, &#x27;#feb24cff&#x27;, &#x27;#feb24cff&#x27;, &#x27;#feb24cff&#x27;, &#x27;#feb24cff&#x27;, &#x27;#feb24cff&#x27;, &#x27;#feb24cff&#x27;, &#x27;#feb24cff&#x27;, &#x27;#feb24cff&#x27;, &#x27;#feb24cff&#x27;, &#x27;#feb24cff&#x27;, &#x27;#feb24cff&#x27;, &#x27;#feb24cff&#x27;, &#x27;#feb24cff&#x27;, &#x27;#feb24cff&#x27;, &#x27;#feb24cff&#x27;, &#x27;#feb24cff&#x27;, &#x27;#feb24cff&#x27;, &#x27;#feb24cff&#x27;, &#x27;#feb24cff&#x27;, &#x27;#feb24cff&#x27;, &#x27;#feb24cff&#x27;, &#x27;#feb24cff&#x27;, &#x27;#feb24cff&#x27;, &#x27;#feb24cff&#x27;, &#x27;#feb24cff&#x27;, &#x27;#feb24cff&#x27;, &#x27;#feb24cff&#x27;, &#x27;#feb24cff&#x27;, &#x27;#feb24cff&#x27;, &#x27;#feb24cff&#x27;, &#x27;#feb24cff&#x27;, &#x27;#feb24cff&#x27;, &#x27;#feb24cff&#x27;, &#x27;#feb24cff&#x27;, &#x27;#feb24cff&#x27;, &#x27;#feb24cff&#x27;, &#x27;#feb24cff&#x27;, &#x27;#feb24cff&#x27;, &#x27;#feb24cff&#x27;, &#x27;#feb24cff&#x27;, &#x27;#feb24cff&#x27;, &#x27;#feb24cff&#x27;, &#x27;#feb24cff&#x27;, &#x27;#feb24cff&#x27;, &#x27;#feb24cff&#x27;, &#x27;#feb24cff&#x27;, &#x27;#feb24cff&#x27;, &#x27;#feb24cff&#x27;, &#x27;#feb24cff&#x27;, &#x27;#feb24cff&#x27;, &#x27;#feb24cff&#x27;, &#x27;#fd8d3cff&#x27;, &#x27;#fd8d3cff&#x27;, &#x27;#fd8d3cff&#x27;, &#x27;#fd8d3cff&#x27;, &#x27;#fd8d3cff&#x27;, &#x27;#fd8d3cff&#x27;, &#x27;#fd8d3cff&#x27;, &#x27;#fd8d3cff&#x27;, &#x27;#fd8d3cff&#x27;, &#x27;#fd8d3cff&#x27;, &#x27;#fd8d3cff&#x27;, &#x27;#fd8d3cff&#x27;, &#x27;#fd8d3cff&#x27;, &#x27;#fd8d3cff&#x27;, &#x27;#fd8d3cff&#x27;, &#x27;#fd8d3cff&#x27;, &#x27;#fd8d3cff&#x27;, &#x27;#fd8d3cff&#x27;, &#x27;#fd8d3cff&#x27;, &#x27;#fd8d3cff&#x27;, &#x27;#fd8d3cff&#x27;, &#x27;#fd8d3cff&#x27;, &#x27;#fd8d3cff&#x27;, &#x27;#fd8d3cff&#x27;, &#x27;#fd8d3cff&#x27;, &#x27;#fd8d3cff&#x27;, &#x27;#fd8d3cff&#x27;, &#x27;#fd8d3cff&#x27;, &#x27;#fd8d3cff&#x27;, &#x27;#fd8d3cff&#x27;, &#x27;#fd8d3cff&#x27;, &#x27;#fd8d3cff&#x27;, &#x27;#fd8d3cff&#x27;, &#x27;#fd8d3cff&#x27;, &#x27;#fd8d3cff&#x27;, &#x27;#fd8d3cff&#x27;, &#x27;#fd8d3cff&#x27;, &#x27;#fd8d3cff&#x27;, &#x27;#fd8d3cff&#x27;, &#x27;#fd8d3cff&#x27;, &#x27;#fd8d3cff&#x27;, &#x27;#fd8d3cff&#x27;, &#x27;#fd8d3cff&#x27;, &#x27;#fd8d3cff&#x27;, &#x27;#fd8d3cff&#x27;, &#x27;#fd8d3cff&#x27;, &#x27;#fd8d3cff&#x27;, &#x27;#fd8d3cff&#x27;, &#x27;#fd8d3cff&#x27;, &#x27;#fd8d3cff&#x27;, &#x27;#fd8d3cff&#x27;, &#x27;#fd8d3cff&#x27;, &#x27;#fd8d3cff&#x27;, &#x27;#fd8d3cff&#x27;, &#x27;#fd8d3cff&#x27;, &#x27;#fd8d3cff&#x27;, &#x27;#fd8d3cff&#x27;, &#x27;#fd8d3cff&#x27;, &#x27;#fd8d3cff&#x27;, &#x27;#fd8d3cff&#x27;, &#x27;#fd8d3cff&#x27;, &#x27;#fd8d3cff&#x27;, &#x27;#fd8d3cff&#x27;, &#x27;#fd8d3cff&#x27;, &#x27;#fd8d3cff&#x27;, &#x27;#fd8d3cff&#x27;, &#x27;#fd8d3cff&#x27;, &#x27;#fd8d3cff&#x27;, &#x27;#fd8d3cff&#x27;, &#x27;#fd8d3cff&#x27;, &#x27;#fd8d3cff&#x27;, &#x27;#fd8d3cff&#x27;, &#x27;#fd8d3cff&#x27;, &#x27;#fd8d3cff&#x27;, &#x27;#fd8d3cff&#x27;, &#x27;#fd8d3cff&#x27;, &#x27;#fd8d3cff&#x27;, &#x27;#fd8d3cff&#x27;, &#x27;#fd8d3cff&#x27;, &#x27;#fd8d3cff&#x27;, &#x27;#fd8d3cff&#x27;, &#x27;#fd8d3cff&#x27;, &#x27;#fd8d3cff&#x27;, &#x27;#f03b20ff&#x27;, &#x27;#f03b20ff&#x27;, &#x27;#f03b20ff&#x27;, &#x27;#f03b20ff&#x27;, &#x27;#f03b20ff&#x27;, &#x27;#f03b20ff&#x27;, &#x27;#f03b20ff&#x27;, &#x27;#f03b20ff&#x27;, &#x27;#f03b20ff&#x27;, &#x27;#f03b20ff&#x27;, &#x27;#f03b20ff&#x27;, &#x27;#f03b20ff&#x27;, &#x27;#f03b20ff&#x27;, &#x27;#f03b20ff&#x27;, &#x27;#f03b20ff&#x27;, &#x27;#f03b20ff&#x27;, &#x27;#f03b20ff&#x27;, &#x27;#f03b20ff&#x27;, &#x27;#f03b20ff&#x27;, &#x27;#f03b20ff&#x27;, &#x27;#f03b20ff&#x27;, &#x27;#f03b20ff&#x27;, &#x27;#f03b20ff&#x27;, &#x27;#f03b20ff&#x27;, &#x27;#f03b20ff&#x27;, &#x27;#f03b20ff&#x27;, &#x27;#f03b20ff&#x27;, &#x27;#f03b20ff&#x27;, &#x27;#f03b20ff&#x27;, &#x27;#f03b20ff&#x27;, &#x27;#f03b20ff&#x27;, &#x27;#f03b20ff&#x27;, &#x27;#f03b20ff&#x27;, &#x27;#f03b20ff&#x27;, &#x27;#f03b20ff&#x27;, &#x27;#f03b20ff&#x27;, &#x27;#f03b20ff&#x27;, &#x27;#f03b20ff&#x27;, &#x27;#f03b20ff&#x27;, &#x27;#f03b20ff&#x27;, &#x27;#f03b20ff&#x27;, &#x27;#f03b20ff&#x27;, &#x27;#f03b20ff&#x27;, &#x27;#f03b20ff&#x27;, &#x27;#f03b20ff&#x27;, &#x27;#f03b20ff&#x27;, &#x27;#f03b20ff&#x27;, &#x27;#f03b20ff&#x27;, &#x27;#f03b20ff&#x27;, &#x27;#f03b20ff&#x27;, &#x27;#f03b20ff&#x27;, &#x27;#f03b20ff&#x27;, &#x27;#f03b20ff&#x27;, &#x27;#f03b20ff&#x27;, &#x27;#f03b20ff&#x27;, &#x27;#f03b20ff&#x27;, &#x27;#f03b20ff&#x27;, &#x27;#f03b20ff&#x27;, &#x27;#f03b20ff&#x27;, &#x27;#f03b20ff&#x27;, &#x27;#f03b20ff&#x27;, &#x27;#f03b20ff&#x27;, &#x27;#f03b20ff&#x27;, &#x27;#f03b20ff&#x27;, &#x27;#f03b20ff&#x27;, &#x27;#f03b20ff&#x27;, &#x27;#f03b20ff&#x27;, &#x27;#f03b20ff&#x27;, &#x27;#f03b20ff&#x27;, &#x27;#f03b20ff&#x27;, &#x27;#f03b20ff&#x27;, &#x27;#f03b20ff&#x27;, &#x27;#f03b20ff&#x27;, &#x27;#f03b20ff&#x27;, &#x27;#f03b20ff&#x27;, &#x27;#f03b20ff&#x27;, &#x27;#f03b20ff&#x27;, &#x27;#f03b20ff&#x27;, &#x27;#f03b20ff&#x27;, &#x27;#f03b20ff&#x27;, &#x27;#f03b20ff&#x27;, &#x27;#f03b20ff&#x27;, &#x27;#f03b20ff&#x27;, &#x27;#bd0026ff&#x27;, &#x27;#bd0026ff&#x27;, &#x27;#bd0026ff&#x27;, &#x27;#bd0026ff&#x27;, &#x27;#bd0026ff&#x27;, &#x27;#bd0026ff&#x27;, &#x27;#bd0026ff&#x27;, &#x27;#bd0026ff&#x27;, &#x27;#bd0026ff&#x27;, &#x27;#bd0026ff&#x27;, &#x27;#bd0026ff&#x27;, &#x27;#bd0026ff&#x27;, &#x27;#bd0026ff&#x27;, &#x27;#bd0026ff&#x27;, &#x27;#bd0026ff&#x27;, &#x27;#bd0026ff&#x27;, &#x27;#bd0026ff&#x27;, &#x27;#bd0026ff&#x27;, &#x27;#bd0026ff&#x27;, &#x27;#bd0026ff&#x27;, &#x27;#bd0026ff&#x27;, &#x27;#bd0026ff&#x27;, &#x27;#bd0026ff&#x27;, &#x27;#bd0026ff&#x27;, &#x27;#bd0026ff&#x27;, &#x27;#bd0026ff&#x27;, &#x27;#bd0026ff&#x27;, &#x27;#bd0026ff&#x27;, &#x27;#bd0026ff&#x27;, &#x27;#bd0026ff&#x27;, &#x27;#bd0026ff&#x27;, &#x27;#bd0026ff&#x27;, &#x27;#bd0026ff&#x27;, &#x27;#bd0026ff&#x27;, &#x27;#bd0026ff&#x27;, &#x27;#bd0026ff&#x27;, &#x27;#bd0026ff&#x27;, &#x27;#bd0026ff&#x27;, &#x27;#bd0026ff&#x27;, &#x27;#bd0026ff&#x27;, &#x27;#bd0026ff&#x27;, &#x27;#bd0026ff&#x27;, &#x27;#bd0026ff&#x27;, &#x27;#bd0026ff&#x27;, &#x27;#bd0026ff&#x27;, &#x27;#bd0026ff&#x27;, &#x27;#bd0026ff&#x27;, &#x27;#bd0026ff&#x27;, &#x27;#bd0026ff&#x27;, &#x27;#bd0026ff&#x27;, &#x27;#bd0026ff&#x27;, &#x27;#bd0026ff&#x27;, &#x27;#bd0026ff&#x27;, &#x27;#bd0026ff&#x27;, &#x27;#bd0026ff&#x27;, &#x27;#bd0026ff&#x27;, &#x27;#bd0026ff&#x27;, &#x27;#bd0026ff&#x27;, &#x27;#bd0026ff&#x27;, &#x27;#bd0026ff&#x27;, &#x27;#bd0026ff&#x27;, &#x27;#bd0026ff&#x27;, &#x27;#bd0026ff&#x27;, &#x27;#bd0026ff&#x27;, &#x27;#bd0026ff&#x27;, &#x27;#bd0026ff&#x27;, &#x27;#bd0026ff&#x27;, &#x27;#bd0026ff&#x27;, &#x27;#bd0026ff&#x27;, &#x27;#bd0026ff&#x27;, &#x27;#bd0026ff&#x27;, &#x27;#bd0026ff&#x27;, &#x27;#bd0026ff&#x27;, &#x27;#bd0026ff&#x27;, &#x27;#bd0026ff&#x27;, &#x27;#bd0026ff&#x27;, &#x27;#bd0026ff&#x27;, &#x27;#bd0026ff&#x27;, &#x27;#bd0026ff&#x27;, &#x27;#bd0026ff&#x27;, &#x27;#bd0026ff&#x27;, &#x27;#bd0026ff&#x27;, &#x27;#bd0026ff&#x27;, &#x27;#bd0026ff&#x27;]);\n",
       "    \n",
       "\n",
       "    color_map_26710c5f36a4da2a5000d3439138e551.x = d3.scale.linear()\n",
       "              .domain([1.0, 210.0])\n",
       "              .range([0, 450 - 50]);\n",
       "\n",
       "    color_map_26710c5f36a4da2a5000d3439138e551.legend = L.control({position: &#x27;topright&#x27;});\n",
       "    color_map_26710c5f36a4da2a5000d3439138e551.legend.onAdd = function (map) {var div = L.DomUtil.create(&#x27;div&#x27;, &#x27;legend&#x27;); return div};\n",
       "    color_map_26710c5f36a4da2a5000d3439138e551.legend.addTo(map_7d8378634aae1cab5cf2c5df33058111);\n",
       "\n",
       "    color_map_26710c5f36a4da2a5000d3439138e551.xAxis = d3.svg.axis()\n",
       "        .scale(color_map_26710c5f36a4da2a5000d3439138e551.x)\n",
       "        .orient(&quot;top&quot;)\n",
       "        .tickSize(1)\n",
       "        .tickValues([1.0, 35.833333333333336, 70.66666666666667, 105.5, 140.33333333333334, 175.16666666666669, 210.0]);\n",
       "\n",
       "    color_map_26710c5f36a4da2a5000d3439138e551.svg = d3.select(&quot;.legend.leaflet-control&quot;).append(&quot;svg&quot;)\n",
       "        .attr(&quot;id&quot;, &#x27;legend&#x27;)\n",
       "        .attr(&quot;width&quot;, 450)\n",
       "        .attr(&quot;height&quot;, 40);\n",
       "\n",
       "    color_map_26710c5f36a4da2a5000d3439138e551.g = color_map_26710c5f36a4da2a5000d3439138e551.svg.append(&quot;g&quot;)\n",
       "        .attr(&quot;class&quot;, &quot;key&quot;)\n",
       "        .attr(&quot;transform&quot;, &quot;translate(25,16)&quot;);\n",
       "\n",
       "    color_map_26710c5f36a4da2a5000d3439138e551.g.selectAll(&quot;rect&quot;)\n",
       "        .data(color_map_26710c5f36a4da2a5000d3439138e551.color.range().map(function(d, i) {\n",
       "          return {\n",
       "            x0: i ? color_map_26710c5f36a4da2a5000d3439138e551.x(color_map_26710c5f36a4da2a5000d3439138e551.color.domain()[i - 1]) : color_map_26710c5f36a4da2a5000d3439138e551.x.range()[0],\n",
       "            x1: i &lt; color_map_26710c5f36a4da2a5000d3439138e551.color.domain().length ? color_map_26710c5f36a4da2a5000d3439138e551.x(color_map_26710c5f36a4da2a5000d3439138e551.color.domain()[i]) : color_map_26710c5f36a4da2a5000d3439138e551.x.range()[1],\n",
       "            z: d\n",
       "          };\n",
       "        }))\n",
       "      .enter().append(&quot;rect&quot;)\n",
       "        .attr(&quot;height&quot;, 40 - 30)\n",
       "        .attr(&quot;x&quot;, function(d) { return d.x0; })\n",
       "        .attr(&quot;width&quot;, function(d) { return d.x1 - d.x0; })\n",
       "        .style(&quot;fill&quot;, function(d) { return d.z; });\n",
       "\n",
       "    color_map_26710c5f36a4da2a5000d3439138e551.g.call(color_map_26710c5f36a4da2a5000d3439138e551.xAxis).append(&quot;text&quot;)\n",
       "        .attr(&quot;class&quot;, &quot;caption&quot;)\n",
       "        .attr(&quot;y&quot;, 21)\n",
       "        .text(&quot;Power Outages by State&quot;);\n",
       "    \n",
       "            choropleth_f2fbf0efe916d292e02d9835a902b0da.addTo(map_7d8378634aae1cab5cf2c5df33058111);\n",
       "        \n",
       "&lt;/script&gt;\n",
       "&lt;/html&gt;\" style=\"position:absolute;width:100%;height:100%;left:0;top:0;border:none !important;\" allowfullscreen webkitallowfullscreen mozallowfullscreen></iframe></div></div>"
      ],
      "text/plain": [
       "<folium.folium.Map at 0x1d6684f2540>"
      ]
     },
     "execution_count": 16,
     "metadata": {},
     "output_type": "execute_result"
    }
   ],
   "source": [
    "us_states_geo = \"https://raw.githubusercontent.com/PublicaMundi/MappingAPI/master/data/geojson/us-states.json\"\n",
    "m = folium.Map(location=[37.8, -96], zoom_start=5)\n",
    "folium.Choropleth(\n",
    "    geo_data=us_states_geo,\n",
    "    name=\"choropleth\",\n",
    "    data=outages_per_state,\n",
    "    columns=['U.S._STATE', 'YEAR'],\n",
    "    key_on=\"feature.properties.name\",\n",
    "    fill_color=\"YlOrRd\",\n",
    "    fill_opacity=0.7,\n",
    "    line_opacity=0.2,\n",
    "    legend_name=\"Power Outages by State\"\n",
    ").add_to(m)\n",
    "\n",
    "m"
   ]
  },
  {
   "cell_type": "code",
   "execution_count": 17,
   "metadata": {},
   "outputs": [],
   "source": [
    "m.save(\"power_outages_choropleth.html\")"
   ]
  },
  {
   "cell_type": "code",
   "execution_count": null,
   "metadata": {},
   "outputs": [],
   "source": []
  },
  {
   "cell_type": "code",
   "execution_count": 18,
   "metadata": {},
   "outputs": [
    {
     "data": {
      "application/vnd.plotly.v1+json": {
       "config": {
        "plotlyServerURL": "https://plot.ly"
       },
       "data": [
        {
         "alignmentgroup": "True",
         "hovertemplate": "variable=Count<br>CAUSE.CATEGORY=%{x}<br>value=%{y}<extra></extra>",
         "legendgroup": "Count",
         "marker": {
          "color": "#636efa",
          "pattern": {
           "shape": ""
          }
         },
         "name": "Count",
         "offsetgroup": "Count",
         "orientation": "v",
         "showlegend": true,
         "textposition": "auto",
         "type": "bar",
         "x": [
          "islanding",
          "fuel supply emergency",
          "equipment failure",
          "public appeal",
          "system operability disruption",
          "intentional attack",
          "severe weather"
         ],
         "xaxis": "x",
         "y": [
          46,
          51,
          60,
          69,
          127,
          418,
          763
         ],
         "yaxis": "y"
        }
       ],
       "layout": {
        "barmode": "relative",
        "legend": {
         "title": {
          "text": "variable"
         },
         "tracegroupgap": 0
        },
        "template": {
         "data": {
          "bar": [
           {
            "error_x": {
             "color": "#2a3f5f"
            },
            "error_y": {
             "color": "#2a3f5f"
            },
            "marker": {
             "line": {
              "color": "#E5ECF6",
              "width": 0.5
             },
             "pattern": {
              "fillmode": "overlay",
              "size": 10,
              "solidity": 0.2
             }
            },
            "type": "bar"
           }
          ],
          "barpolar": [
           {
            "marker": {
             "line": {
              "color": "#E5ECF6",
              "width": 0.5
             },
             "pattern": {
              "fillmode": "overlay",
              "size": 10,
              "solidity": 0.2
             }
            },
            "type": "barpolar"
           }
          ],
          "carpet": [
           {
            "aaxis": {
             "endlinecolor": "#2a3f5f",
             "gridcolor": "white",
             "linecolor": "white",
             "minorgridcolor": "white",
             "startlinecolor": "#2a3f5f"
            },
            "baxis": {
             "endlinecolor": "#2a3f5f",
             "gridcolor": "white",
             "linecolor": "white",
             "minorgridcolor": "white",
             "startlinecolor": "#2a3f5f"
            },
            "type": "carpet"
           }
          ],
          "choropleth": [
           {
            "colorbar": {
             "outlinewidth": 0,
             "ticks": ""
            },
            "type": "choropleth"
           }
          ],
          "contour": [
           {
            "colorbar": {
             "outlinewidth": 0,
             "ticks": ""
            },
            "colorscale": [
             [
              0,
              "#0d0887"
             ],
             [
              0.1111111111111111,
              "#46039f"
             ],
             [
              0.2222222222222222,
              "#7201a8"
             ],
             [
              0.3333333333333333,
              "#9c179e"
             ],
             [
              0.4444444444444444,
              "#bd3786"
             ],
             [
              0.5555555555555556,
              "#d8576b"
             ],
             [
              0.6666666666666666,
              "#ed7953"
             ],
             [
              0.7777777777777778,
              "#fb9f3a"
             ],
             [
              0.8888888888888888,
              "#fdca26"
             ],
             [
              1,
              "#f0f921"
             ]
            ],
            "type": "contour"
           }
          ],
          "contourcarpet": [
           {
            "colorbar": {
             "outlinewidth": 0,
             "ticks": ""
            },
            "type": "contourcarpet"
           }
          ],
          "heatmap": [
           {
            "colorbar": {
             "outlinewidth": 0,
             "ticks": ""
            },
            "colorscale": [
             [
              0,
              "#0d0887"
             ],
             [
              0.1111111111111111,
              "#46039f"
             ],
             [
              0.2222222222222222,
              "#7201a8"
             ],
             [
              0.3333333333333333,
              "#9c179e"
             ],
             [
              0.4444444444444444,
              "#bd3786"
             ],
             [
              0.5555555555555556,
              "#d8576b"
             ],
             [
              0.6666666666666666,
              "#ed7953"
             ],
             [
              0.7777777777777778,
              "#fb9f3a"
             ],
             [
              0.8888888888888888,
              "#fdca26"
             ],
             [
              1,
              "#f0f921"
             ]
            ],
            "type": "heatmap"
           }
          ],
          "heatmapgl": [
           {
            "colorbar": {
             "outlinewidth": 0,
             "ticks": ""
            },
            "colorscale": [
             [
              0,
              "#0d0887"
             ],
             [
              0.1111111111111111,
              "#46039f"
             ],
             [
              0.2222222222222222,
              "#7201a8"
             ],
             [
              0.3333333333333333,
              "#9c179e"
             ],
             [
              0.4444444444444444,
              "#bd3786"
             ],
             [
              0.5555555555555556,
              "#d8576b"
             ],
             [
              0.6666666666666666,
              "#ed7953"
             ],
             [
              0.7777777777777778,
              "#fb9f3a"
             ],
             [
              0.8888888888888888,
              "#fdca26"
             ],
             [
              1,
              "#f0f921"
             ]
            ],
            "type": "heatmapgl"
           }
          ],
          "histogram": [
           {
            "marker": {
             "pattern": {
              "fillmode": "overlay",
              "size": 10,
              "solidity": 0.2
             }
            },
            "type": "histogram"
           }
          ],
          "histogram2d": [
           {
            "colorbar": {
             "outlinewidth": 0,
             "ticks": ""
            },
            "colorscale": [
             [
              0,
              "#0d0887"
             ],
             [
              0.1111111111111111,
              "#46039f"
             ],
             [
              0.2222222222222222,
              "#7201a8"
             ],
             [
              0.3333333333333333,
              "#9c179e"
             ],
             [
              0.4444444444444444,
              "#bd3786"
             ],
             [
              0.5555555555555556,
              "#d8576b"
             ],
             [
              0.6666666666666666,
              "#ed7953"
             ],
             [
              0.7777777777777778,
              "#fb9f3a"
             ],
             [
              0.8888888888888888,
              "#fdca26"
             ],
             [
              1,
              "#f0f921"
             ]
            ],
            "type": "histogram2d"
           }
          ],
          "histogram2dcontour": [
           {
            "colorbar": {
             "outlinewidth": 0,
             "ticks": ""
            },
            "colorscale": [
             [
              0,
              "#0d0887"
             ],
             [
              0.1111111111111111,
              "#46039f"
             ],
             [
              0.2222222222222222,
              "#7201a8"
             ],
             [
              0.3333333333333333,
              "#9c179e"
             ],
             [
              0.4444444444444444,
              "#bd3786"
             ],
             [
              0.5555555555555556,
              "#d8576b"
             ],
             [
              0.6666666666666666,
              "#ed7953"
             ],
             [
              0.7777777777777778,
              "#fb9f3a"
             ],
             [
              0.8888888888888888,
              "#fdca26"
             ],
             [
              1,
              "#f0f921"
             ]
            ],
            "type": "histogram2dcontour"
           }
          ],
          "mesh3d": [
           {
            "colorbar": {
             "outlinewidth": 0,
             "ticks": ""
            },
            "type": "mesh3d"
           }
          ],
          "parcoords": [
           {
            "line": {
             "colorbar": {
              "outlinewidth": 0,
              "ticks": ""
             }
            },
            "type": "parcoords"
           }
          ],
          "pie": [
           {
            "automargin": true,
            "type": "pie"
           }
          ],
          "scatter": [
           {
            "fillpattern": {
             "fillmode": "overlay",
             "size": 10,
             "solidity": 0.2
            },
            "type": "scatter"
           }
          ],
          "scatter3d": [
           {
            "line": {
             "colorbar": {
              "outlinewidth": 0,
              "ticks": ""
             }
            },
            "marker": {
             "colorbar": {
              "outlinewidth": 0,
              "ticks": ""
             }
            },
            "type": "scatter3d"
           }
          ],
          "scattercarpet": [
           {
            "marker": {
             "colorbar": {
              "outlinewidth": 0,
              "ticks": ""
             }
            },
            "type": "scattercarpet"
           }
          ],
          "scattergeo": [
           {
            "marker": {
             "colorbar": {
              "outlinewidth": 0,
              "ticks": ""
             }
            },
            "type": "scattergeo"
           }
          ],
          "scattergl": [
           {
            "marker": {
             "colorbar": {
              "outlinewidth": 0,
              "ticks": ""
             }
            },
            "type": "scattergl"
           }
          ],
          "scattermapbox": [
           {
            "marker": {
             "colorbar": {
              "outlinewidth": 0,
              "ticks": ""
             }
            },
            "type": "scattermapbox"
           }
          ],
          "scatterpolar": [
           {
            "marker": {
             "colorbar": {
              "outlinewidth": 0,
              "ticks": ""
             }
            },
            "type": "scatterpolar"
           }
          ],
          "scatterpolargl": [
           {
            "marker": {
             "colorbar": {
              "outlinewidth": 0,
              "ticks": ""
             }
            },
            "type": "scatterpolargl"
           }
          ],
          "scatterternary": [
           {
            "marker": {
             "colorbar": {
              "outlinewidth": 0,
              "ticks": ""
             }
            },
            "type": "scatterternary"
           }
          ],
          "surface": [
           {
            "colorbar": {
             "outlinewidth": 0,
             "ticks": ""
            },
            "colorscale": [
             [
              0,
              "#0d0887"
             ],
             [
              0.1111111111111111,
              "#46039f"
             ],
             [
              0.2222222222222222,
              "#7201a8"
             ],
             [
              0.3333333333333333,
              "#9c179e"
             ],
             [
              0.4444444444444444,
              "#bd3786"
             ],
             [
              0.5555555555555556,
              "#d8576b"
             ],
             [
              0.6666666666666666,
              "#ed7953"
             ],
             [
              0.7777777777777778,
              "#fb9f3a"
             ],
             [
              0.8888888888888888,
              "#fdca26"
             ],
             [
              1,
              "#f0f921"
             ]
            ],
            "type": "surface"
           }
          ],
          "table": [
           {
            "cells": {
             "fill": {
              "color": "#EBF0F8"
             },
             "line": {
              "color": "white"
             }
            },
            "header": {
             "fill": {
              "color": "#C8D4E3"
             },
             "line": {
              "color": "white"
             }
            },
            "type": "table"
           }
          ]
         },
         "layout": {
          "annotationdefaults": {
           "arrowcolor": "#2a3f5f",
           "arrowhead": 0,
           "arrowwidth": 1
          },
          "autotypenumbers": "strict",
          "coloraxis": {
           "colorbar": {
            "outlinewidth": 0,
            "ticks": ""
           }
          },
          "colorscale": {
           "diverging": [
            [
             0,
             "#8e0152"
            ],
            [
             0.1,
             "#c51b7d"
            ],
            [
             0.2,
             "#de77ae"
            ],
            [
             0.3,
             "#f1b6da"
            ],
            [
             0.4,
             "#fde0ef"
            ],
            [
             0.5,
             "#f7f7f7"
            ],
            [
             0.6,
             "#e6f5d0"
            ],
            [
             0.7,
             "#b8e186"
            ],
            [
             0.8,
             "#7fbc41"
            ],
            [
             0.9,
             "#4d9221"
            ],
            [
             1,
             "#276419"
            ]
           ],
           "sequential": [
            [
             0,
             "#0d0887"
            ],
            [
             0.1111111111111111,
             "#46039f"
            ],
            [
             0.2222222222222222,
             "#7201a8"
            ],
            [
             0.3333333333333333,
             "#9c179e"
            ],
            [
             0.4444444444444444,
             "#bd3786"
            ],
            [
             0.5555555555555556,
             "#d8576b"
            ],
            [
             0.6666666666666666,
             "#ed7953"
            ],
            [
             0.7777777777777778,
             "#fb9f3a"
            ],
            [
             0.8888888888888888,
             "#fdca26"
            ],
            [
             1,
             "#f0f921"
            ]
           ],
           "sequentialminus": [
            [
             0,
             "#0d0887"
            ],
            [
             0.1111111111111111,
             "#46039f"
            ],
            [
             0.2222222222222222,
             "#7201a8"
            ],
            [
             0.3333333333333333,
             "#9c179e"
            ],
            [
             0.4444444444444444,
             "#bd3786"
            ],
            [
             0.5555555555555556,
             "#d8576b"
            ],
            [
             0.6666666666666666,
             "#ed7953"
            ],
            [
             0.7777777777777778,
             "#fb9f3a"
            ],
            [
             0.8888888888888888,
             "#fdca26"
            ],
            [
             1,
             "#f0f921"
            ]
           ]
          },
          "colorway": [
           "#636efa",
           "#EF553B",
           "#00cc96",
           "#ab63fa",
           "#FFA15A",
           "#19d3f3",
           "#FF6692",
           "#B6E880",
           "#FF97FF",
           "#FECB52"
          ],
          "font": {
           "color": "#2a3f5f"
          },
          "geo": {
           "bgcolor": "white",
           "lakecolor": "white",
           "landcolor": "#E5ECF6",
           "showlakes": true,
           "showland": true,
           "subunitcolor": "white"
          },
          "hoverlabel": {
           "align": "left"
          },
          "hovermode": "closest",
          "mapbox": {
           "style": "light"
          },
          "paper_bgcolor": "white",
          "plot_bgcolor": "#E5ECF6",
          "polar": {
           "angularaxis": {
            "gridcolor": "white",
            "linecolor": "white",
            "ticks": ""
           },
           "bgcolor": "#E5ECF6",
           "radialaxis": {
            "gridcolor": "white",
            "linecolor": "white",
            "ticks": ""
           }
          },
          "scene": {
           "xaxis": {
            "backgroundcolor": "#E5ECF6",
            "gridcolor": "white",
            "gridwidth": 2,
            "linecolor": "white",
            "showbackground": true,
            "ticks": "",
            "zerolinecolor": "white"
           },
           "yaxis": {
            "backgroundcolor": "#E5ECF6",
            "gridcolor": "white",
            "gridwidth": 2,
            "linecolor": "white",
            "showbackground": true,
            "ticks": "",
            "zerolinecolor": "white"
           },
           "zaxis": {
            "backgroundcolor": "#E5ECF6",
            "gridcolor": "white",
            "gridwidth": 2,
            "linecolor": "white",
            "showbackground": true,
            "ticks": "",
            "zerolinecolor": "white"
           }
          },
          "shapedefaults": {
           "line": {
            "color": "#2a3f5f"
           }
          },
          "ternary": {
           "aaxis": {
            "gridcolor": "white",
            "linecolor": "white",
            "ticks": ""
           },
           "baxis": {
            "gridcolor": "white",
            "linecolor": "white",
            "ticks": ""
           },
           "bgcolor": "#E5ECF6",
           "caxis": {
            "gridcolor": "white",
            "linecolor": "white",
            "ticks": ""
           }
          },
          "title": {
           "x": 0.05
          },
          "xaxis": {
           "automargin": true,
           "gridcolor": "white",
           "linecolor": "white",
           "ticks": "",
           "title": {
            "standoff": 15
           },
           "zerolinecolor": "white",
           "zerolinewidth": 2
          },
          "yaxis": {
           "automargin": true,
           "gridcolor": "white",
           "linecolor": "white",
           "ticks": "",
           "title": {
            "standoff": 15
           },
           "zerolinecolor": "white",
           "zerolinewidth": 2
          }
         }
        },
        "title": {
         "text": "Number of Outages Per Cause"
        },
        "xaxis": {
         "anchor": "y",
         "domain": [
          0,
          1
         ],
         "title": {
          "text": "CAUSE.CATEGORY"
         }
        },
        "yaxis": {
         "anchor": "x",
         "domain": [
          0,
          1
         ],
         "title": {
          "text": "value"
         }
        }
       }
      }
     },
     "metadata": {},
     "output_type": "display_data"
    }
   ],
   "source": [
    "num_causes = relevant.groupby('CAUSE.CATEGORY')[['YEAR']].count().sort_values(by='YEAR').rename(columns={'YEAR': 'Count'})\n",
    "causes = px.bar(num_causes, title='Number of Outages Per Cause')\n",
    "causes.show()\n",
    "causes.write_html('causes_count.html')"
   ]
  },
  {
   "cell_type": "code",
   "execution_count": 19,
   "metadata": {},
   "outputs": [
    {
     "data": {
      "application/vnd.plotly.v1+json": {
       "config": {
        "plotlyServerURL": "https://plot.ly"
       },
       "data": [
        {
         "alignmentgroup": "True",
         "hovertemplate": "variable=YEAR<br>U.S._STATE=%{x}<br>value=%{y}<extra></extra>",
         "legendgroup": "YEAR",
         "marker": {
          "color": "#636efa",
          "pattern": {
           "shape": ""
          }
         },
         "name": "YEAR",
         "offsetgroup": "YEAR",
         "orientation": "v",
         "showlegend": true,
         "textposition": "auto",
         "type": "bar",
         "x": [
          "Alaska",
          "North Dakota",
          "South Dakota",
          "Montana",
          "Mississippi",
          "West Virginia",
          "Nebraska",
          "Hawaii",
          "Wyoming",
          "Alabama",
          "Nevada",
          "South Carolina",
          "New Mexico",
          "Iowa",
          "Kansas",
          "Idaho",
          "Vermont",
          "District of Columbia",
          "Kentucky",
          "New Hampshire",
          "Colorado",
          "Minnesota",
          "Georgia",
          "Missouri",
          "Massachusetts",
          "Connecticut",
          "Maine",
          "Wisconsin",
          "Oklahoma",
          "Arkansas",
          "Oregon",
          "Arizona",
          "Tennessee",
          "New Jersey",
          "Virginia",
          "North Carolina",
          "Louisiana",
          "Utah",
          "Delaware",
          "Indiana",
          "Ohio",
          "Florida",
          "Illinois",
          "Pennsylvania",
          "Maryland",
          "New York",
          "Michigan",
          "Washington",
          "Texas",
          "California"
         ],
         "xaxis": "x",
         "y": [
          1,
          2,
          2,
          3,
          4,
          4,
          4,
          5,
          6,
          6,
          7,
          8,
          8,
          8,
          9,
          9,
          9,
          10,
          13,
          14,
          15,
          15,
          17,
          17,
          18,
          18,
          19,
          20,
          24,
          25,
          26,
          28,
          34,
          35,
          37,
          40,
          40,
          41,
          41,
          43,
          43,
          45,
          46,
          57,
          58,
          71,
          95,
          97,
          127,
          210
         ],
         "yaxis": "y"
        }
       ],
       "layout": {
        "barmode": "relative",
        "legend": {
         "title": {
          "text": "variable"
         },
         "tracegroupgap": 0
        },
        "margin": {
         "t": 60
        },
        "template": {
         "data": {
          "bar": [
           {
            "error_x": {
             "color": "#2a3f5f"
            },
            "error_y": {
             "color": "#2a3f5f"
            },
            "marker": {
             "line": {
              "color": "#E5ECF6",
              "width": 0.5
             },
             "pattern": {
              "fillmode": "overlay",
              "size": 10,
              "solidity": 0.2
             }
            },
            "type": "bar"
           }
          ],
          "barpolar": [
           {
            "marker": {
             "line": {
              "color": "#E5ECF6",
              "width": 0.5
             },
             "pattern": {
              "fillmode": "overlay",
              "size": 10,
              "solidity": 0.2
             }
            },
            "type": "barpolar"
           }
          ],
          "carpet": [
           {
            "aaxis": {
             "endlinecolor": "#2a3f5f",
             "gridcolor": "white",
             "linecolor": "white",
             "minorgridcolor": "white",
             "startlinecolor": "#2a3f5f"
            },
            "baxis": {
             "endlinecolor": "#2a3f5f",
             "gridcolor": "white",
             "linecolor": "white",
             "minorgridcolor": "white",
             "startlinecolor": "#2a3f5f"
            },
            "type": "carpet"
           }
          ],
          "choropleth": [
           {
            "colorbar": {
             "outlinewidth": 0,
             "ticks": ""
            },
            "type": "choropleth"
           }
          ],
          "contour": [
           {
            "colorbar": {
             "outlinewidth": 0,
             "ticks": ""
            },
            "colorscale": [
             [
              0,
              "#0d0887"
             ],
             [
              0.1111111111111111,
              "#46039f"
             ],
             [
              0.2222222222222222,
              "#7201a8"
             ],
             [
              0.3333333333333333,
              "#9c179e"
             ],
             [
              0.4444444444444444,
              "#bd3786"
             ],
             [
              0.5555555555555556,
              "#d8576b"
             ],
             [
              0.6666666666666666,
              "#ed7953"
             ],
             [
              0.7777777777777778,
              "#fb9f3a"
             ],
             [
              0.8888888888888888,
              "#fdca26"
             ],
             [
              1,
              "#f0f921"
             ]
            ],
            "type": "contour"
           }
          ],
          "contourcarpet": [
           {
            "colorbar": {
             "outlinewidth": 0,
             "ticks": ""
            },
            "type": "contourcarpet"
           }
          ],
          "heatmap": [
           {
            "colorbar": {
             "outlinewidth": 0,
             "ticks": ""
            },
            "colorscale": [
             [
              0,
              "#0d0887"
             ],
             [
              0.1111111111111111,
              "#46039f"
             ],
             [
              0.2222222222222222,
              "#7201a8"
             ],
             [
              0.3333333333333333,
              "#9c179e"
             ],
             [
              0.4444444444444444,
              "#bd3786"
             ],
             [
              0.5555555555555556,
              "#d8576b"
             ],
             [
              0.6666666666666666,
              "#ed7953"
             ],
             [
              0.7777777777777778,
              "#fb9f3a"
             ],
             [
              0.8888888888888888,
              "#fdca26"
             ],
             [
              1,
              "#f0f921"
             ]
            ],
            "type": "heatmap"
           }
          ],
          "heatmapgl": [
           {
            "colorbar": {
             "outlinewidth": 0,
             "ticks": ""
            },
            "colorscale": [
             [
              0,
              "#0d0887"
             ],
             [
              0.1111111111111111,
              "#46039f"
             ],
             [
              0.2222222222222222,
              "#7201a8"
             ],
             [
              0.3333333333333333,
              "#9c179e"
             ],
             [
              0.4444444444444444,
              "#bd3786"
             ],
             [
              0.5555555555555556,
              "#d8576b"
             ],
             [
              0.6666666666666666,
              "#ed7953"
             ],
             [
              0.7777777777777778,
              "#fb9f3a"
             ],
             [
              0.8888888888888888,
              "#fdca26"
             ],
             [
              1,
              "#f0f921"
             ]
            ],
            "type": "heatmapgl"
           }
          ],
          "histogram": [
           {
            "marker": {
             "pattern": {
              "fillmode": "overlay",
              "size": 10,
              "solidity": 0.2
             }
            },
            "type": "histogram"
           }
          ],
          "histogram2d": [
           {
            "colorbar": {
             "outlinewidth": 0,
             "ticks": ""
            },
            "colorscale": [
             [
              0,
              "#0d0887"
             ],
             [
              0.1111111111111111,
              "#46039f"
             ],
             [
              0.2222222222222222,
              "#7201a8"
             ],
             [
              0.3333333333333333,
              "#9c179e"
             ],
             [
              0.4444444444444444,
              "#bd3786"
             ],
             [
              0.5555555555555556,
              "#d8576b"
             ],
             [
              0.6666666666666666,
              "#ed7953"
             ],
             [
              0.7777777777777778,
              "#fb9f3a"
             ],
             [
              0.8888888888888888,
              "#fdca26"
             ],
             [
              1,
              "#f0f921"
             ]
            ],
            "type": "histogram2d"
           }
          ],
          "histogram2dcontour": [
           {
            "colorbar": {
             "outlinewidth": 0,
             "ticks": ""
            },
            "colorscale": [
             [
              0,
              "#0d0887"
             ],
             [
              0.1111111111111111,
              "#46039f"
             ],
             [
              0.2222222222222222,
              "#7201a8"
             ],
             [
              0.3333333333333333,
              "#9c179e"
             ],
             [
              0.4444444444444444,
              "#bd3786"
             ],
             [
              0.5555555555555556,
              "#d8576b"
             ],
             [
              0.6666666666666666,
              "#ed7953"
             ],
             [
              0.7777777777777778,
              "#fb9f3a"
             ],
             [
              0.8888888888888888,
              "#fdca26"
             ],
             [
              1,
              "#f0f921"
             ]
            ],
            "type": "histogram2dcontour"
           }
          ],
          "mesh3d": [
           {
            "colorbar": {
             "outlinewidth": 0,
             "ticks": ""
            },
            "type": "mesh3d"
           }
          ],
          "parcoords": [
           {
            "line": {
             "colorbar": {
              "outlinewidth": 0,
              "ticks": ""
             }
            },
            "type": "parcoords"
           }
          ],
          "pie": [
           {
            "automargin": true,
            "type": "pie"
           }
          ],
          "scatter": [
           {
            "fillpattern": {
             "fillmode": "overlay",
             "size": 10,
             "solidity": 0.2
            },
            "type": "scatter"
           }
          ],
          "scatter3d": [
           {
            "line": {
             "colorbar": {
              "outlinewidth": 0,
              "ticks": ""
             }
            },
            "marker": {
             "colorbar": {
              "outlinewidth": 0,
              "ticks": ""
             }
            },
            "type": "scatter3d"
           }
          ],
          "scattercarpet": [
           {
            "marker": {
             "colorbar": {
              "outlinewidth": 0,
              "ticks": ""
             }
            },
            "type": "scattercarpet"
           }
          ],
          "scattergeo": [
           {
            "marker": {
             "colorbar": {
              "outlinewidth": 0,
              "ticks": ""
             }
            },
            "type": "scattergeo"
           }
          ],
          "scattergl": [
           {
            "marker": {
             "colorbar": {
              "outlinewidth": 0,
              "ticks": ""
             }
            },
            "type": "scattergl"
           }
          ],
          "scattermapbox": [
           {
            "marker": {
             "colorbar": {
              "outlinewidth": 0,
              "ticks": ""
             }
            },
            "type": "scattermapbox"
           }
          ],
          "scatterpolar": [
           {
            "marker": {
             "colorbar": {
              "outlinewidth": 0,
              "ticks": ""
             }
            },
            "type": "scatterpolar"
           }
          ],
          "scatterpolargl": [
           {
            "marker": {
             "colorbar": {
              "outlinewidth": 0,
              "ticks": ""
             }
            },
            "type": "scatterpolargl"
           }
          ],
          "scatterternary": [
           {
            "marker": {
             "colorbar": {
              "outlinewidth": 0,
              "ticks": ""
             }
            },
            "type": "scatterternary"
           }
          ],
          "surface": [
           {
            "colorbar": {
             "outlinewidth": 0,
             "ticks": ""
            },
            "colorscale": [
             [
              0,
              "#0d0887"
             ],
             [
              0.1111111111111111,
              "#46039f"
             ],
             [
              0.2222222222222222,
              "#7201a8"
             ],
             [
              0.3333333333333333,
              "#9c179e"
             ],
             [
              0.4444444444444444,
              "#bd3786"
             ],
             [
              0.5555555555555556,
              "#d8576b"
             ],
             [
              0.6666666666666666,
              "#ed7953"
             ],
             [
              0.7777777777777778,
              "#fb9f3a"
             ],
             [
              0.8888888888888888,
              "#fdca26"
             ],
             [
              1,
              "#f0f921"
             ]
            ],
            "type": "surface"
           }
          ],
          "table": [
           {
            "cells": {
             "fill": {
              "color": "#EBF0F8"
             },
             "line": {
              "color": "white"
             }
            },
            "header": {
             "fill": {
              "color": "#C8D4E3"
             },
             "line": {
              "color": "white"
             }
            },
            "type": "table"
           }
          ]
         },
         "layout": {
          "annotationdefaults": {
           "arrowcolor": "#2a3f5f",
           "arrowhead": 0,
           "arrowwidth": 1
          },
          "autotypenumbers": "strict",
          "coloraxis": {
           "colorbar": {
            "outlinewidth": 0,
            "ticks": ""
           }
          },
          "colorscale": {
           "diverging": [
            [
             0,
             "#8e0152"
            ],
            [
             0.1,
             "#c51b7d"
            ],
            [
             0.2,
             "#de77ae"
            ],
            [
             0.3,
             "#f1b6da"
            ],
            [
             0.4,
             "#fde0ef"
            ],
            [
             0.5,
             "#f7f7f7"
            ],
            [
             0.6,
             "#e6f5d0"
            ],
            [
             0.7,
             "#b8e186"
            ],
            [
             0.8,
             "#7fbc41"
            ],
            [
             0.9,
             "#4d9221"
            ],
            [
             1,
             "#276419"
            ]
           ],
           "sequential": [
            [
             0,
             "#0d0887"
            ],
            [
             0.1111111111111111,
             "#46039f"
            ],
            [
             0.2222222222222222,
             "#7201a8"
            ],
            [
             0.3333333333333333,
             "#9c179e"
            ],
            [
             0.4444444444444444,
             "#bd3786"
            ],
            [
             0.5555555555555556,
             "#d8576b"
            ],
            [
             0.6666666666666666,
             "#ed7953"
            ],
            [
             0.7777777777777778,
             "#fb9f3a"
            ],
            [
             0.8888888888888888,
             "#fdca26"
            ],
            [
             1,
             "#f0f921"
            ]
           ],
           "sequentialminus": [
            [
             0,
             "#0d0887"
            ],
            [
             0.1111111111111111,
             "#46039f"
            ],
            [
             0.2222222222222222,
             "#7201a8"
            ],
            [
             0.3333333333333333,
             "#9c179e"
            ],
            [
             0.4444444444444444,
             "#bd3786"
            ],
            [
             0.5555555555555556,
             "#d8576b"
            ],
            [
             0.6666666666666666,
             "#ed7953"
            ],
            [
             0.7777777777777778,
             "#fb9f3a"
            ],
            [
             0.8888888888888888,
             "#fdca26"
            ],
            [
             1,
             "#f0f921"
            ]
           ]
          },
          "colorway": [
           "#636efa",
           "#EF553B",
           "#00cc96",
           "#ab63fa",
           "#FFA15A",
           "#19d3f3",
           "#FF6692",
           "#B6E880",
           "#FF97FF",
           "#FECB52"
          ],
          "font": {
           "color": "#2a3f5f"
          },
          "geo": {
           "bgcolor": "white",
           "lakecolor": "white",
           "landcolor": "#E5ECF6",
           "showlakes": true,
           "showland": true,
           "subunitcolor": "white"
          },
          "hoverlabel": {
           "align": "left"
          },
          "hovermode": "closest",
          "mapbox": {
           "style": "light"
          },
          "paper_bgcolor": "white",
          "plot_bgcolor": "#E5ECF6",
          "polar": {
           "angularaxis": {
            "gridcolor": "white",
            "linecolor": "white",
            "ticks": ""
           },
           "bgcolor": "#E5ECF6",
           "radialaxis": {
            "gridcolor": "white",
            "linecolor": "white",
            "ticks": ""
           }
          },
          "scene": {
           "xaxis": {
            "backgroundcolor": "#E5ECF6",
            "gridcolor": "white",
            "gridwidth": 2,
            "linecolor": "white",
            "showbackground": true,
            "ticks": "",
            "zerolinecolor": "white"
           },
           "yaxis": {
            "backgroundcolor": "#E5ECF6",
            "gridcolor": "white",
            "gridwidth": 2,
            "linecolor": "white",
            "showbackground": true,
            "ticks": "",
            "zerolinecolor": "white"
           },
           "zaxis": {
            "backgroundcolor": "#E5ECF6",
            "gridcolor": "white",
            "gridwidth": 2,
            "linecolor": "white",
            "showbackground": true,
            "ticks": "",
            "zerolinecolor": "white"
           }
          },
          "shapedefaults": {
           "line": {
            "color": "#2a3f5f"
           }
          },
          "ternary": {
           "aaxis": {
            "gridcolor": "white",
            "linecolor": "white",
            "ticks": ""
           },
           "baxis": {
            "gridcolor": "white",
            "linecolor": "white",
            "ticks": ""
           },
           "bgcolor": "#E5ECF6",
           "caxis": {
            "gridcolor": "white",
            "linecolor": "white",
            "ticks": ""
           }
          },
          "title": {
           "x": 0.05
          },
          "xaxis": {
           "automargin": true,
           "gridcolor": "white",
           "linecolor": "white",
           "ticks": "",
           "title": {
            "standoff": 15
           },
           "zerolinecolor": "white",
           "zerolinewidth": 2
          },
          "yaxis": {
           "automargin": true,
           "gridcolor": "white",
           "linecolor": "white",
           "ticks": "",
           "title": {
            "standoff": 15
           },
           "zerolinecolor": "white",
           "zerolinewidth": 2
          }
         }
        },
        "xaxis": {
         "anchor": "y",
         "domain": [
          0,
          1
         ],
         "title": {
          "text": "U.S._STATE"
         }
        },
        "yaxis": {
         "anchor": "x",
         "domain": [
          0,
          1
         ],
         "title": {
          "text": "value"
         }
        }
       }
      }
     },
     "metadata": {},
     "output_type": "display_data"
    }
   ],
   "source": [
    "num_states = relevant.groupby('U.S._STATE')['YEAR'].count().sort_values()\n",
    "states = px.bar(num_states)\n",
    "states.show()"
   ]
  },
  {
   "cell_type": "code",
   "execution_count": 20,
   "metadata": {},
   "outputs": [
    {
     "data": {
      "application/vnd.plotly.v1+json": {
       "config": {
        "plotlyServerURL": "https://plot.ly"
       },
       "data": [
        {
         "hovertemplate": "variable=COUNT<br>YEAR=%{x}<br>value=%{y}<extra></extra>",
         "legendgroup": "COUNT",
         "line": {
          "color": "#636efa",
          "dash": "solid"
         },
         "marker": {
          "symbol": "circle"
         },
         "mode": "lines",
         "name": "COUNT",
         "orientation": "v",
         "showlegend": true,
         "type": "scatter",
         "x": [
          2000,
          2001,
          2002,
          2003,
          2004,
          2005,
          2006,
          2007,
          2008,
          2009,
          2010,
          2011,
          2012,
          2013,
          2014,
          2015,
          2016
         ],
         "xaxis": "x",
         "y": [
          19,
          15,
          16,
          46,
          71,
          55,
          66,
          56,
          111,
          78,
          106,
          269,
          174,
          153,
          112,
          119,
          59
         ],
         "yaxis": "y"
        }
       ],
       "layout": {
        "legend": {
         "title": {
          "text": "variable"
         },
         "tracegroupgap": 0
        },
        "template": {
         "data": {
          "bar": [
           {
            "error_x": {
             "color": "#2a3f5f"
            },
            "error_y": {
             "color": "#2a3f5f"
            },
            "marker": {
             "line": {
              "color": "#E5ECF6",
              "width": 0.5
             },
             "pattern": {
              "fillmode": "overlay",
              "size": 10,
              "solidity": 0.2
             }
            },
            "type": "bar"
           }
          ],
          "barpolar": [
           {
            "marker": {
             "line": {
              "color": "#E5ECF6",
              "width": 0.5
             },
             "pattern": {
              "fillmode": "overlay",
              "size": 10,
              "solidity": 0.2
             }
            },
            "type": "barpolar"
           }
          ],
          "carpet": [
           {
            "aaxis": {
             "endlinecolor": "#2a3f5f",
             "gridcolor": "white",
             "linecolor": "white",
             "minorgridcolor": "white",
             "startlinecolor": "#2a3f5f"
            },
            "baxis": {
             "endlinecolor": "#2a3f5f",
             "gridcolor": "white",
             "linecolor": "white",
             "minorgridcolor": "white",
             "startlinecolor": "#2a3f5f"
            },
            "type": "carpet"
           }
          ],
          "choropleth": [
           {
            "colorbar": {
             "outlinewidth": 0,
             "ticks": ""
            },
            "type": "choropleth"
           }
          ],
          "contour": [
           {
            "colorbar": {
             "outlinewidth": 0,
             "ticks": ""
            },
            "colorscale": [
             [
              0,
              "#0d0887"
             ],
             [
              0.1111111111111111,
              "#46039f"
             ],
             [
              0.2222222222222222,
              "#7201a8"
             ],
             [
              0.3333333333333333,
              "#9c179e"
             ],
             [
              0.4444444444444444,
              "#bd3786"
             ],
             [
              0.5555555555555556,
              "#d8576b"
             ],
             [
              0.6666666666666666,
              "#ed7953"
             ],
             [
              0.7777777777777778,
              "#fb9f3a"
             ],
             [
              0.8888888888888888,
              "#fdca26"
             ],
             [
              1,
              "#f0f921"
             ]
            ],
            "type": "contour"
           }
          ],
          "contourcarpet": [
           {
            "colorbar": {
             "outlinewidth": 0,
             "ticks": ""
            },
            "type": "contourcarpet"
           }
          ],
          "heatmap": [
           {
            "colorbar": {
             "outlinewidth": 0,
             "ticks": ""
            },
            "colorscale": [
             [
              0,
              "#0d0887"
             ],
             [
              0.1111111111111111,
              "#46039f"
             ],
             [
              0.2222222222222222,
              "#7201a8"
             ],
             [
              0.3333333333333333,
              "#9c179e"
             ],
             [
              0.4444444444444444,
              "#bd3786"
             ],
             [
              0.5555555555555556,
              "#d8576b"
             ],
             [
              0.6666666666666666,
              "#ed7953"
             ],
             [
              0.7777777777777778,
              "#fb9f3a"
             ],
             [
              0.8888888888888888,
              "#fdca26"
             ],
             [
              1,
              "#f0f921"
             ]
            ],
            "type": "heatmap"
           }
          ],
          "heatmapgl": [
           {
            "colorbar": {
             "outlinewidth": 0,
             "ticks": ""
            },
            "colorscale": [
             [
              0,
              "#0d0887"
             ],
             [
              0.1111111111111111,
              "#46039f"
             ],
             [
              0.2222222222222222,
              "#7201a8"
             ],
             [
              0.3333333333333333,
              "#9c179e"
             ],
             [
              0.4444444444444444,
              "#bd3786"
             ],
             [
              0.5555555555555556,
              "#d8576b"
             ],
             [
              0.6666666666666666,
              "#ed7953"
             ],
             [
              0.7777777777777778,
              "#fb9f3a"
             ],
             [
              0.8888888888888888,
              "#fdca26"
             ],
             [
              1,
              "#f0f921"
             ]
            ],
            "type": "heatmapgl"
           }
          ],
          "histogram": [
           {
            "marker": {
             "pattern": {
              "fillmode": "overlay",
              "size": 10,
              "solidity": 0.2
             }
            },
            "type": "histogram"
           }
          ],
          "histogram2d": [
           {
            "colorbar": {
             "outlinewidth": 0,
             "ticks": ""
            },
            "colorscale": [
             [
              0,
              "#0d0887"
             ],
             [
              0.1111111111111111,
              "#46039f"
             ],
             [
              0.2222222222222222,
              "#7201a8"
             ],
             [
              0.3333333333333333,
              "#9c179e"
             ],
             [
              0.4444444444444444,
              "#bd3786"
             ],
             [
              0.5555555555555556,
              "#d8576b"
             ],
             [
              0.6666666666666666,
              "#ed7953"
             ],
             [
              0.7777777777777778,
              "#fb9f3a"
             ],
             [
              0.8888888888888888,
              "#fdca26"
             ],
             [
              1,
              "#f0f921"
             ]
            ],
            "type": "histogram2d"
           }
          ],
          "histogram2dcontour": [
           {
            "colorbar": {
             "outlinewidth": 0,
             "ticks": ""
            },
            "colorscale": [
             [
              0,
              "#0d0887"
             ],
             [
              0.1111111111111111,
              "#46039f"
             ],
             [
              0.2222222222222222,
              "#7201a8"
             ],
             [
              0.3333333333333333,
              "#9c179e"
             ],
             [
              0.4444444444444444,
              "#bd3786"
             ],
             [
              0.5555555555555556,
              "#d8576b"
             ],
             [
              0.6666666666666666,
              "#ed7953"
             ],
             [
              0.7777777777777778,
              "#fb9f3a"
             ],
             [
              0.8888888888888888,
              "#fdca26"
             ],
             [
              1,
              "#f0f921"
             ]
            ],
            "type": "histogram2dcontour"
           }
          ],
          "mesh3d": [
           {
            "colorbar": {
             "outlinewidth": 0,
             "ticks": ""
            },
            "type": "mesh3d"
           }
          ],
          "parcoords": [
           {
            "line": {
             "colorbar": {
              "outlinewidth": 0,
              "ticks": ""
             }
            },
            "type": "parcoords"
           }
          ],
          "pie": [
           {
            "automargin": true,
            "type": "pie"
           }
          ],
          "scatter": [
           {
            "fillpattern": {
             "fillmode": "overlay",
             "size": 10,
             "solidity": 0.2
            },
            "type": "scatter"
           }
          ],
          "scatter3d": [
           {
            "line": {
             "colorbar": {
              "outlinewidth": 0,
              "ticks": ""
             }
            },
            "marker": {
             "colorbar": {
              "outlinewidth": 0,
              "ticks": ""
             }
            },
            "type": "scatter3d"
           }
          ],
          "scattercarpet": [
           {
            "marker": {
             "colorbar": {
              "outlinewidth": 0,
              "ticks": ""
             }
            },
            "type": "scattercarpet"
           }
          ],
          "scattergeo": [
           {
            "marker": {
             "colorbar": {
              "outlinewidth": 0,
              "ticks": ""
             }
            },
            "type": "scattergeo"
           }
          ],
          "scattergl": [
           {
            "marker": {
             "colorbar": {
              "outlinewidth": 0,
              "ticks": ""
             }
            },
            "type": "scattergl"
           }
          ],
          "scattermapbox": [
           {
            "marker": {
             "colorbar": {
              "outlinewidth": 0,
              "ticks": ""
             }
            },
            "type": "scattermapbox"
           }
          ],
          "scatterpolar": [
           {
            "marker": {
             "colorbar": {
              "outlinewidth": 0,
              "ticks": ""
             }
            },
            "type": "scatterpolar"
           }
          ],
          "scatterpolargl": [
           {
            "marker": {
             "colorbar": {
              "outlinewidth": 0,
              "ticks": ""
             }
            },
            "type": "scatterpolargl"
           }
          ],
          "scatterternary": [
           {
            "marker": {
             "colorbar": {
              "outlinewidth": 0,
              "ticks": ""
             }
            },
            "type": "scatterternary"
           }
          ],
          "surface": [
           {
            "colorbar": {
             "outlinewidth": 0,
             "ticks": ""
            },
            "colorscale": [
             [
              0,
              "#0d0887"
             ],
             [
              0.1111111111111111,
              "#46039f"
             ],
             [
              0.2222222222222222,
              "#7201a8"
             ],
             [
              0.3333333333333333,
              "#9c179e"
             ],
             [
              0.4444444444444444,
              "#bd3786"
             ],
             [
              0.5555555555555556,
              "#d8576b"
             ],
             [
              0.6666666666666666,
              "#ed7953"
             ],
             [
              0.7777777777777778,
              "#fb9f3a"
             ],
             [
              0.8888888888888888,
              "#fdca26"
             ],
             [
              1,
              "#f0f921"
             ]
            ],
            "type": "surface"
           }
          ],
          "table": [
           {
            "cells": {
             "fill": {
              "color": "#EBF0F8"
             },
             "line": {
              "color": "white"
             }
            },
            "header": {
             "fill": {
              "color": "#C8D4E3"
             },
             "line": {
              "color": "white"
             }
            },
            "type": "table"
           }
          ]
         },
         "layout": {
          "annotationdefaults": {
           "arrowcolor": "#2a3f5f",
           "arrowhead": 0,
           "arrowwidth": 1
          },
          "autotypenumbers": "strict",
          "coloraxis": {
           "colorbar": {
            "outlinewidth": 0,
            "ticks": ""
           }
          },
          "colorscale": {
           "diverging": [
            [
             0,
             "#8e0152"
            ],
            [
             0.1,
             "#c51b7d"
            ],
            [
             0.2,
             "#de77ae"
            ],
            [
             0.3,
             "#f1b6da"
            ],
            [
             0.4,
             "#fde0ef"
            ],
            [
             0.5,
             "#f7f7f7"
            ],
            [
             0.6,
             "#e6f5d0"
            ],
            [
             0.7,
             "#b8e186"
            ],
            [
             0.8,
             "#7fbc41"
            ],
            [
             0.9,
             "#4d9221"
            ],
            [
             1,
             "#276419"
            ]
           ],
           "sequential": [
            [
             0,
             "#0d0887"
            ],
            [
             0.1111111111111111,
             "#46039f"
            ],
            [
             0.2222222222222222,
             "#7201a8"
            ],
            [
             0.3333333333333333,
             "#9c179e"
            ],
            [
             0.4444444444444444,
             "#bd3786"
            ],
            [
             0.5555555555555556,
             "#d8576b"
            ],
            [
             0.6666666666666666,
             "#ed7953"
            ],
            [
             0.7777777777777778,
             "#fb9f3a"
            ],
            [
             0.8888888888888888,
             "#fdca26"
            ],
            [
             1,
             "#f0f921"
            ]
           ],
           "sequentialminus": [
            [
             0,
             "#0d0887"
            ],
            [
             0.1111111111111111,
             "#46039f"
            ],
            [
             0.2222222222222222,
             "#7201a8"
            ],
            [
             0.3333333333333333,
             "#9c179e"
            ],
            [
             0.4444444444444444,
             "#bd3786"
            ],
            [
             0.5555555555555556,
             "#d8576b"
            ],
            [
             0.6666666666666666,
             "#ed7953"
            ],
            [
             0.7777777777777778,
             "#fb9f3a"
            ],
            [
             0.8888888888888888,
             "#fdca26"
            ],
            [
             1,
             "#f0f921"
            ]
           ]
          },
          "colorway": [
           "#636efa",
           "#EF553B",
           "#00cc96",
           "#ab63fa",
           "#FFA15A",
           "#19d3f3",
           "#FF6692",
           "#B6E880",
           "#FF97FF",
           "#FECB52"
          ],
          "font": {
           "color": "#2a3f5f"
          },
          "geo": {
           "bgcolor": "white",
           "lakecolor": "white",
           "landcolor": "#E5ECF6",
           "showlakes": true,
           "showland": true,
           "subunitcolor": "white"
          },
          "hoverlabel": {
           "align": "left"
          },
          "hovermode": "closest",
          "mapbox": {
           "style": "light"
          },
          "paper_bgcolor": "white",
          "plot_bgcolor": "#E5ECF6",
          "polar": {
           "angularaxis": {
            "gridcolor": "white",
            "linecolor": "white",
            "ticks": ""
           },
           "bgcolor": "#E5ECF6",
           "radialaxis": {
            "gridcolor": "white",
            "linecolor": "white",
            "ticks": ""
           }
          },
          "scene": {
           "xaxis": {
            "backgroundcolor": "#E5ECF6",
            "gridcolor": "white",
            "gridwidth": 2,
            "linecolor": "white",
            "showbackground": true,
            "ticks": "",
            "zerolinecolor": "white"
           },
           "yaxis": {
            "backgroundcolor": "#E5ECF6",
            "gridcolor": "white",
            "gridwidth": 2,
            "linecolor": "white",
            "showbackground": true,
            "ticks": "",
            "zerolinecolor": "white"
           },
           "zaxis": {
            "backgroundcolor": "#E5ECF6",
            "gridcolor": "white",
            "gridwidth": 2,
            "linecolor": "white",
            "showbackground": true,
            "ticks": "",
            "zerolinecolor": "white"
           }
          },
          "shapedefaults": {
           "line": {
            "color": "#2a3f5f"
           }
          },
          "ternary": {
           "aaxis": {
            "gridcolor": "white",
            "linecolor": "white",
            "ticks": ""
           },
           "baxis": {
            "gridcolor": "white",
            "linecolor": "white",
            "ticks": ""
           },
           "bgcolor": "#E5ECF6",
           "caxis": {
            "gridcolor": "white",
            "linecolor": "white",
            "ticks": ""
           }
          },
          "title": {
           "x": 0.05
          },
          "xaxis": {
           "automargin": true,
           "gridcolor": "white",
           "linecolor": "white",
           "ticks": "",
           "title": {
            "standoff": 15
           },
           "zerolinecolor": "white",
           "zerolinewidth": 2
          },
          "yaxis": {
           "automargin": true,
           "gridcolor": "white",
           "linecolor": "white",
           "ticks": "",
           "title": {
            "standoff": 15
           },
           "zerolinecolor": "white",
           "zerolinewidth": 2
          }
         }
        },
        "title": {
         "text": "Number of Outages Per Year"
        },
        "xaxis": {
         "anchor": "y",
         "domain": [
          0,
          1
         ],
         "title": {
          "text": "YEAR"
         }
        },
        "yaxis": {
         "anchor": "x",
         "domain": [
          0,
          1
         ],
         "title": {
          "text": "value"
         }
        }
       }
      }
     },
     "metadata": {},
     "output_type": "display_data"
    }
   ],
   "source": [
    "num_year = relevant.groupby('YEAR')[['MONTH']].count().rename(columns={'MONTH': 'COUNT'})\n",
    "year = px.line(num_year, title='Number of Outages Per Year')\n",
    "year.show()\n",
    "year.write_html('outages_yearly_count.html')"
   ]
  },
  {
   "cell_type": "code",
   "execution_count": 21,
   "metadata": {},
   "outputs": [
    {
     "data": {
      "application/vnd.plotly.v1+json": {
       "config": {
        "plotlyServerURL": "https://plot.ly"
       },
       "data": [
        {
         "hovertemplate": "variable=COUNT<br>MONTH=%{x}<br>value=%{y}<extra></extra>",
         "legendgroup": "COUNT",
         "line": {
          "color": "#636efa",
          "dash": "solid"
         },
         "marker": {
          "symbol": "circle"
         },
         "mode": "lines",
         "name": "COUNT",
         "orientation": "v",
         "showlegend": true,
         "type": "scatter",
         "x": [
          "Jan",
          "Feb",
          "Mar",
          "Apr",
          "May",
          "Jun",
          "Jul",
          "Aug",
          "Sep",
          "Oct",
          "Nov",
          "Dec"
         ],
         "xaxis": "x",
         "y": [
          136,
          136,
          100,
          111,
          127,
          195,
          181,
          153,
          94,
          109,
          72,
          111
         ],
         "yaxis": "y"
        }
       ],
       "layout": {
        "legend": {
         "title": {
          "text": "variable"
         },
         "tracegroupgap": 0
        },
        "template": {
         "data": {
          "bar": [
           {
            "error_x": {
             "color": "#2a3f5f"
            },
            "error_y": {
             "color": "#2a3f5f"
            },
            "marker": {
             "line": {
              "color": "#E5ECF6",
              "width": 0.5
             },
             "pattern": {
              "fillmode": "overlay",
              "size": 10,
              "solidity": 0.2
             }
            },
            "type": "bar"
           }
          ],
          "barpolar": [
           {
            "marker": {
             "line": {
              "color": "#E5ECF6",
              "width": 0.5
             },
             "pattern": {
              "fillmode": "overlay",
              "size": 10,
              "solidity": 0.2
             }
            },
            "type": "barpolar"
           }
          ],
          "carpet": [
           {
            "aaxis": {
             "endlinecolor": "#2a3f5f",
             "gridcolor": "white",
             "linecolor": "white",
             "minorgridcolor": "white",
             "startlinecolor": "#2a3f5f"
            },
            "baxis": {
             "endlinecolor": "#2a3f5f",
             "gridcolor": "white",
             "linecolor": "white",
             "minorgridcolor": "white",
             "startlinecolor": "#2a3f5f"
            },
            "type": "carpet"
           }
          ],
          "choropleth": [
           {
            "colorbar": {
             "outlinewidth": 0,
             "ticks": ""
            },
            "type": "choropleth"
           }
          ],
          "contour": [
           {
            "colorbar": {
             "outlinewidth": 0,
             "ticks": ""
            },
            "colorscale": [
             [
              0,
              "#0d0887"
             ],
             [
              0.1111111111111111,
              "#46039f"
             ],
             [
              0.2222222222222222,
              "#7201a8"
             ],
             [
              0.3333333333333333,
              "#9c179e"
             ],
             [
              0.4444444444444444,
              "#bd3786"
             ],
             [
              0.5555555555555556,
              "#d8576b"
             ],
             [
              0.6666666666666666,
              "#ed7953"
             ],
             [
              0.7777777777777778,
              "#fb9f3a"
             ],
             [
              0.8888888888888888,
              "#fdca26"
             ],
             [
              1,
              "#f0f921"
             ]
            ],
            "type": "contour"
           }
          ],
          "contourcarpet": [
           {
            "colorbar": {
             "outlinewidth": 0,
             "ticks": ""
            },
            "type": "contourcarpet"
           }
          ],
          "heatmap": [
           {
            "colorbar": {
             "outlinewidth": 0,
             "ticks": ""
            },
            "colorscale": [
             [
              0,
              "#0d0887"
             ],
             [
              0.1111111111111111,
              "#46039f"
             ],
             [
              0.2222222222222222,
              "#7201a8"
             ],
             [
              0.3333333333333333,
              "#9c179e"
             ],
             [
              0.4444444444444444,
              "#bd3786"
             ],
             [
              0.5555555555555556,
              "#d8576b"
             ],
             [
              0.6666666666666666,
              "#ed7953"
             ],
             [
              0.7777777777777778,
              "#fb9f3a"
             ],
             [
              0.8888888888888888,
              "#fdca26"
             ],
             [
              1,
              "#f0f921"
             ]
            ],
            "type": "heatmap"
           }
          ],
          "heatmapgl": [
           {
            "colorbar": {
             "outlinewidth": 0,
             "ticks": ""
            },
            "colorscale": [
             [
              0,
              "#0d0887"
             ],
             [
              0.1111111111111111,
              "#46039f"
             ],
             [
              0.2222222222222222,
              "#7201a8"
             ],
             [
              0.3333333333333333,
              "#9c179e"
             ],
             [
              0.4444444444444444,
              "#bd3786"
             ],
             [
              0.5555555555555556,
              "#d8576b"
             ],
             [
              0.6666666666666666,
              "#ed7953"
             ],
             [
              0.7777777777777778,
              "#fb9f3a"
             ],
             [
              0.8888888888888888,
              "#fdca26"
             ],
             [
              1,
              "#f0f921"
             ]
            ],
            "type": "heatmapgl"
           }
          ],
          "histogram": [
           {
            "marker": {
             "pattern": {
              "fillmode": "overlay",
              "size": 10,
              "solidity": 0.2
             }
            },
            "type": "histogram"
           }
          ],
          "histogram2d": [
           {
            "colorbar": {
             "outlinewidth": 0,
             "ticks": ""
            },
            "colorscale": [
             [
              0,
              "#0d0887"
             ],
             [
              0.1111111111111111,
              "#46039f"
             ],
             [
              0.2222222222222222,
              "#7201a8"
             ],
             [
              0.3333333333333333,
              "#9c179e"
             ],
             [
              0.4444444444444444,
              "#bd3786"
             ],
             [
              0.5555555555555556,
              "#d8576b"
             ],
             [
              0.6666666666666666,
              "#ed7953"
             ],
             [
              0.7777777777777778,
              "#fb9f3a"
             ],
             [
              0.8888888888888888,
              "#fdca26"
             ],
             [
              1,
              "#f0f921"
             ]
            ],
            "type": "histogram2d"
           }
          ],
          "histogram2dcontour": [
           {
            "colorbar": {
             "outlinewidth": 0,
             "ticks": ""
            },
            "colorscale": [
             [
              0,
              "#0d0887"
             ],
             [
              0.1111111111111111,
              "#46039f"
             ],
             [
              0.2222222222222222,
              "#7201a8"
             ],
             [
              0.3333333333333333,
              "#9c179e"
             ],
             [
              0.4444444444444444,
              "#bd3786"
             ],
             [
              0.5555555555555556,
              "#d8576b"
             ],
             [
              0.6666666666666666,
              "#ed7953"
             ],
             [
              0.7777777777777778,
              "#fb9f3a"
             ],
             [
              0.8888888888888888,
              "#fdca26"
             ],
             [
              1,
              "#f0f921"
             ]
            ],
            "type": "histogram2dcontour"
           }
          ],
          "mesh3d": [
           {
            "colorbar": {
             "outlinewidth": 0,
             "ticks": ""
            },
            "type": "mesh3d"
           }
          ],
          "parcoords": [
           {
            "line": {
             "colorbar": {
              "outlinewidth": 0,
              "ticks": ""
             }
            },
            "type": "parcoords"
           }
          ],
          "pie": [
           {
            "automargin": true,
            "type": "pie"
           }
          ],
          "scatter": [
           {
            "fillpattern": {
             "fillmode": "overlay",
             "size": 10,
             "solidity": 0.2
            },
            "type": "scatter"
           }
          ],
          "scatter3d": [
           {
            "line": {
             "colorbar": {
              "outlinewidth": 0,
              "ticks": ""
             }
            },
            "marker": {
             "colorbar": {
              "outlinewidth": 0,
              "ticks": ""
             }
            },
            "type": "scatter3d"
           }
          ],
          "scattercarpet": [
           {
            "marker": {
             "colorbar": {
              "outlinewidth": 0,
              "ticks": ""
             }
            },
            "type": "scattercarpet"
           }
          ],
          "scattergeo": [
           {
            "marker": {
             "colorbar": {
              "outlinewidth": 0,
              "ticks": ""
             }
            },
            "type": "scattergeo"
           }
          ],
          "scattergl": [
           {
            "marker": {
             "colorbar": {
              "outlinewidth": 0,
              "ticks": ""
             }
            },
            "type": "scattergl"
           }
          ],
          "scattermapbox": [
           {
            "marker": {
             "colorbar": {
              "outlinewidth": 0,
              "ticks": ""
             }
            },
            "type": "scattermapbox"
           }
          ],
          "scatterpolar": [
           {
            "marker": {
             "colorbar": {
              "outlinewidth": 0,
              "ticks": ""
             }
            },
            "type": "scatterpolar"
           }
          ],
          "scatterpolargl": [
           {
            "marker": {
             "colorbar": {
              "outlinewidth": 0,
              "ticks": ""
             }
            },
            "type": "scatterpolargl"
           }
          ],
          "scatterternary": [
           {
            "marker": {
             "colorbar": {
              "outlinewidth": 0,
              "ticks": ""
             }
            },
            "type": "scatterternary"
           }
          ],
          "surface": [
           {
            "colorbar": {
             "outlinewidth": 0,
             "ticks": ""
            },
            "colorscale": [
             [
              0,
              "#0d0887"
             ],
             [
              0.1111111111111111,
              "#46039f"
             ],
             [
              0.2222222222222222,
              "#7201a8"
             ],
             [
              0.3333333333333333,
              "#9c179e"
             ],
             [
              0.4444444444444444,
              "#bd3786"
             ],
             [
              0.5555555555555556,
              "#d8576b"
             ],
             [
              0.6666666666666666,
              "#ed7953"
             ],
             [
              0.7777777777777778,
              "#fb9f3a"
             ],
             [
              0.8888888888888888,
              "#fdca26"
             ],
             [
              1,
              "#f0f921"
             ]
            ],
            "type": "surface"
           }
          ],
          "table": [
           {
            "cells": {
             "fill": {
              "color": "#EBF0F8"
             },
             "line": {
              "color": "white"
             }
            },
            "header": {
             "fill": {
              "color": "#C8D4E3"
             },
             "line": {
              "color": "white"
             }
            },
            "type": "table"
           }
          ]
         },
         "layout": {
          "annotationdefaults": {
           "arrowcolor": "#2a3f5f",
           "arrowhead": 0,
           "arrowwidth": 1
          },
          "autotypenumbers": "strict",
          "coloraxis": {
           "colorbar": {
            "outlinewidth": 0,
            "ticks": ""
           }
          },
          "colorscale": {
           "diverging": [
            [
             0,
             "#8e0152"
            ],
            [
             0.1,
             "#c51b7d"
            ],
            [
             0.2,
             "#de77ae"
            ],
            [
             0.3,
             "#f1b6da"
            ],
            [
             0.4,
             "#fde0ef"
            ],
            [
             0.5,
             "#f7f7f7"
            ],
            [
             0.6,
             "#e6f5d0"
            ],
            [
             0.7,
             "#b8e186"
            ],
            [
             0.8,
             "#7fbc41"
            ],
            [
             0.9,
             "#4d9221"
            ],
            [
             1,
             "#276419"
            ]
           ],
           "sequential": [
            [
             0,
             "#0d0887"
            ],
            [
             0.1111111111111111,
             "#46039f"
            ],
            [
             0.2222222222222222,
             "#7201a8"
            ],
            [
             0.3333333333333333,
             "#9c179e"
            ],
            [
             0.4444444444444444,
             "#bd3786"
            ],
            [
             0.5555555555555556,
             "#d8576b"
            ],
            [
             0.6666666666666666,
             "#ed7953"
            ],
            [
             0.7777777777777778,
             "#fb9f3a"
            ],
            [
             0.8888888888888888,
             "#fdca26"
            ],
            [
             1,
             "#f0f921"
            ]
           ],
           "sequentialminus": [
            [
             0,
             "#0d0887"
            ],
            [
             0.1111111111111111,
             "#46039f"
            ],
            [
             0.2222222222222222,
             "#7201a8"
            ],
            [
             0.3333333333333333,
             "#9c179e"
            ],
            [
             0.4444444444444444,
             "#bd3786"
            ],
            [
             0.5555555555555556,
             "#d8576b"
            ],
            [
             0.6666666666666666,
             "#ed7953"
            ],
            [
             0.7777777777777778,
             "#fb9f3a"
            ],
            [
             0.8888888888888888,
             "#fdca26"
            ],
            [
             1,
             "#f0f921"
            ]
           ]
          },
          "colorway": [
           "#636efa",
           "#EF553B",
           "#00cc96",
           "#ab63fa",
           "#FFA15A",
           "#19d3f3",
           "#FF6692",
           "#B6E880",
           "#FF97FF",
           "#FECB52"
          ],
          "font": {
           "color": "#2a3f5f"
          },
          "geo": {
           "bgcolor": "white",
           "lakecolor": "white",
           "landcolor": "#E5ECF6",
           "showlakes": true,
           "showland": true,
           "subunitcolor": "white"
          },
          "hoverlabel": {
           "align": "left"
          },
          "hovermode": "closest",
          "mapbox": {
           "style": "light"
          },
          "paper_bgcolor": "white",
          "plot_bgcolor": "#E5ECF6",
          "polar": {
           "angularaxis": {
            "gridcolor": "white",
            "linecolor": "white",
            "ticks": ""
           },
           "bgcolor": "#E5ECF6",
           "radialaxis": {
            "gridcolor": "white",
            "linecolor": "white",
            "ticks": ""
           }
          },
          "scene": {
           "xaxis": {
            "backgroundcolor": "#E5ECF6",
            "gridcolor": "white",
            "gridwidth": 2,
            "linecolor": "white",
            "showbackground": true,
            "ticks": "",
            "zerolinecolor": "white"
           },
           "yaxis": {
            "backgroundcolor": "#E5ECF6",
            "gridcolor": "white",
            "gridwidth": 2,
            "linecolor": "white",
            "showbackground": true,
            "ticks": "",
            "zerolinecolor": "white"
           },
           "zaxis": {
            "backgroundcolor": "#E5ECF6",
            "gridcolor": "white",
            "gridwidth": 2,
            "linecolor": "white",
            "showbackground": true,
            "ticks": "",
            "zerolinecolor": "white"
           }
          },
          "shapedefaults": {
           "line": {
            "color": "#2a3f5f"
           }
          },
          "ternary": {
           "aaxis": {
            "gridcolor": "white",
            "linecolor": "white",
            "ticks": ""
           },
           "baxis": {
            "gridcolor": "white",
            "linecolor": "white",
            "ticks": ""
           },
           "bgcolor": "#E5ECF6",
           "caxis": {
            "gridcolor": "white",
            "linecolor": "white",
            "ticks": ""
           }
          },
          "title": {
           "x": 0.05
          },
          "xaxis": {
           "automargin": true,
           "gridcolor": "white",
           "linecolor": "white",
           "ticks": "",
           "title": {
            "standoff": 15
           },
           "zerolinecolor": "white",
           "zerolinewidth": 2
          },
          "yaxis": {
           "automargin": true,
           "gridcolor": "white",
           "linecolor": "white",
           "ticks": "",
           "title": {
            "standoff": 15
           },
           "zerolinecolor": "white",
           "zerolinewidth": 2
          }
         }
        },
        "title": {
         "text": "Number of Outages Per Month"
        },
        "xaxis": {
         "anchor": "y",
         "domain": [
          0,
          1
         ],
         "title": {
          "text": "MONTH"
         }
        },
        "yaxis": {
         "anchor": "x",
         "domain": [
          0,
          1
         ],
         "title": {
          "text": "value"
         }
        }
       }
      }
     },
     "metadata": {},
     "output_type": "display_data"
    }
   ],
   "source": [
    "month_order = [\"Jan\", \"Feb\", \"Mar\", \"Apr\", \"May\", \"Jun\", \n",
    "               \"Jul\", \"Aug\", \"Sep\", \"Oct\", \"Nov\", \"Dec\"]\n",
    "num_month = relevant.groupby('MONTH')[['YEAR']].count().rename(columns={'YEAR': 'COUNT'})\n",
    "num_month = num_month.sort_index(key=lambda x: x.map(lambda month: month_order.index(month)))\n",
    "month = px.line(num_month, title='Number of Outages Per Month')\n",
    "month.show()\n",
    "month.write_html('outages_monthly_count.html')"
   ]
  },
  {
   "cell_type": "markdown",
   "metadata": {},
   "source": [
    "Now move on to two variable analysis"
   ]
  },
  {
   "cell_type": "code",
   "execution_count": 22,
   "metadata": {},
   "outputs": [
    {
     "data": {
      "text/plain": [
       "YEAR                       0\n",
       "MONTH                      9\n",
       "U.S._STATE                 0\n",
       "POSTAL.CODE                0\n",
       "NERC.REGION                0\n",
       "CLIMATE.REGION             6\n",
       "ANOMALY.LEVEL              9\n",
       "CAUSE.CATEGORY             0\n",
       "CAUSE.CATEGORY.DETAIL    471\n",
       "RES.SALES                 22\n",
       "OUTAGE.START               9\n",
       "OUTAGE.RESTORATION        58\n",
       "OUTAGE.DURATION           58\n",
       "DEMAND.LOSS.MW           705\n",
       "CUSTOMERS.AFFECTED       443\n",
       "RES.SALES                 22\n",
       "IND.SALES                 22\n",
       "COM.SALES                 22\n",
       "TOTAL.PRICE               22\n",
       "TOTAL.SALES               22\n",
       "TOTAL.CUSTOMERS            0\n",
       "POPPCT_URBAN               0\n",
       "POPDEN_URBAN               0\n",
       "AREAPCT_URBAN              0\n",
       "dtype: int64"
      ]
     },
     "execution_count": 22,
     "metadata": {},
     "output_type": "execute_result"
    }
   ],
   "source": [
    "relevant.isna().sum()"
   ]
  },
  {
   "cell_type": "code",
   "execution_count": null,
   "metadata": {},
   "outputs": [],
   "source": []
  },
  {
   "cell_type": "code",
   "execution_count": 23,
   "metadata": {},
   "outputs": [
    {
     "data": {
      "application/vnd.plotly.v1+json": {
       "config": {
        "plotlyServerURL": "https://plot.ly"
       },
       "data": [
        {
         "hovertemplate": "Total sales (megawatt/hour)=%{x}<br>Outage Duration (minutes)=%{y}<extra></extra>",
         "legendgroup": "",
         "marker": {
          "color": "#636efa",
          "symbol": "circle"
         },
         "mode": "markers",
         "name": "",
         "showlegend": false,
         "type": "scattergl",
         "x": [
          6562520,
          5284231,
          5222116,
          5787064,
          5970339,
          5374150,
          6374935,
          5607498,
          5599486,
          5490631,
          5490631,
          5535009,
          6562520,
          5262668,
          5574073,
          8258806,
          9791474,
          8258806,
          7278927,
          9144470,
          8926587,
          9877219,
          9499547,
          7583977,
          9549176,
          8950358,
          8664304,
          7278927,
          8404698,
          8395017,
          8404698,
          7278927,
          7063873,
          8848352,
          8404698,
          7278927,
          null,
          9549176,
          8631202,
          8707973,
          7278927,
          7790440,
          8080023,
          9549176,
          7278927,
          8404698,
          9549176,
          6776403,
          8739380,
          5757447,
          6442931,
          5398464,
          6291012,
          6442931,
          5330888,
          6188772,
          6442931,
          6083211,
          5966551,
          6717006,
          5352037,
          5055727,
          6442931,
          5892307,
          5757447,
          6291012,
          6442931,
          6291012,
          6442931,
          2822167,
          2577255,
          2481277,
          2407180,
          8180730,
          9311816,
          8667198,
          10846247,
          8013690,
          10002112,
          10086037,
          8450792,
          8180730,
          8907617,
          7799973,
          8237896,
          7445186,
          9001598,
          7779271,
          10002112,
          8086396,
          10034838,
          8117814,
          10034838,
          8134221,
          8378192,
          10260246,
          8089925,
          9092427,
          8964092,
          8237593,
          7445186,
          8763874,
          9328886,
          null,
          8995326,
          11002234,
          8995326,
          8481747,
          9160788,
          8134221,
          8008227,
          9306895,
          8555330,
          8770574,
          8658859,
          7858010,
          8528059,
          8308074,
          8944946,
          10311612,
          8096999,
          9327963,
          8237896,
          10846247,
          8237896,
          7799973,
          8999885,
          8986322,
          10086037,
          9017849,
          9933745,
          8995326,
          9327963,
          7724563,
          8763874,
          8950183,
          8267271,
          9327963,
          10368366,
          8763874,
          8964092,
          8548464,
          8667198,
          9776717,
          8828035,
          10034838,
          7823228,
          10846247,
          8555330,
          10708773,
          9328886,
          8907617,
          8117814,
          8378192,
          10639207,
          8355044,
          8944946,
          10368366,
          8431533,
          8180730,
          10846247,
          10846247,
          9122606,
          7960881,
          8612724,
          9933745,
          8280337,
          9886881,
          39740458,
          27945669,
          27945669,
          null,
          39226454,
          30082500,
          33491405,
          23854318,
          27654566,
          28893988,
          34707247,
          25670267,
          33553242,
          33553242,
          33193019,
          40357061,
          33193019,
          38540463,
          32458960,
          24043000,
          34465581,
          26164763,
          27654566,
          30251814,
          27846934,
          41667168,
          41667168,
          25670267,
          29324642,
          33978964,
          26464992,
          32002502,
          22746099,
          24998018,
          30580544,
          30082500,
          33245579,
          27945669,
          31637886,
          26967196,
          30082500,
          33245579,
          33193019,
          26880571,
          35633215,
          28330456,
          36275885,
          27789572,
          24237577,
          35785373,
          null,
          30908046,
          26384824,
          23901974,
          23378775,
          37508391,
          27789572,
          36275885,
          28330456,
          28085863,
          39328028,
          35730168,
          24043000,
          26517691,
          34707247,
          33978964,
          31525789,
          21870637,
          27945669,
          25670267,
          34088196,
          null,
          30908046,
          23166947,
          25670267,
          39740458,
          25400068,
          28644756,
          25728887,
          35730168,
          30580544,
          34655355,
          29007544,
          36817135,
          28531900,
          25230186,
          33656686,
          27654566,
          29993367,
          36817135,
          26338924,
          36275885,
          30082500,
          41667168,
          23378775,
          26164763,
          31956045,
          41667168,
          28893988,
          25461708,
          30580544,
          25670267,
          28893988,
          35730168,
          28531900,
          30908046,
          30580544,
          33491405,
          34707247,
          29499229,
          39740458,
          25670267,
          25380423,
          38732076,
          28745852,
          27789572,
          26883068,
          31525789,
          36600689,
          25132126,
          40357061,
          28331887,
          36817135,
          26464992,
          25461708,
          22424411,
          27726661,
          9110926,
          9430041,
          9205202,
          8139959,
          7371969,
          8017586,
          9080103,
          9430041,
          9124826,
          9027043,
          8287573,
          8139959,
          8139959,
          10504000,
          8125037,
          8139959,
          8287573,
          8013425,
          10644457,
          7934607,
          9274798,
          9766472,
          9121925,
          7914725,
          8698240,
          8271642,
          8017586,
          9027043,
          9363617,
          10644457,
          7669655,
          9766472,
          10504000,
          8271642,
          9647930,
          8139959,
          9121925,
          9124826,
          9430041,
          9027043,
          9853190,
          9121925,
          9430041,
          7907462,
          null,
          7038185,
          8257127,
          8934377,
          6479167,
          4151539,
          3699788,
          3640973,
          3602227,
          10661657,
          12512370,
          10513961,
          14587244,
          12880287,
          10746745,
          15636182,
          10953971,
          11093533,
          12512370,
          13479208,
          12154984,
          12223612,
          11937603,
          12389743,
          14759220,
          15636182,
          null,
          15636182,
          10700552,
          11688135,
          12154984,
          13175400,
          13339394,
          10403395,
          13391265,
          14172569,
          13156935,
          11686951,
          12148127,
          13677722,
          13015252,
          10223608,
          13665101,
          13272311,
          12545025,
          14063905,
          10746745,
          13175400,
          12154984,
          14524133,
          11594099,
          14759220,
          12545025,
          14759220,
          10286783,
          8636742,
          8852112,
          8636742,
          8767319,
          9215371,
          7190121,
          7366208,
          7565294,
          7565294,
          6609969,
          8514890,
          7334593,
          7044482,
          7931284,
          6636190,
          6957091,
          8852112,
          8988060,
          8373220,
          7372409,
          8593354,
          8610778,
          8373220,
          null,
          6957091,
          7642530,
          8852112,
          7491167,
          7366208,
          7840102,
          7848762,
          6957091,
          7797125,
          7797125,
          7146468,
          7731265,
          7797125,
          7146468,
          7190121,
          8636742,
          7464557,
          7565294,
          6785327,
          7412771,
          8514890,
          6542025,
          8486806,
          9257152,
          8988060,
          7302488,
          6788884,
          7146468,
          7309613,
          8636742,
          8486806,
          7311595,
          7436369,
          6957091,
          7334593,
          7334593,
          6957091,
          7020528,
          7797125,
          7302488,
          7372409,
          7342873,
          7734340,
          7565294,
          6970472,
          7366208,
          7687275,
          7177447,
          7412771,
          6669170,
          8852112,
          8988060,
          8852112,
          6974162,
          6957091,
          7334593,
          7565294,
          7734340,
          7731265,
          7734340,
          7146468,
          6636190,
          7334593,
          8988060,
          8423104,
          7734340,
          7177447,
          6536704,
          7366208,
          8988060,
          7190121,
          8988060,
          7201767,
          7057869,
          4715638,
          4715638,
          5570101,
          8548328,
          7071255,
          5509794,
          8298927,
          7078856,
          5341392,
          6389121,
          5549419,
          5549419,
          5783132,
          4330353,
          7738942,
          5184547,
          5549419,
          5570101,
          5226956,
          5570101,
          5170548,
          7078856,
          4715638,
          5150759,
          5083188,
          6333137,
          7071255,
          5418546,
          6367508,
          5277647,
          5654256,
          5695024,
          5277647,
          6782930,
          5745344,
          4452722,
          5155310,
          4452722,
          6278411,
          4524914,
          4708475,
          6098191,
          4452722,
          5167745,
          5268119,
          5155310,
          4672407,
          5169554,
          6278411,
          6782930,
          5045543,
          6676731,
          4452722,
          6296613,
          6247406,
          5372325,
          5482301,
          5418546,
          4786894,
          5167745,
          5169554,
          4452722,
          5169554,
          5289853,
          5268119,
          4452722,
          6957521,
          5418546,
          5372325,
          5045543,
          5654256,
          4158706,
          5176902,
          4753488,
          5022748,
          4452722,
          4452722,
          6957521,
          5833935,
          6676731,
          6098191,
          5418546,
          4246043,
          6782930,
          5745344,
          13779739,
          11287927,
          10953611,
          11160581,
          11781478,
          12495939,
          11287927,
          12815127,
          11091812,
          11738155,
          12056707,
          12202753,
          13761069,
          12481231,
          13591088,
          12958106,
          13027791,
          12202753,
          12666515,
          12637681,
          11287927,
          13836753,
          11872524,
          14385585,
          12992227,
          11091812,
          12355048,
          12992227,
          null,
          12355048,
          12284653,
          13591088,
          13346603,
          13684505,
          12355048,
          12255316,
          13761069,
          14020374,
          13779739,
          13346603,
          14385585,
          14178091,
          11160581,
          13346603,
          12923209,
          14385585,
          11287927,
          12337305,
          13591088,
          13761069,
          12337305,
          11287927,
          11287927,
          11091812,
          10995382,
          12835148,
          12495939,
          8188193,
          7762820,
          7487036,
          8088387,
          6704186,
          6442827,
          7767665,
          8212696,
          8482896,
          8482896,
          8212696,
          7767665,
          8482896,
          2305683,
          2399055,
          2392042,
          2344232,
          2344232,
          2689898,
          2574185,
          2216016,
          2560849,
          2216016,
          2267401,
          2399055,
          2768207,
          2574185,
          2689898,
          2188325,
          2890938,
          2192416,
          2344232,
          2208136,
          2529857,
          2188325,
          2743924,
          2216458,
          2200942,
          2177281,
          2318322,
          2818384,
          2492126,
          2318322,
          2268269,
          2188325,
          2889635,
          2809233,
          2392042,
          2941900,
          2324351,
          2344232,
          2192416,
          2269166,
          3069813,
          12091413,
          14083913,
          12091413,
          14996755,
          14579765,
          10820298,
          12391847,
          12794812,
          12821117,
          14475383,
          13942962,
          13264303,
          14579765,
          15289627,
          12243748,
          14089972,
          13919175,
          14199635,
          12804884,
          11675943,
          15553889,
          14552914,
          14123130,
          15289627,
          11675943,
          14761794,
          12391847,
          12301983,
          13482365,
          12430324,
          12821117,
          12887164,
          15553889,
          12243748,
          12821117,
          11739373,
          15553889,
          14579765,
          12991997,
          13241594,
          11257186,
          11627578,
          14552914,
          9597808,
          11963827,
          11189364,
          9245272,
          11402776,
          9996911,
          12108140,
          13086893,
          11006447,
          10625020,
          11777304,
          13086893,
          null,
          10832900,
          11562367,
          12873077,
          13267650,
          10286592,
          11103291,
          10082029,
          11239313,
          10232001,
          11229201,
          10625020,
          9195341,
          10760501,
          10700601,
          13267650,
          10972259,
          9825955,
          11229201,
          null,
          10899464,
          12873077,
          13267650,
          null,
          11383721,
          10760501,
          12210188,
          10972259,
          6476106,
          6614106,
          6670510,
          7827652,
          6578782,
          5647321,
          5651084,
          5647321,
          8374523,
          6614106,
          7320536,
          6552570,
          6808089,
          7827652,
          6614106,
          6105400,
          6808089,
          6082133,
          7320536,
          5242935,
          6578782,
          5486658,
          5647321,
          6808089,
          7212763,
          6670682,
          6578782,
          5486658,
          5973784,
          8570959,
          7827652,
          5954081,
          5486658,
          5647321,
          5973784,
          7531108,
          7476646,
          7643655,
          6513433,
          6586660,
          6899368,
          6586660,
          7643655,
          4189416,
          4512872,
          3868621,
          3673934,
          3956492,
          3856593,
          4318263,
          4703865,
          4014413,
          3856593,
          4393408,
          4007383,
          4183695,
          null,
          4529651,
          3573211,
          4393408,
          3640038,
          3956492,
          4007383,
          4318263,
          4393408,
          3641613,
          3638061,
          4183695,
          3547135,
          902386,
          1084951,
          1167163,
          920981,
          1018592,
          846772,
          1004907,
          1015794,
          999646,
          1167163,
          6433254,
          5861119,
          7824579,
          7824579,
          8224669,
          7835624,
          6433254,
          9118872,
          7580241,
          6132823,
          6132823,
          5823739,
          5493089,
          5493089,
          6266605,
          6755507,
          6259942,
          1214292,
          990197,
          873267,
          933076,
          846219,
          1029890,
          996096,
          1097708,
          816529,
          841219,
          986394,
          853333,
          829672,
          851828,
          940976,
          1283959,
          885713,
          1029890,
          1029890,
          1040930,
          null,
          816529,
          885713,
          873267,
          933076,
          1040930,
          829672,
          927076,
          933076,
          841219,
          951681,
          873267,
          816529,
          null,
          979391,
          946394,
          951681,
          842791,
          1071153,
          1097708,
          990197,
          3917027,
          3590530,
          4132984,
          3917027,
          3330865,
          3917027,
          3590530,
          3663965,
          1242527,
          1059449,
          1050775,
          10846529,
          11163410,
          11163410,
          14159584,
          11299044,
          12201514,
          14159584,
          11361905,
          10689332,
          12405870,
          13993053,
          10674899,
          12154725,
          10674899,
          12843931,
          14225043,
          14574946,
          12176916,
          11025368,
          10825773,
          11025368,
          12699456,
          14662838,
          11228223,
          12176916,
          10689332,
          12283409,
          12424996,
          11530654,
          12283323,
          12154725,
          13851002,
          12424996,
          14159584,
          14662838,
          11361905,
          11855894,
          12511957,
          14159584,
          11228223,
          14203370,
          11573522,
          10689332,
          11242659,
          11573522,
          10674899,
          13851002,
          12297255,
          11028819,
          12843931,
          14159584,
          12359479,
          14159584,
          13692504,
          14662838,
          13843996,
          12283323,
          12805244,
          11085078,
          14159584,
          12106243,
          11085078,
          11163410,
          12046524,
          14286789,
          11530654,
          11361905,
          12287262,
          13980141,
          12511957,
          12699456,
          8015508,
          8057532,
          7183486,
          8505369,
          8505369,
          7954648,
          6888955,
          8505369,
          6672269,
          8505369,
          8023652,
          7856828,
          6863383,
          7699580,
          6672269,
          7954648,
          5483500,
          6236365,
          6982794,
          5895644,
          7168846,
          7856828,
          8057532,
          7168846,
          7168846,
          6893162,
          7856828,
          8433323,
          8433323,
          6127940,
          7856828,
          8057532,
          6406309,
          6486644,
          7154368,
          7228383,
          6893162,
          8433323,
          6236365,
          5814212,
          16025933,
          22575319,
          23004710,
          22804437,
          16515248,
          21982109,
          16959888,
          20510745,
          15229219,
          20194924,
          16515248,
          17107025,
          17107025,
          20841967,
          15137142,
          22256850,
          20264386,
          23004710,
          17107025,
          16515248,
          17648170,
          19824036,
          22804437,
          21982109,
          20597429,
          19824036,
          20841967,
          20194924,
          16515248,
          16515248,
          19824036,
          22420966,
          19824036,
          21592345,
          19824036,
          19824036,
          20194924,
          19824036,
          20841967,
          23004710,
          20841967,
          19824036,
          15229219,
          18842683,
          16985644,
          24974681,
          20942151,
          20582284,
          24125319,
          18727999,
          19388692,
          22619921,
          25206304,
          22741963,
          25147418,
          23475096,
          26405948,
          21981278,
          26288469,
          18076185,
          19212525,
          21515349,
          23995943,
          25635015,
          25340794,
          20439478,
          24988989,
          23995943,
          23355017,
          25919908,
          19138651,
          19159063,
          21901510,
          22619921,
          20861122,
          25582494,
          21310183,
          21178613,
          19782727,
          19970292,
          21310183,
          26288469,
          19970292,
          20927036,
          22304475,
          20256041,
          21866506,
          21901510,
          18727999,
          21901510,
          21901510,
          19840018,
          19388692,
          18993756,
          19826857,
          22723895,
          22151808,
          21351409,
          20582284,
          25919908,
          20470914,
          20256041,
          18993756,
          18947640,
          22224419,
          19731468,
          25635015,
          18941265,
          21327504,
          18411708,
          19005521,
          21808172,
          25206304,
          24988989,
          19138651,
          19388692,
          19138651,
          21384185,
          19017650,
          17876563,
          26405948,
          25005524,
          26405948,
          21981278,
          25919908,
          21901510,
          19585631,
          16962605,
          21515349,
          22619921,
          21744317,
          19038040,
          19862257,
          22506210,
          20861667,
          26288469,
          22299203,
          25635015,
          22299203,
          20861122,
          18076185,
          20256041,
          17781301,
          20927036,
          22930603,
          20256041,
          18947640,
          22447753,
          23816739,
          20861667,
          20712609,
          21974546,
          22723895,
          24988989,
          21178613,
          19970292,
          21384185,
          24507429,
          19907608,
          22015226,
          21942679,
          21351409,
          22723895,
          23616311,
          26288469,
          18076185,
          22028050,
          24533682,
          21515349,
          19983832,
          19377182,
          21387224,
          25206304,
          19983832,
          23334005,
          19022242,
          20333685,
          20033300,
          24125319,
          23328704,
          24988989,
          26232375,
          22741963,
          21784929,
          19731468,
          20712609,
          21788563,
          20114545,
          22036601,
          23995943,
          21788563,
          21351409,
          19138651,
          22506210,
          24681491,
          21901510,
          25582494,
          21788563,
          21178613,
          26288469,
          21515349,
          22299203,
          24988989,
          21515349,
          22506210,
          20333685,
          22015226,
          18916761,
          22667368,
          23616311,
          18411708,
          23816739,
          19862257,
          21808172,
          19862257,
          22667368,
          22667368,
          20188608,
          22447753,
          21351409,
          22667368,
          22447753,
          20712609,
          19585631,
          17876563,
          18727999,
          21744317,
          19022242,
          22028050,
          20712609,
          22667368,
          21384185,
          19259976,
          20114545,
          25635015,
          19875740,
          24414205,
          19840018,
          21942679,
          24974681,
          19377182,
          22036601,
          19970292,
          19050378,
          18656348,
          20114545,
          24117856,
          22530176,
          22151808,
          26288469,
          19167557,
          22041117,
          20861667,
          19377182,
          19847009,
          3772847,
          3974957,
          3772847,
          3494367,
          3843905,
          4330118,
          4581194,
          3415507,
          3346671,
          3415507,
          4649836,
          4201911,
          4253036,
          5147213,
          4300120,
          3665356,
          3266478,
          4300120,
          4618234,
          4745922,
          4421959,
          3342743,
          3843905,
          4834799,
          3202284,
          10103576,
          11284286,
          10355383,
          9823118,
          8261610,
          9959314,
          10600512,
          7553119,
          null,
          9056448,
          9946849,
          10887121,
          8067143,
          9870197,
          8497367,
          10358394,
          11352424,
          11352424,
          9403768,
          9241797,
          8926177,
          8696014,
          10700731,
          8926177,
          10103576,
          9232209,
          9505687,
          9019086,
          10835131,
          9728455,
          11076073,
          10835131,
          9400680,
          8899503,
          8701398,
          9358568,
          9241797,
          3039805,
          2315602,
          2166169,
          2282594,
          1416356,
          1528811,
          1433063,
          1365456,
          1368127,
          1452960,
          2125121,
          1739847,
          1437691,
          2218192,
          1739847,
          1960025,
          1739847,
          1756432,
          447034,
          427661,
          446236,
          444823,
          473575,
          497098,
          434478,
          443915,
          409204,
          10381851,
          10973692,
          11103575,
          11018150,
          10772709,
          12894687,
          10834890,
          11280647,
          9897876,
          10581464,
          9262260,
          10819446,
          11895035,
          10819446,
          11018150,
          12894687,
          9559928,
          2300770,
          2165826,
          2995189,
          2287897,
          2340505,
          2893149,
          2065419,
          2635480,
          2383806,
          2518712,
          2661660,
          2957329,
          2518712,
          2442711,
          2447603,
          3246923,
          2616524,
          2374160,
          4622775,
          4693211,
          3978308,
          5029445,
          6686268,
          4920158,
          6686268,
          4344399,
          4420337,
          4622775,
          null,
          6206348,
          4231978,
          6686268,
          4584162,
          6686268,
          4584162,
          5938338,
          6804721,
          4597901,
          4231978,
          4622775,
          4693211,
          4586920,
          4923422,
          4582843,
          5096565,
          4923422,
          4115849,
          4494764,
          4577240,
          4115849,
          4251082,
          4251082,
          5093293,
          4156978,
          4139922,
          4574558,
          4808251,
          5684134,
          4577240,
          4294884,
          1047944,
          1030593,
          1017606,
          915907,
          1030593,
          989416,
          1030593,
          901223,
          1088895,
          1008808,
          985385,
          926257,
          864735,
          1077281,
          903177,
          970200,
          1054369,
          991827,
          915907,
          838970,
          833194,
          912727,
          985109,
          891995,
          838970,
          779845,
          779845,
          824542,
          855846,
          779845,
          891995,
          816214,
          833194,
          2599927,
          3618500,
          2720283,
          2608404,
          2727874,
          2501277,
          2579567,
          4223288,
          4058095,
          4074285,
          4237235,
          4746909,
          5182136,
          4108146,
          4282715,
          4253635,
          4539747,
          3709983,
          4783529,
          4253635,
          4019838,
          4145577,
          null,
          3024559,
          3092395,
          2726452,
          3270802,
          3092395,
          3858223,
          3722254,
          3190147,
          835405,
          852355,
          922915,
          891580,
          922915,
          null,
          2031531,
          2034123,
          2063171,
          2015509,
          1886871,
          1657605,
          1657605,
          null,
          1313678,
          null,
          924051,
          924051,
          null
         ],
         "xaxis": "x",
         "y": [
          3060,
          1,
          3000,
          2550,
          1740,
          1860,
          2970,
          3960,
          155,
          3621,
          7740,
          8880,
          0,
          1322,
          60,
          19,
          0,
          21,
          196,
          840,
          935,
          1260,
          null,
          619,
          150,
          762,
          0,
          660,
          1,
          2700,
          1,
          4921,
          95,
          251,
          4125,
          2550,
          null,
          1200,
          310,
          2818,
          5054,
          136,
          528,
          150,
          46,
          1,
          1920,
          null,
          32,
          null,
          135,
          3000,
          32,
          108653,
          8468,
          960,
          44,
          1605,
          4410,
          388,
          480,
          1219,
          90,
          18660,
          538,
          104,
          60,
          1272,
          60,
          1,
          1000,
          17339,
          9576,
          3090,
          6510,
          5820,
          1078,
          1513,
          4830,
          3051,
          4200,
          2085,
          5730,
          4290,
          2670,
          3540,
          3637,
          1710,
          4320,
          3915,
          3120,
          4590,
          7530,
          5034,
          8160,
          3300,
          4320,
          1770,
          9857,
          4080,
          5670,
          5700,
          1995,
          300,
          5115,
          2670,
          7650,
          4338,
          761,
          5760,
          2820,
          4110,
          3360,
          3015,
          232,
          11525,
          6420,
          46080,
          5700,
          5610,
          78377,
          270,
          4050,
          5865,
          1,
          2325,
          4170,
          4485,
          2694,
          168,
          5580,
          705,
          11850,
          3494,
          4560,
          2760,
          5760,
          8922,
          6030,
          7800,
          4242,
          3120,
          5700,
          900,
          1046,
          7620,
          3630,
          1260,
          5840,
          5790,
          2820,
          600,
          4259,
          2939,
          7080,
          3600,
          1588,
          4260,
          2700,
          200,
          8430,
          85,
          9150,
          1019,
          420,
          1140,
          7440,
          4458,
          373,
          1203,
          868,
          1455,
          206,
          1195,
          1559,
          900,
          2690,
          5115,
          5,
          189,
          2142,
          360,
          null,
          225,
          2340,
          480,
          9486,
          480,
          3000,
          300,
          3020,
          766,
          null,
          1335,
          197,
          245,
          3255,
          12180,
          1077,
          600,
          186,
          690,
          27698,
          402,
          2420,
          327,
          1,
          1860,
          220,
          455,
          318,
          757,
          847,
          410,
          215,
          5,
          570,
          12124,
          2655,
          20160,
          1440,
          600,
          39,
          181,
          1185,
          1500,
          0,
          271,
          1860,
          1200,
          2159,
          6300,
          null,
          1620,
          224,
          70,
          1697,
          95,
          2220,
          null,
          7809,
          1200,
          121,
          63,
          5595,
          1,
          557,
          240,
          3360,
          685,
          2280,
          210,
          167,
          1920,
          3569,
          3300,
          10,
          1560,
          840,
          240,
          990,
          6000,
          17865,
          1282,
          1080,
          7540,
          1320,
          1110,
          27698,
          130,
          3040,
          394,
          10140,
          20160,
          21540,
          45,
          1,
          1200,
          550,
          900,
          885,
          940,
          null,
          3050,
          1830,
          6000,
          1500,
          150,
          1955,
          2220,
          330,
          74,
          420,
          1440,
          255,
          1060,
          12240,
          5250,
          4320,
          120,
          233,
          null,
          65,
          2120,
          96,
          3,
          4320,
          65,
          2146,
          96,
          4032,
          2580,
          6,
          569,
          0,
          15950,
          200,
          1980,
          4045,
          2730,
          3314,
          7319,
          1,
          47,
          1440,
          276,
          0,
          0,
          3646,
          1130,
          2880,
          513,
          35,
          23773,
          10,
          3872,
          23187,
          12240,
          390,
          null,
          3264,
          1230,
          803,
          77,
          30,
          300,
          1,
          5,
          1450,
          2680,
          null,
          7609,
          150,
          3000,
          420,
          479,
          1680,
          2700,
          149,
          1110,
          2790,
          659,
          1320,
          1830,
          3000,
          null,
          870,
          810,
          1336,
          1695,
          360,
          360,
          120,
          3000,
          1290,
          1530,
          2370,
          1200,
          1200,
          90,
          120,
          1200,
          2761,
          720,
          1120,
          2100,
          960,
          450,
          1440,
          1020,
          0,
          2010,
          120,
          9230,
          1240,
          465,
          0,
          2460,
          1183,
          8880,
          394,
          219,
          487,
          19,
          28,
          0,
          1,
          5340,
          8940,
          467,
          0,
          1920,
          0,
          25,
          420,
          2040,
          0,
          1,
          1423,
          60,
          1620,
          3300,
          385,
          663,
          123,
          1276,
          1919,
          null,
          440,
          6690,
          null,
          0,
          null,
          717,
          1204,
          292,
          313,
          1,
          5,
          6276,
          0,
          74,
          0,
          null,
          248,
          1,
          2700,
          25,
          126,
          1,
          255,
          1207,
          0,
          0,
          245,
          476,
          null,
          null,
          null,
          1,
          2639,
          502,
          548,
          369,
          6480,
          15,
          5,
          null,
          1,
          0,
          432,
          21,
          1697,
          0,
          2615,
          9630,
          3507,
          2820,
          314,
          5855,
          0,
          0,
          1,
          22769,
          70,
          4285,
          355,
          0,
          2520,
          0,
          180,
          554,
          50,
          70,
          180,
          3842,
          35,
          1,
          189,
          49320,
          4200,
          353,
          1,
          87,
          66,
          null,
          1,
          227,
          null,
          1440,
          1,
          2700,
          null,
          49320,
          2,
          215,
          451,
          418,
          100,
          2021,
          1671,
          3938,
          4470,
          2279,
          4440,
          2760,
          0,
          1,
          0,
          1,
          1840,
          428,
          331,
          1980,
          1,
          1,
          1950,
          3037,
          1,
          1,
          1196,
          5628,
          1440,
          7700,
          2,
          12890,
          4232,
          95,
          2610,
          4320,
          17,
          113,
          0,
          2507,
          0,
          1,
          4920,
          1,
          4080,
          0,
          960,
          185,
          1320,
          1673,
          2855,
          3060,
          565,
          1,
          1,
          7298,
          5790,
          3040,
          11700,
          7987,
          304,
          4517,
          0,
          3058,
          13381,
          2865,
          152,
          380,
          9450,
          7803,
          5579,
          8979,
          4800,
          3060,
          4792,
          3894,
          1757,
          2880,
          2985,
          164,
          3232,
          2319,
          4338,
          2880,
          1714,
          90,
          59,
          4139,
          10530,
          6938,
          930,
          278,
          299,
          5320,
          2880,
          1,
          4260,
          6713,
          5160,
          1440,
          78,
          7523,
          2668,
          1,
          376,
          1324,
          6940,
          2684,
          54,
          100,
          720,
          2880,
          3189,
          2790,
          13679,
          2843,
          13488,
          1642,
          7709,
          7080,
          1440,
          1,
          1680,
          1579,
          652,
          108,
          300,
          1020,
          3570,
          6492,
          23700,
          10499,
          15180,
          0,
          120,
          1,
          1,
          1,
          1,
          1,
          1,
          60,
          113,
          204,
          31,
          57,
          13,
          2,
          11,
          283,
          0,
          1,
          871,
          1631,
          56,
          15,
          15,
          20,
          60,
          1,
          95,
          300,
          1,
          3186,
          575,
          2275,
          15,
          1,
          44,
          21,
          1,
          114,
          1,
          60,
          4920,
          null,
          4920,
          420,
          0,
          7,
          21,
          340,
          4200,
          805,
          5040,
          7430,
          5490,
          165,
          3630,
          11640,
          1590,
          3137,
          1440,
          7920,
          360,
          0,
          1440,
          1372,
          6480,
          2190,
          285,
          75,
          1843,
          1,
          11531,
          1420,
          0,
          930,
          11420,
          0,
          352,
          0,
          960,
          1733,
          3690,
          10619,
          634,
          11280,
          1440,
          180,
          1574,
          45,
          563,
          388,
          373,
          4510,
          290,
          1950,
          270,
          1355,
          1318,
          2490,
          1265,
          195,
          3120,
          3388,
          1025,
          990,
          240,
          1485,
          129,
          0,
          1528,
          1890,
          2551,
          985,
          405,
          1698,
          167,
          1460,
          182,
          4113,
          null,
          885,
          15,
          42,
          1050,
          1,
          132,
          4140,
          2880,
          null,
          11430,
          3599,
          0,
          2941,
          null,
          6090,
          1365,
          375,
          2520,
          10080,
          76,
          0,
          3720,
          333,
          0,
          353,
          11337,
          0,
          0,
          7020,
          11058,
          null,
          9360,
          3300,
          3339,
          2880,
          11580,
          9600,
          13201,
          9719,
          488,
          2415,
          180,
          4177,
          7440,
          3480,
          6600,
          300,
          1526,
          60,
          210,
          2,
          1350,
          73,
          1,
          200,
          0,
          null,
          4380,
          0,
          120,
          2680,
          840,
          989,
          4313,
          214,
          4,
          164,
          91,
          1050,
          838,
          60,
          1,
          1,
          9886,
          2425,
          390,
          14500,
          6660,
          159,
          54,
          30,
          8077,
          855,
          65,
          810,
          4150,
          4740,
          25,
          0,
          null,
          2070,
          870,
          12652,
          2880,
          120,
          1199,
          null,
          1470,
          4140,
          15420,
          50,
          0,
          1,
          1,
          0,
          0,
          0,
          457,
          1,
          1,
          0,
          30,
          1,
          1,
          65,
          1,
          0,
          0,
          0,
          1,
          null,
          1,
          0,
          1,
          1,
          110,
          39,
          1,
          1,
          1,
          1,
          1,
          1,
          507,
          213,
          4254,
          1,
          1,
          53,
          0,
          0,
          251,
          347,
          1637,
          21360,
          2161,
          2880,
          1044,
          8670,
          56,
          93,
          13,
          2089,
          20280,
          14639,
          2880,
          681,
          494,
          1,
          5355,
          0,
          3943,
          3300,
          191,
          0,
          73,
          4680,
          17310,
          10080,
          10726,
          1,
          5,
          2515,
          25920,
          2730,
          9480,
          5400,
          30,
          3584,
          3600,
          5850,
          4710,
          1,
          1732,
          0,
          23040,
          1800,
          6074,
          null,
          49,
          2299,
          5760,
          420,
          7320,
          2880,
          448,
          2520,
          18717,
          5513,
          21,
          2100,
          3120,
          8221,
          3240,
          2880,
          255,
          2355,
          161,
          50,
          258,
          13140,
          8640,
          18240,
          15492,
          8268,
          0,
          300,
          14400,
          7962,
          2400,
          11296,
          48,
          60480,
          28170,
          300,
          8054,
          2775,
          2775,
          2160,
          2100,
          2775,
          3180,
          2775,
          1440,
          430,
          2129,
          1755,
          null,
          692,
          732,
          7,
          510,
          420,
          13215,
          557,
          300,
          17812,
          20416,
          6240,
          467,
          3067,
          3060,
          355,
          430,
          300,
          227,
          52,
          null,
          2880,
          18804,
          1867,
          1690,
          295,
          17,
          240,
          17520,
          8189,
          182,
          5820,
          83,
          230,
          2009,
          720,
          155,
          4320,
          4320,
          480,
          1005,
          221,
          372,
          13430,
          4320,
          91,
          1419,
          3600,
          10080,
          5071,
          152,
          6840,
          221,
          24780,
          38,
          61,
          7560,
          90,
          10380,
          396,
          2040,
          12060,
          1080,
          1680,
          13920,
          14101,
          1099,
          2460,
          540,
          52,
          816,
          420,
          155,
          437,
          247,
          540,
          1135,
          437,
          180,
          171,
          656,
          84,
          202,
          255,
          1054,
          1,
          1254,
          1456,
          177,
          106,
          32,
          2464,
          55,
          144,
          70,
          64,
          8873,
          945,
          null,
          523,
          56,
          3,
          8472,
          155,
          33,
          749,
          159,
          null,
          270,
          2790,
          224,
          1470,
          334,
          2050,
          370,
          26,
          797,
          12,
          195,
          1,
          230,
          125,
          15,
          316,
          365,
          1560,
          4740,
          294,
          455,
          2878,
          336,
          295,
          480,
          25,
          null,
          223,
          2645,
          2016,
          7371,
          360,
          3408,
          3698,
          4890,
          1,
          871,
          2759,
          250,
          3301,
          249,
          164,
          435,
          420,
          854,
          5160,
          133,
          15180,
          2055,
          451,
          140,
          199,
          721,
          179,
          1524,
          78,
          268,
          39,
          1,
          14190,
          47,
          161,
          900,
          6070,
          697,
          234,
          14,
          5910,
          null,
          34390,
          40,
          166,
          182,
          829,
          15,
          64,
          13,
          245,
          1080,
          null,
          390,
          47,
          269,
          null,
          400,
          660,
          213,
          null,
          761,
          8100,
          180,
          124,
          4320,
          2820,
          3100,
          49427,
          989,
          125,
          44,
          26,
          245,
          null,
          98,
          1,
          0,
          135,
          50,
          1008,
          53,
          554,
          1260,
          2895,
          89,
          98,
          865,
          128,
          230,
          252,
          130,
          5,
          157,
          6914,
          11,
          13,
          2880,
          270,
          962,
          47,
          null,
          20,
          108,
          9855,
          75,
          17,
          21,
          1950,
          11867,
          141,
          959,
          1035,
          617,
          1230,
          572,
          324,
          1835,
          6780,
          900,
          null,
          37,
          72,
          1,
          251,
          620,
          89,
          909,
          236,
          326,
          300,
          751,
          122,
          214,
          193,
          8,
          5227,
          null,
          1414,
          448,
          4605,
          4080,
          null,
          1914,
          759,
          1,
          10274,
          3,
          2700,
          105,
          240,
          210,
          1,
          1201,
          30,
          2806,
          1226,
          300,
          206,
          270,
          2880,
          513,
          8160,
          3314,
          414,
          126,
          60,
          285,
          110,
          62,
          2363,
          424,
          180,
          0,
          448,
          2,
          624,
          2435,
          131,
          null,
          208,
          103,
          1355,
          1523,
          90,
          1205,
          385,
          144,
          235,
          241,
          6787,
          1337,
          1673,
          3366,
          2640,
          1826,
          570,
          1565,
          2691,
          1072,
          115,
          816,
          168,
          30,
          160,
          485,
          1508,
          1301,
          159,
          60,
          4,
          9600,
          106,
          0,
          0,
          1,
          32,
          61,
          314,
          30,
          0,
          92,
          390,
          161,
          60,
          76,
          1,
          1,
          160,
          20,
          1,
          1,
          70,
          50,
          15,
          810,
          1380,
          1800,
          1560,
          2054,
          1452,
          1865,
          1999,
          120,
          1950,
          360,
          1087,
          1200,
          4122,
          360,
          645,
          108,
          0,
          1,
          1440,
          4560,
          1,
          1,
          110,
          210,
          120,
          0,
          4260,
          76,
          210,
          3305,
          5880,
          145,
          60,
          2640,
          1042,
          110,
          11880,
          2245,
          984,
          7200,
          1381,
          148,
          13972,
          null,
          796,
          300,
          null,
          2612,
          3000,
          431,
          5310,
          1732,
          0,
          6685,
          3300,
          280,
          117,
          2895,
          480,
          31,
          1,
          0,
          0,
          103,
          4745,
          307,
          1656,
          3525,
          374,
          1068,
          1569,
          114,
          115,
          15,
          2891,
          1,
          1676,
          0,
          0,
          3604,
          195,
          1,
          0,
          2108,
          198,
          3667,
          1037,
          673,
          null,
          2652,
          300,
          881,
          618,
          1187,
          950,
          2535,
          27,
          108,
          73,
          200,
          5,
          75,
          0,
          77,
          660,
          0,
          92,
          30,
          33,
          1895,
          274,
          1,
          1534,
          1,
          60,
          108,
          2,
          175,
          null,
          2040,
          2710,
          284,
          105,
          4019,
          1,
          391,
          439,
          5,
          201,
          2140,
          103,
          null,
          187,
          1406,
          348,
          13650,
          90,
          913,
          null,
          14040,
          1367,
          174,
          543,
          237,
          1906,
          224,
          0,
          95,
          360,
          1548,
          870,
          0,
          null,
          220,
          720,
          null,
          59,
          181,
          null
         ],
         "yaxis": "y"
        }
       ],
       "layout": {
        "legend": {
         "tracegroupgap": 0
        },
        "template": {
         "data": {
          "bar": [
           {
            "error_x": {
             "color": "#2a3f5f"
            },
            "error_y": {
             "color": "#2a3f5f"
            },
            "marker": {
             "line": {
              "color": "#E5ECF6",
              "width": 0.5
             },
             "pattern": {
              "fillmode": "overlay",
              "size": 10,
              "solidity": 0.2
             }
            },
            "type": "bar"
           }
          ],
          "barpolar": [
           {
            "marker": {
             "line": {
              "color": "#E5ECF6",
              "width": 0.5
             },
             "pattern": {
              "fillmode": "overlay",
              "size": 10,
              "solidity": 0.2
             }
            },
            "type": "barpolar"
           }
          ],
          "carpet": [
           {
            "aaxis": {
             "endlinecolor": "#2a3f5f",
             "gridcolor": "white",
             "linecolor": "white",
             "minorgridcolor": "white",
             "startlinecolor": "#2a3f5f"
            },
            "baxis": {
             "endlinecolor": "#2a3f5f",
             "gridcolor": "white",
             "linecolor": "white",
             "minorgridcolor": "white",
             "startlinecolor": "#2a3f5f"
            },
            "type": "carpet"
           }
          ],
          "choropleth": [
           {
            "colorbar": {
             "outlinewidth": 0,
             "ticks": ""
            },
            "type": "choropleth"
           }
          ],
          "contour": [
           {
            "colorbar": {
             "outlinewidth": 0,
             "ticks": ""
            },
            "colorscale": [
             [
              0,
              "#0d0887"
             ],
             [
              0.1111111111111111,
              "#46039f"
             ],
             [
              0.2222222222222222,
              "#7201a8"
             ],
             [
              0.3333333333333333,
              "#9c179e"
             ],
             [
              0.4444444444444444,
              "#bd3786"
             ],
             [
              0.5555555555555556,
              "#d8576b"
             ],
             [
              0.6666666666666666,
              "#ed7953"
             ],
             [
              0.7777777777777778,
              "#fb9f3a"
             ],
             [
              0.8888888888888888,
              "#fdca26"
             ],
             [
              1,
              "#f0f921"
             ]
            ],
            "type": "contour"
           }
          ],
          "contourcarpet": [
           {
            "colorbar": {
             "outlinewidth": 0,
             "ticks": ""
            },
            "type": "contourcarpet"
           }
          ],
          "heatmap": [
           {
            "colorbar": {
             "outlinewidth": 0,
             "ticks": ""
            },
            "colorscale": [
             [
              0,
              "#0d0887"
             ],
             [
              0.1111111111111111,
              "#46039f"
             ],
             [
              0.2222222222222222,
              "#7201a8"
             ],
             [
              0.3333333333333333,
              "#9c179e"
             ],
             [
              0.4444444444444444,
              "#bd3786"
             ],
             [
              0.5555555555555556,
              "#d8576b"
             ],
             [
              0.6666666666666666,
              "#ed7953"
             ],
             [
              0.7777777777777778,
              "#fb9f3a"
             ],
             [
              0.8888888888888888,
              "#fdca26"
             ],
             [
              1,
              "#f0f921"
             ]
            ],
            "type": "heatmap"
           }
          ],
          "heatmapgl": [
           {
            "colorbar": {
             "outlinewidth": 0,
             "ticks": ""
            },
            "colorscale": [
             [
              0,
              "#0d0887"
             ],
             [
              0.1111111111111111,
              "#46039f"
             ],
             [
              0.2222222222222222,
              "#7201a8"
             ],
             [
              0.3333333333333333,
              "#9c179e"
             ],
             [
              0.4444444444444444,
              "#bd3786"
             ],
             [
              0.5555555555555556,
              "#d8576b"
             ],
             [
              0.6666666666666666,
              "#ed7953"
             ],
             [
              0.7777777777777778,
              "#fb9f3a"
             ],
             [
              0.8888888888888888,
              "#fdca26"
             ],
             [
              1,
              "#f0f921"
             ]
            ],
            "type": "heatmapgl"
           }
          ],
          "histogram": [
           {
            "marker": {
             "pattern": {
              "fillmode": "overlay",
              "size": 10,
              "solidity": 0.2
             }
            },
            "type": "histogram"
           }
          ],
          "histogram2d": [
           {
            "colorbar": {
             "outlinewidth": 0,
             "ticks": ""
            },
            "colorscale": [
             [
              0,
              "#0d0887"
             ],
             [
              0.1111111111111111,
              "#46039f"
             ],
             [
              0.2222222222222222,
              "#7201a8"
             ],
             [
              0.3333333333333333,
              "#9c179e"
             ],
             [
              0.4444444444444444,
              "#bd3786"
             ],
             [
              0.5555555555555556,
              "#d8576b"
             ],
             [
              0.6666666666666666,
              "#ed7953"
             ],
             [
              0.7777777777777778,
              "#fb9f3a"
             ],
             [
              0.8888888888888888,
              "#fdca26"
             ],
             [
              1,
              "#f0f921"
             ]
            ],
            "type": "histogram2d"
           }
          ],
          "histogram2dcontour": [
           {
            "colorbar": {
             "outlinewidth": 0,
             "ticks": ""
            },
            "colorscale": [
             [
              0,
              "#0d0887"
             ],
             [
              0.1111111111111111,
              "#46039f"
             ],
             [
              0.2222222222222222,
              "#7201a8"
             ],
             [
              0.3333333333333333,
              "#9c179e"
             ],
             [
              0.4444444444444444,
              "#bd3786"
             ],
             [
              0.5555555555555556,
              "#d8576b"
             ],
             [
              0.6666666666666666,
              "#ed7953"
             ],
             [
              0.7777777777777778,
              "#fb9f3a"
             ],
             [
              0.8888888888888888,
              "#fdca26"
             ],
             [
              1,
              "#f0f921"
             ]
            ],
            "type": "histogram2dcontour"
           }
          ],
          "mesh3d": [
           {
            "colorbar": {
             "outlinewidth": 0,
             "ticks": ""
            },
            "type": "mesh3d"
           }
          ],
          "parcoords": [
           {
            "line": {
             "colorbar": {
              "outlinewidth": 0,
              "ticks": ""
             }
            },
            "type": "parcoords"
           }
          ],
          "pie": [
           {
            "automargin": true,
            "type": "pie"
           }
          ],
          "scatter": [
           {
            "fillpattern": {
             "fillmode": "overlay",
             "size": 10,
             "solidity": 0.2
            },
            "type": "scatter"
           }
          ],
          "scatter3d": [
           {
            "line": {
             "colorbar": {
              "outlinewidth": 0,
              "ticks": ""
             }
            },
            "marker": {
             "colorbar": {
              "outlinewidth": 0,
              "ticks": ""
             }
            },
            "type": "scatter3d"
           }
          ],
          "scattercarpet": [
           {
            "marker": {
             "colorbar": {
              "outlinewidth": 0,
              "ticks": ""
             }
            },
            "type": "scattercarpet"
           }
          ],
          "scattergeo": [
           {
            "marker": {
             "colorbar": {
              "outlinewidth": 0,
              "ticks": ""
             }
            },
            "type": "scattergeo"
           }
          ],
          "scattergl": [
           {
            "marker": {
             "colorbar": {
              "outlinewidth": 0,
              "ticks": ""
             }
            },
            "type": "scattergl"
           }
          ],
          "scattermapbox": [
           {
            "marker": {
             "colorbar": {
              "outlinewidth": 0,
              "ticks": ""
             }
            },
            "type": "scattermapbox"
           }
          ],
          "scatterpolar": [
           {
            "marker": {
             "colorbar": {
              "outlinewidth": 0,
              "ticks": ""
             }
            },
            "type": "scatterpolar"
           }
          ],
          "scatterpolargl": [
           {
            "marker": {
             "colorbar": {
              "outlinewidth": 0,
              "ticks": ""
             }
            },
            "type": "scatterpolargl"
           }
          ],
          "scatterternary": [
           {
            "marker": {
             "colorbar": {
              "outlinewidth": 0,
              "ticks": ""
             }
            },
            "type": "scatterternary"
           }
          ],
          "surface": [
           {
            "colorbar": {
             "outlinewidth": 0,
             "ticks": ""
            },
            "colorscale": [
             [
              0,
              "#0d0887"
             ],
             [
              0.1111111111111111,
              "#46039f"
             ],
             [
              0.2222222222222222,
              "#7201a8"
             ],
             [
              0.3333333333333333,
              "#9c179e"
             ],
             [
              0.4444444444444444,
              "#bd3786"
             ],
             [
              0.5555555555555556,
              "#d8576b"
             ],
             [
              0.6666666666666666,
              "#ed7953"
             ],
             [
              0.7777777777777778,
              "#fb9f3a"
             ],
             [
              0.8888888888888888,
              "#fdca26"
             ],
             [
              1,
              "#f0f921"
             ]
            ],
            "type": "surface"
           }
          ],
          "table": [
           {
            "cells": {
             "fill": {
              "color": "#EBF0F8"
             },
             "line": {
              "color": "white"
             }
            },
            "header": {
             "fill": {
              "color": "#C8D4E3"
             },
             "line": {
              "color": "white"
             }
            },
            "type": "table"
           }
          ]
         },
         "layout": {
          "annotationdefaults": {
           "arrowcolor": "#2a3f5f",
           "arrowhead": 0,
           "arrowwidth": 1
          },
          "autotypenumbers": "strict",
          "coloraxis": {
           "colorbar": {
            "outlinewidth": 0,
            "ticks": ""
           }
          },
          "colorscale": {
           "diverging": [
            [
             0,
             "#8e0152"
            ],
            [
             0.1,
             "#c51b7d"
            ],
            [
             0.2,
             "#de77ae"
            ],
            [
             0.3,
             "#f1b6da"
            ],
            [
             0.4,
             "#fde0ef"
            ],
            [
             0.5,
             "#f7f7f7"
            ],
            [
             0.6,
             "#e6f5d0"
            ],
            [
             0.7,
             "#b8e186"
            ],
            [
             0.8,
             "#7fbc41"
            ],
            [
             0.9,
             "#4d9221"
            ],
            [
             1,
             "#276419"
            ]
           ],
           "sequential": [
            [
             0,
             "#0d0887"
            ],
            [
             0.1111111111111111,
             "#46039f"
            ],
            [
             0.2222222222222222,
             "#7201a8"
            ],
            [
             0.3333333333333333,
             "#9c179e"
            ],
            [
             0.4444444444444444,
             "#bd3786"
            ],
            [
             0.5555555555555556,
             "#d8576b"
            ],
            [
             0.6666666666666666,
             "#ed7953"
            ],
            [
             0.7777777777777778,
             "#fb9f3a"
            ],
            [
             0.8888888888888888,
             "#fdca26"
            ],
            [
             1,
             "#f0f921"
            ]
           ],
           "sequentialminus": [
            [
             0,
             "#0d0887"
            ],
            [
             0.1111111111111111,
             "#46039f"
            ],
            [
             0.2222222222222222,
             "#7201a8"
            ],
            [
             0.3333333333333333,
             "#9c179e"
            ],
            [
             0.4444444444444444,
             "#bd3786"
            ],
            [
             0.5555555555555556,
             "#d8576b"
            ],
            [
             0.6666666666666666,
             "#ed7953"
            ],
            [
             0.7777777777777778,
             "#fb9f3a"
            ],
            [
             0.8888888888888888,
             "#fdca26"
            ],
            [
             1,
             "#f0f921"
            ]
           ]
          },
          "colorway": [
           "#636efa",
           "#EF553B",
           "#00cc96",
           "#ab63fa",
           "#FFA15A",
           "#19d3f3",
           "#FF6692",
           "#B6E880",
           "#FF97FF",
           "#FECB52"
          ],
          "font": {
           "color": "#2a3f5f"
          },
          "geo": {
           "bgcolor": "white",
           "lakecolor": "white",
           "landcolor": "#E5ECF6",
           "showlakes": true,
           "showland": true,
           "subunitcolor": "white"
          },
          "hoverlabel": {
           "align": "left"
          },
          "hovermode": "closest",
          "mapbox": {
           "style": "light"
          },
          "paper_bgcolor": "white",
          "plot_bgcolor": "#E5ECF6",
          "polar": {
           "angularaxis": {
            "gridcolor": "white",
            "linecolor": "white",
            "ticks": ""
           },
           "bgcolor": "#E5ECF6",
           "radialaxis": {
            "gridcolor": "white",
            "linecolor": "white",
            "ticks": ""
           }
          },
          "scene": {
           "xaxis": {
            "backgroundcolor": "#E5ECF6",
            "gridcolor": "white",
            "gridwidth": 2,
            "linecolor": "white",
            "showbackground": true,
            "ticks": "",
            "zerolinecolor": "white"
           },
           "yaxis": {
            "backgroundcolor": "#E5ECF6",
            "gridcolor": "white",
            "gridwidth": 2,
            "linecolor": "white",
            "showbackground": true,
            "ticks": "",
            "zerolinecolor": "white"
           },
           "zaxis": {
            "backgroundcolor": "#E5ECF6",
            "gridcolor": "white",
            "gridwidth": 2,
            "linecolor": "white",
            "showbackground": true,
            "ticks": "",
            "zerolinecolor": "white"
           }
          },
          "shapedefaults": {
           "line": {
            "color": "#2a3f5f"
           }
          },
          "ternary": {
           "aaxis": {
            "gridcolor": "white",
            "linecolor": "white",
            "ticks": ""
           },
           "baxis": {
            "gridcolor": "white",
            "linecolor": "white",
            "ticks": ""
           },
           "bgcolor": "#E5ECF6",
           "caxis": {
            "gridcolor": "white",
            "linecolor": "white",
            "ticks": ""
           }
          },
          "title": {
           "x": 0.05
          },
          "xaxis": {
           "automargin": true,
           "gridcolor": "white",
           "linecolor": "white",
           "ticks": "",
           "title": {
            "standoff": 15
           },
           "zerolinecolor": "white",
           "zerolinewidth": 2
          },
          "yaxis": {
           "automargin": true,
           "gridcolor": "white",
           "linecolor": "white",
           "ticks": "",
           "title": {
            "standoff": 15
           },
           "zerolinecolor": "white",
           "zerolinewidth": 2
          }
         }
        },
        "title": {
         "text": "Outage Duration (minutes) vs Total Sales (megawatt/hour)"
        },
        "xaxis": {
         "anchor": "y",
         "domain": [
          0,
          1
         ],
         "title": {
          "text": "Total sales (megawatt/hour)"
         }
        },
        "yaxis": {
         "anchor": "x",
         "domain": [
          0,
          1
         ],
         "title": {
          "text": "Outage Duration (minutes)"
         }
        }
       }
      }
     },
     "metadata": {},
     "output_type": "display_data"
    }
   ],
   "source": [
    "duration_vs_sales = px.scatter(relevant, x='TOTAL.SALES', y='OUTAGE.DURATION', title='Outage Duration (minutes) vs Total Sales (megawatt/hour)', labels={'OUTAGE.DURATION': \"Outage Duration (minutes)\", 'TOTAL.SALES': 'Total sales (megawatt/hour)'})\n",
    "duration_vs_sales.show()\n",
    "duration_vs_sales.write_html('duration_vs_sales.html')"
   ]
  },
  {
   "cell_type": "code",
   "execution_count": 24,
   "metadata": {},
   "outputs": [
    {
     "data": {
      "application/vnd.plotly.v1+json": {
       "config": {
        "plotlyServerURL": "https://plot.ly"
       },
       "data": [
        {
         "hovertemplate": "CUSTOMERS.AFFECTED=%{x}<br>OUTAGE.DURATION=%{y}<extra></extra>",
         "legendgroup": "",
         "marker": {
          "color": "#636efa",
          "symbol": "circle"
         },
         "mode": "markers",
         "name": "",
         "showlegend": false,
         "type": "scattergl",
         "x": [
          70000,
          null,
          70000,
          68200,
          250000,
          60000,
          63000,
          300000,
          5941,
          400000,
          193000,
          200000,
          0,
          0,
          55951,
          null,
          null,
          null,
          64000,
          57000,
          null,
          50001,
          0,
          null,
          null,
          null,
          106300,
          63000,
          56475,
          null,
          null,
          73000,
          215,
          50000,
          38500,
          105000,
          null,
          null,
          null,
          80000,
          63000,
          136000,
          65904,
          null,
          null,
          null,
          null,
          0,
          null,
          null,
          null,
          48000,
          7000,
          null,
          null,
          52000,
          null,
          0,
          110000,
          7600,
          63000,
          0,
          null,
          null,
          120000,
          null,
          null,
          51160,
          null,
          null,
          66383,
          208000,
          265000,
          113000,
          53000,
          245000,
          null,
          145314,
          60000,
          2100000,
          425000,
          78213,
          150000,
          164000,
          140000,
          70793,
          134288,
          60000,
          69000,
          75000,
          105000,
          118000,
          201580,
          325325,
          118000,
          131000,
          160000,
          0,
          50000,
          133777,
          125000,
          248209,
          162000,
          160895,
          210517,
          111000,
          247847,
          68000,
          null,
          50000,
          285000,
          86915,
          122000,
          65562,
          50114,
          null,
          252089,
          2,
          137000,
          80000,
          null,
          53000,
          130000,
          182000,
          0,
          50000,
          60175,
          146500,
          101000,
          null,
          239663,
          230000,
          150000,
          111393,
          250000,
          138802,
          75000,
          358000,
          127534,
          122600,
          140735,
          66000,
          160000,
          156627,
          0,
          114711,
          99188,
          85000,
          159870,
          75000,
          72520,
          100000,
          99000,
          272355,
          315000,
          190000,
          58156,
          82000,
          168000,
          0,
          197166,
          103000,
          129607,
          138000,
          138000,
          56000,
          105000,
          65000,
          30000,
          null,
          86013,
          52000,
          3314,
          null,
          null,
          119000,
          57000,
          454000,
          null,
          489478,
          126000,
          79741,
          null,
          null,
          118000,
          0,
          108000,
          238000,
          null,
          96000,
          280982,
          98700,
          null,
          79000,
          0,
          200000,
          85000,
          200000,
          null,
          null,
          68530,
          67000,
          2142678,
          null,
          130252,
          60000,
          0,
          262000,
          null,
          null,
          null,
          192000,
          71823,
          0,
          73000,
          0,
          64801,
          211266,
          62000,
          null,
          null,
          83000,
          100000,
          70000,
          214864,
          80000,
          null,
          null,
          219681,
          78000,
          2000000,
          500000,
          null,
          715000,
          null,
          100000,
          1069730,
          51404,
          175000,
          43000,
          881000,
          85000,
          68000,
          17311,
          488689,
          null,
          0,
          0,
          238392,
          340350,
          null,
          null,
          24506,
          158000,
          234393,
          89000,
          0,
          73000,
          120377,
          null,
          null,
          0,
          63000,
          null,
          171117,
          0,
          57531,
          123000,
          2504366,
          9000,
          61000,
          0,
          36073,
          null,
          113247,
          null,
          null,
          500000,
          null,
          82000,
          132000,
          81586,
          70000,
          415103,
          300000,
          800000,
          65000,
          62500,
          100000,
          157019,
          null,
          null,
          243000,
          114000,
          null,
          127000,
          null,
          135000,
          61705,
          0,
          9700,
          124000,
          9700,
          50000,
          9700,
          null,
          75065,
          7500,
          201000,
          null,
          61705,
          56000,
          9800,
          82621,
          0,
          114791,
          61413,
          94345,
          186000,
          86615,
          215387,
          70000,
          null,
          9600,
          52702,
          null,
          0,
          null,
          141000,
          63000,
          null,
          53000,
          9700,
          53700,
          null,
          58000,
          null,
          75000,
          65000,
          160000,
          60000,
          75000,
          111644,
          null,
          null,
          10000,
          null,
          0,
          0,
          300000,
          101830,
          629590,
          109000,
          192106,
          181000,
          190000,
          471932,
          400000,
          51500,
          121000,
          420000,
          245000,
          127000,
          169000,
          320000,
          11000,
          330000,
          109000,
          283451,
          300000,
          72000,
          157000,
          80000,
          653000,
          71500,
          200000,
          65400,
          237000,
          135000,
          115000,
          51000,
          239567,
          null,
          165000,
          325000,
          127000,
          130000,
          169000,
          170519,
          190000,
          500000,
          125000,
          null,
          68800,
          null,
          null,
          null,
          92090,
          null,
          250000,
          null,
          null,
          null,
          null,
          0,
          null,
          0,
          145000,
          63992,
          null,
          null,
          426000,
          null,
          null,
          76300,
          110433,
          null,
          0,
          null,
          0,
          null,
          105000,
          null,
          null,
          0,
          null,
          0,
          0,
          null,
          140000,
          56000,
          null,
          500000,
          0,
          93300,
          0,
          0,
          null,
          0,
          160000,
          0,
          null,
          null,
          89000,
          8000,
          null,
          123535,
          null,
          0,
          null,
          null,
          null,
          0,
          null,
          null,
          null,
          0,
          300000,
          null,
          null,
          175000,
          null,
          null,
          null,
          200000,
          null,
          null,
          null,
          null,
          null,
          null,
          0,
          null,
          0,
          null,
          172060,
          123827,
          75000,
          null,
          50000,
          0,
          null,
          null,
          700000,
          null,
          187000,
          null,
          null,
          64000,
          null,
          null,
          160000,
          null,
          null,
          null,
          null,
          47000,
          null,
          null,
          null,
          140000,
          null,
          null,
          null,
          40911,
          0,
          null,
          2713,
          null,
          null,
          null,
          null,
          null,
          null,
          null,
          69000,
          null,
          30000,
          90000,
          60000,
          70000,
          60000,
          108000,
          122000,
          180000,
          87600,
          null,
          0,
          0,
          0,
          null,
          0,
          null,
          108000,
          null,
          null,
          104195,
          93000,
          0,
          null,
          null,
          55118,
          0,
          297700,
          0,
          650000,
          234326,
          null,
          70000,
          86390,
          0,
          null,
          1,
          219000,
          1,
          181000,
          110000,
          0,
          133000,
          0,
          null,
          65000,
          249408,
          0,
          85091,
          138000,
          null,
          0,
          0,
          153000,
          155183,
          124000,
          760113,
          600000,
          null,
          64943,
          null,
          167564,
          50000,
          120000,
          null,
          null,
          57000,
          146721,
          198000,
          400000,
          146094,
          111555,
          52000,
          64500,
          143000,
          200717,
          142315,
          0,
          82861,
          105312,
          185000,
          109335,
          93837,
          200000,
          62000,
          213000,
          850000,
          124596,
          118000,
          null,
          105000,
          177528,
          264000,
          715000,
          null,
          160875,
          132000,
          65112,
          55000,
          492955,
          62159,
          null,
          43903,
          120001,
          144000,
          168449,
          null,
          0,
          106000,
          284000,
          65000,
          95630,
          312359,
          0,
          270000,
          35000,
          355000,
          223000,
          null,
          null,
          78000,
          181700,
          null,
          110,
          375000,
          76000,
          383000,
          190000,
          0,
          18000,
          3500,
          0,
          0,
          null,
          null,
          null,
          null,
          null,
          37,
          0,
          5763,
          85179,
          0,
          0,
          null,
          null,
          0,
          null,
          0,
          null,
          74031,
          60000,
          0,
          0,
          0,
          null,
          0,
          null,
          0,
          0,
          null,
          0,
          0,
          null,
          null,
          null,
          null,
          0,
          null,
          0,
          null,
          null,
          281000,
          null,
          127000,
          null,
          0,
          0,
          null,
          null,
          95000,
          45000,
          134500,
          175000,
          107833,
          67000,
          184000,
          246990,
          122314,
          1203000,
          0,
          211000,
          0,
          null,
          null,
          57054,
          150000,
          56000,
          0,
          0,
          50636,
          0,
          564728,
          59106,
          0,
          184000,
          245164,
          2000,
          23000,
          0,
          52747,
          48102,
          86000,
          346000,
          null,
          100000,
          60000,
          72000,
          220000,
          12000,
          null,
          70135,
          6100,
          200000,
          1200,
          103776,
          69106,
          203345,
          50718,
          130000,
          null,
          1200,
          null,
          340000,
          71000,
          61000,
          51600,
          53000,
          12000,
          29376,
          50000,
          112000,
          136000,
          61377,
          0,
          175000,
          0,
          47000,
          null,
          285465,
          50000,
          57000,
          320000,
          4196,
          370900,
          0,
          156338,
          100000,
          650000,
          null,
          197000,
          135000,
          0,
          95400,
          73000,
          248800,
          156729,
          0,
          140000,
          263000,
          50900,
          0,
          130000,
          75654,
          0,
          null,
          50000,
          0,
          0,
          150000,
          205000,
          null,
          217000,
          180000,
          67900,
          665000,
          221000,
          null,
          379000,
          360000,
          125000,
          50465,
          677858,
          120124,
          133000,
          150000,
          81000,
          677858,
          9000,
          2500,
          71000,
          null,
          null,
          0,
          null,
          3,
          null,
          null,
          249500,
          null,
          null,
          0,
          null,
          null,
          111000,
          0,
          null,
          0,
          null,
          84500,
          null,
          0,
          null,
          null,
          97651,
          220000,
          76729,
          530000,
          210000,
          52000,
          null,
          40000,
          425000,
          101003,
          null,
          83000,
          null,
          62500,
          null,
          null,
          0,
          63000,
          53000,
          20000,
          70000,
          55000,
          0,
          0,
          100000,
          56444,
          95000,
          18400,
          0,
          null,
          null,
          0,
          0,
          0,
          0,
          0,
          null,
          0,
          null,
          0,
          null,
          0,
          null,
          0,
          0,
          0,
          null,
          null,
          0,
          0,
          null,
          null,
          null,
          0,
          0,
          0,
          null,
          null,
          null,
          0,
          0,
          0,
          65000,
          null,
          null,
          null,
          0,
          0,
          null,
          140000,
          null,
          null,
          0,
          null,
          215000,
          21000,
          null,
          null,
          null,
          160000,
          632816,
          818000,
          152261,
          null,
          null,
          116000,
          145000,
          0,
          59000,
          300000,
          56645,
          null,
          0,
          18600,
          null,
          null,
          190000,
          null,
          null,
          61795,
          null,
          74300,
          173000,
          60000,
          0,
          54316,
          null,
          null,
          68000,
          null,
          3125350,
          0,
          null,
          null,
          50000,
          null,
          137000,
          100000,
          153000,
          null,
          55000,
          0,
          200000,
          150000,
          null,
          null,
          null,
          50280,
          18600,
          99700,
          65000,
          180000,
          null,
          null,
          0,
          61000,
          0,
          120000,
          50000,
          null,
          250000,
          371000,
          null,
          null,
          null,
          161151,
          18600,
          25000,
          null,
          null,
          null,
          null,
          59057,
          null,
          null,
          1100000,
          null,
          null,
          85000,
          null,
          287000,
          null,
          1,
          null,
          57184,
          143000,
          11000,
          11000,
          null,
          null,
          246092,
          null,
          null,
          150000,
          50000,
          190000,
          null,
          95000,
          50000,
          null,
          null,
          null,
          21800,
          28000,
          242910,
          null,
          125000,
          68018,
          null,
          null,
          0,
          440000,
          0,
          0,
          584384,
          430000,
          0,
          25000,
          50000,
          105000,
          150000,
          0,
          0,
          1200000,
          179000,
          42124,
          null,
          0,
          0,
          53965,
          31000,
          2775093,
          0,
          101950,
          37,
          110000,
          78000,
          84900,
          56000,
          47661,
          722000,
          104498,
          832898,
          32593,
          285300,
          268000,
          3241437,
          26000,
          502000,
          0,
          23000,
          26000,
          87000,
          20900,
          16500,
          null,
          null,
          null,
          null,
          null,
          0,
          null,
          null,
          128050,
          124000,
          900000,
          null,
          148000,
          37784,
          null,
          6810,
          79000,
          null,
          2500,
          null,
          150000,
          null,
          15000,
          null,
          26000,
          0,
          null,
          null,
          150000,
          290000,
          10000,
          850068,
          null,
          70000,
          null,
          null,
          null,
          10008,
          407440,
          477,
          50000,
          130000,
          null,
          null,
          727,
          484,
          0,
          1,
          48400,
          58850,
          94000,
          433,
          null,
          55655,
          null,
          442000,
          30000,
          89500,
          null,
          null,
          null,
          null,
          null,
          null,
          4300,
          160000,
          100000,
          1271893,
          0,
          80000,
          0,
          80000,
          null,
          null,
          505000,
          null,
          null,
          409000,
          65255,
          null,
          null,
          null,
          939000,
          6800,
          2606931,
          null,
          null,
          null,
          null,
          109750,
          null,
          null,
          0,
          7077,
          null,
          null,
          1700000,
          255000,
          59458,
          95000,
          147223,
          0,
          50000,
          2035,
          241000,
          426,
          108000,
          null,
          78164,
          null,
          null,
          9956,
          182000,
          null,
          null,
          null,
          430984,
          859554,
          null,
          null,
          65000,
          70,
          null,
          165000,
          null,
          140000,
          1667316,
          null,
          280000,
          0,
          385000,
          125000,
          0,
          55677,
          1,
          484,
          127,
          133900,
          32000,
          null,
          null,
          0,
          4,
          2650,
          null,
          5314,
          null,
          null,
          73514,
          null,
          0,
          null,
          420,
          null,
          200000,
          54332,
          6635,
          70,
          128000,
          2674,
          null,
          null,
          940,
          20345,
          null,
          0,
          null,
          70848,
          91690,
          null,
          300000,
          90323,
          263000,
          null,
          25000,
          104000,
          638,
          1400000,
          158977,
          null,
          null,
          null,
          1500000,
          null,
          1400000,
          68780,
          9956,
          0,
          7077,
          123000,
          null,
          1,
          80000,
          null,
          null,
          115500,
          null,
          0,
          1,
          null,
          60000,
          null,
          null,
          null,
          0,
          671189,
          null,
          120000,
          400000,
          null,
          111818,
          null,
          215700,
          null,
          null,
          64951,
          null,
          null,
          null,
          13000,
          null,
          7935,
          25159,
          0,
          13000,
          null,
          43000,
          null,
          8000,
          50797,
          null,
          57200,
          9200,
          null,
          null,
          115000,
          51580,
          0,
          88000,
          null,
          88110,
          52739,
          67000,
          37000,
          60000,
          119000,
          150084,
          156000,
          56000,
          175000,
          107000,
          55000,
          81000,
          600000,
          880000,
          null,
          119000,
          145157,
          217000,
          253800,
          114618,
          233000,
          130000,
          75000,
          80000,
          58500,
          67000,
          null,
          50000,
          126000,
          283000,
          190000,
          null,
          126000,
          120212,
          15000,
          35500,
          0,
          0,
          null,
          null,
          null,
          0,
          null,
          500000,
          null,
          null,
          0,
          null,
          null,
          null,
          0,
          0,
          null,
          null,
          null,
          0,
          0,
          0,
          47165,
          82000,
          30689,
          150000,
          218783,
          93828,
          52659,
          186035,
          109000,
          80539,
          83450,
          66445,
          102000,
          373835,
          85455,
          169000,
          null,
          0,
          null,
          158000,
          50752,
          null,
          0,
          56400,
          75000,
          null,
          0,
          67000,
          50100,
          null,
          50246,
          224912,
          0,
          null,
          52000,
          54476,
          0,
          1881134,
          112000,
          14500,
          68705,
          null,
          null,
          256663,
          50500,
          96966,
          null,
          35000,
          54000,
          41306,
          null,
          127000,
          92748,
          0,
          56874,
          55609,
          1500,
          null,
          54000,
          80000,
          29250,
          50000,
          0,
          0,
          130000,
          50000,
          null,
          50000,
          50000,
          380000,
          50500,
          null,
          null,
          300000,
          0,
          1,
          0,
          0,
          0,
          0,
          127545,
          null,
          0,
          0,
          131000,
          63000,
          169757,
          50462,
          60863,
          null,
          52500,
          0,
          0,
          110000,
          50000,
          117142,
          50000,
          0,
          0,
          0,
          null,
          0,
          0,
          0,
          null,
          102568,
          0,
          null,
          0,
          0,
          0,
          1100,
          0,
          null,
          null,
          110000,
          0,
          35230,
          0,
          0,
          204000,
          86058,
          null,
          null,
          0,
          null,
          31000,
          null,
          30379,
          0,
          65000,
          0,
          270000,
          null,
          0,
          70000,
          95000,
          0,
          null,
          110000,
          211000,
          294000,
          62000,
          59886,
          29300,
          291000,
          null,
          0,
          35000,
          0,
          0,
          null,
          0,
          0,
          null,
          34500,
          null,
          null,
          null,
          14273
         ],
         "xaxis": "x",
         "y": [
          3060,
          1,
          3000,
          2550,
          1740,
          1860,
          2970,
          3960,
          155,
          3621,
          7740,
          8880,
          0,
          1322,
          60,
          19,
          0,
          21,
          196,
          840,
          935,
          1260,
          null,
          619,
          150,
          762,
          0,
          660,
          1,
          2700,
          1,
          4921,
          95,
          251,
          4125,
          2550,
          null,
          1200,
          310,
          2818,
          5054,
          136,
          528,
          150,
          46,
          1,
          1920,
          null,
          32,
          null,
          135,
          3000,
          32,
          108653,
          8468,
          960,
          44,
          1605,
          4410,
          388,
          480,
          1219,
          90,
          18660,
          538,
          104,
          60,
          1272,
          60,
          1,
          1000,
          17339,
          9576,
          3090,
          6510,
          5820,
          1078,
          1513,
          4830,
          3051,
          4200,
          2085,
          5730,
          4290,
          2670,
          3540,
          3637,
          1710,
          4320,
          3915,
          3120,
          4590,
          7530,
          5034,
          8160,
          3300,
          4320,
          1770,
          9857,
          4080,
          5670,
          5700,
          1995,
          300,
          5115,
          2670,
          7650,
          4338,
          761,
          5760,
          2820,
          4110,
          3360,
          3015,
          232,
          11525,
          6420,
          46080,
          5700,
          5610,
          78377,
          270,
          4050,
          5865,
          1,
          2325,
          4170,
          4485,
          2694,
          168,
          5580,
          705,
          11850,
          3494,
          4560,
          2760,
          5760,
          8922,
          6030,
          7800,
          4242,
          3120,
          5700,
          900,
          1046,
          7620,
          3630,
          1260,
          5840,
          5790,
          2820,
          600,
          4259,
          2939,
          7080,
          3600,
          1588,
          4260,
          2700,
          200,
          8430,
          85,
          9150,
          1019,
          420,
          1140,
          7440,
          4458,
          373,
          1203,
          868,
          1455,
          206,
          1195,
          1559,
          900,
          2690,
          5115,
          5,
          189,
          2142,
          360,
          null,
          225,
          2340,
          480,
          9486,
          480,
          3000,
          300,
          3020,
          766,
          null,
          1335,
          197,
          245,
          3255,
          12180,
          1077,
          600,
          186,
          690,
          27698,
          402,
          2420,
          327,
          1,
          1860,
          220,
          455,
          318,
          757,
          847,
          410,
          215,
          5,
          570,
          12124,
          2655,
          20160,
          1440,
          600,
          39,
          181,
          1185,
          1500,
          0,
          271,
          1860,
          1200,
          2159,
          6300,
          null,
          1620,
          224,
          70,
          1697,
          95,
          2220,
          null,
          7809,
          1200,
          121,
          63,
          5595,
          1,
          557,
          240,
          3360,
          685,
          2280,
          210,
          167,
          1920,
          3569,
          3300,
          10,
          1560,
          840,
          240,
          990,
          6000,
          17865,
          1282,
          1080,
          7540,
          1320,
          1110,
          27698,
          130,
          3040,
          394,
          10140,
          20160,
          21540,
          45,
          1,
          1200,
          550,
          900,
          885,
          940,
          null,
          3050,
          1830,
          6000,
          1500,
          150,
          1955,
          2220,
          330,
          74,
          420,
          1440,
          255,
          1060,
          12240,
          5250,
          4320,
          120,
          233,
          null,
          65,
          2120,
          96,
          3,
          4320,
          65,
          2146,
          96,
          4032,
          2580,
          6,
          569,
          0,
          15950,
          200,
          1980,
          4045,
          2730,
          3314,
          7319,
          1,
          47,
          1440,
          276,
          0,
          0,
          3646,
          1130,
          2880,
          513,
          35,
          23773,
          10,
          3872,
          23187,
          12240,
          390,
          null,
          3264,
          1230,
          803,
          77,
          30,
          300,
          1,
          5,
          1450,
          2680,
          null,
          7609,
          150,
          3000,
          420,
          479,
          1680,
          2700,
          149,
          1110,
          2790,
          659,
          1320,
          1830,
          3000,
          null,
          870,
          810,
          1336,
          1695,
          360,
          360,
          120,
          3000,
          1290,
          1530,
          2370,
          1200,
          1200,
          90,
          120,
          1200,
          2761,
          720,
          1120,
          2100,
          960,
          450,
          1440,
          1020,
          0,
          2010,
          120,
          9230,
          1240,
          465,
          0,
          2460,
          1183,
          8880,
          394,
          219,
          487,
          19,
          28,
          0,
          1,
          5340,
          8940,
          467,
          0,
          1920,
          0,
          25,
          420,
          2040,
          0,
          1,
          1423,
          60,
          1620,
          3300,
          385,
          663,
          123,
          1276,
          1919,
          null,
          440,
          6690,
          null,
          0,
          null,
          717,
          1204,
          292,
          313,
          1,
          5,
          6276,
          0,
          74,
          0,
          null,
          248,
          1,
          2700,
          25,
          126,
          1,
          255,
          1207,
          0,
          0,
          245,
          476,
          null,
          null,
          null,
          1,
          2639,
          502,
          548,
          369,
          6480,
          15,
          5,
          null,
          1,
          0,
          432,
          21,
          1697,
          0,
          2615,
          9630,
          3507,
          2820,
          314,
          5855,
          0,
          0,
          1,
          22769,
          70,
          4285,
          355,
          0,
          2520,
          0,
          180,
          554,
          50,
          70,
          180,
          3842,
          35,
          1,
          189,
          49320,
          4200,
          353,
          1,
          87,
          66,
          null,
          1,
          227,
          null,
          1440,
          1,
          2700,
          null,
          49320,
          2,
          215,
          451,
          418,
          100,
          2021,
          1671,
          3938,
          4470,
          2279,
          4440,
          2760,
          0,
          1,
          0,
          1,
          1840,
          428,
          331,
          1980,
          1,
          1,
          1950,
          3037,
          1,
          1,
          1196,
          5628,
          1440,
          7700,
          2,
          12890,
          4232,
          95,
          2610,
          4320,
          17,
          113,
          0,
          2507,
          0,
          1,
          4920,
          1,
          4080,
          0,
          960,
          185,
          1320,
          1673,
          2855,
          3060,
          565,
          1,
          1,
          7298,
          5790,
          3040,
          11700,
          7987,
          304,
          4517,
          0,
          3058,
          13381,
          2865,
          152,
          380,
          9450,
          7803,
          5579,
          8979,
          4800,
          3060,
          4792,
          3894,
          1757,
          2880,
          2985,
          164,
          3232,
          2319,
          4338,
          2880,
          1714,
          90,
          59,
          4139,
          10530,
          6938,
          930,
          278,
          299,
          5320,
          2880,
          1,
          4260,
          6713,
          5160,
          1440,
          78,
          7523,
          2668,
          1,
          376,
          1324,
          6940,
          2684,
          54,
          100,
          720,
          2880,
          3189,
          2790,
          13679,
          2843,
          13488,
          1642,
          7709,
          7080,
          1440,
          1,
          1680,
          1579,
          652,
          108,
          300,
          1020,
          3570,
          6492,
          23700,
          10499,
          15180,
          0,
          120,
          1,
          1,
          1,
          1,
          1,
          1,
          60,
          113,
          204,
          31,
          57,
          13,
          2,
          11,
          283,
          0,
          1,
          871,
          1631,
          56,
          15,
          15,
          20,
          60,
          1,
          95,
          300,
          1,
          3186,
          575,
          2275,
          15,
          1,
          44,
          21,
          1,
          114,
          1,
          60,
          4920,
          null,
          4920,
          420,
          0,
          7,
          21,
          340,
          4200,
          805,
          5040,
          7430,
          5490,
          165,
          3630,
          11640,
          1590,
          3137,
          1440,
          7920,
          360,
          0,
          1440,
          1372,
          6480,
          2190,
          285,
          75,
          1843,
          1,
          11531,
          1420,
          0,
          930,
          11420,
          0,
          352,
          0,
          960,
          1733,
          3690,
          10619,
          634,
          11280,
          1440,
          180,
          1574,
          45,
          563,
          388,
          373,
          4510,
          290,
          1950,
          270,
          1355,
          1318,
          2490,
          1265,
          195,
          3120,
          3388,
          1025,
          990,
          240,
          1485,
          129,
          0,
          1528,
          1890,
          2551,
          985,
          405,
          1698,
          167,
          1460,
          182,
          4113,
          null,
          885,
          15,
          42,
          1050,
          1,
          132,
          4140,
          2880,
          null,
          11430,
          3599,
          0,
          2941,
          null,
          6090,
          1365,
          375,
          2520,
          10080,
          76,
          0,
          3720,
          333,
          0,
          353,
          11337,
          0,
          0,
          7020,
          11058,
          null,
          9360,
          3300,
          3339,
          2880,
          11580,
          9600,
          13201,
          9719,
          488,
          2415,
          180,
          4177,
          7440,
          3480,
          6600,
          300,
          1526,
          60,
          210,
          2,
          1350,
          73,
          1,
          200,
          0,
          null,
          4380,
          0,
          120,
          2680,
          840,
          989,
          4313,
          214,
          4,
          164,
          91,
          1050,
          838,
          60,
          1,
          1,
          9886,
          2425,
          390,
          14500,
          6660,
          159,
          54,
          30,
          8077,
          855,
          65,
          810,
          4150,
          4740,
          25,
          0,
          null,
          2070,
          870,
          12652,
          2880,
          120,
          1199,
          null,
          1470,
          4140,
          15420,
          50,
          0,
          1,
          1,
          0,
          0,
          0,
          457,
          1,
          1,
          0,
          30,
          1,
          1,
          65,
          1,
          0,
          0,
          0,
          1,
          null,
          1,
          0,
          1,
          1,
          110,
          39,
          1,
          1,
          1,
          1,
          1,
          1,
          507,
          213,
          4254,
          1,
          1,
          53,
          0,
          0,
          251,
          347,
          1637,
          21360,
          2161,
          2880,
          1044,
          8670,
          56,
          93,
          13,
          2089,
          20280,
          14639,
          2880,
          681,
          494,
          1,
          5355,
          0,
          3943,
          3300,
          191,
          0,
          73,
          4680,
          17310,
          10080,
          10726,
          1,
          5,
          2515,
          25920,
          2730,
          9480,
          5400,
          30,
          3584,
          3600,
          5850,
          4710,
          1,
          1732,
          0,
          23040,
          1800,
          6074,
          null,
          49,
          2299,
          5760,
          420,
          7320,
          2880,
          448,
          2520,
          18717,
          5513,
          21,
          2100,
          3120,
          8221,
          3240,
          2880,
          255,
          2355,
          161,
          50,
          258,
          13140,
          8640,
          18240,
          15492,
          8268,
          0,
          300,
          14400,
          7962,
          2400,
          11296,
          48,
          60480,
          28170,
          300,
          8054,
          2775,
          2775,
          2160,
          2100,
          2775,
          3180,
          2775,
          1440,
          430,
          2129,
          1755,
          null,
          692,
          732,
          7,
          510,
          420,
          13215,
          557,
          300,
          17812,
          20416,
          6240,
          467,
          3067,
          3060,
          355,
          430,
          300,
          227,
          52,
          null,
          2880,
          18804,
          1867,
          1690,
          295,
          17,
          240,
          17520,
          8189,
          182,
          5820,
          83,
          230,
          2009,
          720,
          155,
          4320,
          4320,
          480,
          1005,
          221,
          372,
          13430,
          4320,
          91,
          1419,
          3600,
          10080,
          5071,
          152,
          6840,
          221,
          24780,
          38,
          61,
          7560,
          90,
          10380,
          396,
          2040,
          12060,
          1080,
          1680,
          13920,
          14101,
          1099,
          2460,
          540,
          52,
          816,
          420,
          155,
          437,
          247,
          540,
          1135,
          437,
          180,
          171,
          656,
          84,
          202,
          255,
          1054,
          1,
          1254,
          1456,
          177,
          106,
          32,
          2464,
          55,
          144,
          70,
          64,
          8873,
          945,
          null,
          523,
          56,
          3,
          8472,
          155,
          33,
          749,
          159,
          null,
          270,
          2790,
          224,
          1470,
          334,
          2050,
          370,
          26,
          797,
          12,
          195,
          1,
          230,
          125,
          15,
          316,
          365,
          1560,
          4740,
          294,
          455,
          2878,
          336,
          295,
          480,
          25,
          null,
          223,
          2645,
          2016,
          7371,
          360,
          3408,
          3698,
          4890,
          1,
          871,
          2759,
          250,
          3301,
          249,
          164,
          435,
          420,
          854,
          5160,
          133,
          15180,
          2055,
          451,
          140,
          199,
          721,
          179,
          1524,
          78,
          268,
          39,
          1,
          14190,
          47,
          161,
          900,
          6070,
          697,
          234,
          14,
          5910,
          null,
          34390,
          40,
          166,
          182,
          829,
          15,
          64,
          13,
          245,
          1080,
          null,
          390,
          47,
          269,
          null,
          400,
          660,
          213,
          null,
          761,
          8100,
          180,
          124,
          4320,
          2820,
          3100,
          49427,
          989,
          125,
          44,
          26,
          245,
          null,
          98,
          1,
          0,
          135,
          50,
          1008,
          53,
          554,
          1260,
          2895,
          89,
          98,
          865,
          128,
          230,
          252,
          130,
          5,
          157,
          6914,
          11,
          13,
          2880,
          270,
          962,
          47,
          null,
          20,
          108,
          9855,
          75,
          17,
          21,
          1950,
          11867,
          141,
          959,
          1035,
          617,
          1230,
          572,
          324,
          1835,
          6780,
          900,
          null,
          37,
          72,
          1,
          251,
          620,
          89,
          909,
          236,
          326,
          300,
          751,
          122,
          214,
          193,
          8,
          5227,
          null,
          1414,
          448,
          4605,
          4080,
          null,
          1914,
          759,
          1,
          10274,
          3,
          2700,
          105,
          240,
          210,
          1,
          1201,
          30,
          2806,
          1226,
          300,
          206,
          270,
          2880,
          513,
          8160,
          3314,
          414,
          126,
          60,
          285,
          110,
          62,
          2363,
          424,
          180,
          0,
          448,
          2,
          624,
          2435,
          131,
          null,
          208,
          103,
          1355,
          1523,
          90,
          1205,
          385,
          144,
          235,
          241,
          6787,
          1337,
          1673,
          3366,
          2640,
          1826,
          570,
          1565,
          2691,
          1072,
          115,
          816,
          168,
          30,
          160,
          485,
          1508,
          1301,
          159,
          60,
          4,
          9600,
          106,
          0,
          0,
          1,
          32,
          61,
          314,
          30,
          0,
          92,
          390,
          161,
          60,
          76,
          1,
          1,
          160,
          20,
          1,
          1,
          70,
          50,
          15,
          810,
          1380,
          1800,
          1560,
          2054,
          1452,
          1865,
          1999,
          120,
          1950,
          360,
          1087,
          1200,
          4122,
          360,
          645,
          108,
          0,
          1,
          1440,
          4560,
          1,
          1,
          110,
          210,
          120,
          0,
          4260,
          76,
          210,
          3305,
          5880,
          145,
          60,
          2640,
          1042,
          110,
          11880,
          2245,
          984,
          7200,
          1381,
          148,
          13972,
          null,
          796,
          300,
          null,
          2612,
          3000,
          431,
          5310,
          1732,
          0,
          6685,
          3300,
          280,
          117,
          2895,
          480,
          31,
          1,
          0,
          0,
          103,
          4745,
          307,
          1656,
          3525,
          374,
          1068,
          1569,
          114,
          115,
          15,
          2891,
          1,
          1676,
          0,
          0,
          3604,
          195,
          1,
          0,
          2108,
          198,
          3667,
          1037,
          673,
          null,
          2652,
          300,
          881,
          618,
          1187,
          950,
          2535,
          27,
          108,
          73,
          200,
          5,
          75,
          0,
          77,
          660,
          0,
          92,
          30,
          33,
          1895,
          274,
          1,
          1534,
          1,
          60,
          108,
          2,
          175,
          null,
          2040,
          2710,
          284,
          105,
          4019,
          1,
          391,
          439,
          5,
          201,
          2140,
          103,
          null,
          187,
          1406,
          348,
          13650,
          90,
          913,
          null,
          14040,
          1367,
          174,
          543,
          237,
          1906,
          224,
          0,
          95,
          360,
          1548,
          870,
          0,
          null,
          220,
          720,
          null,
          59,
          181,
          null
         ],
         "yaxis": "y"
        }
       ],
       "layout": {
        "legend": {
         "tracegroupgap": 0
        },
        "margin": {
         "t": 60
        },
        "template": {
         "data": {
          "bar": [
           {
            "error_x": {
             "color": "#2a3f5f"
            },
            "error_y": {
             "color": "#2a3f5f"
            },
            "marker": {
             "line": {
              "color": "#E5ECF6",
              "width": 0.5
             },
             "pattern": {
              "fillmode": "overlay",
              "size": 10,
              "solidity": 0.2
             }
            },
            "type": "bar"
           }
          ],
          "barpolar": [
           {
            "marker": {
             "line": {
              "color": "#E5ECF6",
              "width": 0.5
             },
             "pattern": {
              "fillmode": "overlay",
              "size": 10,
              "solidity": 0.2
             }
            },
            "type": "barpolar"
           }
          ],
          "carpet": [
           {
            "aaxis": {
             "endlinecolor": "#2a3f5f",
             "gridcolor": "white",
             "linecolor": "white",
             "minorgridcolor": "white",
             "startlinecolor": "#2a3f5f"
            },
            "baxis": {
             "endlinecolor": "#2a3f5f",
             "gridcolor": "white",
             "linecolor": "white",
             "minorgridcolor": "white",
             "startlinecolor": "#2a3f5f"
            },
            "type": "carpet"
           }
          ],
          "choropleth": [
           {
            "colorbar": {
             "outlinewidth": 0,
             "ticks": ""
            },
            "type": "choropleth"
           }
          ],
          "contour": [
           {
            "colorbar": {
             "outlinewidth": 0,
             "ticks": ""
            },
            "colorscale": [
             [
              0,
              "#0d0887"
             ],
             [
              0.1111111111111111,
              "#46039f"
             ],
             [
              0.2222222222222222,
              "#7201a8"
             ],
             [
              0.3333333333333333,
              "#9c179e"
             ],
             [
              0.4444444444444444,
              "#bd3786"
             ],
             [
              0.5555555555555556,
              "#d8576b"
             ],
             [
              0.6666666666666666,
              "#ed7953"
             ],
             [
              0.7777777777777778,
              "#fb9f3a"
             ],
             [
              0.8888888888888888,
              "#fdca26"
             ],
             [
              1,
              "#f0f921"
             ]
            ],
            "type": "contour"
           }
          ],
          "contourcarpet": [
           {
            "colorbar": {
             "outlinewidth": 0,
             "ticks": ""
            },
            "type": "contourcarpet"
           }
          ],
          "heatmap": [
           {
            "colorbar": {
             "outlinewidth": 0,
             "ticks": ""
            },
            "colorscale": [
             [
              0,
              "#0d0887"
             ],
             [
              0.1111111111111111,
              "#46039f"
             ],
             [
              0.2222222222222222,
              "#7201a8"
             ],
             [
              0.3333333333333333,
              "#9c179e"
             ],
             [
              0.4444444444444444,
              "#bd3786"
             ],
             [
              0.5555555555555556,
              "#d8576b"
             ],
             [
              0.6666666666666666,
              "#ed7953"
             ],
             [
              0.7777777777777778,
              "#fb9f3a"
             ],
             [
              0.8888888888888888,
              "#fdca26"
             ],
             [
              1,
              "#f0f921"
             ]
            ],
            "type": "heatmap"
           }
          ],
          "heatmapgl": [
           {
            "colorbar": {
             "outlinewidth": 0,
             "ticks": ""
            },
            "colorscale": [
             [
              0,
              "#0d0887"
             ],
             [
              0.1111111111111111,
              "#46039f"
             ],
             [
              0.2222222222222222,
              "#7201a8"
             ],
             [
              0.3333333333333333,
              "#9c179e"
             ],
             [
              0.4444444444444444,
              "#bd3786"
             ],
             [
              0.5555555555555556,
              "#d8576b"
             ],
             [
              0.6666666666666666,
              "#ed7953"
             ],
             [
              0.7777777777777778,
              "#fb9f3a"
             ],
             [
              0.8888888888888888,
              "#fdca26"
             ],
             [
              1,
              "#f0f921"
             ]
            ],
            "type": "heatmapgl"
           }
          ],
          "histogram": [
           {
            "marker": {
             "pattern": {
              "fillmode": "overlay",
              "size": 10,
              "solidity": 0.2
             }
            },
            "type": "histogram"
           }
          ],
          "histogram2d": [
           {
            "colorbar": {
             "outlinewidth": 0,
             "ticks": ""
            },
            "colorscale": [
             [
              0,
              "#0d0887"
             ],
             [
              0.1111111111111111,
              "#46039f"
             ],
             [
              0.2222222222222222,
              "#7201a8"
             ],
             [
              0.3333333333333333,
              "#9c179e"
             ],
             [
              0.4444444444444444,
              "#bd3786"
             ],
             [
              0.5555555555555556,
              "#d8576b"
             ],
             [
              0.6666666666666666,
              "#ed7953"
             ],
             [
              0.7777777777777778,
              "#fb9f3a"
             ],
             [
              0.8888888888888888,
              "#fdca26"
             ],
             [
              1,
              "#f0f921"
             ]
            ],
            "type": "histogram2d"
           }
          ],
          "histogram2dcontour": [
           {
            "colorbar": {
             "outlinewidth": 0,
             "ticks": ""
            },
            "colorscale": [
             [
              0,
              "#0d0887"
             ],
             [
              0.1111111111111111,
              "#46039f"
             ],
             [
              0.2222222222222222,
              "#7201a8"
             ],
             [
              0.3333333333333333,
              "#9c179e"
             ],
             [
              0.4444444444444444,
              "#bd3786"
             ],
             [
              0.5555555555555556,
              "#d8576b"
             ],
             [
              0.6666666666666666,
              "#ed7953"
             ],
             [
              0.7777777777777778,
              "#fb9f3a"
             ],
             [
              0.8888888888888888,
              "#fdca26"
             ],
             [
              1,
              "#f0f921"
             ]
            ],
            "type": "histogram2dcontour"
           }
          ],
          "mesh3d": [
           {
            "colorbar": {
             "outlinewidth": 0,
             "ticks": ""
            },
            "type": "mesh3d"
           }
          ],
          "parcoords": [
           {
            "line": {
             "colorbar": {
              "outlinewidth": 0,
              "ticks": ""
             }
            },
            "type": "parcoords"
           }
          ],
          "pie": [
           {
            "automargin": true,
            "type": "pie"
           }
          ],
          "scatter": [
           {
            "fillpattern": {
             "fillmode": "overlay",
             "size": 10,
             "solidity": 0.2
            },
            "type": "scatter"
           }
          ],
          "scatter3d": [
           {
            "line": {
             "colorbar": {
              "outlinewidth": 0,
              "ticks": ""
             }
            },
            "marker": {
             "colorbar": {
              "outlinewidth": 0,
              "ticks": ""
             }
            },
            "type": "scatter3d"
           }
          ],
          "scattercarpet": [
           {
            "marker": {
             "colorbar": {
              "outlinewidth": 0,
              "ticks": ""
             }
            },
            "type": "scattercarpet"
           }
          ],
          "scattergeo": [
           {
            "marker": {
             "colorbar": {
              "outlinewidth": 0,
              "ticks": ""
             }
            },
            "type": "scattergeo"
           }
          ],
          "scattergl": [
           {
            "marker": {
             "colorbar": {
              "outlinewidth": 0,
              "ticks": ""
             }
            },
            "type": "scattergl"
           }
          ],
          "scattermapbox": [
           {
            "marker": {
             "colorbar": {
              "outlinewidth": 0,
              "ticks": ""
             }
            },
            "type": "scattermapbox"
           }
          ],
          "scatterpolar": [
           {
            "marker": {
             "colorbar": {
              "outlinewidth": 0,
              "ticks": ""
             }
            },
            "type": "scatterpolar"
           }
          ],
          "scatterpolargl": [
           {
            "marker": {
             "colorbar": {
              "outlinewidth": 0,
              "ticks": ""
             }
            },
            "type": "scatterpolargl"
           }
          ],
          "scatterternary": [
           {
            "marker": {
             "colorbar": {
              "outlinewidth": 0,
              "ticks": ""
             }
            },
            "type": "scatterternary"
           }
          ],
          "surface": [
           {
            "colorbar": {
             "outlinewidth": 0,
             "ticks": ""
            },
            "colorscale": [
             [
              0,
              "#0d0887"
             ],
             [
              0.1111111111111111,
              "#46039f"
             ],
             [
              0.2222222222222222,
              "#7201a8"
             ],
             [
              0.3333333333333333,
              "#9c179e"
             ],
             [
              0.4444444444444444,
              "#bd3786"
             ],
             [
              0.5555555555555556,
              "#d8576b"
             ],
             [
              0.6666666666666666,
              "#ed7953"
             ],
             [
              0.7777777777777778,
              "#fb9f3a"
             ],
             [
              0.8888888888888888,
              "#fdca26"
             ],
             [
              1,
              "#f0f921"
             ]
            ],
            "type": "surface"
           }
          ],
          "table": [
           {
            "cells": {
             "fill": {
              "color": "#EBF0F8"
             },
             "line": {
              "color": "white"
             }
            },
            "header": {
             "fill": {
              "color": "#C8D4E3"
             },
             "line": {
              "color": "white"
             }
            },
            "type": "table"
           }
          ]
         },
         "layout": {
          "annotationdefaults": {
           "arrowcolor": "#2a3f5f",
           "arrowhead": 0,
           "arrowwidth": 1
          },
          "autotypenumbers": "strict",
          "coloraxis": {
           "colorbar": {
            "outlinewidth": 0,
            "ticks": ""
           }
          },
          "colorscale": {
           "diverging": [
            [
             0,
             "#8e0152"
            ],
            [
             0.1,
             "#c51b7d"
            ],
            [
             0.2,
             "#de77ae"
            ],
            [
             0.3,
             "#f1b6da"
            ],
            [
             0.4,
             "#fde0ef"
            ],
            [
             0.5,
             "#f7f7f7"
            ],
            [
             0.6,
             "#e6f5d0"
            ],
            [
             0.7,
             "#b8e186"
            ],
            [
             0.8,
             "#7fbc41"
            ],
            [
             0.9,
             "#4d9221"
            ],
            [
             1,
             "#276419"
            ]
           ],
           "sequential": [
            [
             0,
             "#0d0887"
            ],
            [
             0.1111111111111111,
             "#46039f"
            ],
            [
             0.2222222222222222,
             "#7201a8"
            ],
            [
             0.3333333333333333,
             "#9c179e"
            ],
            [
             0.4444444444444444,
             "#bd3786"
            ],
            [
             0.5555555555555556,
             "#d8576b"
            ],
            [
             0.6666666666666666,
             "#ed7953"
            ],
            [
             0.7777777777777778,
             "#fb9f3a"
            ],
            [
             0.8888888888888888,
             "#fdca26"
            ],
            [
             1,
             "#f0f921"
            ]
           ],
           "sequentialminus": [
            [
             0,
             "#0d0887"
            ],
            [
             0.1111111111111111,
             "#46039f"
            ],
            [
             0.2222222222222222,
             "#7201a8"
            ],
            [
             0.3333333333333333,
             "#9c179e"
            ],
            [
             0.4444444444444444,
             "#bd3786"
            ],
            [
             0.5555555555555556,
             "#d8576b"
            ],
            [
             0.6666666666666666,
             "#ed7953"
            ],
            [
             0.7777777777777778,
             "#fb9f3a"
            ],
            [
             0.8888888888888888,
             "#fdca26"
            ],
            [
             1,
             "#f0f921"
            ]
           ]
          },
          "colorway": [
           "#636efa",
           "#EF553B",
           "#00cc96",
           "#ab63fa",
           "#FFA15A",
           "#19d3f3",
           "#FF6692",
           "#B6E880",
           "#FF97FF",
           "#FECB52"
          ],
          "font": {
           "color": "#2a3f5f"
          },
          "geo": {
           "bgcolor": "white",
           "lakecolor": "white",
           "landcolor": "#E5ECF6",
           "showlakes": true,
           "showland": true,
           "subunitcolor": "white"
          },
          "hoverlabel": {
           "align": "left"
          },
          "hovermode": "closest",
          "mapbox": {
           "style": "light"
          },
          "paper_bgcolor": "white",
          "plot_bgcolor": "#E5ECF6",
          "polar": {
           "angularaxis": {
            "gridcolor": "white",
            "linecolor": "white",
            "ticks": ""
           },
           "bgcolor": "#E5ECF6",
           "radialaxis": {
            "gridcolor": "white",
            "linecolor": "white",
            "ticks": ""
           }
          },
          "scene": {
           "xaxis": {
            "backgroundcolor": "#E5ECF6",
            "gridcolor": "white",
            "gridwidth": 2,
            "linecolor": "white",
            "showbackground": true,
            "ticks": "",
            "zerolinecolor": "white"
           },
           "yaxis": {
            "backgroundcolor": "#E5ECF6",
            "gridcolor": "white",
            "gridwidth": 2,
            "linecolor": "white",
            "showbackground": true,
            "ticks": "",
            "zerolinecolor": "white"
           },
           "zaxis": {
            "backgroundcolor": "#E5ECF6",
            "gridcolor": "white",
            "gridwidth": 2,
            "linecolor": "white",
            "showbackground": true,
            "ticks": "",
            "zerolinecolor": "white"
           }
          },
          "shapedefaults": {
           "line": {
            "color": "#2a3f5f"
           }
          },
          "ternary": {
           "aaxis": {
            "gridcolor": "white",
            "linecolor": "white",
            "ticks": ""
           },
           "baxis": {
            "gridcolor": "white",
            "linecolor": "white",
            "ticks": ""
           },
           "bgcolor": "#E5ECF6",
           "caxis": {
            "gridcolor": "white",
            "linecolor": "white",
            "ticks": ""
           }
          },
          "title": {
           "x": 0.05
          },
          "xaxis": {
           "automargin": true,
           "gridcolor": "white",
           "linecolor": "white",
           "ticks": "",
           "title": {
            "standoff": 15
           },
           "zerolinecolor": "white",
           "zerolinewidth": 2
          },
          "yaxis": {
           "automargin": true,
           "gridcolor": "white",
           "linecolor": "white",
           "ticks": "",
           "title": {
            "standoff": 15
           },
           "zerolinecolor": "white",
           "zerolinewidth": 2
          }
         }
        },
        "xaxis": {
         "anchor": "y",
         "domain": [
          0,
          1
         ],
         "title": {
          "text": "CUSTOMERS.AFFECTED"
         }
        },
        "yaxis": {
         "anchor": "x",
         "domain": [
          0,
          1
         ],
         "title": {
          "text": "OUTAGE.DURATION"
         }
        }
       }
      }
     },
     "metadata": {},
     "output_type": "display_data"
    }
   ],
   "source": [
    "demandloss_vs_cause = px.scatter(relevant, x='CUSTOMERS.AFFECTED', y='OUTAGE.DURATION')\n",
    "demandloss_vs_cause"
   ]
  },
  {
   "cell_type": "code",
   "execution_count": 25,
   "metadata": {},
   "outputs": [],
   "source": [
    "duration_vs_cause = px.scatter(relevant, x='CAUSE.CATEGORY', y='OUTAGE.DURATION',  title='Outage Duration (minutes) vs Cause Category', labels={'OUTAGE.DURATION': \"Outage Duration (minutes)\", 'CAUSE.CATEGORY': 'Cause Category'})\n",
    "duration_vs_cause\n",
    "duration_vs_cause.write_html(\"duration_vs_cause.html\")"
   ]
  },
  {
   "cell_type": "code",
   "execution_count": 26,
   "metadata": {},
   "outputs": [
    {
     "data": {
      "text/plain": [
       "YEAR                       0\n",
       "MONTH                      9\n",
       "U.S._STATE                 0\n",
       "POSTAL.CODE                0\n",
       "NERC.REGION                0\n",
       "CLIMATE.REGION             6\n",
       "ANOMALY.LEVEL              9\n",
       "CAUSE.CATEGORY             0\n",
       "CAUSE.CATEGORY.DETAIL    471\n",
       "RES.SALES                 22\n",
       "OUTAGE.START               9\n",
       "OUTAGE.RESTORATION        58\n",
       "OUTAGE.DURATION           58\n",
       "DEMAND.LOSS.MW           705\n",
       "CUSTOMERS.AFFECTED       443\n",
       "RES.SALES                 22\n",
       "IND.SALES                 22\n",
       "COM.SALES                 22\n",
       "TOTAL.PRICE               22\n",
       "TOTAL.SALES               22\n",
       "TOTAL.CUSTOMERS            0\n",
       "POPPCT_URBAN               0\n",
       "POPDEN_URBAN               0\n",
       "AREAPCT_URBAN              0\n",
       "dtype: int64"
      ]
     },
     "execution_count": 26,
     "metadata": {},
     "output_type": "execute_result"
    }
   ],
   "source": [
    "relevant.isna().sum()"
   ]
  },
  {
   "cell_type": "markdown",
   "metadata": {},
   "source": [
    "Examining aggregate statistics\n"
   ]
  },
  {
   "cell_type": "code",
   "execution_count": 20,
   "metadata": {},
   "outputs": [
    {
     "data": {
      "text/html": [
       "<div>\n",
       "<style scoped>\n",
       "    .dataframe tbody tr th:only-of-type {\n",
       "        vertical-align: middle;\n",
       "    }\n",
       "\n",
       "    .dataframe tbody tr th {\n",
       "        vertical-align: top;\n",
       "    }\n",
       "\n",
       "    .dataframe thead th {\n",
       "        text-align: right;\n",
       "    }\n",
       "</style>\n",
       "<table border=\"1\" class=\"dataframe\">\n",
       "  <thead>\n",
       "    <tr style=\"text-align: right;\">\n",
       "      <th></th>\n",
       "      <th>OUTAGE.DURATION</th>\n",
       "      <th>CUSTOMERS.AFFECTED</th>\n",
       "    </tr>\n",
       "    <tr>\n",
       "      <th>U.S._STATE</th>\n",
       "      <th></th>\n",
       "      <th></th>\n",
       "    </tr>\n",
       "  </thead>\n",
       "  <tbody>\n",
       "    <tr>\n",
       "      <th>Alabama</th>\n",
       "      <td>1152.800000</td>\n",
       "      <td>94328.800000</td>\n",
       "    </tr>\n",
       "    <tr>\n",
       "      <th>Alaska</th>\n",
       "      <td>NaN</td>\n",
       "      <td>14273.000000</td>\n",
       "    </tr>\n",
       "    <tr>\n",
       "      <th>Arizona</th>\n",
       "      <td>4552.920000</td>\n",
       "      <td>64402.666667</td>\n",
       "    </tr>\n",
       "    <tr>\n",
       "      <th>Arkansas</th>\n",
       "      <td>1514.360000</td>\n",
       "      <td>47673.846154</td>\n",
       "    </tr>\n",
       "    <tr>\n",
       "      <th>California</th>\n",
       "      <td>1666.338384</td>\n",
       "      <td>201365.716535</td>\n",
       "    </tr>\n",
       "    <tr>\n",
       "      <th>Colorado</th>\n",
       "      <td>901.071429</td>\n",
       "      <td>41060.636364</td>\n",
       "    </tr>\n",
       "    <tr>\n",
       "      <th>Connecticut</th>\n",
       "      <td>1278.833333</td>\n",
       "      <td>60339.230769</td>\n",
       "    </tr>\n",
       "    <tr>\n",
       "      <th>Delaware</th>\n",
       "      <td>144.925000</td>\n",
       "      <td>3475.000000</td>\n",
       "    </tr>\n",
       "    <tr>\n",
       "      <th>District of Columbia</th>\n",
       "      <td>4303.600000</td>\n",
       "      <td>194709.222222</td>\n",
       "    </tr>\n",
       "    <tr>\n",
       "      <th>Florida</th>\n",
       "      <td>4094.666667</td>\n",
       "      <td>289369.090909</td>\n",
       "    </tr>\n",
       "    <tr>\n",
       "      <th>Georgia</th>\n",
       "      <td>1345.411765</td>\n",
       "      <td>120680.187500</td>\n",
       "    </tr>\n",
       "    <tr>\n",
       "      <th>Hawaii</th>\n",
       "      <td>845.400000</td>\n",
       "      <td>147237.200000</td>\n",
       "    </tr>\n",
       "    <tr>\n",
       "      <th>Idaho</th>\n",
       "      <td>414.625000</td>\n",
       "      <td>5833.333333</td>\n",
       "    </tr>\n",
       "    <tr>\n",
       "      <th>Illinois</th>\n",
       "      <td>1602.454545</td>\n",
       "      <td>207027.159091</td>\n",
       "    </tr>\n",
       "    <tr>\n",
       "      <th>Indiana</th>\n",
       "      <td>3521.642857</td>\n",
       "      <td>69551.441176</td>\n",
       "    </tr>\n",
       "    <tr>\n",
       "      <th>Iowa</th>\n",
       "      <td>4793.750000</td>\n",
       "      <td>94000.000000</td>\n",
       "    </tr>\n",
       "    <tr>\n",
       "      <th>Kansas</th>\n",
       "      <td>4376.285714</td>\n",
       "      <td>108000.000000</td>\n",
       "    </tr>\n",
       "    <tr>\n",
       "      <th>Kentucky</th>\n",
       "      <td>5093.923077</td>\n",
       "      <td>130531.000000</td>\n",
       "    </tr>\n",
       "    <tr>\n",
       "      <th>Louisiana</th>\n",
       "      <td>4084.552632</td>\n",
       "      <td>151003.100000</td>\n",
       "    </tr>\n",
       "    <tr>\n",
       "      <th>Maine</th>\n",
       "      <td>1097.055556</td>\n",
       "      <td>54839.352941</td>\n",
       "    </tr>\n",
       "    <tr>\n",
       "      <th>Maryland</th>\n",
       "      <td>2313.086207</td>\n",
       "      <td>120534.866667</td>\n",
       "    </tr>\n",
       "    <tr>\n",
       "      <th>Massachusetts</th>\n",
       "      <td>944.166667</td>\n",
       "      <td>77983.400000</td>\n",
       "    </tr>\n",
       "    <tr>\n",
       "      <th>Michigan</th>\n",
       "      <td>5302.978947</td>\n",
       "      <td>152878.244444</td>\n",
       "    </tr>\n",
       "    <tr>\n",
       "      <th>Minnesota</th>\n",
       "      <td>2727.933333</td>\n",
       "      <td>124006.571429</td>\n",
       "    </tr>\n",
       "    <tr>\n",
       "      <th>Mississippi</th>\n",
       "      <td>84.000000</td>\n",
       "      <td>5000.000000</td>\n",
       "    </tr>\n",
       "    <tr>\n",
       "      <th>Missouri</th>\n",
       "      <td>3374.066667</td>\n",
       "      <td>50611.076923</td>\n",
       "    </tr>\n",
       "    <tr>\n",
       "      <th>Montana</th>\n",
       "      <td>54.000000</td>\n",
       "      <td>NaN</td>\n",
       "    </tr>\n",
       "    <tr>\n",
       "      <th>Nebraska</th>\n",
       "      <td>2455.750000</td>\n",
       "      <td>87070.666667</td>\n",
       "    </tr>\n",
       "    <tr>\n",
       "      <th>Nevada</th>\n",
       "      <td>553.285714</td>\n",
       "      <td>22220.000000</td>\n",
       "    </tr>\n",
       "    <tr>\n",
       "      <th>New Hampshire</th>\n",
       "      <td>279.642857</td>\n",
       "      <td>13869.818182</td>\n",
       "    </tr>\n",
       "    <tr>\n",
       "      <th>New Jersey</th>\n",
       "      <td>4450.906250</td>\n",
       "      <td>160216.806452</td>\n",
       "    </tr>\n",
       "    <tr>\n",
       "      <th>New Mexico</th>\n",
       "      <td>140.375000</td>\n",
       "      <td>166666.666667</td>\n",
       "    </tr>\n",
       "    <tr>\n",
       "      <th>New York</th>\n",
       "      <td>6034.957143</td>\n",
       "      <td>190675.866667</td>\n",
       "    </tr>\n",
       "    <tr>\n",
       "      <th>North Carolina</th>\n",
       "      <td>1457.282051</td>\n",
       "      <td>99624.833333</td>\n",
       "    </tr>\n",
       "    <tr>\n",
       "      <th>North Dakota</th>\n",
       "      <td>720.000000</td>\n",
       "      <td>34500.000000</td>\n",
       "    </tr>\n",
       "    <tr>\n",
       "      <th>Ohio</th>\n",
       "      <td>2867.857143</td>\n",
       "      <td>136782.611111</td>\n",
       "    </tr>\n",
       "    <tr>\n",
       "      <th>Oklahoma</th>\n",
       "      <td>3019.090909</td>\n",
       "      <td>160683.210526</td>\n",
       "    </tr>\n",
       "    <tr>\n",
       "      <th>Oregon</th>\n",
       "      <td>766.680000</td>\n",
       "      <td>43958.583333</td>\n",
       "    </tr>\n",
       "    <tr>\n",
       "      <th>Pennsylvania</th>\n",
       "      <td>3811.701754</td>\n",
       "      <td>168536.823529</td>\n",
       "    </tr>\n",
       "    <tr>\n",
       "      <th>South Carolina</th>\n",
       "      <td>3135.000000</td>\n",
       "      <td>251913.125000</td>\n",
       "    </tr>\n",
       "    <tr>\n",
       "      <th>South Dakota</th>\n",
       "      <td>120.000000</td>\n",
       "      <td>NaN</td>\n",
       "    </tr>\n",
       "    <tr>\n",
       "      <th>Tennessee</th>\n",
       "      <td>1041.967742</td>\n",
       "      <td>59317.352941</td>\n",
       "    </tr>\n",
       "    <tr>\n",
       "      <th>Texas</th>\n",
       "      <td>2704.819672</td>\n",
       "      <td>223232.095745</td>\n",
       "    </tr>\n",
       "    <tr>\n",
       "      <th>Utah</th>\n",
       "      <td>250.219512</td>\n",
       "      <td>10227.727273</td>\n",
       "    </tr>\n",
       "    <tr>\n",
       "      <th>Vermont</th>\n",
       "      <td>35.444444</td>\n",
       "      <td>0.000000</td>\n",
       "    </tr>\n",
       "    <tr>\n",
       "      <th>Virginia</th>\n",
       "      <td>1051.194444</td>\n",
       "      <td>149429.058824</td>\n",
       "    </tr>\n",
       "    <tr>\n",
       "      <th>Washington</th>\n",
       "      <td>1508.146067</td>\n",
       "      <td>101944.022727</td>\n",
       "    </tr>\n",
       "    <tr>\n",
       "      <th>West Virginia</th>\n",
       "      <td>6979.000000</td>\n",
       "      <td>179794.333333</td>\n",
       "    </tr>\n",
       "    <tr>\n",
       "      <th>Wisconsin</th>\n",
       "      <td>7904.105263</td>\n",
       "      <td>45876.000000</td>\n",
       "    </tr>\n",
       "    <tr>\n",
       "      <th>Wyoming</th>\n",
       "      <td>33.333333</td>\n",
       "      <td>11833.333333</td>\n",
       "    </tr>\n",
       "  </tbody>\n",
       "</table>\n",
       "</div>"
      ],
      "text/plain": [
       "                      OUTAGE.DURATION  CUSTOMERS.AFFECTED\n",
       "U.S._STATE                                               \n",
       "Alabama                   1152.800000        94328.800000\n",
       "Alaska                            NaN        14273.000000\n",
       "Arizona                   4552.920000        64402.666667\n",
       "Arkansas                  1514.360000        47673.846154\n",
       "California                1666.338384       201365.716535\n",
       "Colorado                   901.071429        41060.636364\n",
       "Connecticut               1278.833333        60339.230769\n",
       "Delaware                   144.925000         3475.000000\n",
       "District of Columbia      4303.600000       194709.222222\n",
       "Florida                   4094.666667       289369.090909\n",
       "Georgia                   1345.411765       120680.187500\n",
       "Hawaii                     845.400000       147237.200000\n",
       "Idaho                      414.625000         5833.333333\n",
       "Illinois                  1602.454545       207027.159091\n",
       "Indiana                   3521.642857        69551.441176\n",
       "Iowa                      4793.750000        94000.000000\n",
       "Kansas                    4376.285714       108000.000000\n",
       "Kentucky                  5093.923077       130531.000000\n",
       "Louisiana                 4084.552632       151003.100000\n",
       "Maine                     1097.055556        54839.352941\n",
       "Maryland                  2313.086207       120534.866667\n",
       "Massachusetts              944.166667        77983.400000\n",
       "Michigan                  5302.978947       152878.244444\n",
       "Minnesota                 2727.933333       124006.571429\n",
       "Mississippi                 84.000000         5000.000000\n",
       "Missouri                  3374.066667        50611.076923\n",
       "Montana                     54.000000                 NaN\n",
       "Nebraska                  2455.750000        87070.666667\n",
       "Nevada                     553.285714        22220.000000\n",
       "New Hampshire              279.642857        13869.818182\n",
       "New Jersey                4450.906250       160216.806452\n",
       "New Mexico                 140.375000       166666.666667\n",
       "New York                  6034.957143       190675.866667\n",
       "North Carolina            1457.282051        99624.833333\n",
       "North Dakota               720.000000        34500.000000\n",
       "Ohio                      2867.857143       136782.611111\n",
       "Oklahoma                  3019.090909       160683.210526\n",
       "Oregon                     766.680000        43958.583333\n",
       "Pennsylvania              3811.701754       168536.823529\n",
       "South Carolina            3135.000000       251913.125000\n",
       "South Dakota               120.000000                 NaN\n",
       "Tennessee                 1041.967742        59317.352941\n",
       "Texas                     2704.819672       223232.095745\n",
       "Utah                       250.219512        10227.727273\n",
       "Vermont                     35.444444            0.000000\n",
       "Virginia                  1051.194444       149429.058824\n",
       "Washington                1508.146067       101944.022727\n",
       "West Virginia             6979.000000       179794.333333\n",
       "Wisconsin                 7904.105263        45876.000000\n",
       "Wyoming                     33.333333        11833.333333"
      ]
     },
     "execution_count": 20,
     "metadata": {},
     "output_type": "execute_result"
    }
   ],
   "source": [
    "# mean of outage duration and customers affected for each state\n",
    "relevant.groupby('U.S._STATE')[['OUTAGE.DURATION', 'CUSTOMERS.AFFECTED']].mean()"
   ]
  },
  {
   "cell_type": "code",
   "execution_count": 27,
   "metadata": {},
   "outputs": [
    {
     "name": "stdout",
     "output_type": "stream",
     "text": [
      "| CLIMATE.REGION     |   ('Count', 'equipment failure') |   ('Count', 'fuel supply emergency') |   ('Count', 'intentional attack') |   ('Count', 'islanding') |   ('Count', 'public appeal') |   ('Count', 'severe weather') |   ('Count', 'system operability disruption') |\n",
      "|:-------------------|---------------------------------:|-------------------------------------:|----------------------------------:|-------------------------:|-----------------------------:|------------------------------:|---------------------------------------------:|\n",
      "| Central            |                                7 |                                    4 |                                38 |                        3 |                            2 |                           135 |                                           11 |\n",
      "| East North Central |                                3 |                                    5 |                                20 |                        1 |                            2 |                           104 |                                            3 |\n",
      "| Northeast          |                                5 |                                   14 |                               135 |                        1 |                            4 |                           176 |                                           15 |\n",
      "| Northwest          |                                2 |                                    1 |                                89 |                        5 |                            2 |                            29 |                                            4 |\n",
      "| South              |                               10 |                                    7 |                                28 |                        2 |                           42 |                           113 |                                           27 |\n",
      "| Southeast          |                                5 |                                  nan |                                 9 |                      nan |                            5 |                           118 |                                           16 |\n",
      "| Southwest          |                                5 |                                    2 |                                64 |                        1 |                            1 |                            10 |                                            9 |\n",
      "| West               |                               21 |                                   17 |                                31 |                       28 |                            9 |                            70 |                                           41 |\n",
      "| West North Central |                                1 |                                    1 |                                 4 |                        5 |                            2 |                             4 |                                          nan |\n"
     ]
    }
   ],
   "source": [
    "# number of each cause category for each climate region\n",
    "\n",
    "region_category = relevant.groupby(['CLIMATE.REGION', 'CAUSE.CATEGORY'])[['YEAR']].count().rename(columns={'YEAR':'Count'})\n",
    "region_category_pivot = region_category.pivot_table(index='CLIMATE.REGION', columns='CAUSE.CATEGORY')\n",
    "print(region_category_pivot.to_markdown())"
   ]
  },
  {
   "cell_type": "code",
   "execution_count": 30,
   "metadata": {},
   "outputs": [
    {
     "data": {
      "text/html": [
       "<div>\n",
       "<style scoped>\n",
       "    .dataframe tbody tr th:only-of-type {\n",
       "        vertical-align: middle;\n",
       "    }\n",
       "\n",
       "    .dataframe tbody tr th {\n",
       "        vertical-align: top;\n",
       "    }\n",
       "\n",
       "    .dataframe thead th {\n",
       "        text-align: right;\n",
       "    }\n",
       "</style>\n",
       "<table border=\"1\" class=\"dataframe\">\n",
       "  <thead>\n",
       "    <tr style=\"text-align: right;\">\n",
       "      <th></th>\n",
       "      <th>YEAR</th>\n",
       "      <th>MONTH</th>\n",
       "      <th>U.S._STATE</th>\n",
       "      <th>POSTAL.CODE</th>\n",
       "      <th>NERC.REGION</th>\n",
       "      <th>CLIMATE.REGION</th>\n",
       "      <th>ANOMALY.LEVEL</th>\n",
       "      <th>CAUSE.CATEGORY</th>\n",
       "      <th>CAUSE.CATEGORY.DETAIL</th>\n",
       "      <th>RES.SALES</th>\n",
       "      <th>OUTAGE.START</th>\n",
       "      <th>OUTAGE.RESTORATION</th>\n",
       "      <th>OUTAGE.DURATION</th>\n",
       "      <th>DEMAND.LOSS.MW</th>\n",
       "      <th>CUSTOMERS.AFFECTED</th>\n",
       "      <th>RES.SALES</th>\n",
       "      <th>IND.SALES</th>\n",
       "      <th>COM.SALES</th>\n",
       "      <th>TOTAL.PRICE</th>\n",
       "      <th>TOTAL.SALES</th>\n",
       "      <th>TOTAL.CUSTOMERS</th>\n",
       "      <th>POPPCT_URBAN</th>\n",
       "      <th>POPDEN_URBAN</th>\n",
       "      <th>AREAPCT_URBAN</th>\n",
       "    </tr>\n",
       "    <tr>\n",
       "      <th>OBS</th>\n",
       "      <th></th>\n",
       "      <th></th>\n",
       "      <th></th>\n",
       "      <th></th>\n",
       "      <th></th>\n",
       "      <th></th>\n",
       "      <th></th>\n",
       "      <th></th>\n",
       "      <th></th>\n",
       "      <th></th>\n",
       "      <th></th>\n",
       "      <th></th>\n",
       "      <th></th>\n",
       "      <th></th>\n",
       "      <th></th>\n",
       "      <th></th>\n",
       "      <th></th>\n",
       "      <th></th>\n",
       "      <th></th>\n",
       "      <th></th>\n",
       "      <th></th>\n",
       "      <th></th>\n",
       "      <th></th>\n",
       "      <th></th>\n",
       "    </tr>\n",
       "  </thead>\n",
       "  <tbody>\n",
       "    <tr>\n",
       "      <th>1</th>\n",
       "      <td>2011</td>\n",
       "      <td>Jul</td>\n",
       "      <td>Minnesota</td>\n",
       "      <td>MN</td>\n",
       "      <td>MRO</td>\n",
       "      <td>East North Central</td>\n",
       "      <td>-0.3</td>\n",
       "      <td>severe weather</td>\n",
       "      <td>NaN</td>\n",
       "      <td>-0.594363</td>\n",
       "      <td>Friday, July 01, 2011 17:00:00</td>\n",
       "      <td>Sunday, July 03, 2011 20:00:00</td>\n",
       "      <td>3060.0</td>\n",
       "      <td>NaN</td>\n",
       "      <td>70000.0</td>\n",
       "      <td>-0.594363</td>\n",
       "      <td>-0.308476</td>\n",
       "      <td>-0.660847</td>\n",
       "      <td>9.28</td>\n",
       "      <td>6562520.0</td>\n",
       "      <td>2595696</td>\n",
       "      <td>73.27</td>\n",
       "      <td>2279.0</td>\n",
       "      <td>2.14</td>\n",
       "    </tr>\n",
       "    <tr>\n",
       "      <th>2</th>\n",
       "      <td>2014</td>\n",
       "      <td>May</td>\n",
       "      <td>Minnesota</td>\n",
       "      <td>MN</td>\n",
       "      <td>MRO</td>\n",
       "      <td>East North Central</td>\n",
       "      <td>-0.1</td>\n",
       "      <td>intentional attack</td>\n",
       "      <td>vandalism</td>\n",
       "      <td>-0.815220</td>\n",
       "      <td>Sunday, May 11, 2014 18:38:00</td>\n",
       "      <td>Sunday, May 11, 2014 18:39:00</td>\n",
       "      <td>1.0</td>\n",
       "      <td>NaN</td>\n",
       "      <td>NaN</td>\n",
       "      <td>-0.815220</td>\n",
       "      <td>-0.410267</td>\n",
       "      <td>-0.748638</td>\n",
       "      <td>9.28</td>\n",
       "      <td>5284231.0</td>\n",
       "      <td>2640737</td>\n",
       "      <td>73.27</td>\n",
       "      <td>2279.0</td>\n",
       "      <td>2.14</td>\n",
       "    </tr>\n",
       "    <tr>\n",
       "      <th>3</th>\n",
       "      <td>2010</td>\n",
       "      <td>Oct</td>\n",
       "      <td>Minnesota</td>\n",
       "      <td>MN</td>\n",
       "      <td>MRO</td>\n",
       "      <td>East North Central</td>\n",
       "      <td>-1.5</td>\n",
       "      <td>severe weather</td>\n",
       "      <td>heavy wind</td>\n",
       "      <td>-0.850659</td>\n",
       "      <td>Tuesday, October 26, 2010 20:00:00</td>\n",
       "      <td>Thursday, October 28, 2010 22:00:00</td>\n",
       "      <td>3000.0</td>\n",
       "      <td>NaN</td>\n",
       "      <td>70000.0</td>\n",
       "      <td>-0.850659</td>\n",
       "      <td>-0.381646</td>\n",
       "      <td>-0.750375</td>\n",
       "      <td>8.15</td>\n",
       "      <td>5222116.0</td>\n",
       "      <td>2586905</td>\n",
       "      <td>73.27</td>\n",
       "      <td>2279.0</td>\n",
       "      <td>2.14</td>\n",
       "    </tr>\n",
       "    <tr>\n",
       "      <th>4</th>\n",
       "      <td>2012</td>\n",
       "      <td>Jun</td>\n",
       "      <td>Minnesota</td>\n",
       "      <td>MN</td>\n",
       "      <td>MRO</td>\n",
       "      <td>East North Central</td>\n",
       "      <td>-0.1</td>\n",
       "      <td>severe weather</td>\n",
       "      <td>thunderstorm</td>\n",
       "      <td>-0.736896</td>\n",
       "      <td>Tuesday, June 19, 2012 04:30:00</td>\n",
       "      <td>Wednesday, June 20, 2012 23:00:00</td>\n",
       "      <td>2550.0</td>\n",
       "      <td>NaN</td>\n",
       "      <td>68200.0</td>\n",
       "      <td>-0.736896</td>\n",
       "      <td>-0.362797</td>\n",
       "      <td>-0.710488</td>\n",
       "      <td>9.19</td>\n",
       "      <td>5787064.0</td>\n",
       "      <td>2606813</td>\n",
       "      <td>73.27</td>\n",
       "      <td>2279.0</td>\n",
       "      <td>2.14</td>\n",
       "    </tr>\n",
       "    <tr>\n",
       "      <th>5</th>\n",
       "      <td>2015</td>\n",
       "      <td>Jul</td>\n",
       "      <td>Minnesota</td>\n",
       "      <td>MN</td>\n",
       "      <td>MRO</td>\n",
       "      <td>East North Central</td>\n",
       "      <td>1.2</td>\n",
       "      <td>severe weather</td>\n",
       "      <td>NaN</td>\n",
       "      <td>-0.684384</td>\n",
       "      <td>Saturday, July 18, 2015 02:00:00</td>\n",
       "      <td>Sunday, July 19, 2015 07:00:00</td>\n",
       "      <td>1740.0</td>\n",
       "      <td>250.0</td>\n",
       "      <td>250000.0</td>\n",
       "      <td>-0.684384</td>\n",
       "      <td>-0.459947</td>\n",
       "      <td>-0.647453</td>\n",
       "      <td>10.43</td>\n",
       "      <td>5970339.0</td>\n",
       "      <td>2673531</td>\n",
       "      <td>73.27</td>\n",
       "      <td>2279.0</td>\n",
       "      <td>2.14</td>\n",
       "    </tr>\n",
       "    <tr>\n",
       "      <th>...</th>\n",
       "      <td>...</td>\n",
       "      <td>...</td>\n",
       "      <td>...</td>\n",
       "      <td>...</td>\n",
       "      <td>...</td>\n",
       "      <td>...</td>\n",
       "      <td>...</td>\n",
       "      <td>...</td>\n",
       "      <td>...</td>\n",
       "      <td>...</td>\n",
       "      <td>...</td>\n",
       "      <td>...</td>\n",
       "      <td>...</td>\n",
       "      <td>...</td>\n",
       "      <td>...</td>\n",
       "      <td>...</td>\n",
       "      <td>...</td>\n",
       "      <td>...</td>\n",
       "      <td>...</td>\n",
       "      <td>...</td>\n",
       "      <td>...</td>\n",
       "      <td>...</td>\n",
       "      <td>...</td>\n",
       "      <td>...</td>\n",
       "    </tr>\n",
       "    <tr>\n",
       "      <th>1530</th>\n",
       "      <td>2011</td>\n",
       "      <td>Dec</td>\n",
       "      <td>North Dakota</td>\n",
       "      <td>ND</td>\n",
       "      <td>MRO</td>\n",
       "      <td>West North Central</td>\n",
       "      <td>-0.9</td>\n",
       "      <td>public appeal</td>\n",
       "      <td>NaN</td>\n",
       "      <td>-1.140358</td>\n",
       "      <td>Tuesday, December 06, 2011 08:00:00</td>\n",
       "      <td>Tuesday, December 06, 2011 20:00:00</td>\n",
       "      <td>720.0</td>\n",
       "      <td>155.0</td>\n",
       "      <td>34500.0</td>\n",
       "      <td>-1.140358</td>\n",
       "      <td>-1.088336</td>\n",
       "      <td>-1.140282</td>\n",
       "      <td>7.56</td>\n",
       "      <td>1313678.0</td>\n",
       "      <td>394394</td>\n",
       "      <td>59.90</td>\n",
       "      <td>2192.2</td>\n",
       "      <td>0.27</td>\n",
       "    </tr>\n",
       "    <tr>\n",
       "      <th>1531</th>\n",
       "      <td>2006</td>\n",
       "      <td>NaN</td>\n",
       "      <td>North Dakota</td>\n",
       "      <td>ND</td>\n",
       "      <td>MRO</td>\n",
       "      <td>West North Central</td>\n",
       "      <td>NaN</td>\n",
       "      <td>fuel supply emergency</td>\n",
       "      <td>Coal</td>\n",
       "      <td>NaN</td>\n",
       "      <td>NaN</td>\n",
       "      <td>NaN</td>\n",
       "      <td>NaN</td>\n",
       "      <td>1650.0</td>\n",
       "      <td>NaN</td>\n",
       "      <td>NaN</td>\n",
       "      <td>NaN</td>\n",
       "      <td>NaN</td>\n",
       "      <td>NaN</td>\n",
       "      <td>NaN</td>\n",
       "      <td>366037</td>\n",
       "      <td>59.90</td>\n",
       "      <td>2192.2</td>\n",
       "      <td>0.27</td>\n",
       "    </tr>\n",
       "    <tr>\n",
       "      <th>1532</th>\n",
       "      <td>2009</td>\n",
       "      <td>Aug</td>\n",
       "      <td>South Dakota</td>\n",
       "      <td>SD</td>\n",
       "      <td>RFC</td>\n",
       "      <td>West North Central</td>\n",
       "      <td>0.5</td>\n",
       "      <td>islanding</td>\n",
       "      <td>NaN</td>\n",
       "      <td>-1.185060</td>\n",
       "      <td>Saturday, August 29, 2009 22:54:00</td>\n",
       "      <td>Saturday, August 29, 2009 23:53:00</td>\n",
       "      <td>59.0</td>\n",
       "      <td>84.0</td>\n",
       "      <td>NaN</td>\n",
       "      <td>-1.185060</td>\n",
       "      <td>-1.165702</td>\n",
       "      <td>-1.159544</td>\n",
       "      <td>7.67</td>\n",
       "      <td>924051.0</td>\n",
       "      <td>436229</td>\n",
       "      <td>56.65</td>\n",
       "      <td>2038.3</td>\n",
       "      <td>0.30</td>\n",
       "    </tr>\n",
       "    <tr>\n",
       "      <th>1533</th>\n",
       "      <td>2009</td>\n",
       "      <td>Aug</td>\n",
       "      <td>South Dakota</td>\n",
       "      <td>SD</td>\n",
       "      <td>MRO</td>\n",
       "      <td>West North Central</td>\n",
       "      <td>0.5</td>\n",
       "      <td>islanding</td>\n",
       "      <td>NaN</td>\n",
       "      <td>-1.185060</td>\n",
       "      <td>Saturday, August 29, 2009 11:00:00</td>\n",
       "      <td>Saturday, August 29, 2009 14:01:00</td>\n",
       "      <td>181.0</td>\n",
       "      <td>373.0</td>\n",
       "      <td>NaN</td>\n",
       "      <td>-1.185060</td>\n",
       "      <td>-1.165702</td>\n",
       "      <td>-1.159544</td>\n",
       "      <td>7.67</td>\n",
       "      <td>924051.0</td>\n",
       "      <td>436229</td>\n",
       "      <td>56.65</td>\n",
       "      <td>2038.3</td>\n",
       "      <td>0.30</td>\n",
       "    </tr>\n",
       "    <tr>\n",
       "      <th>1534</th>\n",
       "      <td>2000</td>\n",
       "      <td>NaN</td>\n",
       "      <td>Alaska</td>\n",
       "      <td>AK</td>\n",
       "      <td>ASCC</td>\n",
       "      <td>NaN</td>\n",
       "      <td>NaN</td>\n",
       "      <td>equipment failure</td>\n",
       "      <td>failure</td>\n",
       "      <td>NaN</td>\n",
       "      <td>NaN</td>\n",
       "      <td>NaN</td>\n",
       "      <td>NaN</td>\n",
       "      <td>35.0</td>\n",
       "      <td>14273.0</td>\n",
       "      <td>NaN</td>\n",
       "      <td>NaN</td>\n",
       "      <td>NaN</td>\n",
       "      <td>NaN</td>\n",
       "      <td>NaN</td>\n",
       "      <td>273530</td>\n",
       "      <td>66.02</td>\n",
       "      <td>1802.6</td>\n",
       "      <td>0.05</td>\n",
       "    </tr>\n",
       "  </tbody>\n",
       "</table>\n",
       "<p>1534 rows × 24 columns</p>\n",
       "</div>"
      ],
      "text/plain": [
       "      YEAR MONTH    U.S._STATE POSTAL.CODE NERC.REGION      CLIMATE.REGION  \\\n",
       "OBS                                                                          \n",
       "1     2011   Jul     Minnesota          MN         MRO  East North Central   \n",
       "2     2014   May     Minnesota          MN         MRO  East North Central   \n",
       "3     2010   Oct     Minnesota          MN         MRO  East North Central   \n",
       "4     2012   Jun     Minnesota          MN         MRO  East North Central   \n",
       "5     2015   Jul     Minnesota          MN         MRO  East North Central   \n",
       "...    ...   ...           ...         ...         ...                 ...   \n",
       "1530  2011   Dec  North Dakota          ND         MRO  West North Central   \n",
       "1531  2006   NaN  North Dakota          ND         MRO  West North Central   \n",
       "1532  2009   Aug  South Dakota          SD         RFC  West North Central   \n",
       "1533  2009   Aug  South Dakota          SD         MRO  West North Central   \n",
       "1534  2000   NaN        Alaska          AK        ASCC                 NaN   \n",
       "\n",
       "      ANOMALY.LEVEL         CAUSE.CATEGORY CAUSE.CATEGORY.DETAIL  RES.SALES  \\\n",
       "OBS                                                                           \n",
       "1              -0.3         severe weather                   NaN  -0.594363   \n",
       "2              -0.1     intentional attack             vandalism  -0.815220   \n",
       "3              -1.5         severe weather            heavy wind  -0.850659   \n",
       "4              -0.1         severe weather          thunderstorm  -0.736896   \n",
       "5               1.2         severe weather                   NaN  -0.684384   \n",
       "...             ...                    ...                   ...        ...   \n",
       "1530           -0.9          public appeal                   NaN  -1.140358   \n",
       "1531            NaN  fuel supply emergency                  Coal        NaN   \n",
       "1532            0.5              islanding                   NaN  -1.185060   \n",
       "1533            0.5              islanding                   NaN  -1.185060   \n",
       "1534            NaN      equipment failure               failure        NaN   \n",
       "\n",
       "                             OUTAGE.START  \\\n",
       "OBS                                         \n",
       "1          Friday, July 01, 2011 17:00:00   \n",
       "2           Sunday, May 11, 2014 18:38:00   \n",
       "3      Tuesday, October 26, 2010 20:00:00   \n",
       "4         Tuesday, June 19, 2012 04:30:00   \n",
       "5        Saturday, July 18, 2015 02:00:00   \n",
       "...                                   ...   \n",
       "1530  Tuesday, December 06, 2011 08:00:00   \n",
       "1531                                  NaN   \n",
       "1532   Saturday, August 29, 2009 22:54:00   \n",
       "1533   Saturday, August 29, 2009 11:00:00   \n",
       "1534                                  NaN   \n",
       "\n",
       "                       OUTAGE.RESTORATION  OUTAGE.DURATION  DEMAND.LOSS.MW  \\\n",
       "OBS                                                                          \n",
       "1          Sunday, July 03, 2011 20:00:00           3060.0             NaN   \n",
       "2           Sunday, May 11, 2014 18:39:00              1.0             NaN   \n",
       "3     Thursday, October 28, 2010 22:00:00           3000.0             NaN   \n",
       "4       Wednesday, June 20, 2012 23:00:00           2550.0             NaN   \n",
       "5          Sunday, July 19, 2015 07:00:00           1740.0           250.0   \n",
       "...                                   ...              ...             ...   \n",
       "1530  Tuesday, December 06, 2011 20:00:00            720.0           155.0   \n",
       "1531                                  NaN              NaN          1650.0   \n",
       "1532   Saturday, August 29, 2009 23:53:00             59.0            84.0   \n",
       "1533   Saturday, August 29, 2009 14:01:00            181.0           373.0   \n",
       "1534                                  NaN              NaN            35.0   \n",
       "\n",
       "      CUSTOMERS.AFFECTED  RES.SALES  IND.SALES  COM.SALES  TOTAL.PRICE  \\\n",
       "OBS                                                                      \n",
       "1                70000.0  -0.594363  -0.308476  -0.660847         9.28   \n",
       "2                    NaN  -0.815220  -0.410267  -0.748638         9.28   \n",
       "3                70000.0  -0.850659  -0.381646  -0.750375         8.15   \n",
       "4                68200.0  -0.736896  -0.362797  -0.710488         9.19   \n",
       "5               250000.0  -0.684384  -0.459947  -0.647453        10.43   \n",
       "...                  ...        ...        ...        ...          ...   \n",
       "1530             34500.0  -1.140358  -1.088336  -1.140282         7.56   \n",
       "1531                 NaN        NaN        NaN        NaN          NaN   \n",
       "1532                 NaN  -1.185060  -1.165702  -1.159544         7.67   \n",
       "1533                 NaN  -1.185060  -1.165702  -1.159544         7.67   \n",
       "1534             14273.0        NaN        NaN        NaN          NaN   \n",
       "\n",
       "      TOTAL.SALES  TOTAL.CUSTOMERS  POPPCT_URBAN  POPDEN_URBAN  AREAPCT_URBAN  \n",
       "OBS                                                                            \n",
       "1       6562520.0          2595696         73.27        2279.0           2.14  \n",
       "2       5284231.0          2640737         73.27        2279.0           2.14  \n",
       "3       5222116.0          2586905         73.27        2279.0           2.14  \n",
       "4       5787064.0          2606813         73.27        2279.0           2.14  \n",
       "5       5970339.0          2673531         73.27        2279.0           2.14  \n",
       "...           ...              ...           ...           ...            ...  \n",
       "1530    1313678.0           394394         59.90        2192.2           0.27  \n",
       "1531          NaN           366037         59.90        2192.2           0.27  \n",
       "1532     924051.0           436229         56.65        2038.3           0.30  \n",
       "1533     924051.0           436229         56.65        2038.3           0.30  \n",
       "1534          NaN           273530         66.02        1802.6           0.05  \n",
       "\n",
       "[1534 rows x 24 columns]"
      ]
     },
     "execution_count": 30,
     "metadata": {},
     "output_type": "execute_result"
    }
   ],
   "source": [
    "relevant"
   ]
  },
  {
   "cell_type": "code",
   "execution_count": 29,
   "metadata": {},
   "outputs": [
    {
     "data": {
      "text/plain": [
       "YEAR                       0\n",
       "MONTH                      9\n",
       "U.S._STATE                 0\n",
       "POSTAL.CODE                0\n",
       "NERC.REGION                0\n",
       "CLIMATE.REGION             6\n",
       "ANOMALY.LEVEL              9\n",
       "CAUSE.CATEGORY             0\n",
       "CAUSE.CATEGORY.DETAIL    471\n",
       "RES.SALES                 22\n",
       "OUTAGE.START               9\n",
       "OUTAGE.RESTORATION        58\n",
       "OUTAGE.DURATION           58\n",
       "DEMAND.LOSS.MW           705\n",
       "CUSTOMERS.AFFECTED       443\n",
       "RES.SALES                 22\n",
       "IND.SALES                 22\n",
       "COM.SALES                 22\n",
       "TOTAL.PRICE               22\n",
       "TOTAL.SALES               22\n",
       "TOTAL.CUSTOMERS            0\n",
       "POPPCT_URBAN               0\n",
       "POPDEN_URBAN               0\n",
       "AREAPCT_URBAN              0\n",
       "dtype: int64"
      ]
     },
     "execution_count": 29,
     "metadata": {},
     "output_type": "execute_result"
    }
   ],
   "source": [
    "relevant.isna().sum()"
   ]
  },
  {
   "cell_type": "markdown",
   "metadata": {},
   "source": [
    "The column 'CAUSE.CATEGORY' missingness could be NMAR for the reason that a cause for the outage could not have been determined. "
   ]
  },
  {
   "cell_type": "markdown",
   "metadata": {},
   "source": [
    "We will now test if 'CAUSE.CATEGORY.DETAIL' and 'MONTH' missingness depends on 'CAUSE.CATEGORY' using permutation tests.\n",
    " \n",
    "Our test statistic for missingness both columns will be the absolute difference in missingness rates between the category with the highest missingness rate and the category with the lowest missingness rate. We will use a significance level of 0.01\n",
    "\n"
   ]
  },
  {
   "cell_type": "code",
   "execution_count": 133,
   "metadata": {},
   "outputs": [],
   "source": [
    "missing_columns = relevant[['CAUSE.CATEGORY', 'CAUSE.CATEGORY.DETAIL', 'TOTAL.SALES']].copy()"
   ]
  },
  {
   "cell_type": "code",
   "execution_count": null,
   "metadata": {},
   "outputs": [],
   "source": []
  },
  {
   "cell_type": "code",
   "execution_count": 134,
   "metadata": {},
   "outputs": [
    {
     "data": {
      "text/html": [
       "<div>\n",
       "<style scoped>\n",
       "    .dataframe tbody tr th:only-of-type {\n",
       "        vertical-align: middle;\n",
       "    }\n",
       "\n",
       "    .dataframe tbody tr th {\n",
       "        vertical-align: top;\n",
       "    }\n",
       "\n",
       "    .dataframe thead th {\n",
       "        text-align: right;\n",
       "    }\n",
       "</style>\n",
       "<table border=\"1\" class=\"dataframe\">\n",
       "  <thead>\n",
       "    <tr style=\"text-align: right;\">\n",
       "      <th></th>\n",
       "      <th>CAUSE.CATEGORY</th>\n",
       "      <th>CAUSE.CATEGORY.DETAIL</th>\n",
       "      <th>TOTAL.SALES</th>\n",
       "      <th>detail_missing</th>\n",
       "      <th>total_sales_missing</th>\n",
       "    </tr>\n",
       "    <tr>\n",
       "      <th>OBS</th>\n",
       "      <th></th>\n",
       "      <th></th>\n",
       "      <th></th>\n",
       "      <th></th>\n",
       "      <th></th>\n",
       "    </tr>\n",
       "  </thead>\n",
       "  <tbody>\n",
       "    <tr>\n",
       "      <th>1</th>\n",
       "      <td>severe weather</td>\n",
       "      <td>NaN</td>\n",
       "      <td>6562520.0</td>\n",
       "      <td>True</td>\n",
       "      <td>False</td>\n",
       "    </tr>\n",
       "    <tr>\n",
       "      <th>2</th>\n",
       "      <td>intentional attack</td>\n",
       "      <td>vandalism</td>\n",
       "      <td>5284231.0</td>\n",
       "      <td>False</td>\n",
       "      <td>False</td>\n",
       "    </tr>\n",
       "    <tr>\n",
       "      <th>3</th>\n",
       "      <td>severe weather</td>\n",
       "      <td>heavy wind</td>\n",
       "      <td>5222116.0</td>\n",
       "      <td>False</td>\n",
       "      <td>False</td>\n",
       "    </tr>\n",
       "    <tr>\n",
       "      <th>4</th>\n",
       "      <td>severe weather</td>\n",
       "      <td>thunderstorm</td>\n",
       "      <td>5787064.0</td>\n",
       "      <td>False</td>\n",
       "      <td>False</td>\n",
       "    </tr>\n",
       "    <tr>\n",
       "      <th>5</th>\n",
       "      <td>severe weather</td>\n",
       "      <td>NaN</td>\n",
       "      <td>5970339.0</td>\n",
       "      <td>True</td>\n",
       "      <td>False</td>\n",
       "    </tr>\n",
       "    <tr>\n",
       "      <th>...</th>\n",
       "      <td>...</td>\n",
       "      <td>...</td>\n",
       "      <td>...</td>\n",
       "      <td>...</td>\n",
       "      <td>...</td>\n",
       "    </tr>\n",
       "    <tr>\n",
       "      <th>1530</th>\n",
       "      <td>public appeal</td>\n",
       "      <td>NaN</td>\n",
       "      <td>1313678.0</td>\n",
       "      <td>True</td>\n",
       "      <td>False</td>\n",
       "    </tr>\n",
       "    <tr>\n",
       "      <th>1531</th>\n",
       "      <td>fuel supply emergency</td>\n",
       "      <td>Coal</td>\n",
       "      <td>NaN</td>\n",
       "      <td>False</td>\n",
       "      <td>True</td>\n",
       "    </tr>\n",
       "    <tr>\n",
       "      <th>1532</th>\n",
       "      <td>islanding</td>\n",
       "      <td>NaN</td>\n",
       "      <td>924051.0</td>\n",
       "      <td>True</td>\n",
       "      <td>False</td>\n",
       "    </tr>\n",
       "    <tr>\n",
       "      <th>1533</th>\n",
       "      <td>islanding</td>\n",
       "      <td>NaN</td>\n",
       "      <td>924051.0</td>\n",
       "      <td>True</td>\n",
       "      <td>False</td>\n",
       "    </tr>\n",
       "    <tr>\n",
       "      <th>1534</th>\n",
       "      <td>equipment failure</td>\n",
       "      <td>failure</td>\n",
       "      <td>NaN</td>\n",
       "      <td>False</td>\n",
       "      <td>True</td>\n",
       "    </tr>\n",
       "  </tbody>\n",
       "</table>\n",
       "<p>1534 rows × 5 columns</p>\n",
       "</div>"
      ],
      "text/plain": [
       "             CAUSE.CATEGORY CAUSE.CATEGORY.DETAIL  TOTAL.SALES  \\\n",
       "OBS                                                              \n",
       "1            severe weather                   NaN    6562520.0   \n",
       "2        intentional attack             vandalism    5284231.0   \n",
       "3            severe weather            heavy wind    5222116.0   \n",
       "4            severe weather          thunderstorm    5787064.0   \n",
       "5            severe weather                   NaN    5970339.0   \n",
       "...                     ...                   ...          ...   \n",
       "1530          public appeal                   NaN    1313678.0   \n",
       "1531  fuel supply emergency                  Coal          NaN   \n",
       "1532              islanding                   NaN     924051.0   \n",
       "1533              islanding                   NaN     924051.0   \n",
       "1534      equipment failure               failure          NaN   \n",
       "\n",
       "      detail_missing  total_sales_missing  \n",
       "OBS                                        \n",
       "1               True                False  \n",
       "2              False                False  \n",
       "3              False                False  \n",
       "4              False                False  \n",
       "5               True                False  \n",
       "...              ...                  ...  \n",
       "1530            True                False  \n",
       "1531           False                 True  \n",
       "1532            True                False  \n",
       "1533            True                False  \n",
       "1534           False                 True  \n",
       "\n",
       "[1534 rows x 5 columns]"
      ]
     },
     "execution_count": 134,
     "metadata": {},
     "output_type": "execute_result"
    }
   ],
   "source": [
    "missing_columns['detail_missing'] = missing_columns['CAUSE.CATEGORY.DETAIL'].isna()\n",
    "missing_columns['total_sales_missing'] = missing_columns['TOTAL.SALES'].isna()\n",
    "missing_columns"
   ]
  },
  {
   "cell_type": "markdown",
   "metadata": {},
   "source": [
    "Permutation test for cause category detail"
   ]
  },
  {
   "cell_type": "code",
   "execution_count": 53,
   "metadata": {},
   "outputs": [],
   "source": [
    "def tvd(p, q):\n",
    "    p = np.array(p)\n",
    "    q = np.array(q)\n",
    "\n",
    "    tvd = 0.5 * np.sum(np.abs(p - q))\n",
    "\n",
    "    return tvd"
   ]
  },
  {
   "cell_type": "code",
   "execution_count": 57,
   "metadata": {},
   "outputs": [
    {
     "data": {
      "image/png": "[encoded data removed]",
      "text/plain": [
       "<Figure size 640x480 with 1 Axes>"
      ]
     },
     "metadata": {},
     "output_type": "display_data"
    }
   ],
   "source": [
    "detail_dist = (missing_columns\n",
    "               .pivot_table(index='CAUSE.CATEGORY', columns='detail_missing', aggfunc='size')\n",
    ")\n",
    "detail_dist.columns = ['detail_missing = False', 'detail_missing = True']\n",
    "detail_dist = detail_dist.fillna(0)\n",
    "detail_dist = detail_dist / detail_dist.sum()\n",
    "detail_dist_plot = detail_dist.plot(kind='barh', title='Cause Category by Missingness of Cause Category Detail')"
   ]
  },
  {
   "cell_type": "code",
   "execution_count": 58,
   "metadata": {},
   "outputs": [
    {
     "data": {
      "text/html": [
       "<div>\n",
       "<style scoped>\n",
       "    .dataframe tbody tr th:only-of-type {\n",
       "        vertical-align: middle;\n",
       "    }\n",
       "\n",
       "    .dataframe tbody tr th {\n",
       "        vertical-align: top;\n",
       "    }\n",
       "\n",
       "    .dataframe thead th {\n",
       "        text-align: right;\n",
       "    }\n",
       "</style>\n",
       "<table border=\"1\" class=\"dataframe\">\n",
       "  <thead>\n",
       "    <tr style=\"text-align: right;\">\n",
       "      <th></th>\n",
       "      <th>detail_missing = False</th>\n",
       "      <th>detail_missing = True</th>\n",
       "    </tr>\n",
       "    <tr>\n",
       "      <th>CAUSE.CATEGORY</th>\n",
       "      <th></th>\n",
       "      <th></th>\n",
       "    </tr>\n",
       "  </thead>\n",
       "  <tbody>\n",
       "    <tr>\n",
       "      <th>equipment failure</th>\n",
       "      <td>0.045155</td>\n",
       "      <td>0.025478</td>\n",
       "    </tr>\n",
       "    <tr>\n",
       "      <th>fuel supply emergency</th>\n",
       "      <td>0.030103</td>\n",
       "      <td>0.040340</td>\n",
       "    </tr>\n",
       "    <tr>\n",
       "      <th>intentional attack</th>\n",
       "      <td>0.348071</td>\n",
       "      <td>0.101911</td>\n",
       "    </tr>\n",
       "    <tr>\n",
       "      <th>islanding</th>\n",
       "      <td>0.000000</td>\n",
       "      <td>0.097665</td>\n",
       "    </tr>\n",
       "    <tr>\n",
       "      <th>public appeal</th>\n",
       "      <td>0.000000</td>\n",
       "      <td>0.146497</td>\n",
       "    </tr>\n",
       "    <tr>\n",
       "      <th>severe weather</th>\n",
       "      <td>0.541863</td>\n",
       "      <td>0.397028</td>\n",
       "    </tr>\n",
       "    <tr>\n",
       "      <th>system operability disruption</th>\n",
       "      <td>0.034807</td>\n",
       "      <td>0.191083</td>\n",
       "    </tr>\n",
       "  </tbody>\n",
       "</table>\n",
       "</div>"
      ],
      "text/plain": [
       "                               detail_missing = False  detail_missing = True\n",
       "CAUSE.CATEGORY                                                              \n",
       "equipment failure                            0.045155               0.025478\n",
       "fuel supply emergency                        0.030103               0.040340\n",
       "intentional attack                           0.348071               0.101911\n",
       "islanding                                    0.000000               0.097665\n",
       "public appeal                                0.000000               0.146497\n",
       "severe weather                               0.541863               0.397028\n",
       "system operability disruption                0.034807               0.191083"
      ]
     },
     "execution_count": 58,
     "metadata": {},
     "output_type": "execute_result"
    }
   ],
   "source": [
    "detail_dist"
   ]
  },
  {
   "cell_type": "code",
   "execution_count": 93,
   "metadata": {},
   "outputs": [
    {
     "data": {
      "text/plain": [
       "np.float64(0.41067323382726845)"
      ]
     },
     "execution_count": 93,
     "metadata": {},
     "output_type": "execute_result"
    }
   ],
   "source": [
    "obs_detail = tvd(detail_dist['detail_missing = False'], detail_dist['detail_missing = True'])\n",
    "obs_detail"
   ]
  },
  {
   "cell_type": "markdown",
   "metadata": {},
   "source": [
    "General permutation function"
   ]
  },
  {
   "cell_type": "code",
   "execution_count": 119,
   "metadata": {},
   "outputs": [],
   "source": [
    "def permutation(df, col, bool_col, test_stat):\n",
    "    test = df.copy()\n",
    "    stats = []\n",
    "    for _ in range(1000):\n",
    "        test[bool_col] = np.random.permutation(df[bool_col])\n",
    "        dist = (test\n",
    "               .pivot_table(index=col, columns=bool_col, aggfunc='size')\n",
    "        )\n",
    "        dist.columns = [bool_col + ' = False', bool_col + ' = True']\n",
    "        dist = dist.fillna(0)\n",
    "        dist = dist / dist.sum()\n",
    "        observed = test_stat(dist[bool_col + ' = False'], dist[bool_col + ' = True'])\n",
    "        stats.append(observed)\n",
    "\n",
    "    return np.array(stats)"
   ]
  },
  {
   "cell_type": "code",
   "execution_count": null,
   "metadata": {},
   "outputs": [],
   "source": []
  },
  {
   "cell_type": "code",
   "execution_count": 125,
   "metadata": {},
   "outputs": [
    {
     "data": {
      "text/plain": [
       "np.float64(0.0)"
      ]
     },
     "execution_count": 125,
     "metadata": {},
     "output_type": "execute_result"
    }
   ],
   "source": [
    "stats_details = permutation(missing_columns, 'CAUSE.CATEGORY', 'detail_missing', tvd)\n",
    "np.mean(stats_details >= obs_detail)"
   ]
  },
  {
   "cell_type": "code",
   "execution_count": null,
   "metadata": {},
   "outputs": [],
   "source": []
  },
  {
   "cell_type": "code",
   "execution_count": 121,
   "metadata": {},
   "outputs": [],
   "source": [
    "fig = px.histogram(stats_details, histnorm='probability', title='Empirical Distribution of the Permutation Tests TVD')\n",
    "fig.add_vline(x=obs_detail, line_color='red', line_width=1, opacity=1)\n",
    "fig.add_annotation(text=f'<span style=\"color:red\">Observed TVD = {round(obs_detail, 2)}</span>', showarrow=False, y=0.045, x= 0.4)\n",
    "fig.write_html('empirical_dist_cause_category_detail.html')"
   ]
  },
  {
   "cell_type": "markdown",
   "metadata": {},
   "source": [
    "We have a p_val of 0, which means we can reject the null hypothesis of no dependence between the missingness of 'CAUSE.CATEGORY.DETAIL' and 'CAUSE.CATEGORY'. These two columns are highly likely to be dependent on one another."
   ]
  },
  {
   "cell_type": "markdown",
   "metadata": {},
   "source": [
    "Now, move on to test if the missingness of 'CUSTOMERS.AFFECTED' is dependent on 'CAUSE.CATEGORY.DETAIL'."
   ]
  },
  {
   "cell_type": "code",
   "execution_count": 148,
   "metadata": {},
   "outputs": [
    {
     "data": {
      "image/png": "[encoded data removed]",
      "text/plain": [
       "<Figure size 640x480 with 1 Axes>"
      ]
     },
     "metadata": {},
     "output_type": "display_data"
    }
   ],
   "source": [
    "total_sales_dist = (missing_columns\n",
    "               .pivot_table(index='CAUSE.CATEGORY', columns='total_sales_missing', aggfunc='size')\n",
    ")\n",
    "total_sales_dist.columns = ['total_sales_missing = False', 'total_sales_missing = True']\n",
    "total_sales_dist = total_sales_dist.fillna(0)\n",
    "total_sales_dist = total_sales_dist / total_sales_dist.sum()\n",
    "customer_dist_plot = total_sales_dist.plot(kind='barh', title='Cause Category by Missingness of Total Sales')\n"
   ]
  },
  {
   "cell_type": "code",
   "execution_count": null,
   "metadata": {},
   "outputs": [],
   "source": []
  },
  {
   "cell_type": "code",
   "execution_count": 149,
   "metadata": {},
   "outputs": [
    {
     "data": {
      "text/plain": [
       "np.float64(0.25763588263588266)"
      ]
     },
     "execution_count": 149,
     "metadata": {},
     "output_type": "execute_result"
    }
   ],
   "source": [
    "obs_total_sales = tvd(total_sales_dist['total_sales_missing = False'], total_sales_dist['total_sales_missing = True'])\n",
    "obs_total_sales"
   ]
  },
  {
   "cell_type": "code",
   "execution_count": 151,
   "metadata": {},
   "outputs": [],
   "source": [
    "total_sales_stats = permutation(missing_columns, 'CAUSE.CATEGORY', 'total_sales_missing', tvd)\n",
    "p_val_total_sales = np.mean(total_sales_stats >= obs_total_sales)"
   ]
  },
  {
   "cell_type": "code",
   "execution_count": 152,
   "metadata": {},
   "outputs": [
    {
     "data": {
      "text/plain": [
       "np.float64(0.087)"
      ]
     },
     "execution_count": 152,
     "metadata": {},
     "output_type": "execute_result"
    }
   ],
   "source": [
    "p_val_total_sales"
   ]
  },
  {
   "cell_type": "code",
   "execution_count": 159,
   "metadata": {},
   "outputs": [
    {
     "data": {
      "application/vnd.plotly.v1+json": {
       "config": {
        "plotlyServerURL": "https://plot.ly"
       },
       "data": [
        {
         "alignmentgroup": "True",
         "bingroup": "x",
         "histnorm": "probability",
         "hovertemplate": "variable=0<br>value=%{x}<br>probability=%{y}<extra></extra>",
         "legendgroup": "0",
         "marker": {
          "color": "#636efa",
          "pattern": {
           "shape": ""
          }
         },
         "name": "0",
         "offsetgroup": "0",
         "orientation": "v",
         "showlegend": true,
         "type": "histogram",
         "x": [
          0.1293891293891294,
          0.21554834054834054,
          0.2543290043290043,
          0.0772005772005772,
          0.2920875420875421,
          0.14766714766714767,
          0.15740740740740738,
          0.10383597883597882,
          0.14814814814814814,
          0.06830206830206831,
          0.2022607022607022,
          0.16360028860028863,
          0.15945165945165946,
          0.14947089947089948,
          0.16540404040404044,
          0.26761664261664264,
          0.16564454064454065,
          0.20580808080808083,
          0.2553511303511304,
          0.2068302068302068,
          0.22077922077922077,
          0.15361952861952866,
          0.15373977873977873,
          0.2862554112554112,
          0.12103174603174603,
          0.16005291005291006,
          0.12722462722462724,
          0.20280182780182782,
          0.1296296296296296,
          0.21969696969696972,
          0.15476190476190477,
          0.14790764790764793,
          0.12331649831649828,
          0.28757816257816254,
          0.1417147667147667,
          0.20400432900432902,
          0.2068302068302068,
          0.07756132756132753,
          0.16029341029341027,
          0.16895141895141896,
          0.12746512746512748,
          0.1541005291005291,
          0.20400432900432902,
          0.16209716209716213,
          0.12926887926887926,
          0.07341269841269842,
          0.16005291005291006,
          0.2493987493987494,
          0.21464646464646459,
          0.1713564213564214,
          0.16335978835978837,
          0.1731000481000481,
          0.18181818181818182,
          0.11688311688311688,
          0.17358104858104856,
          0.22793410293410293,
          0.10798460798460799,
          0.15788840788840786,
          0.107984607984608,
          0.12241462241462242,
          0.0891053391053391,
          0.12331649831649831,
          0.2986411736411736,
          0.08399470899470902,
          0.19985569985569984,
          0.1172438672438672,
          0.16853054353054353,
          0.11357623857623858,
          0.19113756613756616,
          0.16360028860028858,
          0.1293891293891294,
          0.11688311688311688,
          0.24573112073112074,
          0.0891053391053391,
          0.19342231842231838,
          0.08555796055796058,
          0.2097162097162097,
          0.1669071669071669,
          0.16029341029341032,
          0.1354617604617605,
          0.14971139971139968,
          0.11129148629148629,
          0.19985569985569984,
          0.15740740740740738,
          0.20226070226070225,
          0.16564454064454065,
          0.16360028860028863,
          0.04347041847041847,
          0.21945646945646946,
          0.12000962000962,
          0.06415343915343913,
          0.1746632996632997,
          0.1598124098124098,
          0.2798220298220298,
          0.10383597883597882,
          0.11598124098124098,
          0.11904761904761904,
          0.14171476671476674,
          0.12962962962962965,
          0.16612554112554112,
          0.2122414622414623,
          0.11441798941798942,
          0.15614478114478114,
          0.12746512746512745,
          0.24651274651274652,
          0.07389369889369889,
          0.11002886002886005,
          0.2082130832130832,
          0.0772005772005772,
          0.06415343915343916,
          0.1252405002405002,
          0.17598605098605102,
          0.2673761423761424,
          0.11357623857623861,
          0.204004329004329,
          0.23346560846560846,
          0.19985569985569987,
          0.2272126022126022,
          0.1598124098124098,
          0.17183742183742184,
          0.16943241943241943,
          0.33177008177008177,
          0.14790764790764788,
          0.1352212602212602,
          0.16588504088504086,
          0.10203222703222702,
          0.22745310245310246,
          0.1150793650793651,
          0.2553511303511304,
          0.11393698893698893,
          0.16612554112554118,
          0.22342472342472341,
          0.11129148629148626,
          0.24891774891774893,
          0.12962962962962965,
          0.17598605098605102,
          0.15566378066378067,
          0.15921115921115925,
          0.4345839345839346,
          0.13498075998076,
          0.25012025012025013,
          0.07756132756132755,
          0.11574074074074073,
          0.1815776815776816,
          0.15373977873977873,
          0.04563492063492064,
          0.13762626262626265,
          0.07389369889369889,
          0.24597162097162095,
          0.20352332852332855,
          0.1536195286195286,
          0.11952861952861955,
          0.11772486772486776,
          0.0701058201058201,
          0.19113756613756616,
          0.10978835978835978,
          0.11002886002886002,
          0.246993746993747,
          0.16492303992303994,
          0.1735810485810486,
          0.08375420875420876,
          0.16804954304954306,
          0.12283549783549787,
          0.21747234247234248,
          0.1311928811928812,
          0.16492303992303992,
          0.12193362193362194,
          0.16612554112554112,
          0.10383597883597886,
          0.20971620971620974,
          0.11904761904761904,
          0.19582732082732085,
          0.1357022607022607,
          0.22721260221260223,
          0.1625180375180375,
          0.13762626262626265,
          0.1574074074074074,
          0.1733405483405483,
          0.14766714766714767,
          0.12902837902837905,
          0.15692640692640691,
          0.10978835978835978,
          0.21969696969696972,
          0.20821308321308318,
          0.21795334295334295,
          0.08375420875420878,
          0.11904761904761904,
          0.11393698893698892,
          0.13167388167388172,
          0.16588504088504086,
          0.15145502645502645,
          0.2576358826358826,
          0.03787878787878788,
          0.07756132756132753,
          0.12746512746512745,
          0.252044252044252,
          0.11688311688311691,
          0.15566378066378067,
          0.11724386724386722,
          0.2059283309283309,
          0.16251803751803756,
          0.15373977873977873,
          0.26533189033189036,
          0.21747234247234248,
          0.15921115921115922,
          0.11177248677248679,
          0.08555796055796058,
          0.11904761904761901,
          0.14171476671476668,
          0.20304232804232805,
          0.11417748917748918,
          0.07010582010582007,
          0.22721260221260225,
          0.11688311688311688,
          0.08934583934583937,
          0.13762626262626265,
          0.27002164502164505,
          0.16804954304954306,
          0.21795334295334295,
          0.2602813852813853,
          0.20971620971620974,
          0.11393698893698896,
          0.16931216931216933,
          0.19113756613756616,
          0.07605820105820106,
          0.11574074074074071,
          0.3474627224627224,
          0.23965848965848965,
          0.16895141895141896,
          0.06415343915343918,
          0.1311928811928812,
          0.25012025012025013,
          0.08351370851370851,
          0.16029341029341027,
          0.2272126022126022,
          0.10383597883597885,
          0.25012025012025013,
          0.31192881192881194,
          0.12902837902837905,
          0.14814814814814814,
          0.11574074074074073,
          0.2833694083694083,
          0.12331649831649828,
          0.08958633958633956,
          0.2115199615199615,
          0.11357623857623857,
          0.16299903799903798,
          0.15566378066378064,
          0.1561447811447812,
          0.21921596921596923,
          0.10978835978835981,
          0.19973544973544974,
          0.11574074074074073,
          0.11952861952861953,
          0.14766714766714767,
          0.3454184704184704,
          0.07756132756132757,
          0.11574074074074074,
          0.14947089947089945,
          0.2616642616642617,
          0.2115199615199615,
          0.19997594997594997,
          0.1658850408850409,
          0.15566378066378064,
          0.2216209716209716,
          0.1293891293891294,
          0.20683020683020686,
          0.19973544973544968,
          0.12367724867724872,
          0.11002886002886002,
          0.19985569985569984,
          0.11002886002886002,
          0.3436748436748437,
          0.13810726310726312,
          0.1296296296296296,
          0.16612554112554112,
          0.15373977873977873,
          0.19161856661856658,
          0.20226070226070225,
          0.14730639730639727,
          0.18734968734968738,
          0.13522126022126024,
          0.22769360269360273,
          0.16804954304954306,
          0.15614478114478114,
          0.22342472342472341,
          0.11598124098124098,
          0.21506734006734007,
          0.30729918229918235,
          0.14171476671476668,
          0.14766714766714767,
          0.16955266955266957,
          0.15788840788840786,
          0.08399470899470897,
          0.21151996151996155,
          0.14550264550264547,
          0.09151034151034153,
          0.2216209716209716,
          0.15969215969215966,
          0.12331649831649831,
          0.26130351130351126,
          0.15969215969215972,
          0.12283549783549787,
          0.288059163059163,
          0.14947089947089948,
          0.11574074074074071,
          0.08315295815295819,
          0.2838504088504088,
          0.12987012987012986,
          0.17550505050505052,
          0.19997594997594997,
          0.07160894660894658,
          0.14971139971139974,
          0.16804954304954306,
          0.19997594997594997,
          0.3383237133237133,
          0.19342231842231838,
          0.08958633958633956,
          0.2053270803270803,
          0.11177248677248679,
          0.0701058201058201,
          0.11417748917748917,
          0.19997594997594997,
          0.16029341029341032,
          0.16564454064454062,
          0.20580808080808083,
          0.08351370851370851,
          0.10978835978835981,
          0.15566378066378067,
          0.21200096200096202,
          0.20911495911495914,
          0.1536195286195286,
          0.29906204906204903,
          0.15476190476190477,
          0.20376382876382879,
          0.21506734006734007,
          0.2053270803270803,
          0.20640933140933143,
          0.18157768157768162,
          0.23322510822510822,
          0.14814814814814814,
          0.11952861952861954,
          0.1773088023088023,
          0.20400432900432902,
          0.0772005772005772,
          0.15692640692640691,
          0.11748436748436746,
          0.3359187109187109,
          0.11724386724386723,
          0.19342231842231844,
          0.29906204906204903,
          0.1578884078884079,
          0.12926887926887926,
          0.14814814814814817,
          0.1937830687830688,
          0.11441798941798939,
          0.15740740740740744,
          0.15614478114478114,
          0.15325877825877826,
          0.12283549783549783,
          0.19402356902356904,
          0.11724386724386723,
          0.07936507936507933,
          0.11952861952861953,
          0.11393698893698896,
          0.08351370851370848,
          0.16492303992303992,
          0.11904761904761904,
          0.04347041847041847,
          0.16005291005291009,
          0.17334054834054835,
          0.16029341029341032,
          0.1357022607022607,
          0.16804954304954306,
          0.18133718133718135,
          0.19113756613756616,
          0.17598605098605102,
          0.15969215969215966,
          0.2673761423761424,
          0.16360028860028858,
          0.12343674843674846,
          0.14790764790764788,
          0.18157768157768156,
          0.07341269841269839,
          0.07756132756132755,
          0.11748436748436747,
          0.1536195286195286,
          0.19973544973544977,
          0.21566859066859068,
          0.21464646464646464,
          0.18374218374218376,
          0.14730639730639733,
          0.15410052910052913,
          0.19354256854256852,
          0.18783068783068785,
          0.14790764790764793,
          0.25204425204425207,
          0.10383597883597882,
          0.10383597883597882,
          0.23082010582010581,
          0.16005291005291009,
          0.16919191919191923,
          0.21747234247234248,
          0.08399470899470902,
          0.14947089947089948,
          0.16919191919191917,
          0.3460798460798461,
          0.3505892255892256,
          0.16804954304954306,
          0.2115199615199615,
          0.30778018278018276,
          0.16564454064454065,
          0.10978835978835978,
          0.1537397787397787,
          0.083994708994709,
          0.2115199615199615,
          0.10978835978835978,
          0.22721260221260223,
          0.10383597883597882,
          0.2151875901875902,
          0.16071428571428575,
          0.15386002886002886,
          0.23130110630110629,
          0.2558321308321308,
          0.10762385762385764,
          0.17135642135642137,
          0.25342712842712845,
          0.14790764790764793,
          0.12283549783549783,
          0.1810966810966811,
          0.10203222703222702,
          0.1602934102934103,
          0.12319624819624819,
          0.3503487253487254,
          0.13810726310726315,
          0.16804954304954306,
          0.2192159692159692,
          0.12572150072150076,
          0.15145502645502645,
          0.227934102934103,
          0.0701058201058201,
          0.11393698893698896,
          0.16005291005291006,
          0.1937830687830688,
          0.07389369889369891,
          0.21326358826358827,
          0.12878787878787878,
          0.16540404040404044,
          0.20177970177970178,
          0.07936507936507939,
          0.16804954304954306,
          0.15145502645502645,
          0.07605820105820107,
          0.21747234247234248,
          0.24549062049062048,
          0.14947089947089948,
          0.14814814814814817,
          0.12343674843674841,
          0.11574074074074077,
          0.22342472342472347,
          0.10798460798460797,
          0.11976911976911979,
          0.24651274651274646,
          0.3336940836940837,
          0.175986050986051,
          0.07389369889369889,
          0.12000962000962,
          0.1929413179413179,
          0.11772486772486776,
          0.15614478114478114,
          0.33177008177008177,
          0.20087782587782588,
          0.15373977873977873,
          0.382034632034632,
          0.19937469937469937,
          0.22150072150072153,
          0.14947089947089945,
          0.11952861952861955,
          0.11976911976911976,
          0.18783068783068785,
          0.12722462722462724,
          0.08315295815295816,
          0.2050865800865801,
          0.07605820105820107,
          0.08958633958633959,
          0.12926887926887926,
          0.24651274651274652,
          0.18181818181818182,
          0.12000962000962,
          0.19354256854256852,
          0.15349927849927852,
          0.1354617604617605,
          0.313011063011063,
          0.1252405002405002,
          0.19342231842231838,
          0.22342472342472341,
          0.10203222703222704,
          0.15614478114478114,
          0.2571548821548822,
          0.3156565656565657,
          0.10978835978835978,
          0.07160894660894662,
          0.12283549783549787,
          0.14947089947089948,
          0.10383597883597886,
          0.18109668109668114,
          0.1598124098124098,
          0.29503367003367004,
          0.1733405483405483,
          0.21530784030784028,
          0.16492303992303992,
          0.2862554112554112,
          0.14171476671476668,
          0.41191678691678696,
          0.14971139971139968,
          0.07160894660894661,
          0.2525252525252525,
          0.2525252525252525,
          0.16119528619528617,
          0.19534632034632032,
          0.11002886002886002,
          0.31613756613756616,
          0.07629870129870132,
          0.13762626262626262,
          0.102032227032227,
          0.19973544973544977,
          0.19161856661856658,
          0.12524050024050026,
          0.14947089947089945,
          0.25192400192400194,
          0.3503487253487254,
          0.14550264550264552,
          0.07389369889369889,
          0.11598124098124095,
          0.12000962000961997,
          0.2032828282828283,
          0.1602934102934103,
          0.14766714766714767,
          0.12926887926887926,
          0.25787638287638287,
          0.2616642616642617,
          0.12283549783549783,
          0.1690716690716691,
          0.1658850408850409,
          0.1658850408850409,
          0.14766714766714767,
          0.03787878787878788,
          0.2008778258778259,
          0.16119528619528617,
          0.07605820105820107,
          0.1937830687830688,
          0.11441798941798939,
          0.16275853775853777,
          0.22390572390572389,
          0.1631192881192881,
          0.0772005772005772,
          0.11417748917748917,
          0.04347041847041847,
          0.16360028860028863,
          0.227934102934103,
          0.15410052910052913,
          0.16564454064454065,
          0.08531746031746032,
          0.2414622414622415,
          0.15614478114478114,
          0.11952861952861954,
          0.20592833092833096,
          0.2581168831168831,
          0.2432058682058682,
          0.11724386724386723,
          0.23965848965848963,
          0.15692640692640691,
          0.27380952380952384,
          0.22210197210197213,
          0.16804954304954306,
          0.16853054353054353,
          0.22126022126022124,
          0.12331649831649831,
          0.20923520923520927,
          0.20640933140933143,
          0.20640933140933143,
          0.2064093314093314,
          0.13810726310726312,
          0.14814814814814817,
          0.19973544973544977,
          0.3884680134680134,
          0.2917267917267917,
          0.10383597883597886,
          0.16299903799903798,
          0.12722462722462724,
          0.2489177489177489,
          0.1574074074074074,
          0.18783068783068785,
          0.15740740740740744,
          0.06830206830206827,
          0.0772005772005772,
          0.11574074074074073,
          0.2337061087061087,
          0.18181818181818182,
          0.10978835978835978,
          0.2593795093795094,
          0.25811688311688313,
          0.15764790764790765,
          0.19161856661856658,
          0.08399470899470901,
          0.11441798941798942,
          0.15386002886002886,
          0.030423280423280425,
          0.11574074074074073,
          0.21566859066859068,
          0.06830206830206832,
          0.16955266955266957,
          0.19997594997594995,
          0.20592833092833093,
          0.07389369889369889,
          0.2977994227994228,
          0.2668951418951419,
          0.19997594997594997,
          0.03968253968253969,
          0.16029341029341032,
          0.17778980278980278,
          0.16299903799903798,
          0.11748436748436748,
          0.14971139971139968,
          0.11952861952861953,
          0.20773208273208277,
          0.08134920634920634,
          0.16029341029341032,
          0.16955266955266957,
          0.08375420875420876,
          0.18374218374218376,
          0.16360028860028863,
          0.2581168831168831,
          0.23773448773448774,
          0.16029341029341032,
          0.21566859066859068,
          0.11002886002886002,
          0.16564454064454065,
          0.20640933140933143,
          0.13546176046176045,
          0.16119528619528622,
          0.1537397787397787,
          0.19342231842231844,
          0.29864117364117354,
          0.16955266955266957,
          0.2115199615199615,
          0.15386002886002886,
          0.11952861952861954,
          0.1616161616161616,
          0.1293891293891294,
          0.11772486772486773,
          0.20640933140933138,
          0.19534632034632035,
          0.10978835978835975,
          0.11976911976911979,
          0.11417748917748917,
          0.12241462241462243,
          0.3323713323713324,
          0.20640933140933143,
          0.1192881192881193,
          0.16895141895141896,
          0.03787878787878788,
          0.19582732082732085,
          0.12926887926887926,
          0.25144300144300147,
          0.12000962000962,
          0.19534632034632032,
          0.32353294853294856,
          0.15476190476190477,
          0.20087782587782582,
          0.21176046176046176,
          0.083994708994709,
          0.3964646464646465,
          0.26076238576238575,
          0.07160894660894662,
          0.2156685906685907,
          0.21482683982683987,
          0.17358104858104859,
          0.08375420875420876,
          0.204004329004329,
          0.19973544973544977,
          0.12241462241462243,
          0.2003968253968254,
          0.16540404040404044,
          0.1561447811447812,
          0.21566859066859068,
          0.15716690716690712,
          0.27380952380952384,
          0.07629870129870132,
          0.15716690716690718,
          0.3196849446849447,
          0.17135642135642137,
          0.21224146224146223,
          0.17135642135642137,
          0.11688311688311691,
          0.12319624819624819,
          0.1497113997113997,
          0.21554834054834057,
          0.18181818181818182,
          0.11002886002886002,
          0.1038359788359788,
          0.17183742183742184,
          0.24837662337662336,
          0.19985569985569984,
          0.12987012987012986,
          0.20087782587782582,
          0.15969215969215972,
          0.26581289081289083,
          0.15476190476190477,
          0.2593795093795094,
          0.15566378066378067,
          0.11002886002886005,
          0.07960557960557962,
          0.30146705146705144,
          0.14971139971139968,
          0.1680495430495431,
          0.2127825877825878,
          0.20773208273208277,
          0.12193362193362192,
          0.16612554112554112,
          0.15361952861952866,
          0.20400432900432902,
          0.12319624819624819,
          0.2673761423761424,
          0.14550264550264547,
          0.28805916305916307,
          0.24013949013949012,
          0.11357623857623861,
          0.1541005291005291,
          0.07936507936507939,
          0.18181818181818182,
          0.17538480038480037,
          0.07010582010582013,
          0.24651274651274652,
          0.23346560846560843,
          0.19937469937469937,
          0.25252525252525254,
          0.20863395863395862,
          0.12319624819624816,
          0.16005291005291006,
          0.21969696969696972,
          0.06415343915343916,
          0.12878787878787878,
          0.17538480038480042,
          0.1631192881192881,
          0.2083934583934584,
          0.17598605098605102,
          0.16853054353054353,
          0.12283549783549787,
          0.08375420875420873,
          0.2082130832130832,
          0.17135642135642137,
          0.16119528619528617,
          0.12926887926887926,
          0.18734968734968738,
          0.22342472342472341,
          0.21224146224146223,
          0.20087782587782588,
          0.0772005772005772,
          0.19937469937469937,
          0.1298701298701299,
          0.11598124098124098,
          0.1357022607022607,
          0.2456108706108706,
          0.20923520923520925,
          0.12193362193362192,
          0.1141774891774892,
          0.11129148629148629,
          0.16895141895141896,
          0.33177008177008177,
          0.1602934102934103,
          0.12902837902837905,
          0.29575517075517077,
          0.14171476671476668,
          0.24194324194324196,
          0.39003126503126506,
          0.2035233285233285,
          0.18783068783068785,
          0.16666666666666669,
          0.18783068783068785,
          0.10203222703222704,
          0.1311928811928812,
          0.1937830687830688,
          0.16209716209716213,
          0.21921596921596925,
          0.12103174603174606,
          0.26533189033189036,
          0.12572150072150073,
          0.17538480038480042,
          0.19378306878306878,
          0.26076238576238575,
          0.07010582010582007,
          0.16540404040404041,
          0.11002886002886002,
          0.07936507936507936,
          0.2097162097162097,
          0.20580808080808083,
          0.20226070226070228,
          0.22745310245310246,
          0.14730639730639733,
          0.13119288119288122,
          0.19342231842231844,
          0.12746512746512745,
          0.20911495911495914,
          0.20731120731120728,
          0.11748436748436751,
          0.12524050024050024,
          0.08399470899470897,
          0.13522126022126021,
          0.11928811928811926,
          0.17334054834054835,
          0.22150072150072153,
          0.24013949013949012,
          0.2419432419432419,
          0.26142376142376145,
          0.2525252525252525,
          0.1735810485810486,
          0.12283549783549783,
          0.1689514189514189,
          0.11002886002886005,
          0.18181818181818182,
          0.22162097162097166,
          0.07605820105820106,
          0.27380952380952384,
          0.21969696969696972,
          0.126984126984127,
          0.16360028860028863,
          0.35984848484848486,
          0.10203222703222703,
          0.1633597883597884,
          0.1352212602212602,
          0.17310004810004812,
          0.12193362193362194,
          0.08351370851370848,
          0.08555796055796054,
          0.23953823953823955,
          0.11598124098124098,
          0.1252405002405002,
          0.07160894660894662,
          0.1746632996632997,
          0.18734968734968732,
          0.10383597883597886,
          0.1274651274651275,
          0.2653318903318903,
          0.15692640692640691,
          0.14171476671476668,
          0.12103174603174606,
          0.1311928811928812,
          0.1713564213564214,
          0.20328282828282826,
          0.13546176046176045,
          0.12343674843674844,
          0.294011544011544,
          0.1252405002405002,
          0.20580808080808083,
          0.16714766714766716,
          0.08910533910533913,
          0.27405002405002404,
          0.11441798941798942,
          0.18518518518518517,
          0.2614237614237615,
          0.16209716209716213,
          0.12331649831649828,
          0.1135762385762386,
          0.21945646945646943,
          0.10798460798460802,
          0.2059283309283309,
          0.2611832611832612,
          0.24597162097162098,
          0.2460918710918711,
          0.12319624819624822,
          0.1357022607022607,
          0.1749037999037999,
          0.12367724867724872,
          0.17538480038480042,
          0.20226070226070225,
          0.1224146224146224,
          0.1311928811928812,
          0.20731120731120734,
          0.3201659451659452,
          0.1252405002405002,
          0.1298701298701299,
          0.21200096200096202,
          0.25787638287638287,
          0.18157768157768162,
          0.25144300144300147,
          0.15740740740740744,
          0.19378306878306878,
          0.15740740740740744,
          0.15373977873977873,
          0.25144300144300147,
          0.1633597883597884,
          0.19342231842231838,
          0.18734968734968738,
          0.12193362193362194,
          0.19342231842231838,
          0.10383597883597882,
          0.16804954304954306,
          0.30194805194805197,
          0.11393698893698896,
          0.11574074074074073,
          0.1177248677248677,
          0.07629870129870128,
          0.1602934102934103,
          0.11002886002886002,
          0.252946127946128,
          0.22162097162097164,
          0.11724386724386728,
          0.1536195286195286,
          0.07605820105820103,
          0.13546176046176045,
          0.14171476671476668,
          0.18422318422318418,
          0.17183742183742184,
          0.12572150072150073,
          0.1481481481481481,
          0.06415343915343918,
          0.12572150072150073,
          0.12241462241462243,
          0.11574074074074071,
          0.25012025012025013,
          0.14971139971139968,
          0.15386002886002886,
          0.15614478114478114,
          0.1298701298701299,
          0.1731000481000481,
          0.11002886002886005,
          0.17598605098605097,
          0.20280182780182782,
          0.12572150072150073,
          0.18133718133718135,
          0.11574074074074074,
          0.20376382876382876,
          0.11976911976911978,
          0.30778018278018276,
          0.11177248677248676,
          0.14947089947089948,
          0.14766714766714767,
          0.08934583934583935,
          0.25499037999038,
          0.17550505050505055,
          0.21224146224146223,
          0.10798460798460797,
          0.19378306878306878,
          0.08375420875420876,
          0.045875420875420896,
          0.11002886002886005,
          0.19378306878306878,
          0.12000962000961997,
          0.1352212602212602,
          0.19961519961519963,
          0.1735810485810486,
          0.16071428571428575,
          0.1654040404040404,
          0.14730639730639733,
          0.29503367003367004,
          0.12331649831649828,
          0.12000962000962,
          0.06415343915343913,
          0.16666666666666669,
          0.16612554112554112,
          0.14550264550264552,
          0.12241462241462243,
          0.1611952861952862,
          0.15373977873977873,
          0.1274651274651275,
          0.2032828282828283,
          0.12987012987012986,
          0.16804954304954306,
          0.2995430495430495,
          0.12367724867724872,
          0.16492303992303992,
          0.18783068783068782,
          0.11904761904761904,
          0.23953823953823955,
          0.14947089947089948,
          0.1224146224146224,
          0.3383237133237133,
          0.14947089947089948,
          0.21103896103896103,
          0.20923520923520925,
          0.21518759018759015,
          0.07341269841269844,
          0.12926887926887926,
          0.12878787878787878,
          0.18518518518518517,
          0.2617845117845118,
          0.09151034151034153,
          0.1773088023088023,
          0.227934102934103,
          0.20923520923520922,
          0.08555796055796058,
          0.2614237614237614,
          0.11393698893698892,
          0.17183742183742184,
          0.1735810485810486,
          0.2611832611832612,
          0.11417748917748916,
          0.17135642135642137,
          0.15614478114478114
         ],
         "xaxis": "x",
         "yaxis": "y"
        }
       ],
       "layout": {
        "annotations": [
         {
          "showarrow": false,
          "text": "<span style=\"color:red\">Observed TVD = 0.26</span>",
          "x": 0.3,
          "y": 0.045
         }
        ],
        "barmode": "relative",
        "legend": {
         "title": {
          "text": "variable"
         },
         "tracegroupgap": 0
        },
        "shapes": [
         {
          "line": {
           "color": "red",
           "width": 1
          },
          "opacity": 1,
          "type": "line",
          "x0": 0.25763588263588266,
          "x1": 0.25763588263588266,
          "xref": "x",
          "y0": 0,
          "y1": 1,
          "yref": "y domain"
         }
        ],
        "template": {
         "data": {
          "bar": [
           {
            "error_x": {
             "color": "#2a3f5f"
            },
            "error_y": {
             "color": "#2a3f5f"
            },
            "marker": {
             "line": {
              "color": "#E5ECF6",
              "width": 0.5
             },
             "pattern": {
              "fillmode": "overlay",
              "size": 10,
              "solidity": 0.2
             }
            },
            "type": "bar"
           }
          ],
          "barpolar": [
           {
            "marker": {
             "line": {
              "color": "#E5ECF6",
              "width": 0.5
             },
             "pattern": {
              "fillmode": "overlay",
              "size": 10,
              "solidity": 0.2
             }
            },
            "type": "barpolar"
           }
          ],
          "carpet": [
           {
            "aaxis": {
             "endlinecolor": "#2a3f5f",
             "gridcolor": "white",
             "linecolor": "white",
             "minorgridcolor": "white",
             "startlinecolor": "#2a3f5f"
            },
            "baxis": {
             "endlinecolor": "#2a3f5f",
             "gridcolor": "white",
             "linecolor": "white",
             "minorgridcolor": "white",
             "startlinecolor": "#2a3f5f"
            },
            "type": "carpet"
           }
          ],
          "choropleth": [
           {
            "colorbar": {
             "outlinewidth": 0,
             "ticks": ""
            },
            "type": "choropleth"
           }
          ],
          "contour": [
           {
            "colorbar": {
             "outlinewidth": 0,
             "ticks": ""
            },
            "colorscale": [
             [
              0,
              "#0d0887"
             ],
             [
              0.1111111111111111,
              "#46039f"
             ],
             [
              0.2222222222222222,
              "#7201a8"
             ],
             [
              0.3333333333333333,
              "#9c179e"
             ],
             [
              0.4444444444444444,
              "#bd3786"
             ],
             [
              0.5555555555555556,
              "#d8576b"
             ],
             [
              0.6666666666666666,
              "#ed7953"
             ],
             [
              0.7777777777777778,
              "#fb9f3a"
             ],
             [
              0.8888888888888888,
              "#fdca26"
             ],
             [
              1,
              "#f0f921"
             ]
            ],
            "type": "contour"
           }
          ],
          "contourcarpet": [
           {
            "colorbar": {
             "outlinewidth": 0,
             "ticks": ""
            },
            "type": "contourcarpet"
           }
          ],
          "heatmap": [
           {
            "colorbar": {
             "outlinewidth": 0,
             "ticks": ""
            },
            "colorscale": [
             [
              0,
              "#0d0887"
             ],
             [
              0.1111111111111111,
              "#46039f"
             ],
             [
              0.2222222222222222,
              "#7201a8"
             ],
             [
              0.3333333333333333,
              "#9c179e"
             ],
             [
              0.4444444444444444,
              "#bd3786"
             ],
             [
              0.5555555555555556,
              "#d8576b"
             ],
             [
              0.6666666666666666,
              "#ed7953"
             ],
             [
              0.7777777777777778,
              "#fb9f3a"
             ],
             [
              0.8888888888888888,
              "#fdca26"
             ],
             [
              1,
              "#f0f921"
             ]
            ],
            "type": "heatmap"
           }
          ],
          "heatmapgl": [
           {
            "colorbar": {
             "outlinewidth": 0,
             "ticks": ""
            },
            "colorscale": [
             [
              0,
              "#0d0887"
             ],
             [
              0.1111111111111111,
              "#46039f"
             ],
             [
              0.2222222222222222,
              "#7201a8"
             ],
             [
              0.3333333333333333,
              "#9c179e"
             ],
             [
              0.4444444444444444,
              "#bd3786"
             ],
             [
              0.5555555555555556,
              "#d8576b"
             ],
             [
              0.6666666666666666,
              "#ed7953"
             ],
             [
              0.7777777777777778,
              "#fb9f3a"
             ],
             [
              0.8888888888888888,
              "#fdca26"
             ],
             [
              1,
              "#f0f921"
             ]
            ],
            "type": "heatmapgl"
           }
          ],
          "histogram": [
           {
            "marker": {
             "pattern": {
              "fillmode": "overlay",
              "size": 10,
              "solidity": 0.2
             }
            },
            "type": "histogram"
           }
          ],
          "histogram2d": [
           {
            "colorbar": {
             "outlinewidth": 0,
             "ticks": ""
            },
            "colorscale": [
             [
              0,
              "#0d0887"
             ],
             [
              0.1111111111111111,
              "#46039f"
             ],
             [
              0.2222222222222222,
              "#7201a8"
             ],
             [
              0.3333333333333333,
              "#9c179e"
             ],
             [
              0.4444444444444444,
              "#bd3786"
             ],
             [
              0.5555555555555556,
              "#d8576b"
             ],
             [
              0.6666666666666666,
              "#ed7953"
             ],
             [
              0.7777777777777778,
              "#fb9f3a"
             ],
             [
              0.8888888888888888,
              "#fdca26"
             ],
             [
              1,
              "#f0f921"
             ]
            ],
            "type": "histogram2d"
           }
          ],
          "histogram2dcontour": [
           {
            "colorbar": {
             "outlinewidth": 0,
             "ticks": ""
            },
            "colorscale": [
             [
              0,
              "#0d0887"
             ],
             [
              0.1111111111111111,
              "#46039f"
             ],
             [
              0.2222222222222222,
              "#7201a8"
             ],
             [
              0.3333333333333333,
              "#9c179e"
             ],
             [
              0.4444444444444444,
              "#bd3786"
             ],
             [
              0.5555555555555556,
              "#d8576b"
             ],
             [
              0.6666666666666666,
              "#ed7953"
             ],
             [
              0.7777777777777778,
              "#fb9f3a"
             ],
             [
              0.8888888888888888,
              "#fdca26"
             ],
             [
              1,
              "#f0f921"
             ]
            ],
            "type": "histogram2dcontour"
           }
          ],
          "mesh3d": [
           {
            "colorbar": {
             "outlinewidth": 0,
             "ticks": ""
            },
            "type": "mesh3d"
           }
          ],
          "parcoords": [
           {
            "line": {
             "colorbar": {
              "outlinewidth": 0,
              "ticks": ""
             }
            },
            "type": "parcoords"
           }
          ],
          "pie": [
           {
            "automargin": true,
            "type": "pie"
           }
          ],
          "scatter": [
           {
            "fillpattern": {
             "fillmode": "overlay",
             "size": 10,
             "solidity": 0.2
            },
            "type": "scatter"
           }
          ],
          "scatter3d": [
           {
            "line": {
             "colorbar": {
              "outlinewidth": 0,
              "ticks": ""
             }
            },
            "marker": {
             "colorbar": {
              "outlinewidth": 0,
              "ticks": ""
             }
            },
            "type": "scatter3d"
           }
          ],
          "scattercarpet": [
           {
            "marker": {
             "colorbar": {
              "outlinewidth": 0,
              "ticks": ""
             }
            },
            "type": "scattercarpet"
           }
          ],
          "scattergeo": [
           {
            "marker": {
             "colorbar": {
              "outlinewidth": 0,
              "ticks": ""
             }
            },
            "type": "scattergeo"
           }
          ],
          "scattergl": [
           {
            "marker": {
             "colorbar": {
              "outlinewidth": 0,
              "ticks": ""
             }
            },
            "type": "scattergl"
           }
          ],
          "scattermapbox": [
           {
            "marker": {
             "colorbar": {
              "outlinewidth": 0,
              "ticks": ""
             }
            },
            "type": "scattermapbox"
           }
          ],
          "scatterpolar": [
           {
            "marker": {
             "colorbar": {
              "outlinewidth": 0,
              "ticks": ""
             }
            },
            "type": "scatterpolar"
           }
          ],
          "scatterpolargl": [
           {
            "marker": {
             "colorbar": {
              "outlinewidth": 0,
              "ticks": ""
             }
            },
            "type": "scatterpolargl"
           }
          ],
          "scatterternary": [
           {
            "marker": {
             "colorbar": {
              "outlinewidth": 0,
              "ticks": ""
             }
            },
            "type": "scatterternary"
           }
          ],
          "surface": [
           {
            "colorbar": {
             "outlinewidth": 0,
             "ticks": ""
            },
            "colorscale": [
             [
              0,
              "#0d0887"
             ],
             [
              0.1111111111111111,
              "#46039f"
             ],
             [
              0.2222222222222222,
              "#7201a8"
             ],
             [
              0.3333333333333333,
              "#9c179e"
             ],
             [
              0.4444444444444444,
              "#bd3786"
             ],
             [
              0.5555555555555556,
              "#d8576b"
             ],
             [
              0.6666666666666666,
              "#ed7953"
             ],
             [
              0.7777777777777778,
              "#fb9f3a"
             ],
             [
              0.8888888888888888,
              "#fdca26"
             ],
             [
              1,
              "#f0f921"
             ]
            ],
            "type": "surface"
           }
          ],
          "table": [
           {
            "cells": {
             "fill": {
              "color": "#EBF0F8"
             },
             "line": {
              "color": "white"
             }
            },
            "header": {
             "fill": {
              "color": "#C8D4E3"
             },
             "line": {
              "color": "white"
             }
            },
            "type": "table"
           }
          ]
         },
         "layout": {
          "annotationdefaults": {
           "arrowcolor": "#2a3f5f",
           "arrowhead": 0,
           "arrowwidth": 1
          },
          "autotypenumbers": "strict",
          "coloraxis": {
           "colorbar": {
            "outlinewidth": 0,
            "ticks": ""
           }
          },
          "colorscale": {
           "diverging": [
            [
             0,
             "#8e0152"
            ],
            [
             0.1,
             "#c51b7d"
            ],
            [
             0.2,
             "#de77ae"
            ],
            [
             0.3,
             "#f1b6da"
            ],
            [
             0.4,
             "#fde0ef"
            ],
            [
             0.5,
             "#f7f7f7"
            ],
            [
             0.6,
             "#e6f5d0"
            ],
            [
             0.7,
             "#b8e186"
            ],
            [
             0.8,
             "#7fbc41"
            ],
            [
             0.9,
             "#4d9221"
            ],
            [
             1,
             "#276419"
            ]
           ],
           "sequential": [
            [
             0,
             "#0d0887"
            ],
            [
             0.1111111111111111,
             "#46039f"
            ],
            [
             0.2222222222222222,
             "#7201a8"
            ],
            [
             0.3333333333333333,
             "#9c179e"
            ],
            [
             0.4444444444444444,
             "#bd3786"
            ],
            [
             0.5555555555555556,
             "#d8576b"
            ],
            [
             0.6666666666666666,
             "#ed7953"
            ],
            [
             0.7777777777777778,
             "#fb9f3a"
            ],
            [
             0.8888888888888888,
             "#fdca26"
            ],
            [
             1,
             "#f0f921"
            ]
           ],
           "sequentialminus": [
            [
             0,
             "#0d0887"
            ],
            [
             0.1111111111111111,
             "#46039f"
            ],
            [
             0.2222222222222222,
             "#7201a8"
            ],
            [
             0.3333333333333333,
             "#9c179e"
            ],
            [
             0.4444444444444444,
             "#bd3786"
            ],
            [
             0.5555555555555556,
             "#d8576b"
            ],
            [
             0.6666666666666666,
             "#ed7953"
            ],
            [
             0.7777777777777778,
             "#fb9f3a"
            ],
            [
             0.8888888888888888,
             "#fdca26"
            ],
            [
             1,
             "#f0f921"
            ]
           ]
          },
          "colorway": [
           "#636efa",
           "#EF553B",
           "#00cc96",
           "#ab63fa",
           "#FFA15A",
           "#19d3f3",
           "#FF6692",
           "#B6E880",
           "#FF97FF",
           "#FECB52"
          ],
          "font": {
           "color": "#2a3f5f"
          },
          "geo": {
           "bgcolor": "white",
           "lakecolor": "white",
           "landcolor": "#E5ECF6",
           "showlakes": true,
           "showland": true,
           "subunitcolor": "white"
          },
          "hoverlabel": {
           "align": "left"
          },
          "hovermode": "closest",
          "mapbox": {
           "style": "light"
          },
          "paper_bgcolor": "white",
          "plot_bgcolor": "#E5ECF6",
          "polar": {
           "angularaxis": {
            "gridcolor": "white",
            "linecolor": "white",
            "ticks": ""
           },
           "bgcolor": "#E5ECF6",
           "radialaxis": {
            "gridcolor": "white",
            "linecolor": "white",
            "ticks": ""
           }
          },
          "scene": {
           "xaxis": {
            "backgroundcolor": "#E5ECF6",
            "gridcolor": "white",
            "gridwidth": 2,
            "linecolor": "white",
            "showbackground": true,
            "ticks": "",
            "zerolinecolor": "white"
           },
           "yaxis": {
            "backgroundcolor": "#E5ECF6",
            "gridcolor": "white",
            "gridwidth": 2,
            "linecolor": "white",
            "showbackground": true,
            "ticks": "",
            "zerolinecolor": "white"
           },
           "zaxis": {
            "backgroundcolor": "#E5ECF6",
            "gridcolor": "white",
            "gridwidth": 2,
            "linecolor": "white",
            "showbackground": true,
            "ticks": "",
            "zerolinecolor": "white"
           }
          },
          "shapedefaults": {
           "line": {
            "color": "#2a3f5f"
           }
          },
          "ternary": {
           "aaxis": {
            "gridcolor": "white",
            "linecolor": "white",
            "ticks": ""
           },
           "baxis": {
            "gridcolor": "white",
            "linecolor": "white",
            "ticks": ""
           },
           "bgcolor": "#E5ECF6",
           "caxis": {
            "gridcolor": "white",
            "linecolor": "white",
            "ticks": ""
           }
          },
          "title": {
           "x": 0.05
          },
          "xaxis": {
           "automargin": true,
           "gridcolor": "white",
           "linecolor": "white",
           "ticks": "",
           "title": {
            "standoff": 15
           },
           "zerolinecolor": "white",
           "zerolinewidth": 2
          },
          "yaxis": {
           "automargin": true,
           "gridcolor": "white",
           "linecolor": "white",
           "ticks": "",
           "title": {
            "standoff": 15
           },
           "zerolinecolor": "white",
           "zerolinewidth": 2
          }
         }
        },
        "title": {
         "text": "Empirical Distribution of the Permutation Tests TVD"
        },
        "xaxis": {
         "anchor": "y",
         "domain": [
          0,
          1
         ],
         "title": {
          "text": "value"
         }
        },
        "yaxis": {
         "anchor": "x",
         "domain": [
          0,
          1
         ],
         "title": {
          "text": "probability"
         }
        }
       }
      }
     },
     "metadata": {},
     "output_type": "display_data"
    }
   ],
   "source": [
    "fig = px.histogram(total_sales_stats, histnorm='probability', title='Empirical Distribution of the Permutation Tests TVD')\n",
    "fig.add_vline(x=obs_total_sales, line_color='red', line_width=1, opacity=1)\n",
    "fig.add_annotation(text=f'<span style=\"color:red\">Observed TVD = {round(obs_total_sales, 2)}</span>', showarrow=False, y=0.045, x= 0.3)"
   ]
  },
  {
   "cell_type": "markdown",
   "metadata": {},
   "source": [
    "We have a p_val of ~0.017 which is greater than our significance level of 0.01. We cannot reject the null hypothesis (Month's missingness is not dependent on Cause.Category)"
   ]
  },
  {
   "cell_type": "markdown",
   "metadata": {},
   "source": [
    "#### Now moving on to testing if the duration of California power outages are different from all other states' power outages\n",
    "\n",
    "Null Hypothesis: On average, the durations of California power outages is the same as all other states' power outages.\n",
    "\n",
    "Alternate Hypothesis: On average, the durations of California power outages is different than all other states' power outages.\n",
    "\n",
    "For our test statistic, we will use a difference in means.\n",
    "\n",
    "For our significance value, we will use a = 0.05 because this is a general exploratory analysis"
   ]
  },
  {
   "cell_type": "code",
   "execution_count": 161,
   "metadata": {},
   "outputs": [
    {
     "data": {
      "text/html": [
       "<div>\n",
       "<style scoped>\n",
       "    .dataframe tbody tr th:only-of-type {\n",
       "        vertical-align: middle;\n",
       "    }\n",
       "\n",
       "    .dataframe tbody tr th {\n",
       "        vertical-align: top;\n",
       "    }\n",
       "\n",
       "    .dataframe thead th {\n",
       "        text-align: right;\n",
       "    }\n",
       "</style>\n",
       "<table border=\"1\" class=\"dataframe\">\n",
       "  <thead>\n",
       "    <tr style=\"text-align: right;\">\n",
       "      <th></th>\n",
       "      <th>U.S._STATE</th>\n",
       "      <th>OUTAGE.DURATION</th>\n",
       "    </tr>\n",
       "    <tr>\n",
       "      <th>OBS</th>\n",
       "      <th></th>\n",
       "      <th></th>\n",
       "    </tr>\n",
       "  </thead>\n",
       "  <tbody>\n",
       "    <tr>\n",
       "      <th>1</th>\n",
       "      <td>Minnesota</td>\n",
       "      <td>3060.0</td>\n",
       "    </tr>\n",
       "    <tr>\n",
       "      <th>2</th>\n",
       "      <td>Minnesota</td>\n",
       "      <td>1.0</td>\n",
       "    </tr>\n",
       "    <tr>\n",
       "      <th>3</th>\n",
       "      <td>Minnesota</td>\n",
       "      <td>3000.0</td>\n",
       "    </tr>\n",
       "    <tr>\n",
       "      <th>4</th>\n",
       "      <td>Minnesota</td>\n",
       "      <td>2550.0</td>\n",
       "    </tr>\n",
       "    <tr>\n",
       "      <th>5</th>\n",
       "      <td>Minnesota</td>\n",
       "      <td>1740.0</td>\n",
       "    </tr>\n",
       "    <tr>\n",
       "      <th>...</th>\n",
       "      <td>...</td>\n",
       "      <td>...</td>\n",
       "    </tr>\n",
       "    <tr>\n",
       "      <th>1530</th>\n",
       "      <td>North Dakota</td>\n",
       "      <td>720.0</td>\n",
       "    </tr>\n",
       "    <tr>\n",
       "      <th>1531</th>\n",
       "      <td>North Dakota</td>\n",
       "      <td>NaN</td>\n",
       "    </tr>\n",
       "    <tr>\n",
       "      <th>1532</th>\n",
       "      <td>South Dakota</td>\n",
       "      <td>59.0</td>\n",
       "    </tr>\n",
       "    <tr>\n",
       "      <th>1533</th>\n",
       "      <td>South Dakota</td>\n",
       "      <td>181.0</td>\n",
       "    </tr>\n",
       "    <tr>\n",
       "      <th>1534</th>\n",
       "      <td>Alaska</td>\n",
       "      <td>NaN</td>\n",
       "    </tr>\n",
       "  </tbody>\n",
       "</table>\n",
       "<p>1534 rows × 2 columns</p>\n",
       "</div>"
      ],
      "text/plain": [
       "        U.S._STATE  OUTAGE.DURATION\n",
       "OBS                                \n",
       "1        Minnesota           3060.0\n",
       "2        Minnesota              1.0\n",
       "3        Minnesota           3000.0\n",
       "4        Minnesota           2550.0\n",
       "5        Minnesota           1740.0\n",
       "...            ...              ...\n",
       "1530  North Dakota            720.0\n",
       "1531  North Dakota              NaN\n",
       "1532  South Dakota             59.0\n",
       "1533  South Dakota            181.0\n",
       "1534        Alaska              NaN\n",
       "\n",
       "[1534 rows x 2 columns]"
      ]
     },
     "execution_count": 161,
     "metadata": {},
     "output_type": "execute_result"
    }
   ],
   "source": [
    "state_duration = relevant.copy()[['U.S._STATE', 'OUTAGE.DURATION']]\n",
    "state_duration"
   ]
  },
  {
   "cell_type": "code",
   "execution_count": null,
   "metadata": {},
   "outputs": [],
   "source": []
  },
  {
   "cell_type": "code",
   "execution_count": 191,
   "metadata": {},
   "outputs": [
    {
     "data": {
      "text/plain": [
       "np.float64(-461.1549960340426)"
      ]
     },
     "execution_count": 191,
     "metadata": {},
     "output_type": "execute_result"
    }
   ],
   "source": [
    "populated_duration_mean = state_duration[state_duration['U.S._STATE'].isin(['California', 'Texas', 'Florida'])]['OUTAGE.DURATION'].mean()\n",
    "every_other_duration_mean = state_duration[state_duration['U.S._STATE'] != 'California']['OUTAGE.DURATION'].mean()\n",
    "\n",
    "obs_duration = populated_duration_mean - every_other_duration_mean\n",
    "obs_duration"
   ]
  },
  {
   "cell_type": "code",
   "execution_count": 202,
   "metadata": {},
   "outputs": [
    {
     "data": {
      "text/plain": [
       "<Axes: xlabel='OBS'>"
      ]
     },
     "execution_count": 202,
     "metadata": {},
     "output_type": "execute_result"
    },
    {
     "data": {
      "image/png": "[encoded data removed]",
      "text/plain": [
       "<Figure size 640x480 with 1 Axes>"
      ]
     },
     "metadata": {},
     "output_type": "display_data"
    }
   ],
   "source": []
  },
  {
   "cell_type": "code",
   "execution_count": 203,
   "metadata": {},
   "outputs": [
    {
     "data": {
      "text/plain": [
       "array(['severe weather', 'intentional attack',\n",
       "       'system operability disruption', 'equipment failure',\n",
       "       'public appeal', 'fuel supply emergency', 'islanding'],\n",
       "      dtype=object)"
      ]
     },
     "execution_count": 203,
     "metadata": {},
     "output_type": "execute_result"
    }
   ],
   "source": [
    "relevant['CAUSE.CATEGORY'].unique()"
   ]
  },
  {
   "cell_type": "code",
   "execution_count": 176,
   "metadata": {},
   "outputs": [
    {
     "data": {
      "text/plain": [
       "np.float64(0.9389)"
      ]
     },
     "execution_count": 176,
     "metadata": {},
     "output_type": "execute_result"
    }
   ],
   "source": [
    "test_stats = []\n",
    "test_df = state_duration.copy()\n",
    "for _ in range(10000):\n",
    "    test_df['permutation'] = np.random.permutation(state_duration['OUTAGE.DURATION'])\n",
    "    populated_mean = test_df[test_df['U.S._STATE'].isin(['California', 'Texas', 'Florida'])]['permutation'].mean()\n",
    "    every_other_mean =  test_df[test_df['U.S._STATE'] != 'California']['permutation'].mean()\n",
    "    test_obs = populated_mean - every_other_mean\n",
    "    test_stats.append(test_obs)\n",
    "\n",
    "p_val_duration = np.mean(test_stats >= obs_duration)\n",
    "p_val_duration"
   ]
  },
  {
   "cell_type": "code",
   "execution_count": 185,
   "metadata": {},
   "outputs": [],
   "source": [
    "fig = px.histogram(test_stats, histnorm='probability', title='Empirical Distribution of the Difference of Means')\n",
    "fig.add_vline(x=obs_duration, line_color='red', line_width=1, opacity=1)\n",
    "fig.add_annotation(text=f'<span style=\"color:red\">Observed TVD = {round(obs_duration, 2)}</span>', showarrow=False, y=0.04, x= -700)\n",
    "fig.write_html('empirical_dist_diff_means.html')"
   ]
  },
  {
   "cell_type": "markdown",
   "metadata": {},
   "source": [
    "### We will now build a model to predict the cause of a power outage.\n",
    "\n",
    "Our baseline model will be a logistic regression model. It will estimate the probability of a binary outcome based on relevant variables.\n",
    "\n",
    "For our features, we will use 'OUTAGE.DURATION' and 'CLIMATE.REGION'. \n",
    "\n",
    "I chose outage.duration because I noticed that a longer duration of the outage usually is caused by severe weather, while shorter durations are caused by vandalism and islanding.\n",
    "\n",
    "I chose climate.region because usually some climates recieve more severe weather storms than others and may help predict our cause. "
   ]
  },
  {
   "cell_type": "code",
   "execution_count": 204,
   "metadata": {},
   "outputs": [
    {
     "data": {
      "text/plain": [
       "YEAR                       0\n",
       "MONTH                      9\n",
       "U.S._STATE                 0\n",
       "POSTAL.CODE                0\n",
       "NERC.REGION                0\n",
       "CLIMATE.REGION             6\n",
       "ANOMALY.LEVEL              9\n",
       "CAUSE.CATEGORY             0\n",
       "CAUSE.CATEGORY.DETAIL    471\n",
       "RES.SALES                 22\n",
       "OUTAGE.START               9\n",
       "OUTAGE.RESTORATION        58\n",
       "OUTAGE.DURATION           58\n",
       "DEMAND.LOSS.MW           705\n",
       "CUSTOMERS.AFFECTED       443\n",
       "RES.SALES                 22\n",
       "IND.SALES                 22\n",
       "COM.SALES                 22\n",
       "TOTAL.PRICE               22\n",
       "TOTAL.SALES               22\n",
       "TOTAL.CUSTOMERS            0\n",
       "POPPCT_URBAN               0\n",
       "POPDEN_URBAN               0\n",
       "AREAPCT_URBAN              0\n",
       "dtype: int64"
      ]
     },
     "execution_count": 204,
     "metadata": {},
     "output_type": "execute_result"
    }
   ],
   "source": [
    "relevant.isna().sum()"
   ]
  },
  {
   "cell_type": "markdown",
   "metadata": {},
   "source": [
    "To start, we must impute missing values in our features.\n",
    "\n",
    "For the outage column, I will use the median. For the climate column, I will use the mode."
   ]
  },
  {
   "cell_type": "code",
   "execution_count": 206,
   "metadata": {},
   "outputs": [
    {
     "data": {
      "text/html": [
       "<div>\n",
       "<style scoped>\n",
       "    .dataframe tbody tr th:only-of-type {\n",
       "        vertical-align: middle;\n",
       "    }\n",
       "\n",
       "    .dataframe tbody tr th {\n",
       "        vertical-align: top;\n",
       "    }\n",
       "\n",
       "    .dataframe thead th {\n",
       "        text-align: right;\n",
       "    }\n",
       "</style>\n",
       "<table border=\"1\" class=\"dataframe\">\n",
       "  <thead>\n",
       "    <tr style=\"text-align: right;\">\n",
       "      <th></th>\n",
       "      <th>CAUSE.CATEGORY</th>\n",
       "      <th>CLIMATE.REGION</th>\n",
       "      <th>MONTH</th>\n",
       "      <th>imputed_climate</th>\n",
       "      <th>imputed_months</th>\n",
       "    </tr>\n",
       "    <tr>\n",
       "      <th>OBS</th>\n",
       "      <th></th>\n",
       "      <th></th>\n",
       "      <th></th>\n",
       "      <th></th>\n",
       "      <th></th>\n",
       "    </tr>\n",
       "  </thead>\n",
       "  <tbody>\n",
       "    <tr>\n",
       "      <th>1</th>\n",
       "      <td>severe weather</td>\n",
       "      <td>East North Central</td>\n",
       "      <td>Jul</td>\n",
       "      <td>East North Central</td>\n",
       "      <td>Jul</td>\n",
       "    </tr>\n",
       "    <tr>\n",
       "      <th>2</th>\n",
       "      <td>intentional attack</td>\n",
       "      <td>East North Central</td>\n",
       "      <td>May</td>\n",
       "      <td>East North Central</td>\n",
       "      <td>May</td>\n",
       "    </tr>\n",
       "    <tr>\n",
       "      <th>3</th>\n",
       "      <td>severe weather</td>\n",
       "      <td>East North Central</td>\n",
       "      <td>Oct</td>\n",
       "      <td>East North Central</td>\n",
       "      <td>Oct</td>\n",
       "    </tr>\n",
       "    <tr>\n",
       "      <th>4</th>\n",
       "      <td>severe weather</td>\n",
       "      <td>East North Central</td>\n",
       "      <td>Jun</td>\n",
       "      <td>East North Central</td>\n",
       "      <td>Jun</td>\n",
       "    </tr>\n",
       "    <tr>\n",
       "      <th>5</th>\n",
       "      <td>severe weather</td>\n",
       "      <td>East North Central</td>\n",
       "      <td>Jul</td>\n",
       "      <td>East North Central</td>\n",
       "      <td>Jul</td>\n",
       "    </tr>\n",
       "    <tr>\n",
       "      <th>...</th>\n",
       "      <td>...</td>\n",
       "      <td>...</td>\n",
       "      <td>...</td>\n",
       "      <td>...</td>\n",
       "      <td>...</td>\n",
       "    </tr>\n",
       "    <tr>\n",
       "      <th>1530</th>\n",
       "      <td>public appeal</td>\n",
       "      <td>West North Central</td>\n",
       "      <td>Dec</td>\n",
       "      <td>West North Central</td>\n",
       "      <td>Dec</td>\n",
       "    </tr>\n",
       "    <tr>\n",
       "      <th>1531</th>\n",
       "      <td>fuel supply emergency</td>\n",
       "      <td>West North Central</td>\n",
       "      <td>NaN</td>\n",
       "      <td>West North Central</td>\n",
       "      <td>Jun</td>\n",
       "    </tr>\n",
       "    <tr>\n",
       "      <th>1532</th>\n",
       "      <td>islanding</td>\n",
       "      <td>West North Central</td>\n",
       "      <td>Aug</td>\n",
       "      <td>West North Central</td>\n",
       "      <td>Aug</td>\n",
       "    </tr>\n",
       "    <tr>\n",
       "      <th>1533</th>\n",
       "      <td>islanding</td>\n",
       "      <td>West North Central</td>\n",
       "      <td>Aug</td>\n",
       "      <td>West North Central</td>\n",
       "      <td>Aug</td>\n",
       "    </tr>\n",
       "    <tr>\n",
       "      <th>1534</th>\n",
       "      <td>equipment failure</td>\n",
       "      <td>NaN</td>\n",
       "      <td>NaN</td>\n",
       "      <td>Northeast</td>\n",
       "      <td>Jun</td>\n",
       "    </tr>\n",
       "  </tbody>\n",
       "</table>\n",
       "<p>1534 rows × 5 columns</p>\n",
       "</div>"
      ],
      "text/plain": [
       "             CAUSE.CATEGORY      CLIMATE.REGION MONTH     imputed_climate  \\\n",
       "OBS                                                                         \n",
       "1            severe weather  East North Central   Jul  East North Central   \n",
       "2        intentional attack  East North Central   May  East North Central   \n",
       "3            severe weather  East North Central   Oct  East North Central   \n",
       "4            severe weather  East North Central   Jun  East North Central   \n",
       "5            severe weather  East North Central   Jul  East North Central   \n",
       "...                     ...                 ...   ...                 ...   \n",
       "1530          public appeal  West North Central   Dec  West North Central   \n",
       "1531  fuel supply emergency  West North Central   NaN  West North Central   \n",
       "1532              islanding  West North Central   Aug  West North Central   \n",
       "1533              islanding  West North Central   Aug  West North Central   \n",
       "1534      equipment failure                 NaN   NaN           Northeast   \n",
       "\n",
       "     imputed_months  \n",
       "OBS                  \n",
       "1               Jul  \n",
       "2               May  \n",
       "3               Oct  \n",
       "4               Jun  \n",
       "5               Jul  \n",
       "...             ...  \n",
       "1530            Dec  \n",
       "1531            Jun  \n",
       "1532            Aug  \n",
       "1533            Aug  \n",
       "1534            Jun  \n",
       "\n",
       "[1534 rows x 5 columns]"
      ]
     },
     "execution_count": 206,
     "metadata": {},
     "output_type": "execute_result"
    }
   ],
   "source": [
    "df = relevant.copy()[['CAUSE.CATEGORY', 'CLIMATE.REGION', 'MONTH']]\n",
    "df['imputed_climate'] = df['CLIMATE.REGION'].fillna(df['CLIMATE.REGION'].value_counts().index[0])\n",
    "df['imputed_months'] = df['MONTH'].fillna(df['MONTH'].value_counts().index[0])\n",
    "df"
   ]
  },
  {
   "cell_type": "markdown",
   "metadata": {},
   "source": [
    "Since climate.region has categorical data, we will one hot encode the column."
   ]
  },
  {
   "cell_type": "code",
   "execution_count": 208,
   "metadata": {},
   "outputs": [
    {
     "data": {
      "text/html": [
       "<div>\n",
       "<style scoped>\n",
       "    .dataframe tbody tr th:only-of-type {\n",
       "        vertical-align: middle;\n",
       "    }\n",
       "\n",
       "    .dataframe tbody tr th {\n",
       "        vertical-align: top;\n",
       "    }\n",
       "\n",
       "    .dataframe thead th {\n",
       "        text-align: right;\n",
       "    }\n",
       "</style>\n",
       "<table border=\"1\" class=\"dataframe\">\n",
       "  <thead>\n",
       "    <tr style=\"text-align: right;\">\n",
       "      <th></th>\n",
       "      <th>imputed_climate_Central</th>\n",
       "      <th>imputed_climate_East North Central</th>\n",
       "      <th>imputed_climate_Northeast</th>\n",
       "      <th>imputed_climate_Northwest</th>\n",
       "      <th>imputed_climate_South</th>\n",
       "      <th>imputed_climate_Southeast</th>\n",
       "      <th>imputed_climate_Southwest</th>\n",
       "      <th>imputed_climate_West</th>\n",
       "      <th>imputed_climate_West North Central</th>\n",
       "      <th>imputed_months_Apr</th>\n",
       "      <th>imputed_months_Aug</th>\n",
       "      <th>imputed_months_Dec</th>\n",
       "      <th>imputed_months_Feb</th>\n",
       "      <th>imputed_months_Jan</th>\n",
       "      <th>imputed_months_Jul</th>\n",
       "      <th>imputed_months_Jun</th>\n",
       "      <th>imputed_months_Mar</th>\n",
       "      <th>imputed_months_May</th>\n",
       "      <th>imputed_months_Nov</th>\n",
       "      <th>imputed_months_Oct</th>\n",
       "      <th>imputed_months_Sep</th>\n",
       "    </tr>\n",
       "    <tr>\n",
       "      <th>OBS</th>\n",
       "      <th></th>\n",
       "      <th></th>\n",
       "      <th></th>\n",
       "      <th></th>\n",
       "      <th></th>\n",
       "      <th></th>\n",
       "      <th></th>\n",
       "      <th></th>\n",
       "      <th></th>\n",
       "      <th></th>\n",
       "      <th></th>\n",
       "      <th></th>\n",
       "      <th></th>\n",
       "      <th></th>\n",
       "      <th></th>\n",
       "      <th></th>\n",
       "      <th></th>\n",
       "      <th></th>\n",
       "      <th></th>\n",
       "      <th></th>\n",
       "      <th></th>\n",
       "    </tr>\n",
       "  </thead>\n",
       "  <tbody>\n",
       "    <tr>\n",
       "      <th>1</th>\n",
       "      <td>0</td>\n",
       "      <td>1</td>\n",
       "      <td>0</td>\n",
       "      <td>0</td>\n",
       "      <td>0</td>\n",
       "      <td>0</td>\n",
       "      <td>0</td>\n",
       "      <td>0</td>\n",
       "      <td>0</td>\n",
       "      <td>0</td>\n",
       "      <td>0</td>\n",
       "      <td>0</td>\n",
       "      <td>0</td>\n",
       "      <td>0</td>\n",
       "      <td>1</td>\n",
       "      <td>0</td>\n",
       "      <td>0</td>\n",
       "      <td>0</td>\n",
       "      <td>0</td>\n",
       "      <td>0</td>\n",
       "      <td>0</td>\n",
       "    </tr>\n",
       "    <tr>\n",
       "      <th>2</th>\n",
       "      <td>0</td>\n",
       "      <td>1</td>\n",
       "      <td>0</td>\n",
       "      <td>0</td>\n",
       "      <td>0</td>\n",
       "      <td>0</td>\n",
       "      <td>0</td>\n",
       "      <td>0</td>\n",
       "      <td>0</td>\n",
       "      <td>0</td>\n",
       "      <td>0</td>\n",
       "      <td>0</td>\n",
       "      <td>0</td>\n",
       "      <td>0</td>\n",
       "      <td>0</td>\n",
       "      <td>0</td>\n",
       "      <td>0</td>\n",
       "      <td>1</td>\n",
       "      <td>0</td>\n",
       "      <td>0</td>\n",
       "      <td>0</td>\n",
       "    </tr>\n",
       "    <tr>\n",
       "      <th>3</th>\n",
       "      <td>0</td>\n",
       "      <td>1</td>\n",
       "      <td>0</td>\n",
       "      <td>0</td>\n",
       "      <td>0</td>\n",
       "      <td>0</td>\n",
       "      <td>0</td>\n",
       "      <td>0</td>\n",
       "      <td>0</td>\n",
       "      <td>0</td>\n",
       "      <td>0</td>\n",
       "      <td>0</td>\n",
       "      <td>0</td>\n",
       "      <td>0</td>\n",
       "      <td>0</td>\n",
       "      <td>0</td>\n",
       "      <td>0</td>\n",
       "      <td>0</td>\n",
       "      <td>0</td>\n",
       "      <td>1</td>\n",
       "      <td>0</td>\n",
       "    </tr>\n",
       "    <tr>\n",
       "      <th>4</th>\n",
       "      <td>0</td>\n",
       "      <td>1</td>\n",
       "      <td>0</td>\n",
       "      <td>0</td>\n",
       "      <td>0</td>\n",
       "      <td>0</td>\n",
       "      <td>0</td>\n",
       "      <td>0</td>\n",
       "      <td>0</td>\n",
       "      <td>0</td>\n",
       "      <td>0</td>\n",
       "      <td>0</td>\n",
       "      <td>0</td>\n",
       "      <td>0</td>\n",
       "      <td>0</td>\n",
       "      <td>1</td>\n",
       "      <td>0</td>\n",
       "      <td>0</td>\n",
       "      <td>0</td>\n",
       "      <td>0</td>\n",
       "      <td>0</td>\n",
       "    </tr>\n",
       "    <tr>\n",
       "      <th>5</th>\n",
       "      <td>0</td>\n",
       "      <td>1</td>\n",
       "      <td>0</td>\n",
       "      <td>0</td>\n",
       "      <td>0</td>\n",
       "      <td>0</td>\n",
       "      <td>0</td>\n",
       "      <td>0</td>\n",
       "      <td>0</td>\n",
       "      <td>0</td>\n",
       "      <td>0</td>\n",
       "      <td>0</td>\n",
       "      <td>0</td>\n",
       "      <td>0</td>\n",
       "      <td>1</td>\n",
       "      <td>0</td>\n",
       "      <td>0</td>\n",
       "      <td>0</td>\n",
       "      <td>0</td>\n",
       "      <td>0</td>\n",
       "      <td>0</td>\n",
       "    </tr>\n",
       "    <tr>\n",
       "      <th>...</th>\n",
       "      <td>...</td>\n",
       "      <td>...</td>\n",
       "      <td>...</td>\n",
       "      <td>...</td>\n",
       "      <td>...</td>\n",
       "      <td>...</td>\n",
       "      <td>...</td>\n",
       "      <td>...</td>\n",
       "      <td>...</td>\n",
       "      <td>...</td>\n",
       "      <td>...</td>\n",
       "      <td>...</td>\n",
       "      <td>...</td>\n",
       "      <td>...</td>\n",
       "      <td>...</td>\n",
       "      <td>...</td>\n",
       "      <td>...</td>\n",
       "      <td>...</td>\n",
       "      <td>...</td>\n",
       "      <td>...</td>\n",
       "      <td>...</td>\n",
       "    </tr>\n",
       "    <tr>\n",
       "      <th>1530</th>\n",
       "      <td>0</td>\n",
       "      <td>0</td>\n",
       "      <td>0</td>\n",
       "      <td>0</td>\n",
       "      <td>0</td>\n",
       "      <td>0</td>\n",
       "      <td>0</td>\n",
       "      <td>0</td>\n",
       "      <td>1</td>\n",
       "      <td>0</td>\n",
       "      <td>0</td>\n",
       "      <td>1</td>\n",
       "      <td>0</td>\n",
       "      <td>0</td>\n",
       "      <td>0</td>\n",
       "      <td>0</td>\n",
       "      <td>0</td>\n",
       "      <td>0</td>\n",
       "      <td>0</td>\n",
       "      <td>0</td>\n",
       "      <td>0</td>\n",
       "    </tr>\n",
       "    <tr>\n",
       "      <th>1531</th>\n",
       "      <td>0</td>\n",
       "      <td>0</td>\n",
       "      <td>0</td>\n",
       "      <td>0</td>\n",
       "      <td>0</td>\n",
       "      <td>0</td>\n",
       "      <td>0</td>\n",
       "      <td>0</td>\n",
       "      <td>1</td>\n",
       "      <td>0</td>\n",
       "      <td>0</td>\n",
       "      <td>0</td>\n",
       "      <td>0</td>\n",
       "      <td>0</td>\n",
       "      <td>0</td>\n",
       "      <td>1</td>\n",
       "      <td>0</td>\n",
       "      <td>0</td>\n",
       "      <td>0</td>\n",
       "      <td>0</td>\n",
       "      <td>0</td>\n",
       "    </tr>\n",
       "    <tr>\n",
       "      <th>1532</th>\n",
       "      <td>0</td>\n",
       "      <td>0</td>\n",
       "      <td>0</td>\n",
       "      <td>0</td>\n",
       "      <td>0</td>\n",
       "      <td>0</td>\n",
       "      <td>0</td>\n",
       "      <td>0</td>\n",
       "      <td>1</td>\n",
       "      <td>0</td>\n",
       "      <td>1</td>\n",
       "      <td>0</td>\n",
       "      <td>0</td>\n",
       "      <td>0</td>\n",
       "      <td>0</td>\n",
       "      <td>0</td>\n",
       "      <td>0</td>\n",
       "      <td>0</td>\n",
       "      <td>0</td>\n",
       "      <td>0</td>\n",
       "      <td>0</td>\n",
       "    </tr>\n",
       "    <tr>\n",
       "      <th>1533</th>\n",
       "      <td>0</td>\n",
       "      <td>0</td>\n",
       "      <td>0</td>\n",
       "      <td>0</td>\n",
       "      <td>0</td>\n",
       "      <td>0</td>\n",
       "      <td>0</td>\n",
       "      <td>0</td>\n",
       "      <td>1</td>\n",
       "      <td>0</td>\n",
       "      <td>1</td>\n",
       "      <td>0</td>\n",
       "      <td>0</td>\n",
       "      <td>0</td>\n",
       "      <td>0</td>\n",
       "      <td>0</td>\n",
       "      <td>0</td>\n",
       "      <td>0</td>\n",
       "      <td>0</td>\n",
       "      <td>0</td>\n",
       "      <td>0</td>\n",
       "    </tr>\n",
       "    <tr>\n",
       "      <th>1534</th>\n",
       "      <td>0</td>\n",
       "      <td>0</td>\n",
       "      <td>1</td>\n",
       "      <td>0</td>\n",
       "      <td>0</td>\n",
       "      <td>0</td>\n",
       "      <td>0</td>\n",
       "      <td>0</td>\n",
       "      <td>0</td>\n",
       "      <td>0</td>\n",
       "      <td>0</td>\n",
       "      <td>0</td>\n",
       "      <td>0</td>\n",
       "      <td>0</td>\n",
       "      <td>0</td>\n",
       "      <td>1</td>\n",
       "      <td>0</td>\n",
       "      <td>0</td>\n",
       "      <td>0</td>\n",
       "      <td>0</td>\n",
       "      <td>0</td>\n",
       "    </tr>\n",
       "  </tbody>\n",
       "</table>\n",
       "<p>1534 rows × 21 columns</p>\n",
       "</div>"
      ],
      "text/plain": [
       "      imputed_climate_Central  imputed_climate_East North Central  \\\n",
       "OBS                                                                 \n",
       "1                           0                                   1   \n",
       "2                           0                                   1   \n",
       "3                           0                                   1   \n",
       "4                           0                                   1   \n",
       "5                           0                                   1   \n",
       "...                       ...                                 ...   \n",
       "1530                        0                                   0   \n",
       "1531                        0                                   0   \n",
       "1532                        0                                   0   \n",
       "1533                        0                                   0   \n",
       "1534                        0                                   0   \n",
       "\n",
       "      imputed_climate_Northeast  imputed_climate_Northwest  \\\n",
       "OBS                                                          \n",
       "1                             0                          0   \n",
       "2                             0                          0   \n",
       "3                             0                          0   \n",
       "4                             0                          0   \n",
       "5                             0                          0   \n",
       "...                         ...                        ...   \n",
       "1530                          0                          0   \n",
       "1531                          0                          0   \n",
       "1532                          0                          0   \n",
       "1533                          0                          0   \n",
       "1534                          1                          0   \n",
       "\n",
       "      imputed_climate_South  imputed_climate_Southeast  \\\n",
       "OBS                                                      \n",
       "1                         0                          0   \n",
       "2                         0                          0   \n",
       "3                         0                          0   \n",
       "4                         0                          0   \n",
       "5                         0                          0   \n",
       "...                     ...                        ...   \n",
       "1530                      0                          0   \n",
       "1531                      0                          0   \n",
       "1532                      0                          0   \n",
       "1533                      0                          0   \n",
       "1534                      0                          0   \n",
       "\n",
       "      imputed_climate_Southwest  imputed_climate_West  \\\n",
       "OBS                                                     \n",
       "1                             0                     0   \n",
       "2                             0                     0   \n",
       "3                             0                     0   \n",
       "4                             0                     0   \n",
       "5                             0                     0   \n",
       "...                         ...                   ...   \n",
       "1530                          0                     0   \n",
       "1531                          0                     0   \n",
       "1532                          0                     0   \n",
       "1533                          0                     0   \n",
       "1534                          0                     0   \n",
       "\n",
       "      imputed_climate_West North Central  imputed_months_Apr  \\\n",
       "OBS                                                            \n",
       "1                                      0                   0   \n",
       "2                                      0                   0   \n",
       "3                                      0                   0   \n",
       "4                                      0                   0   \n",
       "5                                      0                   0   \n",
       "...                                  ...                 ...   \n",
       "1530                                   1                   0   \n",
       "1531                                   1                   0   \n",
       "1532                                   1                   0   \n",
       "1533                                   1                   0   \n",
       "1534                                   0                   0   \n",
       "\n",
       "      imputed_months_Aug  imputed_months_Dec  imputed_months_Feb  \\\n",
       "OBS                                                                \n",
       "1                      0                   0                   0   \n",
       "2                      0                   0                   0   \n",
       "3                      0                   0                   0   \n",
       "4                      0                   0                   0   \n",
       "5                      0                   0                   0   \n",
       "...                  ...                 ...                 ...   \n",
       "1530                   0                   1                   0   \n",
       "1531                   0                   0                   0   \n",
       "1532                   1                   0                   0   \n",
       "1533                   1                   0                   0   \n",
       "1534                   0                   0                   0   \n",
       "\n",
       "      imputed_months_Jan  imputed_months_Jul  imputed_months_Jun  \\\n",
       "OBS                                                                \n",
       "1                      0                   1                   0   \n",
       "2                      0                   0                   0   \n",
       "3                      0                   0                   0   \n",
       "4                      0                   0                   1   \n",
       "5                      0                   1                   0   \n",
       "...                  ...                 ...                 ...   \n",
       "1530                   0                   0                   0   \n",
       "1531                   0                   0                   1   \n",
       "1532                   0                   0                   0   \n",
       "1533                   0                   0                   0   \n",
       "1534                   0                   0                   1   \n",
       "\n",
       "      imputed_months_Mar  imputed_months_May  imputed_months_Nov  \\\n",
       "OBS                                                                \n",
       "1                      0                   0                   0   \n",
       "2                      0                   1                   0   \n",
       "3                      0                   0                   0   \n",
       "4                      0                   0                   0   \n",
       "5                      0                   0                   0   \n",
       "...                  ...                 ...                 ...   \n",
       "1530                   0                   0                   0   \n",
       "1531                   0                   0                   0   \n",
       "1532                   0                   0                   0   \n",
       "1533                   0                   0                   0   \n",
       "1534                   0                   0                   0   \n",
       "\n",
       "      imputed_months_Oct  imputed_months_Sep  \n",
       "OBS                                           \n",
       "1                      0                   0  \n",
       "2                      0                   0  \n",
       "3                      1                   0  \n",
       "4                      0                   0  \n",
       "5                      0                   0  \n",
       "...                  ...                 ...  \n",
       "1530                   0                   0  \n",
       "1531                   0                   0  \n",
       "1532                   0                   0  \n",
       "1533                   0                   0  \n",
       "1534                   0                   0  \n",
       "\n",
       "[1534 rows x 21 columns]"
      ]
     },
     "execution_count": 208,
     "metadata": {},
     "output_type": "execute_result"
    }
   ],
   "source": [
    "features = pd.concat([df, pd.get_dummies(df[['imputed_climate', 'imputed_months']], dtype=int)], axis=1)\n",
    "features = features.drop(columns=['CAUSE.CATEGORY', 'MONTH', 'CLIMATE.REGION', 'imputed_climate', 'imputed_months'])\n",
    "features"
   ]
  },
  {
   "cell_type": "code",
   "execution_count": 255,
   "metadata": {},
   "outputs": [],
   "source": [
    "X = features\n",
    "y = df['CAUSE.CATEGORY']\n",
    "\n",
    "X_train, X_test, y_train, y_test = train_test_split(X, y, test_size=0.2)\n",
    "model = DecisionTreeClassifier(max_depth=10)\n",
    "model.fit(X_train, y_train)\n",
    "\n",
    "y_pred = model.predict(X_test)"
   ]
  },
  {
   "cell_type": "code",
   "execution_count": 256,
   "metadata": {},
   "outputs": [
    {
     "data": {
      "text/plain": [
       "307"
      ]
     },
     "execution_count": 256,
     "metadata": {},
     "output_type": "execute_result"
    }
   ],
   "source": [
    "y_pred.shape[0]"
   ]
  },
  {
   "cell_type": "code",
   "execution_count": 257,
   "metadata": {},
   "outputs": [
    {
     "data": {
      "text/plain": [
       "np.float64(0.5294782821871833)"
      ]
     },
     "execution_count": 257,
     "metadata": {},
     "output_type": "execute_result"
    }
   ],
   "source": [
    "weighted_f1 = f1_score(y_test, y_pred, average='weighted')\n",
    "weighted_f1"
   ]
  },
  {
   "cell_type": "code",
   "execution_count": 258,
   "metadata": {},
   "outputs": [
    {
     "name": "stderr",
     "output_type": "stream",
     "text": [
      "c:\\Users\\Stikes PC\\.conda\\envs\\dsc80\\Lib\\site-packages\\sklearn\\metrics\\_classification.py:1531: UndefinedMetricWarning:\n",
      "\n",
      "Precision is ill-defined and being set to 0.0 in labels with no predicted samples. Use `zero_division` parameter to control this behavior.\n",
      "\n"
     ]
    },
    {
     "data": {
      "text/plain": [
       "(np.float64(0.5066421544434573), np.float64(0.5732899022801303))"
      ]
     },
     "execution_count": 258,
     "metadata": {},
     "output_type": "execute_result"
    }
   ],
   "source": [
    "precision = precision_score(y_test, y_pred, average='weighted')  # 'weighted' is used for multiclass\n",
    "recall = recall_score(y_test, y_pred, average='weighted')\n",
    "precision, recall"
   ]
  },
  {
   "cell_type": "code",
   "execution_count": 263,
   "metadata": {},
   "outputs": [
    {
     "data": {
      "text/plain": [
       "array(['equipment failure', 'fuel supply emergency', 'intentional attack',\n",
       "       'islanding', 'public appeal', 'severe weather',\n",
       "       'system operability disruption'], dtype=object)"
      ]
     },
     "execution_count": 263,
     "metadata": {},
     "output_type": "execute_result"
    }
   ],
   "source": [
    "np.unique(y)"
   ]
  },
  {
   "cell_type": "code",
   "execution_count": 261,
   "metadata": {},
   "outputs": [
    {
     "data": {
      "text/plain": [
       "(array(['equipment failure', 'fuel supply emergency', 'intentional attack',\n",
       "        'islanding', 'public appeal', 'severe weather',\n",
       "        'system operability disruption'], dtype=object),\n",
       " array(['equipment failure', 'fuel supply emergency', 'intentional attack',\n",
       "        'islanding', 'severe weather', 'system operability disruption'],\n",
       "       dtype=object))"
      ]
     },
     "execution_count": 261,
     "metadata": {},
     "output_type": "execute_result"
    }
   ],
   "source": [
    "np.unique(y_test), np.unique(y_pred)"
   ]
  },
  {
   "cell_type": "code",
   "execution_count": 264,
   "metadata": {},
   "outputs": [
    {
     "data": {
      "image/png": "[encoded data removed]",
      "text/plain": [
       "<Figure size 800x600 with 2 Axes>"
      ]
     },
     "metadata": {},
     "output_type": "display_data"
    }
   ],
   "source": [
    "cm = confusion_matrix(y_test, y_pred)\n",
    "plt.figure(figsize=(8, 6))\n",
    "sns.heatmap(cm, annot=True, fmt='d', cmap='Blues', xticklabels=np.unique(y), yticklabels=np.unique(y))\n",
    "plt.xlabel('Predicted Labels')\n",
    "plt.ylabel('True Labels')\n",
    "plt.title('Confusion Matrix')\n",
    "plt.show()"
   ]
  },
  {
   "cell_type": "code",
   "execution_count": 265,
   "metadata": {},
   "outputs": [
    {
     "data": {
      "text/html": [
       "<div>\n",
       "<style scoped>\n",
       "    .dataframe tbody tr th:only-of-type {\n",
       "        vertical-align: middle;\n",
       "    }\n",
       "\n",
       "    .dataframe tbody tr th {\n",
       "        vertical-align: top;\n",
       "    }\n",
       "\n",
       "    .dataframe thead th {\n",
       "        text-align: right;\n",
       "    }\n",
       "</style>\n",
       "<table border=\"1\" class=\"dataframe\">\n",
       "  <thead>\n",
       "    <tr style=\"text-align: right;\">\n",
       "      <th></th>\n",
       "      <th>YEAR</th>\n",
       "      <th>MONTH</th>\n",
       "      <th>U.S._STATE</th>\n",
       "      <th>POSTAL.CODE</th>\n",
       "      <th>NERC.REGION</th>\n",
       "      <th>CLIMATE.REGION</th>\n",
       "      <th>ANOMALY.LEVEL</th>\n",
       "      <th>CAUSE.CATEGORY</th>\n",
       "      <th>CAUSE.CATEGORY.DETAIL</th>\n",
       "      <th>RES.SALES</th>\n",
       "      <th>OUTAGE.START</th>\n",
       "      <th>OUTAGE.RESTORATION</th>\n",
       "      <th>OUTAGE.DURATION</th>\n",
       "      <th>DEMAND.LOSS.MW</th>\n",
       "      <th>CUSTOMERS.AFFECTED</th>\n",
       "      <th>RES.SALES</th>\n",
       "      <th>IND.SALES</th>\n",
       "      <th>COM.SALES</th>\n",
       "      <th>TOTAL.PRICE</th>\n",
       "      <th>TOTAL.SALES</th>\n",
       "      <th>TOTAL.CUSTOMERS</th>\n",
       "      <th>POPPCT_URBAN</th>\n",
       "      <th>POPDEN_URBAN</th>\n",
       "      <th>AREAPCT_URBAN</th>\n",
       "    </tr>\n",
       "    <tr>\n",
       "      <th>OBS</th>\n",
       "      <th></th>\n",
       "      <th></th>\n",
       "      <th></th>\n",
       "      <th></th>\n",
       "      <th></th>\n",
       "      <th></th>\n",
       "      <th></th>\n",
       "      <th></th>\n",
       "      <th></th>\n",
       "      <th></th>\n",
       "      <th></th>\n",
       "      <th></th>\n",
       "      <th></th>\n",
       "      <th></th>\n",
       "      <th></th>\n",
       "      <th></th>\n",
       "      <th></th>\n",
       "      <th></th>\n",
       "      <th></th>\n",
       "      <th></th>\n",
       "      <th></th>\n",
       "      <th></th>\n",
       "      <th></th>\n",
       "      <th></th>\n",
       "    </tr>\n",
       "  </thead>\n",
       "  <tbody>\n",
       "    <tr>\n",
       "      <th>1</th>\n",
       "      <td>2011</td>\n",
       "      <td>Jul</td>\n",
       "      <td>Minnesota</td>\n",
       "      <td>MN</td>\n",
       "      <td>MRO</td>\n",
       "      <td>East North Central</td>\n",
       "      <td>-0.3</td>\n",
       "      <td>severe weather</td>\n",
       "      <td>NaN</td>\n",
       "      <td>-0.594363</td>\n",
       "      <td>Friday, July 01, 2011 17:00:00</td>\n",
       "      <td>Sunday, July 03, 2011 20:00:00</td>\n",
       "      <td>3060.0</td>\n",
       "      <td>NaN</td>\n",
       "      <td>70000.0</td>\n",
       "      <td>-0.594363</td>\n",
       "      <td>-0.308476</td>\n",
       "      <td>-0.660847</td>\n",
       "      <td>9.28</td>\n",
       "      <td>6562520.0</td>\n",
       "      <td>2595696</td>\n",
       "      <td>73.27</td>\n",
       "      <td>2279.0</td>\n",
       "      <td>2.14</td>\n",
       "    </tr>\n",
       "    <tr>\n",
       "      <th>2</th>\n",
       "      <td>2014</td>\n",
       "      <td>May</td>\n",
       "      <td>Minnesota</td>\n",
       "      <td>MN</td>\n",
       "      <td>MRO</td>\n",
       "      <td>East North Central</td>\n",
       "      <td>-0.1</td>\n",
       "      <td>intentional attack</td>\n",
       "      <td>vandalism</td>\n",
       "      <td>-0.815220</td>\n",
       "      <td>Sunday, May 11, 2014 18:38:00</td>\n",
       "      <td>Sunday, May 11, 2014 18:39:00</td>\n",
       "      <td>1.0</td>\n",
       "      <td>NaN</td>\n",
       "      <td>NaN</td>\n",
       "      <td>-0.815220</td>\n",
       "      <td>-0.410267</td>\n",
       "      <td>-0.748638</td>\n",
       "      <td>9.28</td>\n",
       "      <td>5284231.0</td>\n",
       "      <td>2640737</td>\n",
       "      <td>73.27</td>\n",
       "      <td>2279.0</td>\n",
       "      <td>2.14</td>\n",
       "    </tr>\n",
       "    <tr>\n",
       "      <th>3</th>\n",
       "      <td>2010</td>\n",
       "      <td>Oct</td>\n",
       "      <td>Minnesota</td>\n",
       "      <td>MN</td>\n",
       "      <td>MRO</td>\n",
       "      <td>East North Central</td>\n",
       "      <td>-1.5</td>\n",
       "      <td>severe weather</td>\n",
       "      <td>heavy wind</td>\n",
       "      <td>-0.850659</td>\n",
       "      <td>Tuesday, October 26, 2010 20:00:00</td>\n",
       "      <td>Thursday, October 28, 2010 22:00:00</td>\n",
       "      <td>3000.0</td>\n",
       "      <td>NaN</td>\n",
       "      <td>70000.0</td>\n",
       "      <td>-0.850659</td>\n",
       "      <td>-0.381646</td>\n",
       "      <td>-0.750375</td>\n",
       "      <td>8.15</td>\n",
       "      <td>5222116.0</td>\n",
       "      <td>2586905</td>\n",
       "      <td>73.27</td>\n",
       "      <td>2279.0</td>\n",
       "      <td>2.14</td>\n",
       "    </tr>\n",
       "    <tr>\n",
       "      <th>4</th>\n",
       "      <td>2012</td>\n",
       "      <td>Jun</td>\n",
       "      <td>Minnesota</td>\n",
       "      <td>MN</td>\n",
       "      <td>MRO</td>\n",
       "      <td>East North Central</td>\n",
       "      <td>-0.1</td>\n",
       "      <td>severe weather</td>\n",
       "      <td>thunderstorm</td>\n",
       "      <td>-0.736896</td>\n",
       "      <td>Tuesday, June 19, 2012 04:30:00</td>\n",
       "      <td>Wednesday, June 20, 2012 23:00:00</td>\n",
       "      <td>2550.0</td>\n",
       "      <td>NaN</td>\n",
       "      <td>68200.0</td>\n",
       "      <td>-0.736896</td>\n",
       "      <td>-0.362797</td>\n",
       "      <td>-0.710488</td>\n",
       "      <td>9.19</td>\n",
       "      <td>5787064.0</td>\n",
       "      <td>2606813</td>\n",
       "      <td>73.27</td>\n",
       "      <td>2279.0</td>\n",
       "      <td>2.14</td>\n",
       "    </tr>\n",
       "    <tr>\n",
       "      <th>5</th>\n",
       "      <td>2015</td>\n",
       "      <td>Jul</td>\n",
       "      <td>Minnesota</td>\n",
       "      <td>MN</td>\n",
       "      <td>MRO</td>\n",
       "      <td>East North Central</td>\n",
       "      <td>1.2</td>\n",
       "      <td>severe weather</td>\n",
       "      <td>NaN</td>\n",
       "      <td>-0.684384</td>\n",
       "      <td>Saturday, July 18, 2015 02:00:00</td>\n",
       "      <td>Sunday, July 19, 2015 07:00:00</td>\n",
       "      <td>1740.0</td>\n",
       "      <td>250.0</td>\n",
       "      <td>250000.0</td>\n",
       "      <td>-0.684384</td>\n",
       "      <td>-0.459947</td>\n",
       "      <td>-0.647453</td>\n",
       "      <td>10.43</td>\n",
       "      <td>5970339.0</td>\n",
       "      <td>2673531</td>\n",
       "      <td>73.27</td>\n",
       "      <td>2279.0</td>\n",
       "      <td>2.14</td>\n",
       "    </tr>\n",
       "    <tr>\n",
       "      <th>...</th>\n",
       "      <td>...</td>\n",
       "      <td>...</td>\n",
       "      <td>...</td>\n",
       "      <td>...</td>\n",
       "      <td>...</td>\n",
       "      <td>...</td>\n",
       "      <td>...</td>\n",
       "      <td>...</td>\n",
       "      <td>...</td>\n",
       "      <td>...</td>\n",
       "      <td>...</td>\n",
       "      <td>...</td>\n",
       "      <td>...</td>\n",
       "      <td>...</td>\n",
       "      <td>...</td>\n",
       "      <td>...</td>\n",
       "      <td>...</td>\n",
       "      <td>...</td>\n",
       "      <td>...</td>\n",
       "      <td>...</td>\n",
       "      <td>...</td>\n",
       "      <td>...</td>\n",
       "      <td>...</td>\n",
       "      <td>...</td>\n",
       "    </tr>\n",
       "    <tr>\n",
       "      <th>1530</th>\n",
       "      <td>2011</td>\n",
       "      <td>Dec</td>\n",
       "      <td>North Dakota</td>\n",
       "      <td>ND</td>\n",
       "      <td>MRO</td>\n",
       "      <td>West North Central</td>\n",
       "      <td>-0.9</td>\n",
       "      <td>public appeal</td>\n",
       "      <td>NaN</td>\n",
       "      <td>-1.140358</td>\n",
       "      <td>Tuesday, December 06, 2011 08:00:00</td>\n",
       "      <td>Tuesday, December 06, 2011 20:00:00</td>\n",
       "      <td>720.0</td>\n",
       "      <td>155.0</td>\n",
       "      <td>34500.0</td>\n",
       "      <td>-1.140358</td>\n",
       "      <td>-1.088336</td>\n",
       "      <td>-1.140282</td>\n",
       "      <td>7.56</td>\n",
       "      <td>1313678.0</td>\n",
       "      <td>394394</td>\n",
       "      <td>59.90</td>\n",
       "      <td>2192.2</td>\n",
       "      <td>0.27</td>\n",
       "    </tr>\n",
       "    <tr>\n",
       "      <th>1531</th>\n",
       "      <td>2006</td>\n",
       "      <td>NaN</td>\n",
       "      <td>North Dakota</td>\n",
       "      <td>ND</td>\n",
       "      <td>MRO</td>\n",
       "      <td>West North Central</td>\n",
       "      <td>NaN</td>\n",
       "      <td>fuel supply emergency</td>\n",
       "      <td>Coal</td>\n",
       "      <td>NaN</td>\n",
       "      <td>NaN</td>\n",
       "      <td>NaN</td>\n",
       "      <td>NaN</td>\n",
       "      <td>1650.0</td>\n",
       "      <td>NaN</td>\n",
       "      <td>NaN</td>\n",
       "      <td>NaN</td>\n",
       "      <td>NaN</td>\n",
       "      <td>NaN</td>\n",
       "      <td>NaN</td>\n",
       "      <td>366037</td>\n",
       "      <td>59.90</td>\n",
       "      <td>2192.2</td>\n",
       "      <td>0.27</td>\n",
       "    </tr>\n",
       "    <tr>\n",
       "      <th>1532</th>\n",
       "      <td>2009</td>\n",
       "      <td>Aug</td>\n",
       "      <td>South Dakota</td>\n",
       "      <td>SD</td>\n",
       "      <td>RFC</td>\n",
       "      <td>West North Central</td>\n",
       "      <td>0.5</td>\n",
       "      <td>islanding</td>\n",
       "      <td>NaN</td>\n",
       "      <td>-1.185060</td>\n",
       "      <td>Saturday, August 29, 2009 22:54:00</td>\n",
       "      <td>Saturday, August 29, 2009 23:53:00</td>\n",
       "      <td>59.0</td>\n",
       "      <td>84.0</td>\n",
       "      <td>NaN</td>\n",
       "      <td>-1.185060</td>\n",
       "      <td>-1.165702</td>\n",
       "      <td>-1.159544</td>\n",
       "      <td>7.67</td>\n",
       "      <td>924051.0</td>\n",
       "      <td>436229</td>\n",
       "      <td>56.65</td>\n",
       "      <td>2038.3</td>\n",
       "      <td>0.30</td>\n",
       "    </tr>\n",
       "    <tr>\n",
       "      <th>1533</th>\n",
       "      <td>2009</td>\n",
       "      <td>Aug</td>\n",
       "      <td>South Dakota</td>\n",
       "      <td>SD</td>\n",
       "      <td>MRO</td>\n",
       "      <td>West North Central</td>\n",
       "      <td>0.5</td>\n",
       "      <td>islanding</td>\n",
       "      <td>NaN</td>\n",
       "      <td>-1.185060</td>\n",
       "      <td>Saturday, August 29, 2009 11:00:00</td>\n",
       "      <td>Saturday, August 29, 2009 14:01:00</td>\n",
       "      <td>181.0</td>\n",
       "      <td>373.0</td>\n",
       "      <td>NaN</td>\n",
       "      <td>-1.185060</td>\n",
       "      <td>-1.165702</td>\n",
       "      <td>-1.159544</td>\n",
       "      <td>7.67</td>\n",
       "      <td>924051.0</td>\n",
       "      <td>436229</td>\n",
       "      <td>56.65</td>\n",
       "      <td>2038.3</td>\n",
       "      <td>0.30</td>\n",
       "    </tr>\n",
       "    <tr>\n",
       "      <th>1534</th>\n",
       "      <td>2000</td>\n",
       "      <td>NaN</td>\n",
       "      <td>Alaska</td>\n",
       "      <td>AK</td>\n",
       "      <td>ASCC</td>\n",
       "      <td>NaN</td>\n",
       "      <td>NaN</td>\n",
       "      <td>equipment failure</td>\n",
       "      <td>failure</td>\n",
       "      <td>NaN</td>\n",
       "      <td>NaN</td>\n",
       "      <td>NaN</td>\n",
       "      <td>NaN</td>\n",
       "      <td>35.0</td>\n",
       "      <td>14273.0</td>\n",
       "      <td>NaN</td>\n",
       "      <td>NaN</td>\n",
       "      <td>NaN</td>\n",
       "      <td>NaN</td>\n",
       "      <td>NaN</td>\n",
       "      <td>273530</td>\n",
       "      <td>66.02</td>\n",
       "      <td>1802.6</td>\n",
       "      <td>0.05</td>\n",
       "    </tr>\n",
       "  </tbody>\n",
       "</table>\n",
       "<p>1534 rows × 24 columns</p>\n",
       "</div>"
      ],
      "text/plain": [
       "      YEAR MONTH    U.S._STATE POSTAL.CODE NERC.REGION      CLIMATE.REGION  \\\n",
       "OBS                                                                          \n",
       "1     2011   Jul     Minnesota          MN         MRO  East North Central   \n",
       "2     2014   May     Minnesota          MN         MRO  East North Central   \n",
       "3     2010   Oct     Minnesota          MN         MRO  East North Central   \n",
       "4     2012   Jun     Minnesota          MN         MRO  East North Central   \n",
       "5     2015   Jul     Minnesota          MN         MRO  East North Central   \n",
       "...    ...   ...           ...         ...         ...                 ...   \n",
       "1530  2011   Dec  North Dakota          ND         MRO  West North Central   \n",
       "1531  2006   NaN  North Dakota          ND         MRO  West North Central   \n",
       "1532  2009   Aug  South Dakota          SD         RFC  West North Central   \n",
       "1533  2009   Aug  South Dakota          SD         MRO  West North Central   \n",
       "1534  2000   NaN        Alaska          AK        ASCC                 NaN   \n",
       "\n",
       "      ANOMALY.LEVEL         CAUSE.CATEGORY CAUSE.CATEGORY.DETAIL  RES.SALES  \\\n",
       "OBS                                                                           \n",
       "1              -0.3         severe weather                   NaN  -0.594363   \n",
       "2              -0.1     intentional attack             vandalism  -0.815220   \n",
       "3              -1.5         severe weather            heavy wind  -0.850659   \n",
       "4              -0.1         severe weather          thunderstorm  -0.736896   \n",
       "5               1.2         severe weather                   NaN  -0.684384   \n",
       "...             ...                    ...                   ...        ...   \n",
       "1530           -0.9          public appeal                   NaN  -1.140358   \n",
       "1531            NaN  fuel supply emergency                  Coal        NaN   \n",
       "1532            0.5              islanding                   NaN  -1.185060   \n",
       "1533            0.5              islanding                   NaN  -1.185060   \n",
       "1534            NaN      equipment failure               failure        NaN   \n",
       "\n",
       "                             OUTAGE.START  \\\n",
       "OBS                                         \n",
       "1          Friday, July 01, 2011 17:00:00   \n",
       "2           Sunday, May 11, 2014 18:38:00   \n",
       "3      Tuesday, October 26, 2010 20:00:00   \n",
       "4         Tuesday, June 19, 2012 04:30:00   \n",
       "5        Saturday, July 18, 2015 02:00:00   \n",
       "...                                   ...   \n",
       "1530  Tuesday, December 06, 2011 08:00:00   \n",
       "1531                                  NaN   \n",
       "1532   Saturday, August 29, 2009 22:54:00   \n",
       "1533   Saturday, August 29, 2009 11:00:00   \n",
       "1534                                  NaN   \n",
       "\n",
       "                       OUTAGE.RESTORATION  OUTAGE.DURATION  DEMAND.LOSS.MW  \\\n",
       "OBS                                                                          \n",
       "1          Sunday, July 03, 2011 20:00:00           3060.0             NaN   \n",
       "2           Sunday, May 11, 2014 18:39:00              1.0             NaN   \n",
       "3     Thursday, October 28, 2010 22:00:00           3000.0             NaN   \n",
       "4       Wednesday, June 20, 2012 23:00:00           2550.0             NaN   \n",
       "5          Sunday, July 19, 2015 07:00:00           1740.0           250.0   \n",
       "...                                   ...              ...             ...   \n",
       "1530  Tuesday, December 06, 2011 20:00:00            720.0           155.0   \n",
       "1531                                  NaN              NaN          1650.0   \n",
       "1532   Saturday, August 29, 2009 23:53:00             59.0            84.0   \n",
       "1533   Saturday, August 29, 2009 14:01:00            181.0           373.0   \n",
       "1534                                  NaN              NaN            35.0   \n",
       "\n",
       "      CUSTOMERS.AFFECTED  RES.SALES  IND.SALES  COM.SALES  TOTAL.PRICE  \\\n",
       "OBS                                                                      \n",
       "1                70000.0  -0.594363  -0.308476  -0.660847         9.28   \n",
       "2                    NaN  -0.815220  -0.410267  -0.748638         9.28   \n",
       "3                70000.0  -0.850659  -0.381646  -0.750375         8.15   \n",
       "4                68200.0  -0.736896  -0.362797  -0.710488         9.19   \n",
       "5               250000.0  -0.684384  -0.459947  -0.647453        10.43   \n",
       "...                  ...        ...        ...        ...          ...   \n",
       "1530             34500.0  -1.140358  -1.088336  -1.140282         7.56   \n",
       "1531                 NaN        NaN        NaN        NaN          NaN   \n",
       "1532                 NaN  -1.185060  -1.165702  -1.159544         7.67   \n",
       "1533                 NaN  -1.185060  -1.165702  -1.159544         7.67   \n",
       "1534             14273.0        NaN        NaN        NaN          NaN   \n",
       "\n",
       "      TOTAL.SALES  TOTAL.CUSTOMERS  POPPCT_URBAN  POPDEN_URBAN  AREAPCT_URBAN  \n",
       "OBS                                                                            \n",
       "1       6562520.0          2595696         73.27        2279.0           2.14  \n",
       "2       5284231.0          2640737         73.27        2279.0           2.14  \n",
       "3       5222116.0          2586905         73.27        2279.0           2.14  \n",
       "4       5787064.0          2606813         73.27        2279.0           2.14  \n",
       "5       5970339.0          2673531         73.27        2279.0           2.14  \n",
       "...           ...              ...           ...           ...            ...  \n",
       "1530    1313678.0           394394         59.90        2192.2           0.27  \n",
       "1531          NaN           366037         59.90        2192.2           0.27  \n",
       "1532     924051.0           436229         56.65        2038.3           0.30  \n",
       "1533     924051.0           436229         56.65        2038.3           0.30  \n",
       "1534          NaN           273530         66.02        1802.6           0.05  \n",
       "\n",
       "[1534 rows x 24 columns]"
      ]
     },
     "execution_count": 265,
     "metadata": {},
     "output_type": "execute_result"
    }
   ],
   "source": [
    "relevant"
   ]
  },
  {
   "cell_type": "code",
   "execution_count": 277,
   "metadata": {},
   "outputs": [],
   "source": [
    "reasoning_df = pd.DataFrame()\n",
    "reasoning_df.index = [\"YEAR\", \"U.S._STATE\", \"NERC.REGION\", \"ANOMALY.LEVEL\", \"RES.SALES\", \"IND.SALES\", \"COM.SALES\"]\n",
    "reasoning_df['Variable Type'] = ['qualitative ordinal', 'qualitative nominal', 'qualitative nominal', 'quantitative ordinal', 'quantiative nominal', 'quantitative nominal', 'quantitative nominal']\n",
    "reasoning_df['Reasoning'] = [\"Clear correlation between year and cause. We saw earlier that 2011 was more suspect to severe weather\"\n",
    "                             , \"Some states are prone to more intentional attacks (e.g. New York)\"\n",
    "                             , \"These regions reflect specific energy policies, compliance standards, and regional grid stress factors that may only apply to a respective region\"\n",
    "                             , \"Has a direct relationship with climate and weather patterns that often lead to power disruptions\"\n",
    "                             , \"Reflects demand patterns and grid stress.\"\n",
    "                             , \"Reflects demand patterns and grid stress.\"\n",
    "                             ,\"Reflects demand patterns and grid stress.\"]\n"
   ]
  },
  {
   "cell_type": "code",
   "execution_count": 280,
   "metadata": {},
   "outputs": [
    {
     "name": "stdout",
     "output_type": "stream",
     "text": [
      "|               | Variable Type        | Reasoning                                                                                                                                         |\n",
      "|:--------------|:---------------------|:--------------------------------------------------------------------------------------------------------------------------------------------------|\n",
      "| YEAR          | qualitative ordinal  | Clear correlation between year and cause. We saw earlier that 2011 was more suspect to severe weather                                             |\n",
      "| U.S._STATE    | qualitative nominal  | Some states are prone to more intentional attacks (e.g. New York)                                                                                 |\n",
      "| NERC.REGION   | qualitative nominal  | These regions reflect specific energy policies, compliance standards, and regional grid stress factors that may only apply to a respective region |\n",
      "| ANOMALY.LEVEL | quantitative ordinal | Has a direct relationship with climate and weather patterns that often lead to power disruptions                                                  |\n",
      "| RES.SALES     | quantiative nominal  | Reflects demand patterns and grid stress.                                                                                                         |\n",
      "| IND.SALES     | quantitative nominal | Reflects demand patterns and grid stress.                                                                                                         |\n",
      "| COM.SALES     | quantitative nominal | Reflects demand patterns and grid stress.                                                                                                         |\n"
     ]
    }
   ],
   "source": [
    "print(reasoning_df.to_markdown())"
   ]
  },
  {
   "cell_type": "code",
   "execution_count": null,
   "metadata": {},
   "outputs": [],
   "source": []
  }
 ],
 "metadata": {
  "kernelspec": {
   "display_name": "dsc80",
   "language": "python",
   "name": "python3"
  },
  "language_info": {
   "codemirror_mode": {
    "name": "ipython",
    "version": 3
   },
   "file_extension": ".py",
   "mimetype": "text/x-python",
   "name": "python",
   "nbconvert_exporter": "python",
   "pygments_lexer": "ipython3",
   "version": "3.12.6"
  }
 },
 "nbformat": 4,
 "nbformat_minor": 2
}
